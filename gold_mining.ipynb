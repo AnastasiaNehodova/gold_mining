{
 "cells": [
  {
   "cell_type": "markdown",
   "metadata": {
    "toc": true
   },
   "source": [
    "<h1>Содержание<span class=\"tocSkip\"></span></h1>\n",
    "<div class=\"toc\"><ul class=\"toc-item\"><li><span><a href=\"#Подготовка-данных\" data-toc-modified-id=\"Подготовка-данных-1\"><span class=\"toc-item-num\">1&nbsp;&nbsp;</span>Подготовка данных</a></span><ul class=\"toc-item\"><li><span><a href=\"#Откройте-файлы-и-изучите-их.\" data-toc-modified-id=\"Откройте-файлы-и-изучите-их.-1.1\"><span class=\"toc-item-num\">1.1&nbsp;&nbsp;</span>Откройте файлы и изучите их.</a></span></li><li><span><a href=\"#Проверьте,-что-эффективность-обогащения-рассчитана-правильно.-Вычислите-её-на-обучающей-выборке-для-признака-rougher.output.recovery.-Найдите-MAE-между-вашими-расчётами-и-значением-признака.-Опишите-выводы.\" data-toc-modified-id=\"Проверьте,-что-эффективность-обогащения-рассчитана-правильно.-Вычислите-её-на-обучающей-выборке-для-признака-rougher.output.recovery.-Найдите-MAE-между-вашими-расчётами-и-значением-признака.-Опишите-выводы.-1.2\"><span class=\"toc-item-num\">1.2&nbsp;&nbsp;</span>Проверьте, что эффективность обогащения рассчитана правильно. Вычислите её на обучающей выборке для признака rougher.output.recovery. Найдите MAE между вашими расчётами и значением признака. Опишите выводы.</a></span></li><li><span><a href=\"#Проанализируйте-признаки,-недоступные-в-тестовой-выборке.-Что-это-за-параметры?-К-какому-типу-относятся?\" data-toc-modified-id=\"Проанализируйте-признаки,-недоступные-в-тестовой-выборке.-Что-это-за-параметры?-К-какому-типу-относятся?-1.3\"><span class=\"toc-item-num\">1.3&nbsp;&nbsp;</span>Проанализируйте признаки, недоступные в тестовой выборке. Что это за параметры? К какому типу относятся?</a></span></li><li><span><a href=\"#Проведите-предобработку-данных.\" data-toc-modified-id=\"Проведите-предобработку-данных.-1.4\"><span class=\"toc-item-num\">1.4&nbsp;&nbsp;</span>Проведите предобработку данных.</a></span></li></ul></li><li><span><a href=\"#Анализ-данных\" data-toc-modified-id=\"Анализ-данных-2\"><span class=\"toc-item-num\">2&nbsp;&nbsp;</span>Анализ данных</a></span><ul class=\"toc-item\"><li><span><a href=\"#Посмотрите,-как-меняется-концентрация-металлов-(Au,-Ag,-Pb)-на-различных-этапах-очистки.-Опишите-выводы.\" data-toc-modified-id=\"Посмотрите,-как-меняется-концентрация-металлов-(Au,-Ag,-Pb)-на-различных-этапах-очистки.-Опишите-выводы.-2.1\"><span class=\"toc-item-num\">2.1&nbsp;&nbsp;</span>Посмотрите, как меняется концентрация металлов (Au, Ag, Pb) на различных этапах очистки. Опишите выводы.</a></span></li><li><span><a href=\"#Сравните-распределения-размеров-гранул-сырья-на-обучающей-и-тестовой-выборках.-Если-распределения-сильно-отличаются-друг-от-друга,-оценка-модели-будет-неправильной.\" data-toc-modified-id=\"Сравните-распределения-размеров-гранул-сырья-на-обучающей-и-тестовой-выборках.-Если-распределения-сильно-отличаются-друг-от-друга,-оценка-модели-будет-неправильной.-2.2\"><span class=\"toc-item-num\">2.2&nbsp;&nbsp;</span>Сравните распределения размеров гранул сырья на обучающей и тестовой выборках. Если распределения сильно отличаются друг от друга, оценка модели будет неправильной.</a></span></li><li><span><a href=\"#Исследуйте-суммарную-концентрацию-всех-веществ-на-разных-стадиях:-в-сырье,-в-черновом-и-финальном-концентратах.\" data-toc-modified-id=\"Исследуйте-суммарную-концентрацию-всех-веществ-на-разных-стадиях:-в-сырье,-в-черновом-и-финальном-концентратах.-2.3\"><span class=\"toc-item-num\">2.3&nbsp;&nbsp;</span>Исследуйте суммарную концентрацию всех веществ на разных стадиях: в сырье, в черновом и финальном концентратах.</a></span></li><li><span><a href=\"#Подготовить-X_train,-y_train_rougher,-y_train_final,-X_test,-y_test_rougher,-y_test_final\" data-toc-modified-id=\"Подготовить-X_train,-y_train_rougher,-y_train_final,-X_test,-y_test_rougher,-y_test_final-2.4\"><span class=\"toc-item-num\">2.4&nbsp;&nbsp;</span>Подготовить X_train, y_train_rougher, y_train_final, X_test, y_test_rougher, y_test_final</a></span></li></ul></li><li><span><a href=\"#Модель\" data-toc-modified-id=\"Модель-3\"><span class=\"toc-item-num\">3&nbsp;&nbsp;</span>Модель</a></span><ul class=\"toc-item\"><li><span><a href=\"#Напишите-функцию-для-вычисления-итоговой-sMAPE.\" data-toc-modified-id=\"Напишите-функцию-для-вычисления-итоговой-sMAPE.-3.1\"><span class=\"toc-item-num\">3.1&nbsp;&nbsp;</span>Напишите функцию для вычисления итоговой sMAPE.</a></span></li><li><span><a href=\"#Обучите-разные-модели-и-оцените-их-качество-кросс-валидацией.-Выберите-лучшую-модель-и-проверьте-её-на-тестовой-выборке.-Опишите-выводы.\" data-toc-modified-id=\"Обучите-разные-модели-и-оцените-их-качество-кросс-валидацией.-Выберите-лучшую-модель-и-проверьте-её-на-тестовой-выборке.-Опишите-выводы.-3.2\"><span class=\"toc-item-num\">3.2&nbsp;&nbsp;</span>Обучите разные модели и оцените их качество кросс-валидацией. Выберите лучшую модель и проверьте её на тестовой выборке. Опишите выводы.</a></span><ul class=\"toc-item\"><li><span><a href=\"#Линейная-регрессия\" data-toc-modified-id=\"Линейная-регрессия-3.2.1\"><span class=\"toc-item-num\">3.2.1&nbsp;&nbsp;</span>Линейная регрессия</a></span></li><li><span><a href=\"#Дерево-решений\" data-toc-modified-id=\"Дерево-решений-3.2.2\"><span class=\"toc-item-num\">3.2.2&nbsp;&nbsp;</span>Дерево решений</a></span></li><li><span><a href=\"#Случайный-лес\" data-toc-modified-id=\"Случайный-лес-3.2.3\"><span class=\"toc-item-num\">3.2.3&nbsp;&nbsp;</span>Случайный лес</a></span></li><li><span><a href=\"#Тестирование-лучшей-модели\" data-toc-modified-id=\"Тестирование-лучшей-модели-3.2.4\"><span class=\"toc-item-num\">3.2.4&nbsp;&nbsp;</span>Тестирование лучшей модели</a></span></li></ul></li></ul></li><li><span><a href=\"#Вывод\" data-toc-modified-id=\"Вывод-4\"><span class=\"toc-item-num\">4&nbsp;&nbsp;</span>Вывод</a></span></li><li><span><a href=\"#Чек-лист-готовности-проекта\" data-toc-modified-id=\"Чек-лист-готовности-проекта-5\"><span class=\"toc-item-num\">5&nbsp;&nbsp;</span>Чек-лист готовности проекта</a></span></li></ul></div>"
   ]
  },
  {
   "cell_type": "markdown",
   "metadata": {},
   "source": [
    "# Восстановление золота из руды"
   ]
  },
  {
   "cell_type": "markdown",
   "metadata": {},
   "source": [
    "Подготовьте прототип модели машинного обучения для «Цифры». Компания разрабатывает решения для эффективной работы промышленных предприятий.\n",
    "\n",
    "Модель должна предсказать коэффициент восстановления золота из золотосодержащей руды. Используйте данные с параметрами добычи и очистки. \n",
    "\n",
    "Модель поможет оптимизировать производство, чтобы не запускать предприятие с убыточными характеристиками.\n",
    "\n",
    "Вам нужно:\n",
    "\n",
    "1. Подготовить данные;\n",
    "2. Провести исследовательский анализ данных;\n",
    "3. Построить и обучить модель.\n",
    "\n",
    "Чтобы выполнить проект, обращайтесь к библиотекам *pandas*, *matplotlib* и *sklearn.* Вам поможет их документация."
   ]
  },
  {
   "cell_type": "markdown",
   "metadata": {},
   "source": [
    "## Подготовка данных"
   ]
  },
  {
   "cell_type": "markdown",
   "metadata": {},
   "source": [
    "### Откройте файлы и изучите их."
   ]
  },
  {
   "cell_type": "code",
   "execution_count": 1,
   "metadata": {},
   "outputs": [],
   "source": [
    "import pandas as pd\n",
    "import matplotlib.pyplot as plt\n",
    "import seaborn as sns\n",
    "from sklearn.metrics import mean_absolute_error\n",
    "import itertools\n",
    "import numpy as np\n",
    "from sklearn.metrics import make_scorer\n",
    "from sklearn.model_selection import GridSearchCV\n",
    "from sklearn.linear_model import LinearRegression, Lasso, Ridge, ElasticNet\n",
    "from sklearn.tree import DecisionTreeRegressor\n",
    "from sklearn.ensemble import RandomForestRegressor\n",
    "from sklearn.model_selection import RandomizedSearchCV\n",
    "from sklearn.dummy import DummyRegressor"
   ]
  },
  {
   "cell_type": "code",
   "execution_count": 2,
   "metadata": {},
   "outputs": [],
   "source": [
    "pd.set_option('display.max_rows', 100)"
   ]
  },
  {
   "cell_type": "code",
   "execution_count": 3,
   "metadata": {},
   "outputs": [],
   "source": [
    "try:\n",
    "    df_train = pd.read_csv('/datasets/gold_recovery_train_new.csv', parse_dates=['date'])\n",
    "except:\n",
    "    df_train = pd.read_csv('https://code.s3.yandex.net/datasets/gold_recovery_train_new.csv', parse_dates=['date'])"
   ]
  },
  {
   "cell_type": "code",
   "execution_count": 4,
   "metadata": {},
   "outputs": [],
   "source": [
    "try:\n",
    "    df_test = pd.read_csv('/datasets/gold_recovery_test_new.csv', parse_dates=['date'])\n",
    "except:\n",
    "    df_test = pd.read_csv('https://code.s3.yandex.net/datasets/gold_recovery_test_new.csv', parse_dates=['date'])"
   ]
  },
  {
   "cell_type": "code",
   "execution_count": 5,
   "metadata": {},
   "outputs": [],
   "source": [
    "try:\n",
    "    df_full = pd.read_csv('/datasets/gold_recovery_full_new.csv', parse_dates=['date'])\n",
    "except:\n",
    "    df_full = pd.read_csv('https://code.s3.yandex.net/datasets/gold_recovery_full_new.csv', parse_dates=['date'])"
   ]
  },
  {
   "cell_type": "markdown",
   "metadata": {},
   "source": [
    "Столбцу date при чтении из csv задаю тип datetime64[ns]"
   ]
  },
  {
   "cell_type": "code",
   "execution_count": 6,
   "metadata": {},
   "outputs": [
    {
     "data": {
      "text/html": [
       "<div>\n",
       "<style scoped>\n",
       "    .dataframe tbody tr th:only-of-type {\n",
       "        vertical-align: middle;\n",
       "    }\n",
       "\n",
       "    .dataframe tbody tr th {\n",
       "        vertical-align: top;\n",
       "    }\n",
       "\n",
       "    .dataframe thead th {\n",
       "        text-align: right;\n",
       "    }\n",
       "</style>\n",
       "<table border=\"1\" class=\"dataframe\">\n",
       "  <thead>\n",
       "    <tr style=\"text-align: right;\">\n",
       "      <th></th>\n",
       "      <th>date</th>\n",
       "      <th>final.output.concentrate_ag</th>\n",
       "      <th>final.output.concentrate_pb</th>\n",
       "      <th>final.output.concentrate_sol</th>\n",
       "      <th>final.output.concentrate_au</th>\n",
       "      <th>final.output.recovery</th>\n",
       "      <th>final.output.tail_ag</th>\n",
       "      <th>final.output.tail_pb</th>\n",
       "      <th>final.output.tail_sol</th>\n",
       "      <th>final.output.tail_au</th>\n",
       "      <th>...</th>\n",
       "      <th>secondary_cleaner.state.floatbank4_a_air</th>\n",
       "      <th>secondary_cleaner.state.floatbank4_a_level</th>\n",
       "      <th>secondary_cleaner.state.floatbank4_b_air</th>\n",
       "      <th>secondary_cleaner.state.floatbank4_b_level</th>\n",
       "      <th>secondary_cleaner.state.floatbank5_a_air</th>\n",
       "      <th>secondary_cleaner.state.floatbank5_a_level</th>\n",
       "      <th>secondary_cleaner.state.floatbank5_b_air</th>\n",
       "      <th>secondary_cleaner.state.floatbank5_b_level</th>\n",
       "      <th>secondary_cleaner.state.floatbank6_a_air</th>\n",
       "      <th>secondary_cleaner.state.floatbank6_a_level</th>\n",
       "    </tr>\n",
       "  </thead>\n",
       "  <tbody>\n",
       "    <tr>\n",
       "      <th>0</th>\n",
       "      <td>2016-01-15 00:00:00</td>\n",
       "      <td>6.055403</td>\n",
       "      <td>9.889648</td>\n",
       "      <td>5.507324</td>\n",
       "      <td>42.192020</td>\n",
       "      <td>70.541216</td>\n",
       "      <td>10.411962</td>\n",
       "      <td>0.895447</td>\n",
       "      <td>16.904297</td>\n",
       "      <td>2.143149</td>\n",
       "      <td>...</td>\n",
       "      <td>14.016835</td>\n",
       "      <td>-502.488007</td>\n",
       "      <td>12.099931</td>\n",
       "      <td>-504.715942</td>\n",
       "      <td>9.925633</td>\n",
       "      <td>-498.310211</td>\n",
       "      <td>8.079666</td>\n",
       "      <td>-500.470978</td>\n",
       "      <td>14.151341</td>\n",
       "      <td>-605.841980</td>\n",
       "    </tr>\n",
       "    <tr>\n",
       "      <th>1</th>\n",
       "      <td>2016-01-15 01:00:00</td>\n",
       "      <td>6.029369</td>\n",
       "      <td>9.968944</td>\n",
       "      <td>5.257781</td>\n",
       "      <td>42.701629</td>\n",
       "      <td>69.266198</td>\n",
       "      <td>10.462676</td>\n",
       "      <td>0.927452</td>\n",
       "      <td>16.634514</td>\n",
       "      <td>2.224930</td>\n",
       "      <td>...</td>\n",
       "      <td>13.992281</td>\n",
       "      <td>-505.503262</td>\n",
       "      <td>11.950531</td>\n",
       "      <td>-501.331529</td>\n",
       "      <td>10.039245</td>\n",
       "      <td>-500.169983</td>\n",
       "      <td>7.984757</td>\n",
       "      <td>-500.582168</td>\n",
       "      <td>13.998353</td>\n",
       "      <td>-599.787184</td>\n",
       "    </tr>\n",
       "    <tr>\n",
       "      <th>2</th>\n",
       "      <td>2016-01-15 02:00:00</td>\n",
       "      <td>6.055926</td>\n",
       "      <td>10.213995</td>\n",
       "      <td>5.383759</td>\n",
       "      <td>42.657501</td>\n",
       "      <td>68.116445</td>\n",
       "      <td>10.507046</td>\n",
       "      <td>0.953716</td>\n",
       "      <td>16.208849</td>\n",
       "      <td>2.257889</td>\n",
       "      <td>...</td>\n",
       "      <td>14.015015</td>\n",
       "      <td>-502.520901</td>\n",
       "      <td>11.912783</td>\n",
       "      <td>-501.133383</td>\n",
       "      <td>10.070913</td>\n",
       "      <td>-500.129135</td>\n",
       "      <td>8.013877</td>\n",
       "      <td>-500.517572</td>\n",
       "      <td>14.028663</td>\n",
       "      <td>-601.427363</td>\n",
       "    </tr>\n",
       "    <tr>\n",
       "      <th>3</th>\n",
       "      <td>2016-01-15 03:00:00</td>\n",
       "      <td>6.047977</td>\n",
       "      <td>9.977019</td>\n",
       "      <td>4.858634</td>\n",
       "      <td>42.689819</td>\n",
       "      <td>68.347543</td>\n",
       "      <td>10.422762</td>\n",
       "      <td>0.883763</td>\n",
       "      <td>16.532835</td>\n",
       "      <td>2.146849</td>\n",
       "      <td>...</td>\n",
       "      <td>14.036510</td>\n",
       "      <td>-500.857308</td>\n",
       "      <td>11.999550</td>\n",
       "      <td>-501.193686</td>\n",
       "      <td>9.970366</td>\n",
       "      <td>-499.201640</td>\n",
       "      <td>7.977324</td>\n",
       "      <td>-500.255908</td>\n",
       "      <td>14.005551</td>\n",
       "      <td>-599.996129</td>\n",
       "    </tr>\n",
       "    <tr>\n",
       "      <th>4</th>\n",
       "      <td>2016-01-15 04:00:00</td>\n",
       "      <td>6.148599</td>\n",
       "      <td>10.142511</td>\n",
       "      <td>4.939416</td>\n",
       "      <td>42.774141</td>\n",
       "      <td>66.927016</td>\n",
       "      <td>10.360302</td>\n",
       "      <td>0.792826</td>\n",
       "      <td>16.525686</td>\n",
       "      <td>2.055292</td>\n",
       "      <td>...</td>\n",
       "      <td>14.027298</td>\n",
       "      <td>-499.838632</td>\n",
       "      <td>11.953070</td>\n",
       "      <td>-501.053894</td>\n",
       "      <td>9.925709</td>\n",
       "      <td>-501.686727</td>\n",
       "      <td>7.894242</td>\n",
       "      <td>-500.356035</td>\n",
       "      <td>13.996647</td>\n",
       "      <td>-601.496691</td>\n",
       "    </tr>\n",
       "    <tr>\n",
       "      <th>...</th>\n",
       "      <td>...</td>\n",
       "      <td>...</td>\n",
       "      <td>...</td>\n",
       "      <td>...</td>\n",
       "      <td>...</td>\n",
       "      <td>...</td>\n",
       "      <td>...</td>\n",
       "      <td>...</td>\n",
       "      <td>...</td>\n",
       "      <td>...</td>\n",
       "      <td>...</td>\n",
       "      <td>...</td>\n",
       "      <td>...</td>\n",
       "      <td>...</td>\n",
       "      <td>...</td>\n",
       "      <td>...</td>\n",
       "      <td>...</td>\n",
       "      <td>...</td>\n",
       "      <td>...</td>\n",
       "      <td>...</td>\n",
       "      <td>...</td>\n",
       "    </tr>\n",
       "    <tr>\n",
       "      <th>14144</th>\n",
       "      <td>2018-08-18 06:59:59</td>\n",
       "      <td>3.224920</td>\n",
       "      <td>11.356233</td>\n",
       "      <td>6.803482</td>\n",
       "      <td>46.713954</td>\n",
       "      <td>73.755150</td>\n",
       "      <td>8.769645</td>\n",
       "      <td>3.141541</td>\n",
       "      <td>10.403181</td>\n",
       "      <td>1.529220</td>\n",
       "      <td>...</td>\n",
       "      <td>23.031497</td>\n",
       "      <td>-501.167942</td>\n",
       "      <td>20.007571</td>\n",
       "      <td>-499.740028</td>\n",
       "      <td>18.006038</td>\n",
       "      <td>-499.834374</td>\n",
       "      <td>13.001114</td>\n",
       "      <td>-500.155694</td>\n",
       "      <td>20.007840</td>\n",
       "      <td>-501.296428</td>\n",
       "    </tr>\n",
       "    <tr>\n",
       "      <th>14145</th>\n",
       "      <td>2018-08-18 07:59:59</td>\n",
       "      <td>3.195978</td>\n",
       "      <td>11.349355</td>\n",
       "      <td>6.862249</td>\n",
       "      <td>46.866780</td>\n",
       "      <td>69.049291</td>\n",
       "      <td>8.897321</td>\n",
       "      <td>3.130493</td>\n",
       "      <td>10.549470</td>\n",
       "      <td>1.612542</td>\n",
       "      <td>...</td>\n",
       "      <td>22.960095</td>\n",
       "      <td>-501.612783</td>\n",
       "      <td>20.035660</td>\n",
       "      <td>-500.251357</td>\n",
       "      <td>17.998535</td>\n",
       "      <td>-500.395178</td>\n",
       "      <td>12.954048</td>\n",
       "      <td>-499.895163</td>\n",
       "      <td>19.968498</td>\n",
       "      <td>-501.041608</td>\n",
       "    </tr>\n",
       "    <tr>\n",
       "      <th>14146</th>\n",
       "      <td>2018-08-18 08:59:59</td>\n",
       "      <td>3.109998</td>\n",
       "      <td>11.434366</td>\n",
       "      <td>6.886013</td>\n",
       "      <td>46.795691</td>\n",
       "      <td>67.002189</td>\n",
       "      <td>8.529606</td>\n",
       "      <td>2.911418</td>\n",
       "      <td>11.115147</td>\n",
       "      <td>1.596616</td>\n",
       "      <td>...</td>\n",
       "      <td>23.015718</td>\n",
       "      <td>-501.711599</td>\n",
       "      <td>19.951231</td>\n",
       "      <td>-499.857027</td>\n",
       "      <td>18.019543</td>\n",
       "      <td>-500.451156</td>\n",
       "      <td>13.023431</td>\n",
       "      <td>-499.914391</td>\n",
       "      <td>19.990885</td>\n",
       "      <td>-501.518452</td>\n",
       "    </tr>\n",
       "    <tr>\n",
       "      <th>14147</th>\n",
       "      <td>2018-08-18 09:59:59</td>\n",
       "      <td>3.367241</td>\n",
       "      <td>11.625587</td>\n",
       "      <td>6.799433</td>\n",
       "      <td>46.408188</td>\n",
       "      <td>65.523246</td>\n",
       "      <td>8.777171</td>\n",
       "      <td>2.819214</td>\n",
       "      <td>10.463847</td>\n",
       "      <td>1.602879</td>\n",
       "      <td>...</td>\n",
       "      <td>23.024963</td>\n",
       "      <td>-501.153409</td>\n",
       "      <td>20.054122</td>\n",
       "      <td>-500.314711</td>\n",
       "      <td>17.979515</td>\n",
       "      <td>-499.272871</td>\n",
       "      <td>12.992404</td>\n",
       "      <td>-499.976268</td>\n",
       "      <td>20.013986</td>\n",
       "      <td>-500.625471</td>\n",
       "    </tr>\n",
       "    <tr>\n",
       "      <th>14148</th>\n",
       "      <td>2018-08-18 10:59:59</td>\n",
       "      <td>3.598375</td>\n",
       "      <td>11.737832</td>\n",
       "      <td>6.717509</td>\n",
       "      <td>46.299438</td>\n",
       "      <td>70.281454</td>\n",
       "      <td>8.406690</td>\n",
       "      <td>2.517518</td>\n",
       "      <td>10.652193</td>\n",
       "      <td>1.389434</td>\n",
       "      <td>...</td>\n",
       "      <td>23.018622</td>\n",
       "      <td>-500.492702</td>\n",
       "      <td>20.020205</td>\n",
       "      <td>-500.220296</td>\n",
       "      <td>17.963512</td>\n",
       "      <td>-499.939490</td>\n",
       "      <td>12.990306</td>\n",
       "      <td>-500.080993</td>\n",
       "      <td>19.990336</td>\n",
       "      <td>-499.191575</td>\n",
       "    </tr>\n",
       "  </tbody>\n",
       "</table>\n",
       "<p>14149 rows × 87 columns</p>\n",
       "</div>"
      ],
      "text/plain": [
       "                     date  final.output.concentrate_ag  \\\n",
       "0     2016-01-15 00:00:00                     6.055403   \n",
       "1     2016-01-15 01:00:00                     6.029369   \n",
       "2     2016-01-15 02:00:00                     6.055926   \n",
       "3     2016-01-15 03:00:00                     6.047977   \n",
       "4     2016-01-15 04:00:00                     6.148599   \n",
       "...                   ...                          ...   \n",
       "14144 2018-08-18 06:59:59                     3.224920   \n",
       "14145 2018-08-18 07:59:59                     3.195978   \n",
       "14146 2018-08-18 08:59:59                     3.109998   \n",
       "14147 2018-08-18 09:59:59                     3.367241   \n",
       "14148 2018-08-18 10:59:59                     3.598375   \n",
       "\n",
       "       final.output.concentrate_pb  final.output.concentrate_sol  \\\n",
       "0                         9.889648                      5.507324   \n",
       "1                         9.968944                      5.257781   \n",
       "2                        10.213995                      5.383759   \n",
       "3                         9.977019                      4.858634   \n",
       "4                        10.142511                      4.939416   \n",
       "...                            ...                           ...   \n",
       "14144                    11.356233                      6.803482   \n",
       "14145                    11.349355                      6.862249   \n",
       "14146                    11.434366                      6.886013   \n",
       "14147                    11.625587                      6.799433   \n",
       "14148                    11.737832                      6.717509   \n",
       "\n",
       "       final.output.concentrate_au  final.output.recovery  \\\n",
       "0                        42.192020              70.541216   \n",
       "1                        42.701629              69.266198   \n",
       "2                        42.657501              68.116445   \n",
       "3                        42.689819              68.347543   \n",
       "4                        42.774141              66.927016   \n",
       "...                            ...                    ...   \n",
       "14144                    46.713954              73.755150   \n",
       "14145                    46.866780              69.049291   \n",
       "14146                    46.795691              67.002189   \n",
       "14147                    46.408188              65.523246   \n",
       "14148                    46.299438              70.281454   \n",
       "\n",
       "       final.output.tail_ag  final.output.tail_pb  final.output.tail_sol  \\\n",
       "0                 10.411962              0.895447              16.904297   \n",
       "1                 10.462676              0.927452              16.634514   \n",
       "2                 10.507046              0.953716              16.208849   \n",
       "3                 10.422762              0.883763              16.532835   \n",
       "4                 10.360302              0.792826              16.525686   \n",
       "...                     ...                   ...                    ...   \n",
       "14144              8.769645              3.141541              10.403181   \n",
       "14145              8.897321              3.130493              10.549470   \n",
       "14146              8.529606              2.911418              11.115147   \n",
       "14147              8.777171              2.819214              10.463847   \n",
       "14148              8.406690              2.517518              10.652193   \n",
       "\n",
       "       final.output.tail_au  ...  secondary_cleaner.state.floatbank4_a_air  \\\n",
       "0                  2.143149  ...                                 14.016835   \n",
       "1                  2.224930  ...                                 13.992281   \n",
       "2                  2.257889  ...                                 14.015015   \n",
       "3                  2.146849  ...                                 14.036510   \n",
       "4                  2.055292  ...                                 14.027298   \n",
       "...                     ...  ...                                       ...   \n",
       "14144              1.529220  ...                                 23.031497   \n",
       "14145              1.612542  ...                                 22.960095   \n",
       "14146              1.596616  ...                                 23.015718   \n",
       "14147              1.602879  ...                                 23.024963   \n",
       "14148              1.389434  ...                                 23.018622   \n",
       "\n",
       "       secondary_cleaner.state.floatbank4_a_level  \\\n",
       "0                                     -502.488007   \n",
       "1                                     -505.503262   \n",
       "2                                     -502.520901   \n",
       "3                                     -500.857308   \n",
       "4                                     -499.838632   \n",
       "...                                           ...   \n",
       "14144                                 -501.167942   \n",
       "14145                                 -501.612783   \n",
       "14146                                 -501.711599   \n",
       "14147                                 -501.153409   \n",
       "14148                                 -500.492702   \n",
       "\n",
       "       secondary_cleaner.state.floatbank4_b_air  \\\n",
       "0                                     12.099931   \n",
       "1                                     11.950531   \n",
       "2                                     11.912783   \n",
       "3                                     11.999550   \n",
       "4                                     11.953070   \n",
       "...                                         ...   \n",
       "14144                                 20.007571   \n",
       "14145                                 20.035660   \n",
       "14146                                 19.951231   \n",
       "14147                                 20.054122   \n",
       "14148                                 20.020205   \n",
       "\n",
       "       secondary_cleaner.state.floatbank4_b_level  \\\n",
       "0                                     -504.715942   \n",
       "1                                     -501.331529   \n",
       "2                                     -501.133383   \n",
       "3                                     -501.193686   \n",
       "4                                     -501.053894   \n",
       "...                                           ...   \n",
       "14144                                 -499.740028   \n",
       "14145                                 -500.251357   \n",
       "14146                                 -499.857027   \n",
       "14147                                 -500.314711   \n",
       "14148                                 -500.220296   \n",
       "\n",
       "       secondary_cleaner.state.floatbank5_a_air  \\\n",
       "0                                      9.925633   \n",
       "1                                     10.039245   \n",
       "2                                     10.070913   \n",
       "3                                      9.970366   \n",
       "4                                      9.925709   \n",
       "...                                         ...   \n",
       "14144                                 18.006038   \n",
       "14145                                 17.998535   \n",
       "14146                                 18.019543   \n",
       "14147                                 17.979515   \n",
       "14148                                 17.963512   \n",
       "\n",
       "       secondary_cleaner.state.floatbank5_a_level  \\\n",
       "0                                     -498.310211   \n",
       "1                                     -500.169983   \n",
       "2                                     -500.129135   \n",
       "3                                     -499.201640   \n",
       "4                                     -501.686727   \n",
       "...                                           ...   \n",
       "14144                                 -499.834374   \n",
       "14145                                 -500.395178   \n",
       "14146                                 -500.451156   \n",
       "14147                                 -499.272871   \n",
       "14148                                 -499.939490   \n",
       "\n",
       "       secondary_cleaner.state.floatbank5_b_air  \\\n",
       "0                                      8.079666   \n",
       "1                                      7.984757   \n",
       "2                                      8.013877   \n",
       "3                                      7.977324   \n",
       "4                                      7.894242   \n",
       "...                                         ...   \n",
       "14144                                 13.001114   \n",
       "14145                                 12.954048   \n",
       "14146                                 13.023431   \n",
       "14147                                 12.992404   \n",
       "14148                                 12.990306   \n",
       "\n",
       "       secondary_cleaner.state.floatbank5_b_level  \\\n",
       "0                                     -500.470978   \n",
       "1                                     -500.582168   \n",
       "2                                     -500.517572   \n",
       "3                                     -500.255908   \n",
       "4                                     -500.356035   \n",
       "...                                           ...   \n",
       "14144                                 -500.155694   \n",
       "14145                                 -499.895163   \n",
       "14146                                 -499.914391   \n",
       "14147                                 -499.976268   \n",
       "14148                                 -500.080993   \n",
       "\n",
       "       secondary_cleaner.state.floatbank6_a_air  \\\n",
       "0                                     14.151341   \n",
       "1                                     13.998353   \n",
       "2                                     14.028663   \n",
       "3                                     14.005551   \n",
       "4                                     13.996647   \n",
       "...                                         ...   \n",
       "14144                                 20.007840   \n",
       "14145                                 19.968498   \n",
       "14146                                 19.990885   \n",
       "14147                                 20.013986   \n",
       "14148                                 19.990336   \n",
       "\n",
       "       secondary_cleaner.state.floatbank6_a_level  \n",
       "0                                     -605.841980  \n",
       "1                                     -599.787184  \n",
       "2                                     -601.427363  \n",
       "3                                     -599.996129  \n",
       "4                                     -601.496691  \n",
       "...                                           ...  \n",
       "14144                                 -501.296428  \n",
       "14145                                 -501.041608  \n",
       "14146                                 -501.518452  \n",
       "14147                                 -500.625471  \n",
       "14148                                 -499.191575  \n",
       "\n",
       "[14149 rows x 87 columns]"
      ]
     },
     "execution_count": 6,
     "metadata": {},
     "output_type": "execute_result"
    }
   ],
   "source": [
    "df_train"
   ]
  },
  {
   "cell_type": "code",
   "execution_count": 7,
   "metadata": {},
   "outputs": [
    {
     "data": {
      "text/html": [
       "<div>\n",
       "<style scoped>\n",
       "    .dataframe tbody tr th:only-of-type {\n",
       "        vertical-align: middle;\n",
       "    }\n",
       "\n",
       "    .dataframe tbody tr th {\n",
       "        vertical-align: top;\n",
       "    }\n",
       "\n",
       "    .dataframe thead th {\n",
       "        text-align: right;\n",
       "    }\n",
       "</style>\n",
       "<table border=\"1\" class=\"dataframe\">\n",
       "  <thead>\n",
       "    <tr style=\"text-align: right;\">\n",
       "      <th></th>\n",
       "      <th>date</th>\n",
       "      <th>primary_cleaner.input.sulfate</th>\n",
       "      <th>primary_cleaner.input.depressant</th>\n",
       "      <th>primary_cleaner.input.feed_size</th>\n",
       "      <th>primary_cleaner.input.xanthate</th>\n",
       "      <th>primary_cleaner.state.floatbank8_a_air</th>\n",
       "      <th>primary_cleaner.state.floatbank8_a_level</th>\n",
       "      <th>primary_cleaner.state.floatbank8_b_air</th>\n",
       "      <th>primary_cleaner.state.floatbank8_b_level</th>\n",
       "      <th>primary_cleaner.state.floatbank8_c_air</th>\n",
       "      <th>...</th>\n",
       "      <th>secondary_cleaner.state.floatbank4_a_air</th>\n",
       "      <th>secondary_cleaner.state.floatbank4_a_level</th>\n",
       "      <th>secondary_cleaner.state.floatbank4_b_air</th>\n",
       "      <th>secondary_cleaner.state.floatbank4_b_level</th>\n",
       "      <th>secondary_cleaner.state.floatbank5_a_air</th>\n",
       "      <th>secondary_cleaner.state.floatbank5_a_level</th>\n",
       "      <th>secondary_cleaner.state.floatbank5_b_air</th>\n",
       "      <th>secondary_cleaner.state.floatbank5_b_level</th>\n",
       "      <th>secondary_cleaner.state.floatbank6_a_air</th>\n",
       "      <th>secondary_cleaner.state.floatbank6_a_level</th>\n",
       "    </tr>\n",
       "  </thead>\n",
       "  <tbody>\n",
       "    <tr>\n",
       "      <th>0</th>\n",
       "      <td>2016-09-01 00:59:59</td>\n",
       "      <td>210.800909</td>\n",
       "      <td>14.993118</td>\n",
       "      <td>8.080000</td>\n",
       "      <td>1.005021</td>\n",
       "      <td>1398.981301</td>\n",
       "      <td>-500.225577</td>\n",
       "      <td>1399.144926</td>\n",
       "      <td>-499.919735</td>\n",
       "      <td>1400.102998</td>\n",
       "      <td>...</td>\n",
       "      <td>12.023554</td>\n",
       "      <td>-497.795834</td>\n",
       "      <td>8.016656</td>\n",
       "      <td>-501.289139</td>\n",
       "      <td>7.946562</td>\n",
       "      <td>-432.317850</td>\n",
       "      <td>4.872511</td>\n",
       "      <td>-500.037437</td>\n",
       "      <td>26.705889</td>\n",
       "      <td>-499.709414</td>\n",
       "    </tr>\n",
       "    <tr>\n",
       "      <th>1</th>\n",
       "      <td>2016-09-01 01:59:59</td>\n",
       "      <td>215.392455</td>\n",
       "      <td>14.987471</td>\n",
       "      <td>8.080000</td>\n",
       "      <td>0.990469</td>\n",
       "      <td>1398.777912</td>\n",
       "      <td>-500.057435</td>\n",
       "      <td>1398.055362</td>\n",
       "      <td>-499.778182</td>\n",
       "      <td>1396.151033</td>\n",
       "      <td>...</td>\n",
       "      <td>12.058140</td>\n",
       "      <td>-498.695773</td>\n",
       "      <td>8.130979</td>\n",
       "      <td>-499.634209</td>\n",
       "      <td>7.958270</td>\n",
       "      <td>-525.839648</td>\n",
       "      <td>4.878850</td>\n",
       "      <td>-500.162375</td>\n",
       "      <td>25.019940</td>\n",
       "      <td>-499.819438</td>\n",
       "    </tr>\n",
       "    <tr>\n",
       "      <th>2</th>\n",
       "      <td>2016-09-01 02:59:59</td>\n",
       "      <td>215.259946</td>\n",
       "      <td>12.884934</td>\n",
       "      <td>7.786667</td>\n",
       "      <td>0.996043</td>\n",
       "      <td>1398.493666</td>\n",
       "      <td>-500.868360</td>\n",
       "      <td>1398.860436</td>\n",
       "      <td>-499.764529</td>\n",
       "      <td>1398.075709</td>\n",
       "      <td>...</td>\n",
       "      <td>11.962366</td>\n",
       "      <td>-498.767484</td>\n",
       "      <td>8.096893</td>\n",
       "      <td>-500.827423</td>\n",
       "      <td>8.071056</td>\n",
       "      <td>-500.801673</td>\n",
       "      <td>4.905125</td>\n",
       "      <td>-499.828510</td>\n",
       "      <td>24.994862</td>\n",
       "      <td>-500.622559</td>\n",
       "    </tr>\n",
       "    <tr>\n",
       "      <th>3</th>\n",
       "      <td>2016-09-01 03:59:59</td>\n",
       "      <td>215.336236</td>\n",
       "      <td>12.006805</td>\n",
       "      <td>7.640000</td>\n",
       "      <td>0.863514</td>\n",
       "      <td>1399.618111</td>\n",
       "      <td>-498.863574</td>\n",
       "      <td>1397.440120</td>\n",
       "      <td>-499.211024</td>\n",
       "      <td>1400.129303</td>\n",
       "      <td>...</td>\n",
       "      <td>12.033091</td>\n",
       "      <td>-498.350935</td>\n",
       "      <td>8.074946</td>\n",
       "      <td>-499.474407</td>\n",
       "      <td>7.897085</td>\n",
       "      <td>-500.868509</td>\n",
       "      <td>4.931400</td>\n",
       "      <td>-499.963623</td>\n",
       "      <td>24.948919</td>\n",
       "      <td>-498.709987</td>\n",
       "    </tr>\n",
       "    <tr>\n",
       "      <th>4</th>\n",
       "      <td>2016-09-01 04:59:59</td>\n",
       "      <td>199.099327</td>\n",
       "      <td>10.682530</td>\n",
       "      <td>7.530000</td>\n",
       "      <td>0.805575</td>\n",
       "      <td>1401.268123</td>\n",
       "      <td>-500.808305</td>\n",
       "      <td>1398.128818</td>\n",
       "      <td>-499.504543</td>\n",
       "      <td>1402.172226</td>\n",
       "      <td>...</td>\n",
       "      <td>12.025367</td>\n",
       "      <td>-500.786497</td>\n",
       "      <td>8.054678</td>\n",
       "      <td>-500.397500</td>\n",
       "      <td>8.107890</td>\n",
       "      <td>-509.526725</td>\n",
       "      <td>4.957674</td>\n",
       "      <td>-500.360026</td>\n",
       "      <td>25.003331</td>\n",
       "      <td>-500.856333</td>\n",
       "    </tr>\n",
       "    <tr>\n",
       "      <th>...</th>\n",
       "      <td>...</td>\n",
       "      <td>...</td>\n",
       "      <td>...</td>\n",
       "      <td>...</td>\n",
       "      <td>...</td>\n",
       "      <td>...</td>\n",
       "      <td>...</td>\n",
       "      <td>...</td>\n",
       "      <td>...</td>\n",
       "      <td>...</td>\n",
       "      <td>...</td>\n",
       "      <td>...</td>\n",
       "      <td>...</td>\n",
       "      <td>...</td>\n",
       "      <td>...</td>\n",
       "      <td>...</td>\n",
       "      <td>...</td>\n",
       "      <td>...</td>\n",
       "      <td>...</td>\n",
       "      <td>...</td>\n",
       "      <td>...</td>\n",
       "    </tr>\n",
       "    <tr>\n",
       "      <th>5285</th>\n",
       "      <td>2017-12-31 19:59:59</td>\n",
       "      <td>173.957757</td>\n",
       "      <td>15.963399</td>\n",
       "      <td>8.070000</td>\n",
       "      <td>0.896701</td>\n",
       "      <td>1401.930554</td>\n",
       "      <td>-499.728848</td>\n",
       "      <td>1401.441445</td>\n",
       "      <td>-499.193423</td>\n",
       "      <td>1399.810313</td>\n",
       "      <td>...</td>\n",
       "      <td>13.995957</td>\n",
       "      <td>-500.157454</td>\n",
       "      <td>12.069155</td>\n",
       "      <td>-499.673279</td>\n",
       "      <td>7.977259</td>\n",
       "      <td>-499.516126</td>\n",
       "      <td>5.933319</td>\n",
       "      <td>-499.965973</td>\n",
       "      <td>8.987171</td>\n",
       "      <td>-499.755909</td>\n",
       "    </tr>\n",
       "    <tr>\n",
       "      <th>5286</th>\n",
       "      <td>2017-12-31 20:59:59</td>\n",
       "      <td>172.910270</td>\n",
       "      <td>16.002605</td>\n",
       "      <td>8.070000</td>\n",
       "      <td>0.896519</td>\n",
       "      <td>1447.075722</td>\n",
       "      <td>-494.716823</td>\n",
       "      <td>1448.851892</td>\n",
       "      <td>-465.963026</td>\n",
       "      <td>1443.890424</td>\n",
       "      <td>...</td>\n",
       "      <td>16.749781</td>\n",
       "      <td>-496.031539</td>\n",
       "      <td>13.365371</td>\n",
       "      <td>-499.122723</td>\n",
       "      <td>9.288553</td>\n",
       "      <td>-496.892967</td>\n",
       "      <td>7.372897</td>\n",
       "      <td>-499.942956</td>\n",
       "      <td>8.986832</td>\n",
       "      <td>-499.903761</td>\n",
       "    </tr>\n",
       "    <tr>\n",
       "      <th>5287</th>\n",
       "      <td>2017-12-31 21:59:59</td>\n",
       "      <td>171.135718</td>\n",
       "      <td>15.993669</td>\n",
       "      <td>8.070000</td>\n",
       "      <td>1.165996</td>\n",
       "      <td>1498.836182</td>\n",
       "      <td>-501.770403</td>\n",
       "      <td>1499.572353</td>\n",
       "      <td>-495.516347</td>\n",
       "      <td>1502.749213</td>\n",
       "      <td>...</td>\n",
       "      <td>19.994130</td>\n",
       "      <td>-499.791312</td>\n",
       "      <td>15.101425</td>\n",
       "      <td>-499.936252</td>\n",
       "      <td>10.989181</td>\n",
       "      <td>-498.347898</td>\n",
       "      <td>9.020944</td>\n",
       "      <td>-500.040448</td>\n",
       "      <td>8.982038</td>\n",
       "      <td>-497.789882</td>\n",
       "    </tr>\n",
       "    <tr>\n",
       "      <th>5288</th>\n",
       "      <td>2017-12-31 22:59:59</td>\n",
       "      <td>179.697158</td>\n",
       "      <td>15.438979</td>\n",
       "      <td>8.070000</td>\n",
       "      <td>1.501068</td>\n",
       "      <td>1498.466243</td>\n",
       "      <td>-500.483984</td>\n",
       "      <td>1497.986986</td>\n",
       "      <td>-519.200340</td>\n",
       "      <td>1496.569047</td>\n",
       "      <td>...</td>\n",
       "      <td>19.958760</td>\n",
       "      <td>-499.958750</td>\n",
       "      <td>15.026853</td>\n",
       "      <td>-499.723143</td>\n",
       "      <td>11.011607</td>\n",
       "      <td>-499.985046</td>\n",
       "      <td>9.009783</td>\n",
       "      <td>-499.937902</td>\n",
       "      <td>9.012660</td>\n",
       "      <td>-500.154284</td>\n",
       "    </tr>\n",
       "    <tr>\n",
       "      <th>5289</th>\n",
       "      <td>2017-12-31 23:59:59</td>\n",
       "      <td>181.556856</td>\n",
       "      <td>14.995850</td>\n",
       "      <td>8.070000</td>\n",
       "      <td>1.623454</td>\n",
       "      <td>1498.096303</td>\n",
       "      <td>-499.796922</td>\n",
       "      <td>1501.743791</td>\n",
       "      <td>-505.146931</td>\n",
       "      <td>1499.535978</td>\n",
       "      <td>...</td>\n",
       "      <td>20.034715</td>\n",
       "      <td>-500.728588</td>\n",
       "      <td>14.914199</td>\n",
       "      <td>-499.948518</td>\n",
       "      <td>10.986607</td>\n",
       "      <td>-500.658027</td>\n",
       "      <td>8.989497</td>\n",
       "      <td>-500.337588</td>\n",
       "      <td>8.988632</td>\n",
       "      <td>-500.764937</td>\n",
       "    </tr>\n",
       "  </tbody>\n",
       "</table>\n",
       "<p>5290 rows × 53 columns</p>\n",
       "</div>"
      ],
      "text/plain": [
       "                    date  primary_cleaner.input.sulfate  \\\n",
       "0    2016-09-01 00:59:59                     210.800909   \n",
       "1    2016-09-01 01:59:59                     215.392455   \n",
       "2    2016-09-01 02:59:59                     215.259946   \n",
       "3    2016-09-01 03:59:59                     215.336236   \n",
       "4    2016-09-01 04:59:59                     199.099327   \n",
       "...                  ...                            ...   \n",
       "5285 2017-12-31 19:59:59                     173.957757   \n",
       "5286 2017-12-31 20:59:59                     172.910270   \n",
       "5287 2017-12-31 21:59:59                     171.135718   \n",
       "5288 2017-12-31 22:59:59                     179.697158   \n",
       "5289 2017-12-31 23:59:59                     181.556856   \n",
       "\n",
       "      primary_cleaner.input.depressant  primary_cleaner.input.feed_size  \\\n",
       "0                            14.993118                         8.080000   \n",
       "1                            14.987471                         8.080000   \n",
       "2                            12.884934                         7.786667   \n",
       "3                            12.006805                         7.640000   \n",
       "4                            10.682530                         7.530000   \n",
       "...                                ...                              ...   \n",
       "5285                         15.963399                         8.070000   \n",
       "5286                         16.002605                         8.070000   \n",
       "5287                         15.993669                         8.070000   \n",
       "5288                         15.438979                         8.070000   \n",
       "5289                         14.995850                         8.070000   \n",
       "\n",
       "      primary_cleaner.input.xanthate  primary_cleaner.state.floatbank8_a_air  \\\n",
       "0                           1.005021                             1398.981301   \n",
       "1                           0.990469                             1398.777912   \n",
       "2                           0.996043                             1398.493666   \n",
       "3                           0.863514                             1399.618111   \n",
       "4                           0.805575                             1401.268123   \n",
       "...                              ...                                     ...   \n",
       "5285                        0.896701                             1401.930554   \n",
       "5286                        0.896519                             1447.075722   \n",
       "5287                        1.165996                             1498.836182   \n",
       "5288                        1.501068                             1498.466243   \n",
       "5289                        1.623454                             1498.096303   \n",
       "\n",
       "      primary_cleaner.state.floatbank8_a_level  \\\n",
       "0                                  -500.225577   \n",
       "1                                  -500.057435   \n",
       "2                                  -500.868360   \n",
       "3                                  -498.863574   \n",
       "4                                  -500.808305   \n",
       "...                                        ...   \n",
       "5285                               -499.728848   \n",
       "5286                               -494.716823   \n",
       "5287                               -501.770403   \n",
       "5288                               -500.483984   \n",
       "5289                               -499.796922   \n",
       "\n",
       "      primary_cleaner.state.floatbank8_b_air  \\\n",
       "0                                1399.144926   \n",
       "1                                1398.055362   \n",
       "2                                1398.860436   \n",
       "3                                1397.440120   \n",
       "4                                1398.128818   \n",
       "...                                      ...   \n",
       "5285                             1401.441445   \n",
       "5286                             1448.851892   \n",
       "5287                             1499.572353   \n",
       "5288                             1497.986986   \n",
       "5289                             1501.743791   \n",
       "\n",
       "      primary_cleaner.state.floatbank8_b_level  \\\n",
       "0                                  -499.919735   \n",
       "1                                  -499.778182   \n",
       "2                                  -499.764529   \n",
       "3                                  -499.211024   \n",
       "4                                  -499.504543   \n",
       "...                                        ...   \n",
       "5285                               -499.193423   \n",
       "5286                               -465.963026   \n",
       "5287                               -495.516347   \n",
       "5288                               -519.200340   \n",
       "5289                               -505.146931   \n",
       "\n",
       "      primary_cleaner.state.floatbank8_c_air  ...  \\\n",
       "0                                1400.102998  ...   \n",
       "1                                1396.151033  ...   \n",
       "2                                1398.075709  ...   \n",
       "3                                1400.129303  ...   \n",
       "4                                1402.172226  ...   \n",
       "...                                      ...  ...   \n",
       "5285                             1399.810313  ...   \n",
       "5286                             1443.890424  ...   \n",
       "5287                             1502.749213  ...   \n",
       "5288                             1496.569047  ...   \n",
       "5289                             1499.535978  ...   \n",
       "\n",
       "      secondary_cleaner.state.floatbank4_a_air  \\\n",
       "0                                    12.023554   \n",
       "1                                    12.058140   \n",
       "2                                    11.962366   \n",
       "3                                    12.033091   \n",
       "4                                    12.025367   \n",
       "...                                        ...   \n",
       "5285                                 13.995957   \n",
       "5286                                 16.749781   \n",
       "5287                                 19.994130   \n",
       "5288                                 19.958760   \n",
       "5289                                 20.034715   \n",
       "\n",
       "      secondary_cleaner.state.floatbank4_a_level  \\\n",
       "0                                    -497.795834   \n",
       "1                                    -498.695773   \n",
       "2                                    -498.767484   \n",
       "3                                    -498.350935   \n",
       "4                                    -500.786497   \n",
       "...                                          ...   \n",
       "5285                                 -500.157454   \n",
       "5286                                 -496.031539   \n",
       "5287                                 -499.791312   \n",
       "5288                                 -499.958750   \n",
       "5289                                 -500.728588   \n",
       "\n",
       "      secondary_cleaner.state.floatbank4_b_air  \\\n",
       "0                                     8.016656   \n",
       "1                                     8.130979   \n",
       "2                                     8.096893   \n",
       "3                                     8.074946   \n",
       "4                                     8.054678   \n",
       "...                                        ...   \n",
       "5285                                 12.069155   \n",
       "5286                                 13.365371   \n",
       "5287                                 15.101425   \n",
       "5288                                 15.026853   \n",
       "5289                                 14.914199   \n",
       "\n",
       "      secondary_cleaner.state.floatbank4_b_level  \\\n",
       "0                                    -501.289139   \n",
       "1                                    -499.634209   \n",
       "2                                    -500.827423   \n",
       "3                                    -499.474407   \n",
       "4                                    -500.397500   \n",
       "...                                          ...   \n",
       "5285                                 -499.673279   \n",
       "5286                                 -499.122723   \n",
       "5287                                 -499.936252   \n",
       "5288                                 -499.723143   \n",
       "5289                                 -499.948518   \n",
       "\n",
       "      secondary_cleaner.state.floatbank5_a_air  \\\n",
       "0                                     7.946562   \n",
       "1                                     7.958270   \n",
       "2                                     8.071056   \n",
       "3                                     7.897085   \n",
       "4                                     8.107890   \n",
       "...                                        ...   \n",
       "5285                                  7.977259   \n",
       "5286                                  9.288553   \n",
       "5287                                 10.989181   \n",
       "5288                                 11.011607   \n",
       "5289                                 10.986607   \n",
       "\n",
       "      secondary_cleaner.state.floatbank5_a_level  \\\n",
       "0                                    -432.317850   \n",
       "1                                    -525.839648   \n",
       "2                                    -500.801673   \n",
       "3                                    -500.868509   \n",
       "4                                    -509.526725   \n",
       "...                                          ...   \n",
       "5285                                 -499.516126   \n",
       "5286                                 -496.892967   \n",
       "5287                                 -498.347898   \n",
       "5288                                 -499.985046   \n",
       "5289                                 -500.658027   \n",
       "\n",
       "      secondary_cleaner.state.floatbank5_b_air  \\\n",
       "0                                     4.872511   \n",
       "1                                     4.878850   \n",
       "2                                     4.905125   \n",
       "3                                     4.931400   \n",
       "4                                     4.957674   \n",
       "...                                        ...   \n",
       "5285                                  5.933319   \n",
       "5286                                  7.372897   \n",
       "5287                                  9.020944   \n",
       "5288                                  9.009783   \n",
       "5289                                  8.989497   \n",
       "\n",
       "      secondary_cleaner.state.floatbank5_b_level  \\\n",
       "0                                    -500.037437   \n",
       "1                                    -500.162375   \n",
       "2                                    -499.828510   \n",
       "3                                    -499.963623   \n",
       "4                                    -500.360026   \n",
       "...                                          ...   \n",
       "5285                                 -499.965973   \n",
       "5286                                 -499.942956   \n",
       "5287                                 -500.040448   \n",
       "5288                                 -499.937902   \n",
       "5289                                 -500.337588   \n",
       "\n",
       "      secondary_cleaner.state.floatbank6_a_air  \\\n",
       "0                                    26.705889   \n",
       "1                                    25.019940   \n",
       "2                                    24.994862   \n",
       "3                                    24.948919   \n",
       "4                                    25.003331   \n",
       "...                                        ...   \n",
       "5285                                  8.987171   \n",
       "5286                                  8.986832   \n",
       "5287                                  8.982038   \n",
       "5288                                  9.012660   \n",
       "5289                                  8.988632   \n",
       "\n",
       "      secondary_cleaner.state.floatbank6_a_level  \n",
       "0                                    -499.709414  \n",
       "1                                    -499.819438  \n",
       "2                                    -500.622559  \n",
       "3                                    -498.709987  \n",
       "4                                    -500.856333  \n",
       "...                                          ...  \n",
       "5285                                 -499.755909  \n",
       "5286                                 -499.903761  \n",
       "5287                                 -497.789882  \n",
       "5288                                 -500.154284  \n",
       "5289                                 -500.764937  \n",
       "\n",
       "[5290 rows x 53 columns]"
      ]
     },
     "execution_count": 7,
     "metadata": {},
     "output_type": "execute_result"
    }
   ],
   "source": [
    "df_test"
   ]
  },
  {
   "cell_type": "code",
   "execution_count": 8,
   "metadata": {},
   "outputs": [
    {
     "data": {
      "text/html": [
       "<div>\n",
       "<style scoped>\n",
       "    .dataframe tbody tr th:only-of-type {\n",
       "        vertical-align: middle;\n",
       "    }\n",
       "\n",
       "    .dataframe tbody tr th {\n",
       "        vertical-align: top;\n",
       "    }\n",
       "\n",
       "    .dataframe thead th {\n",
       "        text-align: right;\n",
       "    }\n",
       "</style>\n",
       "<table border=\"1\" class=\"dataframe\">\n",
       "  <thead>\n",
       "    <tr style=\"text-align: right;\">\n",
       "      <th></th>\n",
       "      <th>date</th>\n",
       "      <th>final.output.concentrate_ag</th>\n",
       "      <th>final.output.concentrate_pb</th>\n",
       "      <th>final.output.concentrate_sol</th>\n",
       "      <th>final.output.concentrate_au</th>\n",
       "      <th>final.output.recovery</th>\n",
       "      <th>final.output.tail_ag</th>\n",
       "      <th>final.output.tail_pb</th>\n",
       "      <th>final.output.tail_sol</th>\n",
       "      <th>final.output.tail_au</th>\n",
       "      <th>...</th>\n",
       "      <th>secondary_cleaner.state.floatbank4_a_air</th>\n",
       "      <th>secondary_cleaner.state.floatbank4_a_level</th>\n",
       "      <th>secondary_cleaner.state.floatbank4_b_air</th>\n",
       "      <th>secondary_cleaner.state.floatbank4_b_level</th>\n",
       "      <th>secondary_cleaner.state.floatbank5_a_air</th>\n",
       "      <th>secondary_cleaner.state.floatbank5_a_level</th>\n",
       "      <th>secondary_cleaner.state.floatbank5_b_air</th>\n",
       "      <th>secondary_cleaner.state.floatbank5_b_level</th>\n",
       "      <th>secondary_cleaner.state.floatbank6_a_air</th>\n",
       "      <th>secondary_cleaner.state.floatbank6_a_level</th>\n",
       "    </tr>\n",
       "  </thead>\n",
       "  <tbody>\n",
       "    <tr>\n",
       "      <th>0</th>\n",
       "      <td>2016-01-15 00:00:00</td>\n",
       "      <td>6.055403</td>\n",
       "      <td>9.889648</td>\n",
       "      <td>5.507324</td>\n",
       "      <td>42.192020</td>\n",
       "      <td>70.541216</td>\n",
       "      <td>10.411962</td>\n",
       "      <td>0.895447</td>\n",
       "      <td>16.904297</td>\n",
       "      <td>2.143149</td>\n",
       "      <td>...</td>\n",
       "      <td>14.016835</td>\n",
       "      <td>-502.488007</td>\n",
       "      <td>12.099931</td>\n",
       "      <td>-504.715942</td>\n",
       "      <td>9.925633</td>\n",
       "      <td>-498.310211</td>\n",
       "      <td>8.079666</td>\n",
       "      <td>-500.470978</td>\n",
       "      <td>14.151341</td>\n",
       "      <td>-605.841980</td>\n",
       "    </tr>\n",
       "    <tr>\n",
       "      <th>1</th>\n",
       "      <td>2016-01-15 01:00:00</td>\n",
       "      <td>6.029369</td>\n",
       "      <td>9.968944</td>\n",
       "      <td>5.257781</td>\n",
       "      <td>42.701629</td>\n",
       "      <td>69.266198</td>\n",
       "      <td>10.462676</td>\n",
       "      <td>0.927452</td>\n",
       "      <td>16.634514</td>\n",
       "      <td>2.224930</td>\n",
       "      <td>...</td>\n",
       "      <td>13.992281</td>\n",
       "      <td>-505.503262</td>\n",
       "      <td>11.950531</td>\n",
       "      <td>-501.331529</td>\n",
       "      <td>10.039245</td>\n",
       "      <td>-500.169983</td>\n",
       "      <td>7.984757</td>\n",
       "      <td>-500.582168</td>\n",
       "      <td>13.998353</td>\n",
       "      <td>-599.787184</td>\n",
       "    </tr>\n",
       "    <tr>\n",
       "      <th>2</th>\n",
       "      <td>2016-01-15 02:00:00</td>\n",
       "      <td>6.055926</td>\n",
       "      <td>10.213995</td>\n",
       "      <td>5.383759</td>\n",
       "      <td>42.657501</td>\n",
       "      <td>68.116445</td>\n",
       "      <td>10.507046</td>\n",
       "      <td>0.953716</td>\n",
       "      <td>16.208849</td>\n",
       "      <td>2.257889</td>\n",
       "      <td>...</td>\n",
       "      <td>14.015015</td>\n",
       "      <td>-502.520901</td>\n",
       "      <td>11.912783</td>\n",
       "      <td>-501.133383</td>\n",
       "      <td>10.070913</td>\n",
       "      <td>-500.129135</td>\n",
       "      <td>8.013877</td>\n",
       "      <td>-500.517572</td>\n",
       "      <td>14.028663</td>\n",
       "      <td>-601.427363</td>\n",
       "    </tr>\n",
       "    <tr>\n",
       "      <th>3</th>\n",
       "      <td>2016-01-15 03:00:00</td>\n",
       "      <td>6.047977</td>\n",
       "      <td>9.977019</td>\n",
       "      <td>4.858634</td>\n",
       "      <td>42.689819</td>\n",
       "      <td>68.347543</td>\n",
       "      <td>10.422762</td>\n",
       "      <td>0.883763</td>\n",
       "      <td>16.532835</td>\n",
       "      <td>2.146849</td>\n",
       "      <td>...</td>\n",
       "      <td>14.036510</td>\n",
       "      <td>-500.857308</td>\n",
       "      <td>11.999550</td>\n",
       "      <td>-501.193686</td>\n",
       "      <td>9.970366</td>\n",
       "      <td>-499.201640</td>\n",
       "      <td>7.977324</td>\n",
       "      <td>-500.255908</td>\n",
       "      <td>14.005551</td>\n",
       "      <td>-599.996129</td>\n",
       "    </tr>\n",
       "    <tr>\n",
       "      <th>4</th>\n",
       "      <td>2016-01-15 04:00:00</td>\n",
       "      <td>6.148599</td>\n",
       "      <td>10.142511</td>\n",
       "      <td>4.939416</td>\n",
       "      <td>42.774141</td>\n",
       "      <td>66.927016</td>\n",
       "      <td>10.360302</td>\n",
       "      <td>0.792826</td>\n",
       "      <td>16.525686</td>\n",
       "      <td>2.055292</td>\n",
       "      <td>...</td>\n",
       "      <td>14.027298</td>\n",
       "      <td>-499.838632</td>\n",
       "      <td>11.953070</td>\n",
       "      <td>-501.053894</td>\n",
       "      <td>9.925709</td>\n",
       "      <td>-501.686727</td>\n",
       "      <td>7.894242</td>\n",
       "      <td>-500.356035</td>\n",
       "      <td>13.996647</td>\n",
       "      <td>-601.496691</td>\n",
       "    </tr>\n",
       "    <tr>\n",
       "      <th>...</th>\n",
       "      <td>...</td>\n",
       "      <td>...</td>\n",
       "      <td>...</td>\n",
       "      <td>...</td>\n",
       "      <td>...</td>\n",
       "      <td>...</td>\n",
       "      <td>...</td>\n",
       "      <td>...</td>\n",
       "      <td>...</td>\n",
       "      <td>...</td>\n",
       "      <td>...</td>\n",
       "      <td>...</td>\n",
       "      <td>...</td>\n",
       "      <td>...</td>\n",
       "      <td>...</td>\n",
       "      <td>...</td>\n",
       "      <td>...</td>\n",
       "      <td>...</td>\n",
       "      <td>...</td>\n",
       "      <td>...</td>\n",
       "      <td>...</td>\n",
       "    </tr>\n",
       "    <tr>\n",
       "      <th>19434</th>\n",
       "      <td>2018-08-18 06:59:59</td>\n",
       "      <td>3.224920</td>\n",
       "      <td>11.356233</td>\n",
       "      <td>6.803482</td>\n",
       "      <td>46.713954</td>\n",
       "      <td>73.755150</td>\n",
       "      <td>8.769645</td>\n",
       "      <td>3.141541</td>\n",
       "      <td>10.403181</td>\n",
       "      <td>1.529220</td>\n",
       "      <td>...</td>\n",
       "      <td>23.031497</td>\n",
       "      <td>-501.167942</td>\n",
       "      <td>20.007571</td>\n",
       "      <td>-499.740028</td>\n",
       "      <td>18.006038</td>\n",
       "      <td>-499.834374</td>\n",
       "      <td>13.001114</td>\n",
       "      <td>-500.155694</td>\n",
       "      <td>20.007840</td>\n",
       "      <td>-501.296428</td>\n",
       "    </tr>\n",
       "    <tr>\n",
       "      <th>19435</th>\n",
       "      <td>2018-08-18 07:59:59</td>\n",
       "      <td>3.195978</td>\n",
       "      <td>11.349355</td>\n",
       "      <td>6.862249</td>\n",
       "      <td>46.866780</td>\n",
       "      <td>69.049291</td>\n",
       "      <td>8.897321</td>\n",
       "      <td>3.130493</td>\n",
       "      <td>10.549470</td>\n",
       "      <td>1.612542</td>\n",
       "      <td>...</td>\n",
       "      <td>22.960095</td>\n",
       "      <td>-501.612783</td>\n",
       "      <td>20.035660</td>\n",
       "      <td>-500.251357</td>\n",
       "      <td>17.998535</td>\n",
       "      <td>-500.395178</td>\n",
       "      <td>12.954048</td>\n",
       "      <td>-499.895163</td>\n",
       "      <td>19.968498</td>\n",
       "      <td>-501.041608</td>\n",
       "    </tr>\n",
       "    <tr>\n",
       "      <th>19436</th>\n",
       "      <td>2018-08-18 08:59:59</td>\n",
       "      <td>3.109998</td>\n",
       "      <td>11.434366</td>\n",
       "      <td>6.886013</td>\n",
       "      <td>46.795691</td>\n",
       "      <td>67.002189</td>\n",
       "      <td>8.529606</td>\n",
       "      <td>2.911418</td>\n",
       "      <td>11.115147</td>\n",
       "      <td>1.596616</td>\n",
       "      <td>...</td>\n",
       "      <td>23.015718</td>\n",
       "      <td>-501.711599</td>\n",
       "      <td>19.951231</td>\n",
       "      <td>-499.857027</td>\n",
       "      <td>18.019543</td>\n",
       "      <td>-500.451156</td>\n",
       "      <td>13.023431</td>\n",
       "      <td>-499.914391</td>\n",
       "      <td>19.990885</td>\n",
       "      <td>-501.518452</td>\n",
       "    </tr>\n",
       "    <tr>\n",
       "      <th>19437</th>\n",
       "      <td>2018-08-18 09:59:59</td>\n",
       "      <td>3.367241</td>\n",
       "      <td>11.625587</td>\n",
       "      <td>6.799433</td>\n",
       "      <td>46.408188</td>\n",
       "      <td>65.523246</td>\n",
       "      <td>8.777171</td>\n",
       "      <td>2.819214</td>\n",
       "      <td>10.463847</td>\n",
       "      <td>1.602879</td>\n",
       "      <td>...</td>\n",
       "      <td>23.024963</td>\n",
       "      <td>-501.153409</td>\n",
       "      <td>20.054122</td>\n",
       "      <td>-500.314711</td>\n",
       "      <td>17.979515</td>\n",
       "      <td>-499.272871</td>\n",
       "      <td>12.992404</td>\n",
       "      <td>-499.976268</td>\n",
       "      <td>20.013986</td>\n",
       "      <td>-500.625471</td>\n",
       "    </tr>\n",
       "    <tr>\n",
       "      <th>19438</th>\n",
       "      <td>2018-08-18 10:59:59</td>\n",
       "      <td>3.598375</td>\n",
       "      <td>11.737832</td>\n",
       "      <td>6.717509</td>\n",
       "      <td>46.299438</td>\n",
       "      <td>70.281454</td>\n",
       "      <td>8.406690</td>\n",
       "      <td>2.517518</td>\n",
       "      <td>10.652193</td>\n",
       "      <td>1.389434</td>\n",
       "      <td>...</td>\n",
       "      <td>23.018622</td>\n",
       "      <td>-500.492702</td>\n",
       "      <td>20.020205</td>\n",
       "      <td>-500.220296</td>\n",
       "      <td>17.963512</td>\n",
       "      <td>-499.939490</td>\n",
       "      <td>12.990306</td>\n",
       "      <td>-500.080993</td>\n",
       "      <td>19.990336</td>\n",
       "      <td>-499.191575</td>\n",
       "    </tr>\n",
       "  </tbody>\n",
       "</table>\n",
       "<p>19439 rows × 87 columns</p>\n",
       "</div>"
      ],
      "text/plain": [
       "                     date  final.output.concentrate_ag  \\\n",
       "0     2016-01-15 00:00:00                     6.055403   \n",
       "1     2016-01-15 01:00:00                     6.029369   \n",
       "2     2016-01-15 02:00:00                     6.055926   \n",
       "3     2016-01-15 03:00:00                     6.047977   \n",
       "4     2016-01-15 04:00:00                     6.148599   \n",
       "...                   ...                          ...   \n",
       "19434 2018-08-18 06:59:59                     3.224920   \n",
       "19435 2018-08-18 07:59:59                     3.195978   \n",
       "19436 2018-08-18 08:59:59                     3.109998   \n",
       "19437 2018-08-18 09:59:59                     3.367241   \n",
       "19438 2018-08-18 10:59:59                     3.598375   \n",
       "\n",
       "       final.output.concentrate_pb  final.output.concentrate_sol  \\\n",
       "0                         9.889648                      5.507324   \n",
       "1                         9.968944                      5.257781   \n",
       "2                        10.213995                      5.383759   \n",
       "3                         9.977019                      4.858634   \n",
       "4                        10.142511                      4.939416   \n",
       "...                            ...                           ...   \n",
       "19434                    11.356233                      6.803482   \n",
       "19435                    11.349355                      6.862249   \n",
       "19436                    11.434366                      6.886013   \n",
       "19437                    11.625587                      6.799433   \n",
       "19438                    11.737832                      6.717509   \n",
       "\n",
       "       final.output.concentrate_au  final.output.recovery  \\\n",
       "0                        42.192020              70.541216   \n",
       "1                        42.701629              69.266198   \n",
       "2                        42.657501              68.116445   \n",
       "3                        42.689819              68.347543   \n",
       "4                        42.774141              66.927016   \n",
       "...                            ...                    ...   \n",
       "19434                    46.713954              73.755150   \n",
       "19435                    46.866780              69.049291   \n",
       "19436                    46.795691              67.002189   \n",
       "19437                    46.408188              65.523246   \n",
       "19438                    46.299438              70.281454   \n",
       "\n",
       "       final.output.tail_ag  final.output.tail_pb  final.output.tail_sol  \\\n",
       "0                 10.411962              0.895447              16.904297   \n",
       "1                 10.462676              0.927452              16.634514   \n",
       "2                 10.507046              0.953716              16.208849   \n",
       "3                 10.422762              0.883763              16.532835   \n",
       "4                 10.360302              0.792826              16.525686   \n",
       "...                     ...                   ...                    ...   \n",
       "19434              8.769645              3.141541              10.403181   \n",
       "19435              8.897321              3.130493              10.549470   \n",
       "19436              8.529606              2.911418              11.115147   \n",
       "19437              8.777171              2.819214              10.463847   \n",
       "19438              8.406690              2.517518              10.652193   \n",
       "\n",
       "       final.output.tail_au  ...  secondary_cleaner.state.floatbank4_a_air  \\\n",
       "0                  2.143149  ...                                 14.016835   \n",
       "1                  2.224930  ...                                 13.992281   \n",
       "2                  2.257889  ...                                 14.015015   \n",
       "3                  2.146849  ...                                 14.036510   \n",
       "4                  2.055292  ...                                 14.027298   \n",
       "...                     ...  ...                                       ...   \n",
       "19434              1.529220  ...                                 23.031497   \n",
       "19435              1.612542  ...                                 22.960095   \n",
       "19436              1.596616  ...                                 23.015718   \n",
       "19437              1.602879  ...                                 23.024963   \n",
       "19438              1.389434  ...                                 23.018622   \n",
       "\n",
       "       secondary_cleaner.state.floatbank4_a_level  \\\n",
       "0                                     -502.488007   \n",
       "1                                     -505.503262   \n",
       "2                                     -502.520901   \n",
       "3                                     -500.857308   \n",
       "4                                     -499.838632   \n",
       "...                                           ...   \n",
       "19434                                 -501.167942   \n",
       "19435                                 -501.612783   \n",
       "19436                                 -501.711599   \n",
       "19437                                 -501.153409   \n",
       "19438                                 -500.492702   \n",
       "\n",
       "       secondary_cleaner.state.floatbank4_b_air  \\\n",
       "0                                     12.099931   \n",
       "1                                     11.950531   \n",
       "2                                     11.912783   \n",
       "3                                     11.999550   \n",
       "4                                     11.953070   \n",
       "...                                         ...   \n",
       "19434                                 20.007571   \n",
       "19435                                 20.035660   \n",
       "19436                                 19.951231   \n",
       "19437                                 20.054122   \n",
       "19438                                 20.020205   \n",
       "\n",
       "       secondary_cleaner.state.floatbank4_b_level  \\\n",
       "0                                     -504.715942   \n",
       "1                                     -501.331529   \n",
       "2                                     -501.133383   \n",
       "3                                     -501.193686   \n",
       "4                                     -501.053894   \n",
       "...                                           ...   \n",
       "19434                                 -499.740028   \n",
       "19435                                 -500.251357   \n",
       "19436                                 -499.857027   \n",
       "19437                                 -500.314711   \n",
       "19438                                 -500.220296   \n",
       "\n",
       "       secondary_cleaner.state.floatbank5_a_air  \\\n",
       "0                                      9.925633   \n",
       "1                                     10.039245   \n",
       "2                                     10.070913   \n",
       "3                                      9.970366   \n",
       "4                                      9.925709   \n",
       "...                                         ...   \n",
       "19434                                 18.006038   \n",
       "19435                                 17.998535   \n",
       "19436                                 18.019543   \n",
       "19437                                 17.979515   \n",
       "19438                                 17.963512   \n",
       "\n",
       "       secondary_cleaner.state.floatbank5_a_level  \\\n",
       "0                                     -498.310211   \n",
       "1                                     -500.169983   \n",
       "2                                     -500.129135   \n",
       "3                                     -499.201640   \n",
       "4                                     -501.686727   \n",
       "...                                           ...   \n",
       "19434                                 -499.834374   \n",
       "19435                                 -500.395178   \n",
       "19436                                 -500.451156   \n",
       "19437                                 -499.272871   \n",
       "19438                                 -499.939490   \n",
       "\n",
       "       secondary_cleaner.state.floatbank5_b_air  \\\n",
       "0                                      8.079666   \n",
       "1                                      7.984757   \n",
       "2                                      8.013877   \n",
       "3                                      7.977324   \n",
       "4                                      7.894242   \n",
       "...                                         ...   \n",
       "19434                                 13.001114   \n",
       "19435                                 12.954048   \n",
       "19436                                 13.023431   \n",
       "19437                                 12.992404   \n",
       "19438                                 12.990306   \n",
       "\n",
       "       secondary_cleaner.state.floatbank5_b_level  \\\n",
       "0                                     -500.470978   \n",
       "1                                     -500.582168   \n",
       "2                                     -500.517572   \n",
       "3                                     -500.255908   \n",
       "4                                     -500.356035   \n",
       "...                                           ...   \n",
       "19434                                 -500.155694   \n",
       "19435                                 -499.895163   \n",
       "19436                                 -499.914391   \n",
       "19437                                 -499.976268   \n",
       "19438                                 -500.080993   \n",
       "\n",
       "       secondary_cleaner.state.floatbank6_a_air  \\\n",
       "0                                     14.151341   \n",
       "1                                     13.998353   \n",
       "2                                     14.028663   \n",
       "3                                     14.005551   \n",
       "4                                     13.996647   \n",
       "...                                         ...   \n",
       "19434                                 20.007840   \n",
       "19435                                 19.968498   \n",
       "19436                                 19.990885   \n",
       "19437                                 20.013986   \n",
       "19438                                 19.990336   \n",
       "\n",
       "       secondary_cleaner.state.floatbank6_a_level  \n",
       "0                                     -605.841980  \n",
       "1                                     -599.787184  \n",
       "2                                     -601.427363  \n",
       "3                                     -599.996129  \n",
       "4                                     -601.496691  \n",
       "...                                           ...  \n",
       "19434                                 -501.296428  \n",
       "19435                                 -501.041608  \n",
       "19436                                 -501.518452  \n",
       "19437                                 -500.625471  \n",
       "19438                                 -499.191575  \n",
       "\n",
       "[19439 rows x 87 columns]"
      ]
     },
     "execution_count": 8,
     "metadata": {},
     "output_type": "execute_result"
    }
   ],
   "source": [
    "df_full"
   ]
  },
  {
   "cell_type": "code",
   "execution_count": 9,
   "metadata": {},
   "outputs": [
    {
     "data": {
      "text/plain": [
       "True"
      ]
     },
     "execution_count": 9,
     "metadata": {},
     "output_type": "execute_result"
    }
   ],
   "source": [
    "df_full.shape[0] == df_train.shape[0] + df_test.shape[0]"
   ]
  },
  {
   "cell_type": "markdown",
   "metadata": {},
   "source": [
    "В train и в full одинаковое количество столбцов (87), в test меньше (53). full содержит суммарное количество строк train и test."
   ]
  },
  {
   "cell_type": "code",
   "execution_count": 10,
   "metadata": {},
   "outputs": [
    {
     "name": "stdout",
     "output_type": "stream",
     "text": [
      "<class 'pandas.core.frame.DataFrame'>\n",
      "RangeIndex: 14149 entries, 0 to 14148\n",
      "Data columns (total 87 columns):\n",
      " #   Column                                              Non-Null Count  Dtype         \n",
      "---  ------                                              --------------  -----         \n",
      " 0   date                                                14149 non-null  datetime64[ns]\n",
      " 1   final.output.concentrate_ag                         14148 non-null  float64       \n",
      " 2   final.output.concentrate_pb                         14148 non-null  float64       \n",
      " 3   final.output.concentrate_sol                        13938 non-null  float64       \n",
      " 4   final.output.concentrate_au                         14149 non-null  float64       \n",
      " 5   final.output.recovery                               14149 non-null  float64       \n",
      " 6   final.output.tail_ag                                14149 non-null  float64       \n",
      " 7   final.output.tail_pb                                14049 non-null  float64       \n",
      " 8   final.output.tail_sol                               14144 non-null  float64       \n",
      " 9   final.output.tail_au                                14149 non-null  float64       \n",
      " 10  primary_cleaner.input.sulfate                       14129 non-null  float64       \n",
      " 11  primary_cleaner.input.depressant                    14117 non-null  float64       \n",
      " 12  primary_cleaner.input.feed_size                     14149 non-null  float64       \n",
      " 13  primary_cleaner.input.xanthate                      14049 non-null  float64       \n",
      " 14  primary_cleaner.output.concentrate_ag               14149 non-null  float64       \n",
      " 15  primary_cleaner.output.concentrate_pb               14063 non-null  float64       \n",
      " 16  primary_cleaner.output.concentrate_sol              13863 non-null  float64       \n",
      " 17  primary_cleaner.output.concentrate_au               14149 non-null  float64       \n",
      " 18  primary_cleaner.output.tail_ag                      14148 non-null  float64       \n",
      " 19  primary_cleaner.output.tail_pb                      14134 non-null  float64       \n",
      " 20  primary_cleaner.output.tail_sol                     14103 non-null  float64       \n",
      " 21  primary_cleaner.output.tail_au                      14149 non-null  float64       \n",
      " 22  primary_cleaner.state.floatbank8_a_air              14145 non-null  float64       \n",
      " 23  primary_cleaner.state.floatbank8_a_level            14148 non-null  float64       \n",
      " 24  primary_cleaner.state.floatbank8_b_air              14145 non-null  float64       \n",
      " 25  primary_cleaner.state.floatbank8_b_level            14148 non-null  float64       \n",
      " 26  primary_cleaner.state.floatbank8_c_air              14147 non-null  float64       \n",
      " 27  primary_cleaner.state.floatbank8_c_level            14148 non-null  float64       \n",
      " 28  primary_cleaner.state.floatbank8_d_air              14146 non-null  float64       \n",
      " 29  primary_cleaner.state.floatbank8_d_level            14148 non-null  float64       \n",
      " 30  rougher.calculation.sulfate_to_au_concentrate       14148 non-null  float64       \n",
      " 31  rougher.calculation.floatbank10_sulfate_to_au_feed  14148 non-null  float64       \n",
      " 32  rougher.calculation.floatbank11_sulfate_to_au_feed  14148 non-null  float64       \n",
      " 33  rougher.calculation.au_pb_ratio                     14149 non-null  float64       \n",
      " 34  rougher.input.feed_ag                               14149 non-null  float64       \n",
      " 35  rougher.input.feed_pb                               14049 non-null  float64       \n",
      " 36  rougher.input.feed_rate                             14141 non-null  float64       \n",
      " 37  rougher.input.feed_size                             14005 non-null  float64       \n",
      " 38  rougher.input.feed_sol                              14071 non-null  float64       \n",
      " 39  rougher.input.feed_au                               14149 non-null  float64       \n",
      " 40  rougher.input.floatbank10_sulfate                   14120 non-null  float64       \n",
      " 41  rougher.input.floatbank10_xanthate                  14141 non-null  float64       \n",
      " 42  rougher.input.floatbank11_sulfate                   14113 non-null  float64       \n",
      " 43  rougher.input.floatbank11_xanthate                  13721 non-null  float64       \n",
      " 44  rougher.output.concentrate_ag                       14149 non-null  float64       \n",
      " 45  rougher.output.concentrate_pb                       14149 non-null  float64       \n",
      " 46  rougher.output.concentrate_sol                      14127 non-null  float64       \n",
      " 47  rougher.output.concentrate_au                       14149 non-null  float64       \n",
      " 48  rougher.output.recovery                             14149 non-null  float64       \n",
      " 49  rougher.output.tail_ag                              14148 non-null  float64       \n",
      " 50  rougher.output.tail_pb                              14149 non-null  float64       \n",
      " 51  rougher.output.tail_sol                             14149 non-null  float64       \n",
      " 52  rougher.output.tail_au                              14149 non-null  float64       \n",
      " 53  rougher.state.floatbank10_a_air                     14148 non-null  float64       \n",
      " 54  rougher.state.floatbank10_a_level                   14148 non-null  float64       \n",
      " 55  rougher.state.floatbank10_b_air                     14148 non-null  float64       \n",
      " 56  rougher.state.floatbank10_b_level                   14148 non-null  float64       \n",
      " 57  rougher.state.floatbank10_c_air                     14148 non-null  float64       \n",
      " 58  rougher.state.floatbank10_c_level                   14148 non-null  float64       \n",
      " 59  rougher.state.floatbank10_d_air                     14149 non-null  float64       \n",
      " 60  rougher.state.floatbank10_d_level                   14149 non-null  float64       \n",
      " 61  rougher.state.floatbank10_e_air                     13713 non-null  float64       \n",
      " 62  rougher.state.floatbank10_e_level                   14149 non-null  float64       \n",
      " 63  rougher.state.floatbank10_f_air                     14149 non-null  float64       \n",
      " 64  rougher.state.floatbank10_f_level                   14149 non-null  float64       \n",
      " 65  secondary_cleaner.output.tail_ag                    14147 non-null  float64       \n",
      " 66  secondary_cleaner.output.tail_pb                    14139 non-null  float64       \n",
      " 67  secondary_cleaner.output.tail_sol                   12544 non-null  float64       \n",
      " 68  secondary_cleaner.output.tail_au                    14149 non-null  float64       \n",
      " 69  secondary_cleaner.state.floatbank2_a_air            13932 non-null  float64       \n",
      " 70  secondary_cleaner.state.floatbank2_a_level          14148 non-null  float64       \n",
      " 71  secondary_cleaner.state.floatbank2_b_air            14128 non-null  float64       \n",
      " 72  secondary_cleaner.state.floatbank2_b_level          14148 non-null  float64       \n",
      " 73  secondary_cleaner.state.floatbank3_a_air            14145 non-null  float64       \n",
      " 74  secondary_cleaner.state.floatbank3_a_level          14148 non-null  float64       \n",
      " 75  secondary_cleaner.state.floatbank3_b_air            14148 non-null  float64       \n",
      " 76  secondary_cleaner.state.floatbank3_b_level          14148 non-null  float64       \n",
      " 77  secondary_cleaner.state.floatbank4_a_air            14143 non-null  float64       \n",
      " 78  secondary_cleaner.state.floatbank4_a_level          14148 non-null  float64       \n",
      " 79  secondary_cleaner.state.floatbank4_b_air            14148 non-null  float64       \n",
      " 80  secondary_cleaner.state.floatbank4_b_level          14148 non-null  float64       \n",
      " 81  secondary_cleaner.state.floatbank5_a_air            14148 non-null  float64       \n",
      " 82  secondary_cleaner.state.floatbank5_a_level          14148 non-null  float64       \n",
      " 83  secondary_cleaner.state.floatbank5_b_air            14148 non-null  float64       \n",
      " 84  secondary_cleaner.state.floatbank5_b_level          14148 non-null  float64       \n",
      " 85  secondary_cleaner.state.floatbank6_a_air            14147 non-null  float64       \n",
      " 86  secondary_cleaner.state.floatbank6_a_level          14148 non-null  float64       \n",
      "dtypes: datetime64[ns](1), float64(86)\n",
      "memory usage: 9.4 MB\n"
     ]
    }
   ],
   "source": [
    "df_train.info()"
   ]
  },
  {
   "cell_type": "code",
   "execution_count": 11,
   "metadata": {},
   "outputs": [
    {
     "data": {
      "text/plain": [
       "date                                                     0\n",
       "final.output.concentrate_ag                              1\n",
       "final.output.concentrate_pb                              1\n",
       "final.output.concentrate_sol                           211\n",
       "final.output.concentrate_au                              0\n",
       "final.output.recovery                                    0\n",
       "final.output.tail_ag                                     0\n",
       "final.output.tail_pb                                   100\n",
       "final.output.tail_sol                                    5\n",
       "final.output.tail_au                                     0\n",
       "primary_cleaner.input.sulfate                           20\n",
       "primary_cleaner.input.depressant                        32\n",
       "primary_cleaner.input.feed_size                          0\n",
       "primary_cleaner.input.xanthate                         100\n",
       "primary_cleaner.output.concentrate_ag                    0\n",
       "primary_cleaner.output.concentrate_pb                   86\n",
       "primary_cleaner.output.concentrate_sol                 286\n",
       "primary_cleaner.output.concentrate_au                    0\n",
       "primary_cleaner.output.tail_ag                           1\n",
       "primary_cleaner.output.tail_pb                          15\n",
       "primary_cleaner.output.tail_sol                         46\n",
       "primary_cleaner.output.tail_au                           0\n",
       "primary_cleaner.state.floatbank8_a_air                   4\n",
       "primary_cleaner.state.floatbank8_a_level                 1\n",
       "primary_cleaner.state.floatbank8_b_air                   4\n",
       "primary_cleaner.state.floatbank8_b_level                 1\n",
       "primary_cleaner.state.floatbank8_c_air                   2\n",
       "primary_cleaner.state.floatbank8_c_level                 1\n",
       "primary_cleaner.state.floatbank8_d_air                   3\n",
       "primary_cleaner.state.floatbank8_d_level                 1\n",
       "rougher.calculation.sulfate_to_au_concentrate            1\n",
       "rougher.calculation.floatbank10_sulfate_to_au_feed       1\n",
       "rougher.calculation.floatbank11_sulfate_to_au_feed       1\n",
       "rougher.calculation.au_pb_ratio                          0\n",
       "rougher.input.feed_ag                                    0\n",
       "rougher.input.feed_pb                                  100\n",
       "rougher.input.feed_rate                                  8\n",
       "rougher.input.feed_size                                144\n",
       "rougher.input.feed_sol                                  78\n",
       "rougher.input.feed_au                                    0\n",
       "rougher.input.floatbank10_sulfate                       29\n",
       "rougher.input.floatbank10_xanthate                       8\n",
       "rougher.input.floatbank11_sulfate                       36\n",
       "rougher.input.floatbank11_xanthate                     428\n",
       "rougher.output.concentrate_ag                            0\n",
       "rougher.output.concentrate_pb                            0\n",
       "rougher.output.concentrate_sol                          22\n",
       "rougher.output.concentrate_au                            0\n",
       "rougher.output.recovery                                  0\n",
       "rougher.output.tail_ag                                   1\n",
       "rougher.output.tail_pb                                   0\n",
       "rougher.output.tail_sol                                  0\n",
       "rougher.output.tail_au                                   0\n",
       "rougher.state.floatbank10_a_air                          1\n",
       "rougher.state.floatbank10_a_level                        1\n",
       "rougher.state.floatbank10_b_air                          1\n",
       "rougher.state.floatbank10_b_level                        1\n",
       "rougher.state.floatbank10_c_air                          1\n",
       "rougher.state.floatbank10_c_level                        1\n",
       "rougher.state.floatbank10_d_air                          0\n",
       "rougher.state.floatbank10_d_level                        0\n",
       "rougher.state.floatbank10_e_air                        436\n",
       "rougher.state.floatbank10_e_level                        0\n",
       "rougher.state.floatbank10_f_air                          0\n",
       "rougher.state.floatbank10_f_level                        0\n",
       "secondary_cleaner.output.tail_ag                         2\n",
       "secondary_cleaner.output.tail_pb                        10\n",
       "secondary_cleaner.output.tail_sol                     1605\n",
       "secondary_cleaner.output.tail_au                         0\n",
       "secondary_cleaner.state.floatbank2_a_air               217\n",
       "secondary_cleaner.state.floatbank2_a_level               1\n",
       "secondary_cleaner.state.floatbank2_b_air                21\n",
       "secondary_cleaner.state.floatbank2_b_level               1\n",
       "secondary_cleaner.state.floatbank3_a_air                 4\n",
       "secondary_cleaner.state.floatbank3_a_level               1\n",
       "secondary_cleaner.state.floatbank3_b_air                 1\n",
       "secondary_cleaner.state.floatbank3_b_level               1\n",
       "secondary_cleaner.state.floatbank4_a_air                 6\n",
       "secondary_cleaner.state.floatbank4_a_level               1\n",
       "secondary_cleaner.state.floatbank4_b_air                 1\n",
       "secondary_cleaner.state.floatbank4_b_level               1\n",
       "secondary_cleaner.state.floatbank5_a_air                 1\n",
       "secondary_cleaner.state.floatbank5_a_level               1\n",
       "secondary_cleaner.state.floatbank5_b_air                 1\n",
       "secondary_cleaner.state.floatbank5_b_level               1\n",
       "secondary_cleaner.state.floatbank6_a_air                 2\n",
       "secondary_cleaner.state.floatbank6_a_level               1\n",
       "dtype: int64"
      ]
     },
     "execution_count": 11,
     "metadata": {},
     "output_type": "execute_result"
    }
   ],
   "source": [
    "df_train.isna().sum()"
   ]
  },
  {
   "cell_type": "code",
   "execution_count": 12,
   "metadata": {},
   "outputs": [
    {
     "data": {
      "text/html": [
       "<div>\n",
       "<style scoped>\n",
       "    .dataframe tbody tr th:only-of-type {\n",
       "        vertical-align: middle;\n",
       "    }\n",
       "\n",
       "    .dataframe tbody tr th {\n",
       "        vertical-align: top;\n",
       "    }\n",
       "\n",
       "    .dataframe thead th {\n",
       "        text-align: right;\n",
       "    }\n",
       "</style>\n",
       "<table border=\"1\" class=\"dataframe\">\n",
       "  <thead>\n",
       "    <tr style=\"text-align: right;\">\n",
       "      <th></th>\n",
       "      <th>final.output.concentrate_ag</th>\n",
       "      <th>final.output.concentrate_pb</th>\n",
       "      <th>final.output.concentrate_sol</th>\n",
       "      <th>final.output.concentrate_au</th>\n",
       "      <th>final.output.recovery</th>\n",
       "      <th>final.output.tail_ag</th>\n",
       "      <th>final.output.tail_pb</th>\n",
       "      <th>final.output.tail_sol</th>\n",
       "      <th>final.output.tail_au</th>\n",
       "      <th>primary_cleaner.input.sulfate</th>\n",
       "      <th>...</th>\n",
       "      <th>secondary_cleaner.state.floatbank4_a_air</th>\n",
       "      <th>secondary_cleaner.state.floatbank4_a_level</th>\n",
       "      <th>secondary_cleaner.state.floatbank4_b_air</th>\n",
       "      <th>secondary_cleaner.state.floatbank4_b_level</th>\n",
       "      <th>secondary_cleaner.state.floatbank5_a_air</th>\n",
       "      <th>secondary_cleaner.state.floatbank5_a_level</th>\n",
       "      <th>secondary_cleaner.state.floatbank5_b_air</th>\n",
       "      <th>secondary_cleaner.state.floatbank5_b_level</th>\n",
       "      <th>secondary_cleaner.state.floatbank6_a_air</th>\n",
       "      <th>secondary_cleaner.state.floatbank6_a_level</th>\n",
       "    </tr>\n",
       "  </thead>\n",
       "  <tbody>\n",
       "    <tr>\n",
       "      <th>count</th>\n",
       "      <td>14148.000000</td>\n",
       "      <td>14148.000000</td>\n",
       "      <td>13938.000000</td>\n",
       "      <td>14149.000000</td>\n",
       "      <td>14149.000000</td>\n",
       "      <td>14149.000000</td>\n",
       "      <td>14049.000000</td>\n",
       "      <td>14144.000000</td>\n",
       "      <td>14149.000000</td>\n",
       "      <td>14129.000000</td>\n",
       "      <td>...</td>\n",
       "      <td>14143.000000</td>\n",
       "      <td>14148.000000</td>\n",
       "      <td>14148.000000</td>\n",
       "      <td>14148.000000</td>\n",
       "      <td>14148.000000</td>\n",
       "      <td>14148.000000</td>\n",
       "      <td>14148.000000</td>\n",
       "      <td>14148.000000</td>\n",
       "      <td>14147.000000</td>\n",
       "      <td>14148.000000</td>\n",
       "    </tr>\n",
       "    <tr>\n",
       "      <th>mean</th>\n",
       "      <td>5.142034</td>\n",
       "      <td>10.132960</td>\n",
       "      <td>9.202849</td>\n",
       "      <td>44.003792</td>\n",
       "      <td>66.518832</td>\n",
       "      <td>9.607035</td>\n",
       "      <td>2.597298</td>\n",
       "      <td>10.512122</td>\n",
       "      <td>2.918421</td>\n",
       "      <td>133.320659</td>\n",
       "      <td>...</td>\n",
       "      <td>19.985454</td>\n",
       "      <td>-478.696836</td>\n",
       "      <td>15.487065</td>\n",
       "      <td>-460.229416</td>\n",
       "      <td>16.775136</td>\n",
       "      <td>-483.956022</td>\n",
       "      <td>13.064590</td>\n",
       "      <td>-483.966564</td>\n",
       "      <td>19.577539</td>\n",
       "      <td>-506.798480</td>\n",
       "    </tr>\n",
       "    <tr>\n",
       "      <th>std</th>\n",
       "      <td>1.369586</td>\n",
       "      <td>1.654930</td>\n",
       "      <td>2.790516</td>\n",
       "      <td>4.905261</td>\n",
       "      <td>10.295402</td>\n",
       "      <td>2.319069</td>\n",
       "      <td>0.971843</td>\n",
       "      <td>3.003617</td>\n",
       "      <td>0.903712</td>\n",
       "      <td>39.431659</td>\n",
       "      <td>...</td>\n",
       "      <td>5.657723</td>\n",
       "      <td>50.736021</td>\n",
       "      <td>5.255655</td>\n",
       "      <td>58.843586</td>\n",
       "      <td>5.831906</td>\n",
       "      <td>37.892788</td>\n",
       "      <td>5.765617</td>\n",
       "      <td>39.207913</td>\n",
       "      <td>5.764417</td>\n",
       "      <td>37.079249</td>\n",
       "    </tr>\n",
       "    <tr>\n",
       "      <th>min</th>\n",
       "      <td>0.000000</td>\n",
       "      <td>0.000000</td>\n",
       "      <td>0.000000</td>\n",
       "      <td>0.000000</td>\n",
       "      <td>0.000000</td>\n",
       "      <td>0.000000</td>\n",
       "      <td>0.000000</td>\n",
       "      <td>0.000000</td>\n",
       "      <td>0.000000</td>\n",
       "      <td>0.003112</td>\n",
       "      <td>...</td>\n",
       "      <td>0.000000</td>\n",
       "      <td>-799.709069</td>\n",
       "      <td>0.000000</td>\n",
       "      <td>-799.889113</td>\n",
       "      <td>-0.372054</td>\n",
       "      <td>-797.142475</td>\n",
       "      <td>0.646208</td>\n",
       "      <td>-800.006180</td>\n",
       "      <td>0.195324</td>\n",
       "      <td>-809.398668</td>\n",
       "    </tr>\n",
       "    <tr>\n",
       "      <th>25%</th>\n",
       "      <td>4.211620</td>\n",
       "      <td>9.297355</td>\n",
       "      <td>7.484645</td>\n",
       "      <td>43.276111</td>\n",
       "      <td>62.545817</td>\n",
       "      <td>7.997429</td>\n",
       "      <td>1.905973</td>\n",
       "      <td>8.811324</td>\n",
       "      <td>2.368607</td>\n",
       "      <td>107.006651</td>\n",
       "      <td>...</td>\n",
       "      <td>14.990775</td>\n",
       "      <td>-500.628656</td>\n",
       "      <td>11.894558</td>\n",
       "      <td>-500.149000</td>\n",
       "      <td>11.083980</td>\n",
       "      <td>-500.363177</td>\n",
       "      <td>8.994405</td>\n",
       "      <td>-500.105994</td>\n",
       "      <td>14.989304</td>\n",
       "      <td>-500.745104</td>\n",
       "    </tr>\n",
       "    <tr>\n",
       "      <th>50%</th>\n",
       "      <td>4.994652</td>\n",
       "      <td>10.297144</td>\n",
       "      <td>8.845462</td>\n",
       "      <td>44.872436</td>\n",
       "      <td>67.432775</td>\n",
       "      <td>9.480270</td>\n",
       "      <td>2.592022</td>\n",
       "      <td>10.514621</td>\n",
       "      <td>2.851025</td>\n",
       "      <td>133.018328</td>\n",
       "      <td>...</td>\n",
       "      <td>20.001789</td>\n",
       "      <td>-499.681450</td>\n",
       "      <td>14.975536</td>\n",
       "      <td>-499.388738</td>\n",
       "      <td>17.932223</td>\n",
       "      <td>-499.702452</td>\n",
       "      <td>11.997547</td>\n",
       "      <td>-499.914556</td>\n",
       "      <td>19.984175</td>\n",
       "      <td>-500.061431</td>\n",
       "    </tr>\n",
       "    <tr>\n",
       "      <th>75%</th>\n",
       "      <td>5.859540</td>\n",
       "      <td>11.170603</td>\n",
       "      <td>10.487508</td>\n",
       "      <td>46.166425</td>\n",
       "      <td>72.346428</td>\n",
       "      <td>11.003707</td>\n",
       "      <td>3.241723</td>\n",
       "      <td>11.933009</td>\n",
       "      <td>3.434764</td>\n",
       "      <td>159.825396</td>\n",
       "      <td>...</td>\n",
       "      <td>24.990826</td>\n",
       "      <td>-477.472413</td>\n",
       "      <td>20.059375</td>\n",
       "      <td>-400.039008</td>\n",
       "      <td>21.346550</td>\n",
       "      <td>-487.712108</td>\n",
       "      <td>17.982903</td>\n",
       "      <td>-453.186936</td>\n",
       "      <td>24.991623</td>\n",
       "      <td>-499.536466</td>\n",
       "    </tr>\n",
       "    <tr>\n",
       "      <th>max</th>\n",
       "      <td>16.001945</td>\n",
       "      <td>17.031899</td>\n",
       "      <td>18.124851</td>\n",
       "      <td>52.756638</td>\n",
       "      <td>100.000000</td>\n",
       "      <td>19.552149</td>\n",
       "      <td>5.639565</td>\n",
       "      <td>22.317730</td>\n",
       "      <td>8.197408</td>\n",
       "      <td>250.127834</td>\n",
       "      <td>...</td>\n",
       "      <td>30.115735</td>\n",
       "      <td>-245.239184</td>\n",
       "      <td>24.007913</td>\n",
       "      <td>-145.071088</td>\n",
       "      <td>43.709931</td>\n",
       "      <td>-275.073125</td>\n",
       "      <td>27.926001</td>\n",
       "      <td>-157.396071</td>\n",
       "      <td>32.188906</td>\n",
       "      <td>-104.427459</td>\n",
       "    </tr>\n",
       "  </tbody>\n",
       "</table>\n",
       "<p>8 rows × 86 columns</p>\n",
       "</div>"
      ],
      "text/plain": [
       "       final.output.concentrate_ag  final.output.concentrate_pb  \\\n",
       "count                 14148.000000                 14148.000000   \n",
       "mean                      5.142034                    10.132960   \n",
       "std                       1.369586                     1.654930   \n",
       "min                       0.000000                     0.000000   \n",
       "25%                       4.211620                     9.297355   \n",
       "50%                       4.994652                    10.297144   \n",
       "75%                       5.859540                    11.170603   \n",
       "max                      16.001945                    17.031899   \n",
       "\n",
       "       final.output.concentrate_sol  final.output.concentrate_au  \\\n",
       "count                  13938.000000                 14149.000000   \n",
       "mean                       9.202849                    44.003792   \n",
       "std                        2.790516                     4.905261   \n",
       "min                        0.000000                     0.000000   \n",
       "25%                        7.484645                    43.276111   \n",
       "50%                        8.845462                    44.872436   \n",
       "75%                       10.487508                    46.166425   \n",
       "max                       18.124851                    52.756638   \n",
       "\n",
       "       final.output.recovery  final.output.tail_ag  final.output.tail_pb  \\\n",
       "count           14149.000000          14149.000000          14049.000000   \n",
       "mean               66.518832              9.607035              2.597298   \n",
       "std                10.295402              2.319069              0.971843   \n",
       "min                 0.000000              0.000000              0.000000   \n",
       "25%                62.545817              7.997429              1.905973   \n",
       "50%                67.432775              9.480270              2.592022   \n",
       "75%                72.346428             11.003707              3.241723   \n",
       "max               100.000000             19.552149              5.639565   \n",
       "\n",
       "       final.output.tail_sol  final.output.tail_au  \\\n",
       "count           14144.000000          14149.000000   \n",
       "mean               10.512122              2.918421   \n",
       "std                 3.003617              0.903712   \n",
       "min                 0.000000              0.000000   \n",
       "25%                 8.811324              2.368607   \n",
       "50%                10.514621              2.851025   \n",
       "75%                11.933009              3.434764   \n",
       "max                22.317730              8.197408   \n",
       "\n",
       "       primary_cleaner.input.sulfate  ...  \\\n",
       "count                   14129.000000  ...   \n",
       "mean                      133.320659  ...   \n",
       "std                        39.431659  ...   \n",
       "min                         0.003112  ...   \n",
       "25%                       107.006651  ...   \n",
       "50%                       133.018328  ...   \n",
       "75%                       159.825396  ...   \n",
       "max                       250.127834  ...   \n",
       "\n",
       "       secondary_cleaner.state.floatbank4_a_air  \\\n",
       "count                              14143.000000   \n",
       "mean                                  19.985454   \n",
       "std                                    5.657723   \n",
       "min                                    0.000000   \n",
       "25%                                   14.990775   \n",
       "50%                                   20.001789   \n",
       "75%                                   24.990826   \n",
       "max                                   30.115735   \n",
       "\n",
       "       secondary_cleaner.state.floatbank4_a_level  \\\n",
       "count                                14148.000000   \n",
       "mean                                  -478.696836   \n",
       "std                                     50.736021   \n",
       "min                                   -799.709069   \n",
       "25%                                   -500.628656   \n",
       "50%                                   -499.681450   \n",
       "75%                                   -477.472413   \n",
       "max                                   -245.239184   \n",
       "\n",
       "       secondary_cleaner.state.floatbank4_b_air  \\\n",
       "count                              14148.000000   \n",
       "mean                                  15.487065   \n",
       "std                                    5.255655   \n",
       "min                                    0.000000   \n",
       "25%                                   11.894558   \n",
       "50%                                   14.975536   \n",
       "75%                                   20.059375   \n",
       "max                                   24.007913   \n",
       "\n",
       "       secondary_cleaner.state.floatbank4_b_level  \\\n",
       "count                                14148.000000   \n",
       "mean                                  -460.229416   \n",
       "std                                     58.843586   \n",
       "min                                   -799.889113   \n",
       "25%                                   -500.149000   \n",
       "50%                                   -499.388738   \n",
       "75%                                   -400.039008   \n",
       "max                                   -145.071088   \n",
       "\n",
       "       secondary_cleaner.state.floatbank5_a_air  \\\n",
       "count                              14148.000000   \n",
       "mean                                  16.775136   \n",
       "std                                    5.831906   \n",
       "min                                   -0.372054   \n",
       "25%                                   11.083980   \n",
       "50%                                   17.932223   \n",
       "75%                                   21.346550   \n",
       "max                                   43.709931   \n",
       "\n",
       "       secondary_cleaner.state.floatbank5_a_level  \\\n",
       "count                                14148.000000   \n",
       "mean                                  -483.956022   \n",
       "std                                     37.892788   \n",
       "min                                   -797.142475   \n",
       "25%                                   -500.363177   \n",
       "50%                                   -499.702452   \n",
       "75%                                   -487.712108   \n",
       "max                                   -275.073125   \n",
       "\n",
       "       secondary_cleaner.state.floatbank5_b_air  \\\n",
       "count                              14148.000000   \n",
       "mean                                  13.064590   \n",
       "std                                    5.765617   \n",
       "min                                    0.646208   \n",
       "25%                                    8.994405   \n",
       "50%                                   11.997547   \n",
       "75%                                   17.982903   \n",
       "max                                   27.926001   \n",
       "\n",
       "       secondary_cleaner.state.floatbank5_b_level  \\\n",
       "count                                14148.000000   \n",
       "mean                                  -483.966564   \n",
       "std                                     39.207913   \n",
       "min                                   -800.006180   \n",
       "25%                                   -500.105994   \n",
       "50%                                   -499.914556   \n",
       "75%                                   -453.186936   \n",
       "max                                   -157.396071   \n",
       "\n",
       "       secondary_cleaner.state.floatbank6_a_air  \\\n",
       "count                              14147.000000   \n",
       "mean                                  19.577539   \n",
       "std                                    5.764417   \n",
       "min                                    0.195324   \n",
       "25%                                   14.989304   \n",
       "50%                                   19.984175   \n",
       "75%                                   24.991623   \n",
       "max                                   32.188906   \n",
       "\n",
       "       secondary_cleaner.state.floatbank6_a_level  \n",
       "count                                14148.000000  \n",
       "mean                                  -506.798480  \n",
       "std                                     37.079249  \n",
       "min                                   -809.398668  \n",
       "25%                                   -500.745104  \n",
       "50%                                   -500.061431  \n",
       "75%                                   -499.536466  \n",
       "max                                   -104.427459  \n",
       "\n",
       "[8 rows x 86 columns]"
      ]
     },
     "execution_count": 12,
     "metadata": {},
     "output_type": "execute_result"
    }
   ],
   "source": [
    "df_train.describe()"
   ]
  },
  {
   "cell_type": "code",
   "execution_count": 13,
   "metadata": {},
   "outputs": [
    {
     "name": "stdout",
     "output_type": "stream",
     "text": [
      "<class 'pandas.core.frame.DataFrame'>\n",
      "RangeIndex: 5290 entries, 0 to 5289\n",
      "Data columns (total 53 columns):\n",
      " #   Column                                      Non-Null Count  Dtype         \n",
      "---  ------                                      --------------  -----         \n",
      " 0   date                                        5290 non-null   datetime64[ns]\n",
      " 1   primary_cleaner.input.sulfate               5286 non-null   float64       \n",
      " 2   primary_cleaner.input.depressant            5285 non-null   float64       \n",
      " 3   primary_cleaner.input.feed_size             5290 non-null   float64       \n",
      " 4   primary_cleaner.input.xanthate              5286 non-null   float64       \n",
      " 5   primary_cleaner.state.floatbank8_a_air      5290 non-null   float64       \n",
      " 6   primary_cleaner.state.floatbank8_a_level    5290 non-null   float64       \n",
      " 7   primary_cleaner.state.floatbank8_b_air      5290 non-null   float64       \n",
      " 8   primary_cleaner.state.floatbank8_b_level    5290 non-null   float64       \n",
      " 9   primary_cleaner.state.floatbank8_c_air      5290 non-null   float64       \n",
      " 10  primary_cleaner.state.floatbank8_c_level    5290 non-null   float64       \n",
      " 11  primary_cleaner.state.floatbank8_d_air      5290 non-null   float64       \n",
      " 12  primary_cleaner.state.floatbank8_d_level    5290 non-null   float64       \n",
      " 13  rougher.input.feed_ag                       5290 non-null   float64       \n",
      " 14  rougher.input.feed_pb                       5290 non-null   float64       \n",
      " 15  rougher.input.feed_rate                     5287 non-null   float64       \n",
      " 16  rougher.input.feed_size                     5289 non-null   float64       \n",
      " 17  rougher.input.feed_sol                      5269 non-null   float64       \n",
      " 18  rougher.input.feed_au                       5290 non-null   float64       \n",
      " 19  rougher.input.floatbank10_sulfate           5285 non-null   float64       \n",
      " 20  rougher.input.floatbank10_xanthate          5290 non-null   float64       \n",
      " 21  rougher.input.floatbank11_sulfate           5282 non-null   float64       \n",
      " 22  rougher.input.floatbank11_xanthate          5265 non-null   float64       \n",
      " 23  rougher.state.floatbank10_a_air             5290 non-null   float64       \n",
      " 24  rougher.state.floatbank10_a_level           5290 non-null   float64       \n",
      " 25  rougher.state.floatbank10_b_air             5290 non-null   float64       \n",
      " 26  rougher.state.floatbank10_b_level           5290 non-null   float64       \n",
      " 27  rougher.state.floatbank10_c_air             5290 non-null   float64       \n",
      " 28  rougher.state.floatbank10_c_level           5290 non-null   float64       \n",
      " 29  rougher.state.floatbank10_d_air             5290 non-null   float64       \n",
      " 30  rougher.state.floatbank10_d_level           5290 non-null   float64       \n",
      " 31  rougher.state.floatbank10_e_air             5290 non-null   float64       \n",
      " 32  rougher.state.floatbank10_e_level           5290 non-null   float64       \n",
      " 33  rougher.state.floatbank10_f_air             5290 non-null   float64       \n",
      " 34  rougher.state.floatbank10_f_level           5290 non-null   float64       \n",
      " 35  secondary_cleaner.state.floatbank2_a_air    5287 non-null   float64       \n",
      " 36  secondary_cleaner.state.floatbank2_a_level  5290 non-null   float64       \n",
      " 37  secondary_cleaner.state.floatbank2_b_air    5288 non-null   float64       \n",
      " 38  secondary_cleaner.state.floatbank2_b_level  5290 non-null   float64       \n",
      " 39  secondary_cleaner.state.floatbank3_a_air    5281 non-null   float64       \n",
      " 40  secondary_cleaner.state.floatbank3_a_level  5290 non-null   float64       \n",
      " 41  secondary_cleaner.state.floatbank3_b_air    5290 non-null   float64       \n",
      " 42  secondary_cleaner.state.floatbank3_b_level  5290 non-null   float64       \n",
      " 43  secondary_cleaner.state.floatbank4_a_air    5290 non-null   float64       \n",
      " 44  secondary_cleaner.state.floatbank4_a_level  5290 non-null   float64       \n",
      " 45  secondary_cleaner.state.floatbank4_b_air    5290 non-null   float64       \n",
      " 46  secondary_cleaner.state.floatbank4_b_level  5290 non-null   float64       \n",
      " 47  secondary_cleaner.state.floatbank5_a_air    5290 non-null   float64       \n",
      " 48  secondary_cleaner.state.floatbank5_a_level  5290 non-null   float64       \n",
      " 49  secondary_cleaner.state.floatbank5_b_air    5290 non-null   float64       \n",
      " 50  secondary_cleaner.state.floatbank5_b_level  5290 non-null   float64       \n",
      " 51  secondary_cleaner.state.floatbank6_a_air    5290 non-null   float64       \n",
      " 52  secondary_cleaner.state.floatbank6_a_level  5290 non-null   float64       \n",
      "dtypes: datetime64[ns](1), float64(52)\n",
      "memory usage: 2.1 MB\n"
     ]
    }
   ],
   "source": [
    "df_test.info()"
   ]
  },
  {
   "cell_type": "code",
   "execution_count": 14,
   "metadata": {},
   "outputs": [
    {
     "data": {
      "text/plain": [
       "date                                           0\n",
       "primary_cleaner.input.sulfate                  4\n",
       "primary_cleaner.input.depressant               5\n",
       "primary_cleaner.input.feed_size                0\n",
       "primary_cleaner.input.xanthate                 4\n",
       "primary_cleaner.state.floatbank8_a_air         0\n",
       "primary_cleaner.state.floatbank8_a_level       0\n",
       "primary_cleaner.state.floatbank8_b_air         0\n",
       "primary_cleaner.state.floatbank8_b_level       0\n",
       "primary_cleaner.state.floatbank8_c_air         0\n",
       "primary_cleaner.state.floatbank8_c_level       0\n",
       "primary_cleaner.state.floatbank8_d_air         0\n",
       "primary_cleaner.state.floatbank8_d_level       0\n",
       "rougher.input.feed_ag                          0\n",
       "rougher.input.feed_pb                          0\n",
       "rougher.input.feed_rate                        3\n",
       "rougher.input.feed_size                        1\n",
       "rougher.input.feed_sol                        21\n",
       "rougher.input.feed_au                          0\n",
       "rougher.input.floatbank10_sulfate              5\n",
       "rougher.input.floatbank10_xanthate             0\n",
       "rougher.input.floatbank11_sulfate              8\n",
       "rougher.input.floatbank11_xanthate            25\n",
       "rougher.state.floatbank10_a_air                0\n",
       "rougher.state.floatbank10_a_level              0\n",
       "rougher.state.floatbank10_b_air                0\n",
       "rougher.state.floatbank10_b_level              0\n",
       "rougher.state.floatbank10_c_air                0\n",
       "rougher.state.floatbank10_c_level              0\n",
       "rougher.state.floatbank10_d_air                0\n",
       "rougher.state.floatbank10_d_level              0\n",
       "rougher.state.floatbank10_e_air                0\n",
       "rougher.state.floatbank10_e_level              0\n",
       "rougher.state.floatbank10_f_air                0\n",
       "rougher.state.floatbank10_f_level              0\n",
       "secondary_cleaner.state.floatbank2_a_air       3\n",
       "secondary_cleaner.state.floatbank2_a_level     0\n",
       "secondary_cleaner.state.floatbank2_b_air       2\n",
       "secondary_cleaner.state.floatbank2_b_level     0\n",
       "secondary_cleaner.state.floatbank3_a_air       9\n",
       "secondary_cleaner.state.floatbank3_a_level     0\n",
       "secondary_cleaner.state.floatbank3_b_air       0\n",
       "secondary_cleaner.state.floatbank3_b_level     0\n",
       "secondary_cleaner.state.floatbank4_a_air       0\n",
       "secondary_cleaner.state.floatbank4_a_level     0\n",
       "secondary_cleaner.state.floatbank4_b_air       0\n",
       "secondary_cleaner.state.floatbank4_b_level     0\n",
       "secondary_cleaner.state.floatbank5_a_air       0\n",
       "secondary_cleaner.state.floatbank5_a_level     0\n",
       "secondary_cleaner.state.floatbank5_b_air       0\n",
       "secondary_cleaner.state.floatbank5_b_level     0\n",
       "secondary_cleaner.state.floatbank6_a_air       0\n",
       "secondary_cleaner.state.floatbank6_a_level     0\n",
       "dtype: int64"
      ]
     },
     "execution_count": 14,
     "metadata": {},
     "output_type": "execute_result"
    }
   ],
   "source": [
    "df_test.isna().sum()"
   ]
  },
  {
   "cell_type": "code",
   "execution_count": 15,
   "metadata": {},
   "outputs": [
    {
     "data": {
      "text/html": [
       "<div>\n",
       "<style scoped>\n",
       "    .dataframe tbody tr th:only-of-type {\n",
       "        vertical-align: middle;\n",
       "    }\n",
       "\n",
       "    .dataframe tbody tr th {\n",
       "        vertical-align: top;\n",
       "    }\n",
       "\n",
       "    .dataframe thead th {\n",
       "        text-align: right;\n",
       "    }\n",
       "</style>\n",
       "<table border=\"1\" class=\"dataframe\">\n",
       "  <thead>\n",
       "    <tr style=\"text-align: right;\">\n",
       "      <th></th>\n",
       "      <th>primary_cleaner.input.sulfate</th>\n",
       "      <th>primary_cleaner.input.depressant</th>\n",
       "      <th>primary_cleaner.input.feed_size</th>\n",
       "      <th>primary_cleaner.input.xanthate</th>\n",
       "      <th>primary_cleaner.state.floatbank8_a_air</th>\n",
       "      <th>primary_cleaner.state.floatbank8_a_level</th>\n",
       "      <th>primary_cleaner.state.floatbank8_b_air</th>\n",
       "      <th>primary_cleaner.state.floatbank8_b_level</th>\n",
       "      <th>primary_cleaner.state.floatbank8_c_air</th>\n",
       "      <th>primary_cleaner.state.floatbank8_c_level</th>\n",
       "      <th>...</th>\n",
       "      <th>secondary_cleaner.state.floatbank4_a_air</th>\n",
       "      <th>secondary_cleaner.state.floatbank4_a_level</th>\n",
       "      <th>secondary_cleaner.state.floatbank4_b_air</th>\n",
       "      <th>secondary_cleaner.state.floatbank4_b_level</th>\n",
       "      <th>secondary_cleaner.state.floatbank5_a_air</th>\n",
       "      <th>secondary_cleaner.state.floatbank5_a_level</th>\n",
       "      <th>secondary_cleaner.state.floatbank5_b_air</th>\n",
       "      <th>secondary_cleaner.state.floatbank5_b_level</th>\n",
       "      <th>secondary_cleaner.state.floatbank6_a_air</th>\n",
       "      <th>secondary_cleaner.state.floatbank6_a_level</th>\n",
       "    </tr>\n",
       "  </thead>\n",
       "  <tbody>\n",
       "    <tr>\n",
       "      <th>count</th>\n",
       "      <td>5286.000000</td>\n",
       "      <td>5285.000000</td>\n",
       "      <td>5290.000000</td>\n",
       "      <td>5286.000000</td>\n",
       "      <td>5.290000e+03</td>\n",
       "      <td>5290.000000</td>\n",
       "      <td>5.290000e+03</td>\n",
       "      <td>5290.000000</td>\n",
       "      <td>5.290000e+03</td>\n",
       "      <td>5290.000000</td>\n",
       "      <td>...</td>\n",
       "      <td>5.290000e+03</td>\n",
       "      <td>5290.000000</td>\n",
       "      <td>5.290000e+03</td>\n",
       "      <td>5290.000000</td>\n",
       "      <td>5290.000000</td>\n",
       "      <td>5290.000000</td>\n",
       "      <td>5290.000000</td>\n",
       "      <td>5290.000000</td>\n",
       "      <td>5290.000000</td>\n",
       "      <td>5290.000000</td>\n",
       "    </tr>\n",
       "    <tr>\n",
       "      <th>mean</th>\n",
       "      <td>174.839652</td>\n",
       "      <td>8.683596</td>\n",
       "      <td>7.266339</td>\n",
       "      <td>1.383803</td>\n",
       "      <td>1.539494e+03</td>\n",
       "      <td>-497.665883</td>\n",
       "      <td>1.545174e+03</td>\n",
       "      <td>-500.273098</td>\n",
       "      <td>1.527272e+03</td>\n",
       "      <td>-498.330680</td>\n",
       "      <td>...</td>\n",
       "      <td>1.632007e+01</td>\n",
       "      <td>-505.144570</td>\n",
       "      <td>1.373544e+01</td>\n",
       "      <td>-463.349858</td>\n",
       "      <td>12.804186</td>\n",
       "      <td>-501.329122</td>\n",
       "      <td>9.881145</td>\n",
       "      <td>-495.663398</td>\n",
       "      <td>17.304935</td>\n",
       "      <td>-501.793193</td>\n",
       "    </tr>\n",
       "    <tr>\n",
       "      <th>std</th>\n",
       "      <td>43.027080</td>\n",
       "      <td>3.072050</td>\n",
       "      <td>0.610219</td>\n",
       "      <td>0.643474</td>\n",
       "      <td>1.167979e+02</td>\n",
       "      <td>19.952431</td>\n",
       "      <td>1.222246e+02</td>\n",
       "      <td>32.968307</td>\n",
       "      <td>1.225380e+02</td>\n",
       "      <td>21.964876</td>\n",
       "      <td>...</td>\n",
       "      <td>3.493583e+00</td>\n",
       "      <td>31.427337</td>\n",
       "      <td>3.430484e+00</td>\n",
       "      <td>86.189107</td>\n",
       "      <td>3.026591</td>\n",
       "      <td>17.951495</td>\n",
       "      <td>2.868205</td>\n",
       "      <td>34.535007</td>\n",
       "      <td>4.536544</td>\n",
       "      <td>39.044215</td>\n",
       "    </tr>\n",
       "    <tr>\n",
       "      <th>min</th>\n",
       "      <td>2.566156</td>\n",
       "      <td>0.003839</td>\n",
       "      <td>5.650000</td>\n",
       "      <td>0.004984</td>\n",
       "      <td>5.445860e-32</td>\n",
       "      <td>-795.316337</td>\n",
       "      <td>6.647490e-32</td>\n",
       "      <td>-799.997015</td>\n",
       "      <td>4.033736e-32</td>\n",
       "      <td>-799.960571</td>\n",
       "      <td>...</td>\n",
       "      <td>1.079872e-16</td>\n",
       "      <td>-799.798523</td>\n",
       "      <td>2.489718e-17</td>\n",
       "      <td>-800.836914</td>\n",
       "      <td>0.069227</td>\n",
       "      <td>-797.323986</td>\n",
       "      <td>0.528083</td>\n",
       "      <td>-800.220337</td>\n",
       "      <td>-0.079426</td>\n",
       "      <td>-809.741464</td>\n",
       "    </tr>\n",
       "    <tr>\n",
       "      <th>25%</th>\n",
       "      <td>147.121401</td>\n",
       "      <td>6.489555</td>\n",
       "      <td>6.890000</td>\n",
       "      <td>0.907623</td>\n",
       "      <td>1.498936e+03</td>\n",
       "      <td>-500.357298</td>\n",
       "      <td>1.498971e+03</td>\n",
       "      <td>-500.703002</td>\n",
       "      <td>1.473230e+03</td>\n",
       "      <td>-501.018117</td>\n",
       "      <td>...</td>\n",
       "      <td>1.403618e+01</td>\n",
       "      <td>-500.868258</td>\n",
       "      <td>1.202862e+01</td>\n",
       "      <td>-500.323028</td>\n",
       "      <td>10.914838</td>\n",
       "      <td>-500.726841</td>\n",
       "      <td>8.036719</td>\n",
       "      <td>-500.194668</td>\n",
       "      <td>13.997317</td>\n",
       "      <td>-500.690984</td>\n",
       "    </tr>\n",
       "    <tr>\n",
       "      <th>50%</th>\n",
       "      <td>177.828489</td>\n",
       "      <td>8.052207</td>\n",
       "      <td>7.250000</td>\n",
       "      <td>1.197610</td>\n",
       "      <td>1.585129e+03</td>\n",
       "      <td>-499.969164</td>\n",
       "      <td>1.595622e+03</td>\n",
       "      <td>-500.028514</td>\n",
       "      <td>1.549595e+03</td>\n",
       "      <td>-500.017711</td>\n",
       "      <td>...</td>\n",
       "      <td>1.700847e+01</td>\n",
       "      <td>-500.115727</td>\n",
       "      <td>1.496486e+01</td>\n",
       "      <td>-499.576513</td>\n",
       "      <td>12.954182</td>\n",
       "      <td>-499.990332</td>\n",
       "      <td>10.004301</td>\n",
       "      <td>-499.990535</td>\n",
       "      <td>16.014935</td>\n",
       "      <td>-500.007126</td>\n",
       "    </tr>\n",
       "    <tr>\n",
       "      <th>75%</th>\n",
       "      <td>208.125438</td>\n",
       "      <td>10.027764</td>\n",
       "      <td>7.600000</td>\n",
       "      <td>1.797819</td>\n",
       "      <td>1.602077e+03</td>\n",
       "      <td>-499.568951</td>\n",
       "      <td>1.602324e+03</td>\n",
       "      <td>-499.293257</td>\n",
       "      <td>1.601144e+03</td>\n",
       "      <td>-498.994130</td>\n",
       "      <td>...</td>\n",
       "      <td>1.803862e+01</td>\n",
       "      <td>-499.404224</td>\n",
       "      <td>1.596213e+01</td>\n",
       "      <td>-400.933805</td>\n",
       "      <td>15.097528</td>\n",
       "      <td>-499.283191</td>\n",
       "      <td>11.997467</td>\n",
       "      <td>-499.719913</td>\n",
       "      <td>21.020013</td>\n",
       "      <td>-499.373018</td>\n",
       "    </tr>\n",
       "    <tr>\n",
       "      <th>max</th>\n",
       "      <td>265.983123</td>\n",
       "      <td>40.000000</td>\n",
       "      <td>15.500000</td>\n",
       "      <td>4.102454</td>\n",
       "      <td>2.103104e+03</td>\n",
       "      <td>-57.195404</td>\n",
       "      <td>1.813084e+03</td>\n",
       "      <td>-142.527229</td>\n",
       "      <td>1.715054e+03</td>\n",
       "      <td>-150.937035</td>\n",
       "      <td>...</td>\n",
       "      <td>3.005180e+01</td>\n",
       "      <td>-401.565212</td>\n",
       "      <td>3.126971e+01</td>\n",
       "      <td>-6.506986</td>\n",
       "      <td>25.258848</td>\n",
       "      <td>-244.483566</td>\n",
       "      <td>14.086866</td>\n",
       "      <td>-137.740004</td>\n",
       "      <td>26.705889</td>\n",
       "      <td>-123.307487</td>\n",
       "    </tr>\n",
       "  </tbody>\n",
       "</table>\n",
       "<p>8 rows × 52 columns</p>\n",
       "</div>"
      ],
      "text/plain": [
       "       primary_cleaner.input.sulfate  primary_cleaner.input.depressant  \\\n",
       "count                    5286.000000                       5285.000000   \n",
       "mean                      174.839652                          8.683596   \n",
       "std                        43.027080                          3.072050   \n",
       "min                         2.566156                          0.003839   \n",
       "25%                       147.121401                          6.489555   \n",
       "50%                       177.828489                          8.052207   \n",
       "75%                       208.125438                         10.027764   \n",
       "max                       265.983123                         40.000000   \n",
       "\n",
       "       primary_cleaner.input.feed_size  primary_cleaner.input.xanthate  \\\n",
       "count                      5290.000000                     5286.000000   \n",
       "mean                          7.266339                        1.383803   \n",
       "std                           0.610219                        0.643474   \n",
       "min                           5.650000                        0.004984   \n",
       "25%                           6.890000                        0.907623   \n",
       "50%                           7.250000                        1.197610   \n",
       "75%                           7.600000                        1.797819   \n",
       "max                          15.500000                        4.102454   \n",
       "\n",
       "       primary_cleaner.state.floatbank8_a_air  \\\n",
       "count                            5.290000e+03   \n",
       "mean                             1.539494e+03   \n",
       "std                              1.167979e+02   \n",
       "min                              5.445860e-32   \n",
       "25%                              1.498936e+03   \n",
       "50%                              1.585129e+03   \n",
       "75%                              1.602077e+03   \n",
       "max                              2.103104e+03   \n",
       "\n",
       "       primary_cleaner.state.floatbank8_a_level  \\\n",
       "count                               5290.000000   \n",
       "mean                                -497.665883   \n",
       "std                                   19.952431   \n",
       "min                                 -795.316337   \n",
       "25%                                 -500.357298   \n",
       "50%                                 -499.969164   \n",
       "75%                                 -499.568951   \n",
       "max                                  -57.195404   \n",
       "\n",
       "       primary_cleaner.state.floatbank8_b_air  \\\n",
       "count                            5.290000e+03   \n",
       "mean                             1.545174e+03   \n",
       "std                              1.222246e+02   \n",
       "min                              6.647490e-32   \n",
       "25%                              1.498971e+03   \n",
       "50%                              1.595622e+03   \n",
       "75%                              1.602324e+03   \n",
       "max                              1.813084e+03   \n",
       "\n",
       "       primary_cleaner.state.floatbank8_b_level  \\\n",
       "count                               5290.000000   \n",
       "mean                                -500.273098   \n",
       "std                                   32.968307   \n",
       "min                                 -799.997015   \n",
       "25%                                 -500.703002   \n",
       "50%                                 -500.028514   \n",
       "75%                                 -499.293257   \n",
       "max                                 -142.527229   \n",
       "\n",
       "       primary_cleaner.state.floatbank8_c_air  \\\n",
       "count                            5.290000e+03   \n",
       "mean                             1.527272e+03   \n",
       "std                              1.225380e+02   \n",
       "min                              4.033736e-32   \n",
       "25%                              1.473230e+03   \n",
       "50%                              1.549595e+03   \n",
       "75%                              1.601144e+03   \n",
       "max                              1.715054e+03   \n",
       "\n",
       "       primary_cleaner.state.floatbank8_c_level  ...  \\\n",
       "count                               5290.000000  ...   \n",
       "mean                                -498.330680  ...   \n",
       "std                                   21.964876  ...   \n",
       "min                                 -799.960571  ...   \n",
       "25%                                 -501.018117  ...   \n",
       "50%                                 -500.017711  ...   \n",
       "75%                                 -498.994130  ...   \n",
       "max                                 -150.937035  ...   \n",
       "\n",
       "       secondary_cleaner.state.floatbank4_a_air  \\\n",
       "count                              5.290000e+03   \n",
       "mean                               1.632007e+01   \n",
       "std                                3.493583e+00   \n",
       "min                                1.079872e-16   \n",
       "25%                                1.403618e+01   \n",
       "50%                                1.700847e+01   \n",
       "75%                                1.803862e+01   \n",
       "max                                3.005180e+01   \n",
       "\n",
       "       secondary_cleaner.state.floatbank4_a_level  \\\n",
       "count                                 5290.000000   \n",
       "mean                                  -505.144570   \n",
       "std                                     31.427337   \n",
       "min                                   -799.798523   \n",
       "25%                                   -500.868258   \n",
       "50%                                   -500.115727   \n",
       "75%                                   -499.404224   \n",
       "max                                   -401.565212   \n",
       "\n",
       "       secondary_cleaner.state.floatbank4_b_air  \\\n",
       "count                              5.290000e+03   \n",
       "mean                               1.373544e+01   \n",
       "std                                3.430484e+00   \n",
       "min                                2.489718e-17   \n",
       "25%                                1.202862e+01   \n",
       "50%                                1.496486e+01   \n",
       "75%                                1.596213e+01   \n",
       "max                                3.126971e+01   \n",
       "\n",
       "       secondary_cleaner.state.floatbank4_b_level  \\\n",
       "count                                 5290.000000   \n",
       "mean                                  -463.349858   \n",
       "std                                     86.189107   \n",
       "min                                   -800.836914   \n",
       "25%                                   -500.323028   \n",
       "50%                                   -499.576513   \n",
       "75%                                   -400.933805   \n",
       "max                                     -6.506986   \n",
       "\n",
       "       secondary_cleaner.state.floatbank5_a_air  \\\n",
       "count                               5290.000000   \n",
       "mean                                  12.804186   \n",
       "std                                    3.026591   \n",
       "min                                    0.069227   \n",
       "25%                                   10.914838   \n",
       "50%                                   12.954182   \n",
       "75%                                   15.097528   \n",
       "max                                   25.258848   \n",
       "\n",
       "       secondary_cleaner.state.floatbank5_a_level  \\\n",
       "count                                 5290.000000   \n",
       "mean                                  -501.329122   \n",
       "std                                     17.951495   \n",
       "min                                   -797.323986   \n",
       "25%                                   -500.726841   \n",
       "50%                                   -499.990332   \n",
       "75%                                   -499.283191   \n",
       "max                                   -244.483566   \n",
       "\n",
       "       secondary_cleaner.state.floatbank5_b_air  \\\n",
       "count                               5290.000000   \n",
       "mean                                   9.881145   \n",
       "std                                    2.868205   \n",
       "min                                    0.528083   \n",
       "25%                                    8.036719   \n",
       "50%                                   10.004301   \n",
       "75%                                   11.997467   \n",
       "max                                   14.086866   \n",
       "\n",
       "       secondary_cleaner.state.floatbank5_b_level  \\\n",
       "count                                 5290.000000   \n",
       "mean                                  -495.663398   \n",
       "std                                     34.535007   \n",
       "min                                   -800.220337   \n",
       "25%                                   -500.194668   \n",
       "50%                                   -499.990535   \n",
       "75%                                   -499.719913   \n",
       "max                                   -137.740004   \n",
       "\n",
       "       secondary_cleaner.state.floatbank6_a_air  \\\n",
       "count                               5290.000000   \n",
       "mean                                  17.304935   \n",
       "std                                    4.536544   \n",
       "min                                   -0.079426   \n",
       "25%                                   13.997317   \n",
       "50%                                   16.014935   \n",
       "75%                                   21.020013   \n",
       "max                                   26.705889   \n",
       "\n",
       "       secondary_cleaner.state.floatbank6_a_level  \n",
       "count                                 5290.000000  \n",
       "mean                                  -501.793193  \n",
       "std                                     39.044215  \n",
       "min                                   -809.741464  \n",
       "25%                                   -500.690984  \n",
       "50%                                   -500.007126  \n",
       "75%                                   -499.373018  \n",
       "max                                   -123.307487  \n",
       "\n",
       "[8 rows x 52 columns]"
      ]
     },
     "execution_count": 15,
     "metadata": {},
     "output_type": "execute_result"
    }
   ],
   "source": [
    "df_test.describe()"
   ]
  },
  {
   "cell_type": "code",
   "execution_count": 16,
   "metadata": {},
   "outputs": [
    {
     "name": "stdout",
     "output_type": "stream",
     "text": [
      "<class 'pandas.core.frame.DataFrame'>\n",
      "RangeIndex: 19439 entries, 0 to 19438\n",
      "Data columns (total 87 columns):\n",
      " #   Column                                              Non-Null Count  Dtype         \n",
      "---  ------                                              --------------  -----         \n",
      " 0   date                                                19439 non-null  datetime64[ns]\n",
      " 1   final.output.concentrate_ag                         19438 non-null  float64       \n",
      " 2   final.output.concentrate_pb                         19438 non-null  float64       \n",
      " 3   final.output.concentrate_sol                        19228 non-null  float64       \n",
      " 4   final.output.concentrate_au                         19439 non-null  float64       \n",
      " 5   final.output.recovery                               19439 non-null  float64       \n",
      " 6   final.output.tail_ag                                19438 non-null  float64       \n",
      " 7   final.output.tail_pb                                19338 non-null  float64       \n",
      " 8   final.output.tail_sol                               19433 non-null  float64       \n",
      " 9   final.output.tail_au                                19439 non-null  float64       \n",
      " 10  primary_cleaner.input.sulfate                       19415 non-null  float64       \n",
      " 11  primary_cleaner.input.depressant                    19402 non-null  float64       \n",
      " 12  primary_cleaner.input.feed_size                     19439 non-null  float64       \n",
      " 13  primary_cleaner.input.xanthate                      19335 non-null  float64       \n",
      " 14  primary_cleaner.output.concentrate_ag               19439 non-null  float64       \n",
      " 15  primary_cleaner.output.concentrate_pb               19323 non-null  float64       \n",
      " 16  primary_cleaner.output.concentrate_sol              19069 non-null  float64       \n",
      " 17  primary_cleaner.output.concentrate_au               19439 non-null  float64       \n",
      " 18  primary_cleaner.output.tail_ag                      19435 non-null  float64       \n",
      " 19  primary_cleaner.output.tail_pb                      19418 non-null  float64       \n",
      " 20  primary_cleaner.output.tail_sol                     19377 non-null  float64       \n",
      " 21  primary_cleaner.output.tail_au                      19439 non-null  float64       \n",
      " 22  primary_cleaner.state.floatbank8_a_air              19435 non-null  float64       \n",
      " 23  primary_cleaner.state.floatbank8_a_level            19438 non-null  float64       \n",
      " 24  primary_cleaner.state.floatbank8_b_air              19435 non-null  float64       \n",
      " 25  primary_cleaner.state.floatbank8_b_level            19438 non-null  float64       \n",
      " 26  primary_cleaner.state.floatbank8_c_air              19437 non-null  float64       \n",
      " 27  primary_cleaner.state.floatbank8_c_level            19438 non-null  float64       \n",
      " 28  primary_cleaner.state.floatbank8_d_air              19436 non-null  float64       \n",
      " 29  primary_cleaner.state.floatbank8_d_level            19438 non-null  float64       \n",
      " 30  rougher.calculation.sulfate_to_au_concentrate       19437 non-null  float64       \n",
      " 31  rougher.calculation.floatbank10_sulfate_to_au_feed  19437 non-null  float64       \n",
      " 32  rougher.calculation.floatbank11_sulfate_to_au_feed  19437 non-null  float64       \n",
      " 33  rougher.calculation.au_pb_ratio                     19439 non-null  float64       \n",
      " 34  rougher.input.feed_ag                               19439 non-null  float64       \n",
      " 35  rougher.input.feed_pb                               19339 non-null  float64       \n",
      " 36  rougher.input.feed_rate                             19428 non-null  float64       \n",
      " 37  rougher.input.feed_size                             19294 non-null  float64       \n",
      " 38  rougher.input.feed_sol                              19340 non-null  float64       \n",
      " 39  rougher.input.feed_au                               19439 non-null  float64       \n",
      " 40  rougher.input.floatbank10_sulfate                   19405 non-null  float64       \n",
      " 41  rougher.input.floatbank10_xanthate                  19431 non-null  float64       \n",
      " 42  rougher.input.floatbank11_sulfate                   19395 non-null  float64       \n",
      " 43  rougher.input.floatbank11_xanthate                  18986 non-null  float64       \n",
      " 44  rougher.output.concentrate_ag                       19439 non-null  float64       \n",
      " 45  rougher.output.concentrate_pb                       19439 non-null  float64       \n",
      " 46  rougher.output.concentrate_sol                      19416 non-null  float64       \n",
      " 47  rougher.output.concentrate_au                       19439 non-null  float64       \n",
      " 48  rougher.output.recovery                             19439 non-null  float64       \n",
      " 49  rougher.output.tail_ag                              19438 non-null  float64       \n",
      " 50  rougher.output.tail_pb                              19439 non-null  float64       \n",
      " 51  rougher.output.tail_sol                             19439 non-null  float64       \n",
      " 52  rougher.output.tail_au                              19439 non-null  float64       \n",
      " 53  rougher.state.floatbank10_a_air                     19438 non-null  float64       \n",
      " 54  rougher.state.floatbank10_a_level                   19438 non-null  float64       \n",
      " 55  rougher.state.floatbank10_b_air                     19438 non-null  float64       \n",
      " 56  rougher.state.floatbank10_b_level                   19438 non-null  float64       \n",
      " 57  rougher.state.floatbank10_c_air                     19438 non-null  float64       \n",
      " 58  rougher.state.floatbank10_c_level                   19438 non-null  float64       \n",
      " 59  rougher.state.floatbank10_d_air                     19439 non-null  float64       \n",
      " 60  rougher.state.floatbank10_d_level                   19439 non-null  float64       \n",
      " 61  rougher.state.floatbank10_e_air                     19003 non-null  float64       \n",
      " 62  rougher.state.floatbank10_e_level                   19439 non-null  float64       \n",
      " 63  rougher.state.floatbank10_f_air                     19439 non-null  float64       \n",
      " 64  rougher.state.floatbank10_f_level                   19439 non-null  float64       \n",
      " 65  secondary_cleaner.output.tail_ag                    19437 non-null  float64       \n",
      " 66  secondary_cleaner.output.tail_pb                    19427 non-null  float64       \n",
      " 67  secondary_cleaner.output.tail_sol                   17691 non-null  float64       \n",
      " 68  secondary_cleaner.output.tail_au                    19439 non-null  float64       \n",
      " 69  secondary_cleaner.state.floatbank2_a_air            19219 non-null  float64       \n",
      " 70  secondary_cleaner.state.floatbank2_a_level          19438 non-null  float64       \n",
      " 71  secondary_cleaner.state.floatbank2_b_air            19416 non-null  float64       \n",
      " 72  secondary_cleaner.state.floatbank2_b_level          19438 non-null  float64       \n",
      " 73  secondary_cleaner.state.floatbank3_a_air            19426 non-null  float64       \n",
      " 74  secondary_cleaner.state.floatbank3_a_level          19438 non-null  float64       \n",
      " 75  secondary_cleaner.state.floatbank3_b_air            19438 non-null  float64       \n",
      " 76  secondary_cleaner.state.floatbank3_b_level          19438 non-null  float64       \n",
      " 77  secondary_cleaner.state.floatbank4_a_air            19433 non-null  float64       \n",
      " 78  secondary_cleaner.state.floatbank4_a_level          19438 non-null  float64       \n",
      " 79  secondary_cleaner.state.floatbank4_b_air            19438 non-null  float64       \n",
      " 80  secondary_cleaner.state.floatbank4_b_level          19438 non-null  float64       \n",
      " 81  secondary_cleaner.state.floatbank5_a_air            19438 non-null  float64       \n",
      " 82  secondary_cleaner.state.floatbank5_a_level          19438 non-null  float64       \n",
      " 83  secondary_cleaner.state.floatbank5_b_air            19438 non-null  float64       \n",
      " 84  secondary_cleaner.state.floatbank5_b_level          19438 non-null  float64       \n",
      " 85  secondary_cleaner.state.floatbank6_a_air            19437 non-null  float64       \n",
      " 86  secondary_cleaner.state.floatbank6_a_level          19438 non-null  float64       \n",
      "dtypes: datetime64[ns](1), float64(86)\n",
      "memory usage: 12.9 MB\n"
     ]
    }
   ],
   "source": [
    "df_full.info()"
   ]
  },
  {
   "cell_type": "code",
   "execution_count": 17,
   "metadata": {},
   "outputs": [
    {
     "data": {
      "text/plain": [
       "date                                                     0\n",
       "final.output.concentrate_ag                              1\n",
       "final.output.concentrate_pb                              1\n",
       "final.output.concentrate_sol                           211\n",
       "final.output.concentrate_au                              0\n",
       "final.output.recovery                                    0\n",
       "final.output.tail_ag                                     1\n",
       "final.output.tail_pb                                   101\n",
       "final.output.tail_sol                                    6\n",
       "final.output.tail_au                                     0\n",
       "primary_cleaner.input.sulfate                           24\n",
       "primary_cleaner.input.depressant                        37\n",
       "primary_cleaner.input.feed_size                          0\n",
       "primary_cleaner.input.xanthate                         104\n",
       "primary_cleaner.output.concentrate_ag                    0\n",
       "primary_cleaner.output.concentrate_pb                  116\n",
       "primary_cleaner.output.concentrate_sol                 370\n",
       "primary_cleaner.output.concentrate_au                    0\n",
       "primary_cleaner.output.tail_ag                           4\n",
       "primary_cleaner.output.tail_pb                          21\n",
       "primary_cleaner.output.tail_sol                         62\n",
       "primary_cleaner.output.tail_au                           0\n",
       "primary_cleaner.state.floatbank8_a_air                   4\n",
       "primary_cleaner.state.floatbank8_a_level                 1\n",
       "primary_cleaner.state.floatbank8_b_air                   4\n",
       "primary_cleaner.state.floatbank8_b_level                 1\n",
       "primary_cleaner.state.floatbank8_c_air                   2\n",
       "primary_cleaner.state.floatbank8_c_level                 1\n",
       "primary_cleaner.state.floatbank8_d_air                   3\n",
       "primary_cleaner.state.floatbank8_d_level                 1\n",
       "rougher.calculation.sulfate_to_au_concentrate            2\n",
       "rougher.calculation.floatbank10_sulfate_to_au_feed       2\n",
       "rougher.calculation.floatbank11_sulfate_to_au_feed       2\n",
       "rougher.calculation.au_pb_ratio                          0\n",
       "rougher.input.feed_ag                                    0\n",
       "rougher.input.feed_pb                                  100\n",
       "rougher.input.feed_rate                                 11\n",
       "rougher.input.feed_size                                145\n",
       "rougher.input.feed_sol                                  99\n",
       "rougher.input.feed_au                                    0\n",
       "rougher.input.floatbank10_sulfate                       34\n",
       "rougher.input.floatbank10_xanthate                       8\n",
       "rougher.input.floatbank11_sulfate                       44\n",
       "rougher.input.floatbank11_xanthate                     453\n",
       "rougher.output.concentrate_ag                            0\n",
       "rougher.output.concentrate_pb                            0\n",
       "rougher.output.concentrate_sol                          23\n",
       "rougher.output.concentrate_au                            0\n",
       "rougher.output.recovery                                  0\n",
       "rougher.output.tail_ag                                   1\n",
       "rougher.output.tail_pb                                   0\n",
       "rougher.output.tail_sol                                  0\n",
       "rougher.output.tail_au                                   0\n",
       "rougher.state.floatbank10_a_air                          1\n",
       "rougher.state.floatbank10_a_level                        1\n",
       "rougher.state.floatbank10_b_air                          1\n",
       "rougher.state.floatbank10_b_level                        1\n",
       "rougher.state.floatbank10_c_air                          1\n",
       "rougher.state.floatbank10_c_level                        1\n",
       "rougher.state.floatbank10_d_air                          0\n",
       "rougher.state.floatbank10_d_level                        0\n",
       "rougher.state.floatbank10_e_air                        436\n",
       "rougher.state.floatbank10_e_level                        0\n",
       "rougher.state.floatbank10_f_air                          0\n",
       "rougher.state.floatbank10_f_level                        0\n",
       "secondary_cleaner.output.tail_ag                         2\n",
       "secondary_cleaner.output.tail_pb                        12\n",
       "secondary_cleaner.output.tail_sol                     1748\n",
       "secondary_cleaner.output.tail_au                         0\n",
       "secondary_cleaner.state.floatbank2_a_air               220\n",
       "secondary_cleaner.state.floatbank2_a_level               1\n",
       "secondary_cleaner.state.floatbank2_b_air                23\n",
       "secondary_cleaner.state.floatbank2_b_level               1\n",
       "secondary_cleaner.state.floatbank3_a_air                13\n",
       "secondary_cleaner.state.floatbank3_a_level               1\n",
       "secondary_cleaner.state.floatbank3_b_air                 1\n",
       "secondary_cleaner.state.floatbank3_b_level               1\n",
       "secondary_cleaner.state.floatbank4_a_air                 6\n",
       "secondary_cleaner.state.floatbank4_a_level               1\n",
       "secondary_cleaner.state.floatbank4_b_air                 1\n",
       "secondary_cleaner.state.floatbank4_b_level               1\n",
       "secondary_cleaner.state.floatbank5_a_air                 1\n",
       "secondary_cleaner.state.floatbank5_a_level               1\n",
       "secondary_cleaner.state.floatbank5_b_air                 1\n",
       "secondary_cleaner.state.floatbank5_b_level               1\n",
       "secondary_cleaner.state.floatbank6_a_air                 2\n",
       "secondary_cleaner.state.floatbank6_a_level               1\n",
       "dtype: int64"
      ]
     },
     "execution_count": 17,
     "metadata": {},
     "output_type": "execute_result"
    }
   ],
   "source": [
    "df_full.isna().sum()"
   ]
  },
  {
   "cell_type": "code",
   "execution_count": 18,
   "metadata": {},
   "outputs": [
    {
     "data": {
      "text/html": [
       "<div>\n",
       "<style scoped>\n",
       "    .dataframe tbody tr th:only-of-type {\n",
       "        vertical-align: middle;\n",
       "    }\n",
       "\n",
       "    .dataframe tbody tr th {\n",
       "        vertical-align: top;\n",
       "    }\n",
       "\n",
       "    .dataframe thead th {\n",
       "        text-align: right;\n",
       "    }\n",
       "</style>\n",
       "<table border=\"1\" class=\"dataframe\">\n",
       "  <thead>\n",
       "    <tr style=\"text-align: right;\">\n",
       "      <th></th>\n",
       "      <th>final.output.concentrate_ag</th>\n",
       "      <th>final.output.concentrate_pb</th>\n",
       "      <th>final.output.concentrate_sol</th>\n",
       "      <th>final.output.concentrate_au</th>\n",
       "      <th>final.output.recovery</th>\n",
       "      <th>final.output.tail_ag</th>\n",
       "      <th>final.output.tail_pb</th>\n",
       "      <th>final.output.tail_sol</th>\n",
       "      <th>final.output.tail_au</th>\n",
       "      <th>primary_cleaner.input.sulfate</th>\n",
       "      <th>...</th>\n",
       "      <th>secondary_cleaner.state.floatbank4_a_air</th>\n",
       "      <th>secondary_cleaner.state.floatbank4_a_level</th>\n",
       "      <th>secondary_cleaner.state.floatbank4_b_air</th>\n",
       "      <th>secondary_cleaner.state.floatbank4_b_level</th>\n",
       "      <th>secondary_cleaner.state.floatbank5_a_air</th>\n",
       "      <th>secondary_cleaner.state.floatbank5_a_level</th>\n",
       "      <th>secondary_cleaner.state.floatbank5_b_air</th>\n",
       "      <th>secondary_cleaner.state.floatbank5_b_level</th>\n",
       "      <th>secondary_cleaner.state.floatbank6_a_air</th>\n",
       "      <th>secondary_cleaner.state.floatbank6_a_level</th>\n",
       "    </tr>\n",
       "  </thead>\n",
       "  <tbody>\n",
       "    <tr>\n",
       "      <th>count</th>\n",
       "      <td>19438.000000</td>\n",
       "      <td>19438.000000</td>\n",
       "      <td>19228.000000</td>\n",
       "      <td>19439.000000</td>\n",
       "      <td>19439.000000</td>\n",
       "      <td>19438.000000</td>\n",
       "      <td>19338.000000</td>\n",
       "      <td>19433.000000</td>\n",
       "      <td>19439.000000</td>\n",
       "      <td>19415.000000</td>\n",
       "      <td>...</td>\n",
       "      <td>19433.000000</td>\n",
       "      <td>19438.000000</td>\n",
       "      <td>19438.000000</td>\n",
       "      <td>19438.000000</td>\n",
       "      <td>19438.000000</td>\n",
       "      <td>19438.000000</td>\n",
       "      <td>19438.000000</td>\n",
       "      <td>19438.000000</td>\n",
       "      <td>19437.000000</td>\n",
       "      <td>19438.000000</td>\n",
       "    </tr>\n",
       "    <tr>\n",
       "      <th>mean</th>\n",
       "      <td>5.168470</td>\n",
       "      <td>9.978895</td>\n",
       "      <td>9.501224</td>\n",
       "      <td>44.076513</td>\n",
       "      <td>67.050208</td>\n",
       "      <td>9.688589</td>\n",
       "      <td>2.705795</td>\n",
       "      <td>10.583728</td>\n",
       "      <td>3.042467</td>\n",
       "      <td>144.624774</td>\n",
       "      <td>...</td>\n",
       "      <td>18.987674</td>\n",
       "      <td>-485.894516</td>\n",
       "      <td>15.010366</td>\n",
       "      <td>-461.078636</td>\n",
       "      <td>15.694452</td>\n",
       "      <td>-488.684065</td>\n",
       "      <td>12.198224</td>\n",
       "      <td>-487.149827</td>\n",
       "      <td>18.959024</td>\n",
       "      <td>-505.436305</td>\n",
       "    </tr>\n",
       "    <tr>\n",
       "      <th>std</th>\n",
       "      <td>1.372348</td>\n",
       "      <td>1.669240</td>\n",
       "      <td>2.787537</td>\n",
       "      <td>5.129784</td>\n",
       "      <td>10.125840</td>\n",
       "      <td>2.328642</td>\n",
       "      <td>0.949077</td>\n",
       "      <td>2.868782</td>\n",
       "      <td>0.922808</td>\n",
       "      <td>44.464071</td>\n",
       "      <td>...</td>\n",
       "      <td>5.411058</td>\n",
       "      <td>47.758570</td>\n",
       "      <td>4.890228</td>\n",
       "      <td>67.405524</td>\n",
       "      <td>5.510974</td>\n",
       "      <td>34.533396</td>\n",
       "      <td>5.333024</td>\n",
       "      <td>38.347312</td>\n",
       "      <td>5.550498</td>\n",
       "      <td>37.689057</td>\n",
       "    </tr>\n",
       "    <tr>\n",
       "      <th>min</th>\n",
       "      <td>0.000000</td>\n",
       "      <td>0.000000</td>\n",
       "      <td>0.000000</td>\n",
       "      <td>0.000000</td>\n",
       "      <td>0.000000</td>\n",
       "      <td>0.000000</td>\n",
       "      <td>0.000000</td>\n",
       "      <td>0.000000</td>\n",
       "      <td>0.000000</td>\n",
       "      <td>0.003112</td>\n",
       "      <td>...</td>\n",
       "      <td>0.000000</td>\n",
       "      <td>-799.798523</td>\n",
       "      <td>0.000000</td>\n",
       "      <td>-800.836914</td>\n",
       "      <td>-0.372054</td>\n",
       "      <td>-797.323986</td>\n",
       "      <td>0.528083</td>\n",
       "      <td>-800.220337</td>\n",
       "      <td>-0.079426</td>\n",
       "      <td>-809.741464</td>\n",
       "    </tr>\n",
       "    <tr>\n",
       "      <th>25%</th>\n",
       "      <td>4.251240</td>\n",
       "      <td>9.137262</td>\n",
       "      <td>7.722820</td>\n",
       "      <td>43.402215</td>\n",
       "      <td>63.299712</td>\n",
       "      <td>8.062878</td>\n",
       "      <td>2.040119</td>\n",
       "      <td>8.938947</td>\n",
       "      <td>2.461138</td>\n",
       "      <td>114.107029</td>\n",
       "      <td>...</td>\n",
       "      <td>14.975734</td>\n",
       "      <td>-500.704892</td>\n",
       "      <td>11.940294</td>\n",
       "      <td>-500.187742</td>\n",
       "      <td>10.988606</td>\n",
       "      <td>-500.458467</td>\n",
       "      <td>8.971105</td>\n",
       "      <td>-500.129462</td>\n",
       "      <td>14.983037</td>\n",
       "      <td>-500.728067</td>\n",
       "    </tr>\n",
       "    <tr>\n",
       "      <th>50%</th>\n",
       "      <td>5.066094</td>\n",
       "      <td>10.102433</td>\n",
       "      <td>9.218961</td>\n",
       "      <td>45.011244</td>\n",
       "      <td>68.172738</td>\n",
       "      <td>9.743623</td>\n",
       "      <td>2.748730</td>\n",
       "      <td>10.622456</td>\n",
       "      <td>2.984909</td>\n",
       "      <td>143.232103</td>\n",
       "      <td>...</td>\n",
       "      <td>18.017481</td>\n",
       "      <td>-499.837793</td>\n",
       "      <td>14.971014</td>\n",
       "      <td>-499.459786</td>\n",
       "      <td>15.000036</td>\n",
       "      <td>-499.802605</td>\n",
       "      <td>11.019433</td>\n",
       "      <td>-499.935317</td>\n",
       "      <td>19.960541</td>\n",
       "      <td>-500.048400</td>\n",
       "    </tr>\n",
       "    <tr>\n",
       "      <th>75%</th>\n",
       "      <td>5.895527</td>\n",
       "      <td>11.035769</td>\n",
       "      <td>10.947813</td>\n",
       "      <td>46.275313</td>\n",
       "      <td>72.686642</td>\n",
       "      <td>11.134294</td>\n",
       "      <td>3.333216</td>\n",
       "      <td>12.104271</td>\n",
       "      <td>3.571351</td>\n",
       "      <td>175.075656</td>\n",
       "      <td>...</td>\n",
       "      <td>23.012470</td>\n",
       "      <td>-498.249730</td>\n",
       "      <td>19.034162</td>\n",
       "      <td>-400.118106</td>\n",
       "      <td>18.026190</td>\n",
       "      <td>-498.384187</td>\n",
       "      <td>14.019088</td>\n",
       "      <td>-499.436708</td>\n",
       "      <td>24.003170</td>\n",
       "      <td>-499.495378</td>\n",
       "    </tr>\n",
       "    <tr>\n",
       "      <th>max</th>\n",
       "      <td>16.001945</td>\n",
       "      <td>17.031899</td>\n",
       "      <td>19.615720</td>\n",
       "      <td>52.756638</td>\n",
       "      <td>100.000000</td>\n",
       "      <td>19.552149</td>\n",
       "      <td>5.804178</td>\n",
       "      <td>22.317730</td>\n",
       "      <td>8.245022</td>\n",
       "      <td>265.983123</td>\n",
       "      <td>...</td>\n",
       "      <td>30.115735</td>\n",
       "      <td>-245.239184</td>\n",
       "      <td>31.269706</td>\n",
       "      <td>-6.506986</td>\n",
       "      <td>43.709931</td>\n",
       "      <td>-244.483566</td>\n",
       "      <td>27.926001</td>\n",
       "      <td>-137.740004</td>\n",
       "      <td>32.188906</td>\n",
       "      <td>-104.427459</td>\n",
       "    </tr>\n",
       "  </tbody>\n",
       "</table>\n",
       "<p>8 rows × 86 columns</p>\n",
       "</div>"
      ],
      "text/plain": [
       "       final.output.concentrate_ag  final.output.concentrate_pb  \\\n",
       "count                 19438.000000                 19438.000000   \n",
       "mean                      5.168470                     9.978895   \n",
       "std                       1.372348                     1.669240   \n",
       "min                       0.000000                     0.000000   \n",
       "25%                       4.251240                     9.137262   \n",
       "50%                       5.066094                    10.102433   \n",
       "75%                       5.895527                    11.035769   \n",
       "max                      16.001945                    17.031899   \n",
       "\n",
       "       final.output.concentrate_sol  final.output.concentrate_au  \\\n",
       "count                  19228.000000                 19439.000000   \n",
       "mean                       9.501224                    44.076513   \n",
       "std                        2.787537                     5.129784   \n",
       "min                        0.000000                     0.000000   \n",
       "25%                        7.722820                    43.402215   \n",
       "50%                        9.218961                    45.011244   \n",
       "75%                       10.947813                    46.275313   \n",
       "max                       19.615720                    52.756638   \n",
       "\n",
       "       final.output.recovery  final.output.tail_ag  final.output.tail_pb  \\\n",
       "count           19439.000000          19438.000000          19338.000000   \n",
       "mean               67.050208              9.688589              2.705795   \n",
       "std                10.125840              2.328642              0.949077   \n",
       "min                 0.000000              0.000000              0.000000   \n",
       "25%                63.299712              8.062878              2.040119   \n",
       "50%                68.172738              9.743623              2.748730   \n",
       "75%                72.686642             11.134294              3.333216   \n",
       "max               100.000000             19.552149              5.804178   \n",
       "\n",
       "       final.output.tail_sol  final.output.tail_au  \\\n",
       "count           19433.000000          19439.000000   \n",
       "mean               10.583728              3.042467   \n",
       "std                 2.868782              0.922808   \n",
       "min                 0.000000              0.000000   \n",
       "25%                 8.938947              2.461138   \n",
       "50%                10.622456              2.984909   \n",
       "75%                12.104271              3.571351   \n",
       "max                22.317730              8.245022   \n",
       "\n",
       "       primary_cleaner.input.sulfate  ...  \\\n",
       "count                   19415.000000  ...   \n",
       "mean                      144.624774  ...   \n",
       "std                        44.464071  ...   \n",
       "min                         0.003112  ...   \n",
       "25%                       114.107029  ...   \n",
       "50%                       143.232103  ...   \n",
       "75%                       175.075656  ...   \n",
       "max                       265.983123  ...   \n",
       "\n",
       "       secondary_cleaner.state.floatbank4_a_air  \\\n",
       "count                              19433.000000   \n",
       "mean                                  18.987674   \n",
       "std                                    5.411058   \n",
       "min                                    0.000000   \n",
       "25%                                   14.975734   \n",
       "50%                                   18.017481   \n",
       "75%                                   23.012470   \n",
       "max                                   30.115735   \n",
       "\n",
       "       secondary_cleaner.state.floatbank4_a_level  \\\n",
       "count                                19438.000000   \n",
       "mean                                  -485.894516   \n",
       "std                                     47.758570   \n",
       "min                                   -799.798523   \n",
       "25%                                   -500.704892   \n",
       "50%                                   -499.837793   \n",
       "75%                                   -498.249730   \n",
       "max                                   -245.239184   \n",
       "\n",
       "       secondary_cleaner.state.floatbank4_b_air  \\\n",
       "count                              19438.000000   \n",
       "mean                                  15.010366   \n",
       "std                                    4.890228   \n",
       "min                                    0.000000   \n",
       "25%                                   11.940294   \n",
       "50%                                   14.971014   \n",
       "75%                                   19.034162   \n",
       "max                                   31.269706   \n",
       "\n",
       "       secondary_cleaner.state.floatbank4_b_level  \\\n",
       "count                                19438.000000   \n",
       "mean                                  -461.078636   \n",
       "std                                     67.405524   \n",
       "min                                   -800.836914   \n",
       "25%                                   -500.187742   \n",
       "50%                                   -499.459786   \n",
       "75%                                   -400.118106   \n",
       "max                                     -6.506986   \n",
       "\n",
       "       secondary_cleaner.state.floatbank5_a_air  \\\n",
       "count                              19438.000000   \n",
       "mean                                  15.694452   \n",
       "std                                    5.510974   \n",
       "min                                   -0.372054   \n",
       "25%                                   10.988606   \n",
       "50%                                   15.000036   \n",
       "75%                                   18.026190   \n",
       "max                                   43.709931   \n",
       "\n",
       "       secondary_cleaner.state.floatbank5_a_level  \\\n",
       "count                                19438.000000   \n",
       "mean                                  -488.684065   \n",
       "std                                     34.533396   \n",
       "min                                   -797.323986   \n",
       "25%                                   -500.458467   \n",
       "50%                                   -499.802605   \n",
       "75%                                   -498.384187   \n",
       "max                                   -244.483566   \n",
       "\n",
       "       secondary_cleaner.state.floatbank5_b_air  \\\n",
       "count                              19438.000000   \n",
       "mean                                  12.198224   \n",
       "std                                    5.333024   \n",
       "min                                    0.528083   \n",
       "25%                                    8.971105   \n",
       "50%                                   11.019433   \n",
       "75%                                   14.019088   \n",
       "max                                   27.926001   \n",
       "\n",
       "       secondary_cleaner.state.floatbank5_b_level  \\\n",
       "count                                19438.000000   \n",
       "mean                                  -487.149827   \n",
       "std                                     38.347312   \n",
       "min                                   -800.220337   \n",
       "25%                                   -500.129462   \n",
       "50%                                   -499.935317   \n",
       "75%                                   -499.436708   \n",
       "max                                   -137.740004   \n",
       "\n",
       "       secondary_cleaner.state.floatbank6_a_air  \\\n",
       "count                              19437.000000   \n",
       "mean                                  18.959024   \n",
       "std                                    5.550498   \n",
       "min                                   -0.079426   \n",
       "25%                                   14.983037   \n",
       "50%                                   19.960541   \n",
       "75%                                   24.003170   \n",
       "max                                   32.188906   \n",
       "\n",
       "       secondary_cleaner.state.floatbank6_a_level  \n",
       "count                                19438.000000  \n",
       "mean                                  -505.436305  \n",
       "std                                     37.689057  \n",
       "min                                   -809.741464  \n",
       "25%                                   -500.728067  \n",
       "50%                                   -500.048400  \n",
       "75%                                   -499.495378  \n",
       "max                                   -104.427459  \n",
       "\n",
       "[8 rows x 86 columns]"
      ]
     },
     "execution_count": 18,
     "metadata": {},
     "output_type": "execute_result"
    }
   ],
   "source": [
    "df_full.describe()"
   ]
  },
  {
   "cell_type": "markdown",
   "metadata": {},
   "source": [
    "Все столбцы датасетов имеют тип float64, кроме столбца date (тип datetime64[ns]). Имеются пропуски. В train имеются нулевые концентрации веществ, возможно такие данные получены из-за сбоев в сборе информации."
   ]
  },
  {
   "cell_type": "code",
   "execution_count": 19,
   "metadata": {},
   "outputs": [
    {
     "data": {
      "text/plain": [
       "0"
      ]
     },
     "execution_count": 19,
     "metadata": {},
     "output_type": "execute_result"
    }
   ],
   "source": [
    "df_train.date.duplicated().sum()"
   ]
  },
  {
   "cell_type": "code",
   "execution_count": 20,
   "metadata": {},
   "outputs": [
    {
     "data": {
      "text/plain": [
       "0"
      ]
     },
     "execution_count": 20,
     "metadata": {},
     "output_type": "execute_result"
    }
   ],
   "source": [
    "df_test.date.duplicated().sum()"
   ]
  },
  {
   "cell_type": "code",
   "execution_count": 21,
   "metadata": {},
   "outputs": [
    {
     "data": {
      "text/plain": [
       "0"
      ]
     },
     "execution_count": 21,
     "metadata": {},
     "output_type": "execute_result"
    }
   ],
   "source": [
    "df_full.date.duplicated().sum()"
   ]
  },
  {
   "cell_type": "markdown",
   "metadata": {},
   "source": [
    "Каждая строка точно характеризуется временем (нет двух строк с одним и тем же временем), столбец date каждого датасета не имеет пропущенных значений."
   ]
  },
  {
   "cell_type": "code",
   "execution_count": 22,
   "metadata": {},
   "outputs": [
    {
     "data": {
      "text/plain": [
       "count                            14149\n",
       "mean     2017-04-27 18:15:12.814828288\n",
       "min                2016-01-15 00:00:00\n",
       "25%                2016-07-12 12:59:59\n",
       "50%                2017-04-24 15:59:59\n",
       "75%                2018-02-26 00:59:59\n",
       "max                2018-08-18 10:59:59\n",
       "Name: date, dtype: object"
      ]
     },
     "execution_count": 22,
     "metadata": {},
     "output_type": "execute_result"
    }
   ],
   "source": [
    "df_train.date.describe(datetime_is_numeric=True)"
   ]
  },
  {
   "cell_type": "code",
   "execution_count": 23,
   "metadata": {},
   "outputs": [
    {
     "data": {
      "text/plain": [
       "count                             5290\n",
       "mean     2017-05-06 07:04:00.587901952\n",
       "min                2016-09-01 00:59:59\n",
       "25%                2016-11-05 17:14:59\n",
       "50%                2017-09-02 01:29:59\n",
       "75%                2017-11-03 03:44:59\n",
       "max                2017-12-31 23:59:59\n",
       "Name: date, dtype: object"
      ]
     },
     "execution_count": 23,
     "metadata": {},
     "output_type": "execute_result"
    }
   ],
   "source": [
    "df_test.date.describe(datetime_is_numeric=True)"
   ]
  },
  {
   "cell_type": "code",
   "execution_count": 24,
   "metadata": {},
   "outputs": [
    {
     "data": {
      "text/plain": [
       "count                            19439\n",
       "mean     2017-04-30 01:59:24.284531200\n",
       "min                2016-01-15 00:00:00\n",
       "25%                2016-09-08 18:59:59\n",
       "50%                2017-04-25 17:59:59\n",
       "75%                2017-12-09 14:29:59\n",
       "max                2018-08-18 10:59:59\n",
       "Name: date, dtype: object"
      ]
     },
     "execution_count": 24,
     "metadata": {},
     "output_type": "execute_result"
    }
   ],
   "source": [
    "df_full.date.describe(datetime_is_numeric=True)"
   ]
  },
  {
   "cell_type": "markdown",
   "metadata": {},
   "source": [
    "Периоды измерения для данных train и test разные"
   ]
  },
  {
   "cell_type": "code",
   "execution_count": 25,
   "metadata": {},
   "outputs": [
    {
     "data": {
      "text/plain": [
       "True"
      ]
     },
     "execution_count": 25,
     "metadata": {},
     "output_type": "execute_result"
    }
   ],
   "source": [
    "df_full.date.isin(df_train.date).sum() == df_train.shape[0]"
   ]
  },
  {
   "cell_type": "code",
   "execution_count": 26,
   "metadata": {},
   "outputs": [
    {
     "data": {
      "text/plain": [
       "True"
      ]
     },
     "execution_count": 26,
     "metadata": {},
     "output_type": "execute_result"
    }
   ],
   "source": [
    "df_full.date.isin(df_test.date).sum() == df_test.shape[0]"
   ]
  },
  {
   "cell_type": "code",
   "execution_count": 27,
   "metadata": {},
   "outputs": [],
   "source": [
    "df_full['row_type'] = df_full.date.isin(df_test.date).map({False: 'train', True: 'test'})"
   ]
  },
  {
   "cell_type": "markdown",
   "metadata": {},
   "source": [
    "Проверяю, что все строки из train и test есть в full, добавляю в full столбец row_type, который определяет к каким данным относится строка к обучающим или к тестовым."
   ]
  },
  {
   "cell_type": "code",
   "execution_count": 28,
   "metadata": {},
   "outputs": [
    {
     "data": {
      "image/png": "[encoded data removed]",
      "text/plain": [
       "<Figure size 864x648 with 1 Axes>"
      ]
     },
     "metadata": {
      "needs_background": "light"
     },
     "output_type": "display_data"
    }
   ],
   "source": [
    "plt.figure(figsize =(12, 9)) \n",
    "plt.xticks(rotation=90)\n",
    "plt.title('Distribution of data by date')\n",
    "sns.histplot(data=df_full, x='date', hue='row_type', multiple='stack', bins=100, alpha=0.5);"
   ]
  },
  {
   "cell_type": "markdown",
   "metadata": {},
   "source": [
    "По графику распределения данных по дате видно, что разделение на train/test строилось не случайным образом. Данные за последние 4 месяца года попадали в test, остальные данные образовали train."
   ]
  },
  {
   "cell_type": "markdown",
   "metadata": {},
   "source": [
    "### Проверьте, что эффективность обогащения рассчитана правильно. Вычислите её на обучающей выборке для признака rougher.output.recovery. Найдите MAE между вашими расчётами и значением признака. Опишите выводы."
   ]
  },
  {
   "cell_type": "code",
   "execution_count": 29,
   "metadata": {},
   "outputs": [],
   "source": [
    "c = df_train['rougher.output.concentrate_au']\n",
    "f = df_train['rougher.input.feed_au']\n",
    "t = df_train['rougher.output.tail_au']"
   ]
  },
  {
   "cell_type": "code",
   "execution_count": 30,
   "metadata": {},
   "outputs": [],
   "source": [
    "recovery = c * (f - t) / f / (c - t) * 100"
   ]
  },
  {
   "cell_type": "code",
   "execution_count": 31,
   "metadata": {},
   "outputs": [
    {
     "data": {
      "text/plain": [
       "0        87.107763\n",
       "1        86.843261\n",
       "2        86.842308\n",
       "3        87.226430\n",
       "4        86.688794\n",
       "           ...    \n",
       "14144    89.574376\n",
       "14145    87.724007\n",
       "14146    88.890579\n",
       "14147    89.858126\n",
       "14148    89.514960\n",
       "Length: 14149, dtype: float64"
      ]
     },
     "execution_count": 31,
     "metadata": {},
     "output_type": "execute_result"
    }
   ],
   "source": [
    "recovery"
   ]
  },
  {
   "cell_type": "code",
   "execution_count": 32,
   "metadata": {
    "scrolled": true
   },
   "outputs": [
    {
     "data": {
      "text/plain": [
       "0        87.107763\n",
       "1        86.843261\n",
       "2        86.842308\n",
       "3        87.226430\n",
       "4        86.688794\n",
       "           ...    \n",
       "14144    89.574376\n",
       "14145    87.724007\n",
       "14146    88.890579\n",
       "14147    89.858126\n",
       "14148    89.514960\n",
       "Name: rougher.output.recovery, Length: 14149, dtype: float64"
      ]
     },
     "execution_count": 32,
     "metadata": {},
     "output_type": "execute_result"
    }
   ],
   "source": [
    "df_train['rougher.output.recovery']"
   ]
  },
  {
   "cell_type": "code",
   "execution_count": 33,
   "metadata": {},
   "outputs": [
    {
     "data": {
      "text/plain": [
       "1.0748911125799084e-14"
      ]
     },
     "execution_count": 33,
     "metadata": {},
     "output_type": "execute_result"
    }
   ],
   "source": [
    "mean_absolute_error(df_train['rougher.output.recovery'], recovery)"
   ]
  },
  {
   "cell_type": "markdown",
   "metadata": {},
   "source": [
    "Средняя абсолютная разница между посчитанным вектором эффективности обогащения и предоставленным очень мала следовательно эффективность обогащения рассчитана правильно."
   ]
  },
  {
   "cell_type": "markdown",
   "metadata": {},
   "source": [
    "### Проанализируйте признаки, недоступные в тестовой выборке. Что это за параметры? К какому типу относятся?"
   ]
  },
  {
   "cell_type": "code",
   "execution_count": 34,
   "metadata": {},
   "outputs": [
    {
     "data": {
      "text/plain": [
       "{'final.output.concentrate_ag',\n",
       " 'final.output.concentrate_au',\n",
       " 'final.output.concentrate_pb',\n",
       " 'final.output.concentrate_sol',\n",
       " 'final.output.recovery',\n",
       " 'final.output.tail_ag',\n",
       " 'final.output.tail_au',\n",
       " 'final.output.tail_pb',\n",
       " 'final.output.tail_sol',\n",
       " 'primary_cleaner.output.concentrate_ag',\n",
       " 'primary_cleaner.output.concentrate_au',\n",
       " 'primary_cleaner.output.concentrate_pb',\n",
       " 'primary_cleaner.output.concentrate_sol',\n",
       " 'primary_cleaner.output.tail_ag',\n",
       " 'primary_cleaner.output.tail_au',\n",
       " 'primary_cleaner.output.tail_pb',\n",
       " 'primary_cleaner.output.tail_sol',\n",
       " 'rougher.calculation.au_pb_ratio',\n",
       " 'rougher.calculation.floatbank10_sulfate_to_au_feed',\n",
       " 'rougher.calculation.floatbank11_sulfate_to_au_feed',\n",
       " 'rougher.calculation.sulfate_to_au_concentrate',\n",
       " 'rougher.output.concentrate_ag',\n",
       " 'rougher.output.concentrate_au',\n",
       " 'rougher.output.concentrate_pb',\n",
       " 'rougher.output.concentrate_sol',\n",
       " 'rougher.output.recovery',\n",
       " 'rougher.output.tail_ag',\n",
       " 'rougher.output.tail_au',\n",
       " 'rougher.output.tail_pb',\n",
       " 'rougher.output.tail_sol',\n",
       " 'secondary_cleaner.output.tail_ag',\n",
       " 'secondary_cleaner.output.tail_au',\n",
       " 'secondary_cleaner.output.tail_pb',\n",
       " 'secondary_cleaner.output.tail_sol'}"
      ]
     },
     "execution_count": 34,
     "metadata": {},
     "output_type": "execute_result"
    }
   ],
   "source": [
    "set(df_train.columns) - set(df_test.columns)"
   ]
  },
  {
   "cell_type": "markdown",
   "metadata": {},
   "source": [
    "Все колонки с типом параметра output и calculation присутствуют в train и  отсутствуют в test. Эти значения можно получить только выполнив один или несколько этапов обработки руды, их нельзя получить до запуска технологического процесса. Соответсвенно, если использовать эти колонки при построении модели, то будет допущена утечка таргета, модель не будет корректно работать на новых данных. Поэтому вышеуказанные колонки следует удалить из обучающей выборки."
   ]
  },
  {
   "cell_type": "code",
   "execution_count": 35,
   "metadata": {},
   "outputs": [],
   "source": [
    "target_leakage = set(df_train.columns) - set(df_test.columns)"
   ]
  },
  {
   "cell_type": "markdown",
   "metadata": {},
   "source": [
    "сохраняю названия колонок в переменную, чтобы не использовать при обучении модели"
   ]
  },
  {
   "cell_type": "markdown",
   "metadata": {},
   "source": [
    "### Проведите предобработку данных."
   ]
  },
  {
   "cell_type": "code",
   "execution_count": 36,
   "metadata": {},
   "outputs": [
    {
     "data": {
      "text/plain": [
       "date                                                     0\n",
       "final.output.concentrate_ag                              1\n",
       "final.output.concentrate_pb                              1\n",
       "final.output.concentrate_sol                           211\n",
       "final.output.concentrate_au                              0\n",
       "final.output.recovery                                    0\n",
       "final.output.tail_ag                                     1\n",
       "final.output.tail_pb                                   101\n",
       "final.output.tail_sol                                    6\n",
       "final.output.tail_au                                     0\n",
       "primary_cleaner.input.sulfate                           24\n",
       "primary_cleaner.input.depressant                        37\n",
       "primary_cleaner.input.feed_size                          0\n",
       "primary_cleaner.input.xanthate                         104\n",
       "primary_cleaner.output.concentrate_ag                    0\n",
       "primary_cleaner.output.concentrate_pb                  116\n",
       "primary_cleaner.output.concentrate_sol                 370\n",
       "primary_cleaner.output.concentrate_au                    0\n",
       "primary_cleaner.output.tail_ag                           4\n",
       "primary_cleaner.output.tail_pb                          21\n",
       "primary_cleaner.output.tail_sol                         62\n",
       "primary_cleaner.output.tail_au                           0\n",
       "primary_cleaner.state.floatbank8_a_air                   4\n",
       "primary_cleaner.state.floatbank8_a_level                 1\n",
       "primary_cleaner.state.floatbank8_b_air                   4\n",
       "primary_cleaner.state.floatbank8_b_level                 1\n",
       "primary_cleaner.state.floatbank8_c_air                   2\n",
       "primary_cleaner.state.floatbank8_c_level                 1\n",
       "primary_cleaner.state.floatbank8_d_air                   3\n",
       "primary_cleaner.state.floatbank8_d_level                 1\n",
       "rougher.calculation.sulfate_to_au_concentrate            2\n",
       "rougher.calculation.floatbank10_sulfate_to_au_feed       2\n",
       "rougher.calculation.floatbank11_sulfate_to_au_feed       2\n",
       "rougher.calculation.au_pb_ratio                          0\n",
       "rougher.input.feed_ag                                    0\n",
       "rougher.input.feed_pb                                  100\n",
       "rougher.input.feed_rate                                 11\n",
       "rougher.input.feed_size                                145\n",
       "rougher.input.feed_sol                                  99\n",
       "rougher.input.feed_au                                    0\n",
       "rougher.input.floatbank10_sulfate                       34\n",
       "rougher.input.floatbank10_xanthate                       8\n",
       "rougher.input.floatbank11_sulfate                       44\n",
       "rougher.input.floatbank11_xanthate                     453\n",
       "rougher.output.concentrate_ag                            0\n",
       "rougher.output.concentrate_pb                            0\n",
       "rougher.output.concentrate_sol                          23\n",
       "rougher.output.concentrate_au                            0\n",
       "rougher.output.recovery                                  0\n",
       "rougher.output.tail_ag                                   1\n",
       "rougher.output.tail_pb                                   0\n",
       "rougher.output.tail_sol                                  0\n",
       "rougher.output.tail_au                                   0\n",
       "rougher.state.floatbank10_a_air                          1\n",
       "rougher.state.floatbank10_a_level                        1\n",
       "rougher.state.floatbank10_b_air                          1\n",
       "rougher.state.floatbank10_b_level                        1\n",
       "rougher.state.floatbank10_c_air                          1\n",
       "rougher.state.floatbank10_c_level                        1\n",
       "rougher.state.floatbank10_d_air                          0\n",
       "rougher.state.floatbank10_d_level                        0\n",
       "rougher.state.floatbank10_e_air                        436\n",
       "rougher.state.floatbank10_e_level                        0\n",
       "rougher.state.floatbank10_f_air                          0\n",
       "rougher.state.floatbank10_f_level                        0\n",
       "secondary_cleaner.output.tail_ag                         2\n",
       "secondary_cleaner.output.tail_pb                        12\n",
       "secondary_cleaner.output.tail_sol                     1748\n",
       "secondary_cleaner.output.tail_au                         0\n",
       "secondary_cleaner.state.floatbank2_a_air               220\n",
       "secondary_cleaner.state.floatbank2_a_level               1\n",
       "secondary_cleaner.state.floatbank2_b_air                23\n",
       "secondary_cleaner.state.floatbank2_b_level               1\n",
       "secondary_cleaner.state.floatbank3_a_air                13\n",
       "secondary_cleaner.state.floatbank3_a_level               1\n",
       "secondary_cleaner.state.floatbank3_b_air                 1\n",
       "secondary_cleaner.state.floatbank3_b_level               1\n",
       "secondary_cleaner.state.floatbank4_a_air                 6\n",
       "secondary_cleaner.state.floatbank4_a_level               1\n",
       "secondary_cleaner.state.floatbank4_b_air                 1\n",
       "secondary_cleaner.state.floatbank4_b_level               1\n",
       "secondary_cleaner.state.floatbank5_a_air                 1\n",
       "secondary_cleaner.state.floatbank5_a_level               1\n",
       "secondary_cleaner.state.floatbank5_b_air                 1\n",
       "secondary_cleaner.state.floatbank5_b_level               1\n",
       "secondary_cleaner.state.floatbank6_a_air                 2\n",
       "secondary_cleaner.state.floatbank6_a_level               1\n",
       "row_type                                                 0\n",
       "dtype: int64"
      ]
     },
     "execution_count": 36,
     "metadata": {},
     "output_type": "execute_result"
    }
   ],
   "source": [
    "df_full.isna().sum()"
   ]
  },
  {
   "cell_type": "markdown",
   "metadata": {},
   "source": [
    "В датасете присутствуют пропуски, так как имеется информация, что показатели в близкие временные промежутки похожи, упорядочу строки по столбцу date и заполню пропуски методом interpolate. Для удобства буду использовать только датасет full, он содержит и строки из train и строки из test."
   ]
  },
  {
   "cell_type": "code",
   "execution_count": 37,
   "metadata": {},
   "outputs": [],
   "source": [
    "df_full = df_full.sort_values(by='date').interpolate()"
   ]
  },
  {
   "cell_type": "code",
   "execution_count": 38,
   "metadata": {},
   "outputs": [
    {
     "data": {
      "text/plain": [
       "date                                                  0\n",
       "final.output.concentrate_ag                           0\n",
       "final.output.concentrate_pb                           0\n",
       "final.output.concentrate_sol                          0\n",
       "final.output.concentrate_au                           0\n",
       "final.output.recovery                                 0\n",
       "final.output.tail_ag                                  0\n",
       "final.output.tail_pb                                  0\n",
       "final.output.tail_sol                                 0\n",
       "final.output.tail_au                                  0\n",
       "primary_cleaner.input.sulfate                         0\n",
       "primary_cleaner.input.depressant                      0\n",
       "primary_cleaner.input.feed_size                       0\n",
       "primary_cleaner.input.xanthate                        0\n",
       "primary_cleaner.output.concentrate_ag                 0\n",
       "primary_cleaner.output.concentrate_pb                 0\n",
       "primary_cleaner.output.concentrate_sol                0\n",
       "primary_cleaner.output.concentrate_au                 0\n",
       "primary_cleaner.output.tail_ag                        0\n",
       "primary_cleaner.output.tail_pb                        0\n",
       "primary_cleaner.output.tail_sol                       0\n",
       "primary_cleaner.output.tail_au                        0\n",
       "primary_cleaner.state.floatbank8_a_air                0\n",
       "primary_cleaner.state.floatbank8_a_level              0\n",
       "primary_cleaner.state.floatbank8_b_air                0\n",
       "primary_cleaner.state.floatbank8_b_level              0\n",
       "primary_cleaner.state.floatbank8_c_air                0\n",
       "primary_cleaner.state.floatbank8_c_level              0\n",
       "primary_cleaner.state.floatbank8_d_air                0\n",
       "primary_cleaner.state.floatbank8_d_level              0\n",
       "rougher.calculation.sulfate_to_au_concentrate         0\n",
       "rougher.calculation.floatbank10_sulfate_to_au_feed    0\n",
       "rougher.calculation.floatbank11_sulfate_to_au_feed    0\n",
       "rougher.calculation.au_pb_ratio                       0\n",
       "rougher.input.feed_ag                                 0\n",
       "rougher.input.feed_pb                                 0\n",
       "rougher.input.feed_rate                               0\n",
       "rougher.input.feed_size                               0\n",
       "rougher.input.feed_sol                                0\n",
       "rougher.input.feed_au                                 0\n",
       "rougher.input.floatbank10_sulfate                     0\n",
       "rougher.input.floatbank10_xanthate                    0\n",
       "rougher.input.floatbank11_sulfate                     0\n",
       "rougher.input.floatbank11_xanthate                    0\n",
       "rougher.output.concentrate_ag                         0\n",
       "rougher.output.concentrate_pb                         0\n",
       "rougher.output.concentrate_sol                        0\n",
       "rougher.output.concentrate_au                         0\n",
       "rougher.output.recovery                               0\n",
       "rougher.output.tail_ag                                0\n",
       "rougher.output.tail_pb                                0\n",
       "rougher.output.tail_sol                               0\n",
       "rougher.output.tail_au                                0\n",
       "rougher.state.floatbank10_a_air                       0\n",
       "rougher.state.floatbank10_a_level                     0\n",
       "rougher.state.floatbank10_b_air                       0\n",
       "rougher.state.floatbank10_b_level                     0\n",
       "rougher.state.floatbank10_c_air                       0\n",
       "rougher.state.floatbank10_c_level                     0\n",
       "rougher.state.floatbank10_d_air                       0\n",
       "rougher.state.floatbank10_d_level                     0\n",
       "rougher.state.floatbank10_e_air                       0\n",
       "rougher.state.floatbank10_e_level                     0\n",
       "rougher.state.floatbank10_f_air                       0\n",
       "rougher.state.floatbank10_f_level                     0\n",
       "secondary_cleaner.output.tail_ag                      0\n",
       "secondary_cleaner.output.tail_pb                      0\n",
       "secondary_cleaner.output.tail_sol                     0\n",
       "secondary_cleaner.output.tail_au                      0\n",
       "secondary_cleaner.state.floatbank2_a_air              0\n",
       "secondary_cleaner.state.floatbank2_a_level            0\n",
       "secondary_cleaner.state.floatbank2_b_air              0\n",
       "secondary_cleaner.state.floatbank2_b_level            0\n",
       "secondary_cleaner.state.floatbank3_a_air              0\n",
       "secondary_cleaner.state.floatbank3_a_level            0\n",
       "secondary_cleaner.state.floatbank3_b_air              0\n",
       "secondary_cleaner.state.floatbank3_b_level            0\n",
       "secondary_cleaner.state.floatbank4_a_air              0\n",
       "secondary_cleaner.state.floatbank4_a_level            0\n",
       "secondary_cleaner.state.floatbank4_b_air              0\n",
       "secondary_cleaner.state.floatbank4_b_level            0\n",
       "secondary_cleaner.state.floatbank5_a_air              0\n",
       "secondary_cleaner.state.floatbank5_a_level            0\n",
       "secondary_cleaner.state.floatbank5_b_air              0\n",
       "secondary_cleaner.state.floatbank5_b_level            0\n",
       "secondary_cleaner.state.floatbank6_a_air              0\n",
       "secondary_cleaner.state.floatbank6_a_level            0\n",
       "row_type                                              0\n",
       "dtype: int64"
      ]
     },
     "execution_count": 38,
     "metadata": {},
     "output_type": "execute_result"
    }
   ],
   "source": [
    "df_full.isna().sum()"
   ]
  },
  {
   "cell_type": "markdown",
   "metadata": {},
   "source": [
    "Пока оставлю данные как есть."
   ]
  },
  {
   "cell_type": "markdown",
   "metadata": {},
   "source": [
    "## Анализ данных"
   ]
  },
  {
   "cell_type": "markdown",
   "metadata": {},
   "source": [
    "### Посмотрите, как меняется концентрация металлов (Au, Ag, Pb) на различных этапах очистки. Опишите выводы."
   ]
  },
  {
   "cell_type": "code",
   "execution_count": 39,
   "metadata": {},
   "outputs": [
    {
     "data": {
      "image/png": "[encoded data removed]",
      "text/plain": [
       "<Figure size 864x648 with 1 Axes>"
      ]
     },
     "metadata": {
      "needs_background": "light"
     },
     "output_type": "display_data"
    },
    {
     "data": {
      "image/png": "[encoded data removed]",
      "text/plain": [
       "<Figure size 864x648 with 1 Axes>"
      ]
     },
     "metadata": {
      "needs_background": "light"
     },
     "output_type": "display_data"
    },
    {
     "data": {
      "image/png": "[encoded data removed]",
      "text/plain": [
       "<Figure size 864x648 with 1 Axes>"
      ]
     },
     "metadata": {
      "needs_background": "light"
     },
     "output_type": "display_data"
    }
   ],
   "source": [
    "for metal in ['au', 'ag', 'pb']:\n",
    "    plt.figure(figsize =(12, 9)) \n",
    "    sns.histplot(df_full[df_full.row_type == 'train'][[f'final.output.concentrate_{metal}',\n",
    "                          f'primary_cleaner.output.concentrate_{metal}',\n",
    "                          f'rougher.output.concentrate_{metal}', \n",
    "                          f'rougher.input.feed_{metal}']],\n",
    "                 bins=100,\n",
    "                 alpha=0.5) \n",
    "    plt.title(f'Concentration of {metal.upper()} at various stages (%)')\n",
    "    plt.legend(title='Stages:', labels=['rougher', 'primary_cleaner', 'secondary_cleaner', 'final'])   "
   ]
  },
  {
   "cell_type": "markdown",
   "metadata": {},
   "source": [
    "По графику концентрации золота в зависимости от этапа очистки видно, что концентрация растет с каждым этапом. Концентрации серебра самая низкая для финального продукта (скорее всего второй этап очистки нацелен на отделения серебра из продукта), на остальных этапах она незначительно колеблется, то вверх, то вниз. Концентрация свинца самая низкая в первоначальном продукте, после флотации она заметно вырастает и далее сильно не меняется. На всех графиках наблюдаются выбросы, случаи, когда концентрация металла близка к 0."
   ]
  },
  {
   "cell_type": "markdown",
   "metadata": {},
   "source": [
    "### Сравните распределения размеров гранул сырья на обучающей и тестовой выборках. Если распределения сильно отличаются друг от друга, оценка модели будет неправильной."
   ]
  },
  {
   "cell_type": "code",
   "execution_count": 40,
   "metadata": {},
   "outputs": [
    {
     "data": {
      "image/png": "[encoded data removed]",
      "text/plain": [
       "<Figure size 864x648 with 1 Axes>"
      ]
     },
     "metadata": {
      "needs_background": "light"
     },
     "output_type": "display_data"
    }
   ],
   "source": [
    "plt.figure(figsize =(12, 9))\n",
    "df_full[df_full.row_type == 'train']['rougher.input.feed_size'].plot.kde()\n",
    "df_full[df_full.row_type == 'test']['rougher.input.feed_size'].plot.kde()\n",
    "plt.legend(labels=['train', 'test'])\n",
    "plt.xlabel('Size')\n",
    "plt.title('Distribution of granule sizes in training and test samples');"
   ]
  },
  {
   "cell_type": "markdown",
   "metadata": {},
   "source": [
    "График показывает, что распределения размеров гранул сырья на обучающей и тестовой выборках похожи, значит данные позволяют корректно провести обучение на train и получить оценку на test."
   ]
  },
  {
   "cell_type": "markdown",
   "metadata": {},
   "source": [
    "### Исследуйте суммарную концентрацию всех веществ на разных стадиях: в сырье, в черновом и финальном концентратах. "
   ]
  },
  {
   "cell_type": "code",
   "execution_count": 41,
   "metadata": {},
   "outputs": [
    {
     "data": {
      "image/png": "[encoded data removed]",
      "text/plain": [
       "<Figure size 864x648 with 1 Axes>"
      ]
     },
     "metadata": {
      "needs_background": "light"
     },
     "output_type": "display_data"
    }
   ],
   "source": [
    "palette = itertools.cycle(sns.color_palette())\n",
    "plt.figure(figsize =(12, 9))\n",
    "for stage in ['rougher.input.feed_', \n",
    "              'rougher.output.concentrate_', \n",
    "              'primary_cleaner.output.concentrate_', \n",
    "              'final.output.concentrate_']:\n",
    "    sns.histplot(df_full[df_full.row_type == 'train'][[f'{stage}au', f'{stage}ag', f'{stage}pb', f'{stage}sol']].sum(axis=1), \n",
    "                 bins=100, \n",
    "                 alpha=0.5, color=next(palette))    \n",
    "plt.title(f'Total concentration of metals (AU, AG, PB, SOL) at various stages (%)')\n",
    "plt.legend(title='Stages:', labels=['rougher', 'primary_cleaner', 'secondary_cleaner', 'final']);  "
   ]
  },
  {
   "cell_type": "markdown",
   "metadata": {},
   "source": [
    "Суммарные концентрации веществ имеют гистограммы похожего вида для чернового материала, материала после флотации и материала после первичной очистки. Концентрация веществ в среднем заметно вырастает после флотации, видимо материал очищается не от металлов, а от каких-то других веществ. После первичной очистки суммарная концентрация метталов падает, скорее всего в ходе нее происходит удаление части металлов из материала. Гистограмма суммарных концентраций металлов в финальном материале отличается меньшим разбросом. На графиках присутствует довольно значительное количество анамалий, когда суммарные концентрации металлов близки к нулю, удалю их из обучающей выборки."
   ]
  },
  {
   "cell_type": "code",
   "execution_count": 42,
   "metadata": {},
   "outputs": [
    {
     "data": {
      "text/plain": [
       "14149"
      ]
     },
     "execution_count": 42,
     "metadata": {},
     "output_type": "execute_result"
    }
   ],
   "source": [
    "df_full[df_full.row_type == 'train'].shape[0]"
   ]
  },
  {
   "cell_type": "code",
   "execution_count": 43,
   "metadata": {},
   "outputs": [
    {
     "data": {
      "text/plain": [
       "5290"
      ]
     },
     "execution_count": 43,
     "metadata": {},
     "output_type": "execute_result"
    }
   ],
   "source": [
    "df_full[df_full.row_type == 'test'].shape[0]"
   ]
  },
  {
   "cell_type": "code",
   "execution_count": 44,
   "metadata": {},
   "outputs": [],
   "source": [
    "anomalies = set()\n",
    "for stage in ['rougher.input.feed_', \n",
    "              'rougher.output.concentrate_', \n",
    "              'primary_cleaner.output.concentrate_', \n",
    "              'final.output.concentrate_']:\n",
    "    anomalies = anomalies | set(df_full[(df_full[[f'{stage}au', f'{stage}ag', f'{stage}pb', f'{stage}sol']].sum(axis=1) < 1) & \n",
    "                                        (df_full.row_type == 'train')].index)"
   ]
  },
  {
   "cell_type": "markdown",
   "metadata": {},
   "source": [
    "В anomalies сохраняю все индексы строк из train, для которых суммарная концентрация металлов на хотя бы одном этапе меньше 1%."
   ]
  },
  {
   "cell_type": "code",
   "execution_count": 45,
   "metadata": {},
   "outputs": [
    {
     "data": {
      "text/plain": [
       "550"
      ]
     },
     "execution_count": 45,
     "metadata": {},
     "output_type": "execute_result"
    }
   ],
   "source": [
    "len(anomalies)"
   ]
  },
  {
   "cell_type": "code",
   "execution_count": 46,
   "metadata": {},
   "outputs": [],
   "source": [
    "df_full.drop(anomalies, axis=0, inplace=True)"
   ]
  },
  {
   "cell_type": "code",
   "execution_count": 47,
   "metadata": {},
   "outputs": [
    {
     "data": {
      "text/plain": [
       "13599"
      ]
     },
     "execution_count": 47,
     "metadata": {},
     "output_type": "execute_result"
    }
   ],
   "source": [
    "df_full[df_full.row_type == 'train'].shape[0]"
   ]
  },
  {
   "cell_type": "code",
   "execution_count": 48,
   "metadata": {},
   "outputs": [
    {
     "data": {
      "text/plain": [
       "5290"
      ]
     },
     "execution_count": 48,
     "metadata": {},
     "output_type": "execute_result"
    }
   ],
   "source": [
    "df_full[df_full.row_type == 'test'].shape[0]"
   ]
  },
  {
   "cell_type": "code",
   "execution_count": 49,
   "metadata": {},
   "outputs": [
    {
     "data": {
      "text/plain": [
       "3.887200508869885"
      ]
     },
     "execution_count": 49,
     "metadata": {},
     "output_type": "execute_result"
    }
   ],
   "source": [
    "550 / 14149 * 100"
   ]
  },
  {
   "cell_type": "markdown",
   "metadata": {},
   "source": [
    "Удалила аномалии из train, проверила, что удалилось правильное количество и что test не был затронут. Аномалии составили примерно 4% от train."
   ]
  },
  {
   "cell_type": "markdown",
   "metadata": {},
   "source": [
    "### Подготовить X_train, y_train_rougher, y_train_final, X_test, y_test_rougher, y_test_final"
   ]
  },
  {
   "cell_type": "code",
   "execution_count": 50,
   "metadata": {},
   "outputs": [
    {
     "data": {
      "text/plain": [
       "0        87.107763\n",
       "1        86.843261\n",
       "2        86.842308\n",
       "3        87.226430\n",
       "4        86.688794\n",
       "           ...    \n",
       "19434    89.574376\n",
       "19435    87.724007\n",
       "19436    88.890579\n",
       "19437    89.858126\n",
       "19438    89.514960\n",
       "Name: rougher.output.recovery, Length: 13599, dtype: float64"
      ]
     },
     "execution_count": 50,
     "metadata": {},
     "output_type": "execute_result"
    }
   ],
   "source": [
    "y_train_rougher = df_full[df_full.row_type == 'train']['rougher.output.recovery']\n",
    "y_train_rougher"
   ]
  },
  {
   "cell_type": "code",
   "execution_count": 51,
   "metadata": {},
   "outputs": [
    {
     "data": {
      "text/plain": [
       "0        70.541216\n",
       "1        69.266198\n",
       "2        68.116445\n",
       "3        68.347543\n",
       "4        66.927016\n",
       "           ...    \n",
       "19434    73.755150\n",
       "19435    69.049291\n",
       "19436    67.002189\n",
       "19437    65.523246\n",
       "19438    70.281454\n",
       "Name: final.output.recovery, Length: 13599, dtype: float64"
      ]
     },
     "execution_count": 51,
     "metadata": {},
     "output_type": "execute_result"
    }
   ],
   "source": [
    "y_train_final = df_full[df_full.row_type == 'train']['final.output.recovery']\n",
    "y_train_final"
   ]
  },
  {
   "cell_type": "markdown",
   "metadata": {},
   "source": [
    "Сохраняю два вектора таргета для обучающей выборки"
   ]
  },
  {
   "cell_type": "code",
   "execution_count": 52,
   "metadata": {},
   "outputs": [],
   "source": [
    "X_train = df_full[df_full.row_type == 'train'].drop(target_leakage, axis=1)"
   ]
  },
  {
   "cell_type": "markdown",
   "metadata": {},
   "source": [
    "Удаляю колонки, которые могут привести к утечке таргета и таргет"
   ]
  },
  {
   "cell_type": "code",
   "execution_count": 53,
   "metadata": {},
   "outputs": [],
   "source": [
    "X_train.drop(['date', 'row_type'], axis=1, inplace=True)"
   ]
  },
  {
   "cell_type": "markdown",
   "metadata": {},
   "source": [
    "Удаляю колонки date, row_type, они не понадабятся для обучения модели"
   ]
  },
  {
   "cell_type": "code",
   "execution_count": 54,
   "metadata": {},
   "outputs": [
    {
     "data": {
      "text/html": [
       "<div>\n",
       "<style scoped>\n",
       "    .dataframe tbody tr th:only-of-type {\n",
       "        vertical-align: middle;\n",
       "    }\n",
       "\n",
       "    .dataframe tbody tr th {\n",
       "        vertical-align: top;\n",
       "    }\n",
       "\n",
       "    .dataframe thead th {\n",
       "        text-align: right;\n",
       "    }\n",
       "</style>\n",
       "<table border=\"1\" class=\"dataframe\">\n",
       "  <thead>\n",
       "    <tr style=\"text-align: right;\">\n",
       "      <th></th>\n",
       "      <th>primary_cleaner.input.sulfate</th>\n",
       "      <th>primary_cleaner.input.depressant</th>\n",
       "      <th>primary_cleaner.input.feed_size</th>\n",
       "      <th>primary_cleaner.input.xanthate</th>\n",
       "      <th>primary_cleaner.state.floatbank8_a_air</th>\n",
       "      <th>primary_cleaner.state.floatbank8_a_level</th>\n",
       "      <th>primary_cleaner.state.floatbank8_b_air</th>\n",
       "      <th>primary_cleaner.state.floatbank8_b_level</th>\n",
       "      <th>primary_cleaner.state.floatbank8_c_air</th>\n",
       "      <th>primary_cleaner.state.floatbank8_c_level</th>\n",
       "      <th>...</th>\n",
       "      <th>secondary_cleaner.state.floatbank4_a_air</th>\n",
       "      <th>secondary_cleaner.state.floatbank4_a_level</th>\n",
       "      <th>secondary_cleaner.state.floatbank4_b_air</th>\n",
       "      <th>secondary_cleaner.state.floatbank4_b_level</th>\n",
       "      <th>secondary_cleaner.state.floatbank5_a_air</th>\n",
       "      <th>secondary_cleaner.state.floatbank5_a_level</th>\n",
       "      <th>secondary_cleaner.state.floatbank5_b_air</th>\n",
       "      <th>secondary_cleaner.state.floatbank5_b_level</th>\n",
       "      <th>secondary_cleaner.state.floatbank6_a_air</th>\n",
       "      <th>secondary_cleaner.state.floatbank6_a_level</th>\n",
       "    </tr>\n",
       "  </thead>\n",
       "  <tbody>\n",
       "    <tr>\n",
       "      <th>0</th>\n",
       "      <td>127.092003</td>\n",
       "      <td>10.128295</td>\n",
       "      <td>7.25</td>\n",
       "      <td>0.988759</td>\n",
       "      <td>1549.775757</td>\n",
       "      <td>-498.912140</td>\n",
       "      <td>1551.434204</td>\n",
       "      <td>-516.403442</td>\n",
       "      <td>1549.873901</td>\n",
       "      <td>-498.666595</td>\n",
       "      <td>...</td>\n",
       "      <td>14.016835</td>\n",
       "      <td>-502.488007</td>\n",
       "      <td>12.099931</td>\n",
       "      <td>-504.715942</td>\n",
       "      <td>9.925633</td>\n",
       "      <td>-498.310211</td>\n",
       "      <td>8.079666</td>\n",
       "      <td>-500.470978</td>\n",
       "      <td>14.151341</td>\n",
       "      <td>-605.841980</td>\n",
       "    </tr>\n",
       "    <tr>\n",
       "      <th>1</th>\n",
       "      <td>125.629232</td>\n",
       "      <td>10.296251</td>\n",
       "      <td>7.25</td>\n",
       "      <td>1.002663</td>\n",
       "      <td>1576.166671</td>\n",
       "      <td>-500.904965</td>\n",
       "      <td>1575.950626</td>\n",
       "      <td>-499.865889</td>\n",
       "      <td>1575.994189</td>\n",
       "      <td>-499.315107</td>\n",
       "      <td>...</td>\n",
       "      <td>13.992281</td>\n",
       "      <td>-505.503262</td>\n",
       "      <td>11.950531</td>\n",
       "      <td>-501.331529</td>\n",
       "      <td>10.039245</td>\n",
       "      <td>-500.169983</td>\n",
       "      <td>7.984757</td>\n",
       "      <td>-500.582168</td>\n",
       "      <td>13.998353</td>\n",
       "      <td>-599.787184</td>\n",
       "    </tr>\n",
       "    <tr>\n",
       "      <th>2</th>\n",
       "      <td>123.819808</td>\n",
       "      <td>11.316280</td>\n",
       "      <td>7.25</td>\n",
       "      <td>0.991265</td>\n",
       "      <td>1601.556163</td>\n",
       "      <td>-499.997791</td>\n",
       "      <td>1600.386685</td>\n",
       "      <td>-500.607762</td>\n",
       "      <td>1602.003542</td>\n",
       "      <td>-500.870069</td>\n",
       "      <td>...</td>\n",
       "      <td>14.015015</td>\n",
       "      <td>-502.520901</td>\n",
       "      <td>11.912783</td>\n",
       "      <td>-501.133383</td>\n",
       "      <td>10.070913</td>\n",
       "      <td>-500.129135</td>\n",
       "      <td>8.013877</td>\n",
       "      <td>-500.517572</td>\n",
       "      <td>14.028663</td>\n",
       "      <td>-601.427363</td>\n",
       "    </tr>\n",
       "    <tr>\n",
       "      <th>3</th>\n",
       "      <td>122.270188</td>\n",
       "      <td>11.322140</td>\n",
       "      <td>7.25</td>\n",
       "      <td>0.996739</td>\n",
       "      <td>1599.968720</td>\n",
       "      <td>-500.951778</td>\n",
       "      <td>1600.659236</td>\n",
       "      <td>-499.677094</td>\n",
       "      <td>1600.304144</td>\n",
       "      <td>-500.727997</td>\n",
       "      <td>...</td>\n",
       "      <td>14.036510</td>\n",
       "      <td>-500.857308</td>\n",
       "      <td>11.999550</td>\n",
       "      <td>-501.193686</td>\n",
       "      <td>9.970366</td>\n",
       "      <td>-499.201640</td>\n",
       "      <td>7.977324</td>\n",
       "      <td>-500.255908</td>\n",
       "      <td>14.005551</td>\n",
       "      <td>-599.996129</td>\n",
       "    </tr>\n",
       "    <tr>\n",
       "      <th>4</th>\n",
       "      <td>117.988169</td>\n",
       "      <td>11.913613</td>\n",
       "      <td>7.25</td>\n",
       "      <td>1.009869</td>\n",
       "      <td>1601.339707</td>\n",
       "      <td>-498.975456</td>\n",
       "      <td>1601.437854</td>\n",
       "      <td>-500.323246</td>\n",
       "      <td>1599.581894</td>\n",
       "      <td>-500.888152</td>\n",
       "      <td>...</td>\n",
       "      <td>14.027298</td>\n",
       "      <td>-499.838632</td>\n",
       "      <td>11.953070</td>\n",
       "      <td>-501.053894</td>\n",
       "      <td>9.925709</td>\n",
       "      <td>-501.686727</td>\n",
       "      <td>7.894242</td>\n",
       "      <td>-500.356035</td>\n",
       "      <td>13.996647</td>\n",
       "      <td>-601.496691</td>\n",
       "    </tr>\n",
       "    <tr>\n",
       "      <th>...</th>\n",
       "      <td>...</td>\n",
       "      <td>...</td>\n",
       "      <td>...</td>\n",
       "      <td>...</td>\n",
       "      <td>...</td>\n",
       "      <td>...</td>\n",
       "      <td>...</td>\n",
       "      <td>...</td>\n",
       "      <td>...</td>\n",
       "      <td>...</td>\n",
       "      <td>...</td>\n",
       "      <td>...</td>\n",
       "      <td>...</td>\n",
       "      <td>...</td>\n",
       "      <td>...</td>\n",
       "      <td>...</td>\n",
       "      <td>...</td>\n",
       "      <td>...</td>\n",
       "      <td>...</td>\n",
       "      <td>...</td>\n",
       "      <td>...</td>\n",
       "    </tr>\n",
       "    <tr>\n",
       "      <th>19434</th>\n",
       "      <td>123.381787</td>\n",
       "      <td>8.028927</td>\n",
       "      <td>6.50</td>\n",
       "      <td>1.304232</td>\n",
       "      <td>1648.421193</td>\n",
       "      <td>-400.382169</td>\n",
       "      <td>1648.742005</td>\n",
       "      <td>-400.359661</td>\n",
       "      <td>1648.578230</td>\n",
       "      <td>-399.363624</td>\n",
       "      <td>...</td>\n",
       "      <td>23.031497</td>\n",
       "      <td>-501.167942</td>\n",
       "      <td>20.007571</td>\n",
       "      <td>-499.740028</td>\n",
       "      <td>18.006038</td>\n",
       "      <td>-499.834374</td>\n",
       "      <td>13.001114</td>\n",
       "      <td>-500.155694</td>\n",
       "      <td>20.007840</td>\n",
       "      <td>-501.296428</td>\n",
       "    </tr>\n",
       "    <tr>\n",
       "      <th>19435</th>\n",
       "      <td>120.878188</td>\n",
       "      <td>7.962636</td>\n",
       "      <td>6.50</td>\n",
       "      <td>1.302419</td>\n",
       "      <td>1649.820162</td>\n",
       "      <td>-399.930973</td>\n",
       "      <td>1649.357538</td>\n",
       "      <td>-399.721222</td>\n",
       "      <td>1648.656192</td>\n",
       "      <td>-401.195834</td>\n",
       "      <td>...</td>\n",
       "      <td>22.960095</td>\n",
       "      <td>-501.612783</td>\n",
       "      <td>20.035660</td>\n",
       "      <td>-500.251357</td>\n",
       "      <td>17.998535</td>\n",
       "      <td>-500.395178</td>\n",
       "      <td>12.954048</td>\n",
       "      <td>-499.895163</td>\n",
       "      <td>19.968498</td>\n",
       "      <td>-501.041608</td>\n",
       "    </tr>\n",
       "    <tr>\n",
       "      <th>19436</th>\n",
       "      <td>105.666118</td>\n",
       "      <td>7.955111</td>\n",
       "      <td>6.50</td>\n",
       "      <td>1.315926</td>\n",
       "      <td>1649.166761</td>\n",
       "      <td>-399.888631</td>\n",
       "      <td>1649.196904</td>\n",
       "      <td>-399.677571</td>\n",
       "      <td>1647.896999</td>\n",
       "      <td>-399.988275</td>\n",
       "      <td>...</td>\n",
       "      <td>23.015718</td>\n",
       "      <td>-501.711599</td>\n",
       "      <td>19.951231</td>\n",
       "      <td>-499.857027</td>\n",
       "      <td>18.019543</td>\n",
       "      <td>-500.451156</td>\n",
       "      <td>13.023431</td>\n",
       "      <td>-499.914391</td>\n",
       "      <td>19.990885</td>\n",
       "      <td>-501.518452</td>\n",
       "    </tr>\n",
       "    <tr>\n",
       "      <th>19437</th>\n",
       "      <td>98.880538</td>\n",
       "      <td>7.984164</td>\n",
       "      <td>6.50</td>\n",
       "      <td>1.241969</td>\n",
       "      <td>1646.547763</td>\n",
       "      <td>-398.977083</td>\n",
       "      <td>1648.212240</td>\n",
       "      <td>-400.383265</td>\n",
       "      <td>1648.917387</td>\n",
       "      <td>-399.521344</td>\n",
       "      <td>...</td>\n",
       "      <td>23.024963</td>\n",
       "      <td>-501.153409</td>\n",
       "      <td>20.054122</td>\n",
       "      <td>-500.314711</td>\n",
       "      <td>17.979515</td>\n",
       "      <td>-499.272871</td>\n",
       "      <td>12.992404</td>\n",
       "      <td>-499.976268</td>\n",
       "      <td>20.013986</td>\n",
       "      <td>-500.625471</td>\n",
       "    </tr>\n",
       "    <tr>\n",
       "      <th>19438</th>\n",
       "      <td>95.248427</td>\n",
       "      <td>8.078957</td>\n",
       "      <td>6.50</td>\n",
       "      <td>1.283045</td>\n",
       "      <td>1648.759906</td>\n",
       "      <td>-399.862053</td>\n",
       "      <td>1650.135395</td>\n",
       "      <td>-399.957321</td>\n",
       "      <td>1648.831890</td>\n",
       "      <td>-400.586116</td>\n",
       "      <td>...</td>\n",
       "      <td>23.018622</td>\n",
       "      <td>-500.492702</td>\n",
       "      <td>20.020205</td>\n",
       "      <td>-500.220296</td>\n",
       "      <td>17.963512</td>\n",
       "      <td>-499.939490</td>\n",
       "      <td>12.990306</td>\n",
       "      <td>-500.080993</td>\n",
       "      <td>19.990336</td>\n",
       "      <td>-499.191575</td>\n",
       "    </tr>\n",
       "  </tbody>\n",
       "</table>\n",
       "<p>13599 rows × 52 columns</p>\n",
       "</div>"
      ],
      "text/plain": [
       "       primary_cleaner.input.sulfate  primary_cleaner.input.depressant  \\\n",
       "0                         127.092003                         10.128295   \n",
       "1                         125.629232                         10.296251   \n",
       "2                         123.819808                         11.316280   \n",
       "3                         122.270188                         11.322140   \n",
       "4                         117.988169                         11.913613   \n",
       "...                              ...                               ...   \n",
       "19434                     123.381787                          8.028927   \n",
       "19435                     120.878188                          7.962636   \n",
       "19436                     105.666118                          7.955111   \n",
       "19437                      98.880538                          7.984164   \n",
       "19438                      95.248427                          8.078957   \n",
       "\n",
       "       primary_cleaner.input.feed_size  primary_cleaner.input.xanthate  \\\n",
       "0                                 7.25                        0.988759   \n",
       "1                                 7.25                        1.002663   \n",
       "2                                 7.25                        0.991265   \n",
       "3                                 7.25                        0.996739   \n",
       "4                                 7.25                        1.009869   \n",
       "...                                ...                             ...   \n",
       "19434                             6.50                        1.304232   \n",
       "19435                             6.50                        1.302419   \n",
       "19436                             6.50                        1.315926   \n",
       "19437                             6.50                        1.241969   \n",
       "19438                             6.50                        1.283045   \n",
       "\n",
       "       primary_cleaner.state.floatbank8_a_air  \\\n",
       "0                                 1549.775757   \n",
       "1                                 1576.166671   \n",
       "2                                 1601.556163   \n",
       "3                                 1599.968720   \n",
       "4                                 1601.339707   \n",
       "...                                       ...   \n",
       "19434                             1648.421193   \n",
       "19435                             1649.820162   \n",
       "19436                             1649.166761   \n",
       "19437                             1646.547763   \n",
       "19438                             1648.759906   \n",
       "\n",
       "       primary_cleaner.state.floatbank8_a_level  \\\n",
       "0                                   -498.912140   \n",
       "1                                   -500.904965   \n",
       "2                                   -499.997791   \n",
       "3                                   -500.951778   \n",
       "4                                   -498.975456   \n",
       "...                                         ...   \n",
       "19434                               -400.382169   \n",
       "19435                               -399.930973   \n",
       "19436                               -399.888631   \n",
       "19437                               -398.977083   \n",
       "19438                               -399.862053   \n",
       "\n",
       "       primary_cleaner.state.floatbank8_b_air  \\\n",
       "0                                 1551.434204   \n",
       "1                                 1575.950626   \n",
       "2                                 1600.386685   \n",
       "3                                 1600.659236   \n",
       "4                                 1601.437854   \n",
       "...                                       ...   \n",
       "19434                             1648.742005   \n",
       "19435                             1649.357538   \n",
       "19436                             1649.196904   \n",
       "19437                             1648.212240   \n",
       "19438                             1650.135395   \n",
       "\n",
       "       primary_cleaner.state.floatbank8_b_level  \\\n",
       "0                                   -516.403442   \n",
       "1                                   -499.865889   \n",
       "2                                   -500.607762   \n",
       "3                                   -499.677094   \n",
       "4                                   -500.323246   \n",
       "...                                         ...   \n",
       "19434                               -400.359661   \n",
       "19435                               -399.721222   \n",
       "19436                               -399.677571   \n",
       "19437                               -400.383265   \n",
       "19438                               -399.957321   \n",
       "\n",
       "       primary_cleaner.state.floatbank8_c_air  \\\n",
       "0                                 1549.873901   \n",
       "1                                 1575.994189   \n",
       "2                                 1602.003542   \n",
       "3                                 1600.304144   \n",
       "4                                 1599.581894   \n",
       "...                                       ...   \n",
       "19434                             1648.578230   \n",
       "19435                             1648.656192   \n",
       "19436                             1647.896999   \n",
       "19437                             1648.917387   \n",
       "19438                             1648.831890   \n",
       "\n",
       "       primary_cleaner.state.floatbank8_c_level  ...  \\\n",
       "0                                   -498.666595  ...   \n",
       "1                                   -499.315107  ...   \n",
       "2                                   -500.870069  ...   \n",
       "3                                   -500.727997  ...   \n",
       "4                                   -500.888152  ...   \n",
       "...                                         ...  ...   \n",
       "19434                               -399.363624  ...   \n",
       "19435                               -401.195834  ...   \n",
       "19436                               -399.988275  ...   \n",
       "19437                               -399.521344  ...   \n",
       "19438                               -400.586116  ...   \n",
       "\n",
       "       secondary_cleaner.state.floatbank4_a_air  \\\n",
       "0                                     14.016835   \n",
       "1                                     13.992281   \n",
       "2                                     14.015015   \n",
       "3                                     14.036510   \n",
       "4                                     14.027298   \n",
       "...                                         ...   \n",
       "19434                                 23.031497   \n",
       "19435                                 22.960095   \n",
       "19436                                 23.015718   \n",
       "19437                                 23.024963   \n",
       "19438                                 23.018622   \n",
       "\n",
       "       secondary_cleaner.state.floatbank4_a_level  \\\n",
       "0                                     -502.488007   \n",
       "1                                     -505.503262   \n",
       "2                                     -502.520901   \n",
       "3                                     -500.857308   \n",
       "4                                     -499.838632   \n",
       "...                                           ...   \n",
       "19434                                 -501.167942   \n",
       "19435                                 -501.612783   \n",
       "19436                                 -501.711599   \n",
       "19437                                 -501.153409   \n",
       "19438                                 -500.492702   \n",
       "\n",
       "       secondary_cleaner.state.floatbank4_b_air  \\\n",
       "0                                     12.099931   \n",
       "1                                     11.950531   \n",
       "2                                     11.912783   \n",
       "3                                     11.999550   \n",
       "4                                     11.953070   \n",
       "...                                         ...   \n",
       "19434                                 20.007571   \n",
       "19435                                 20.035660   \n",
       "19436                                 19.951231   \n",
       "19437                                 20.054122   \n",
       "19438                                 20.020205   \n",
       "\n",
       "       secondary_cleaner.state.floatbank4_b_level  \\\n",
       "0                                     -504.715942   \n",
       "1                                     -501.331529   \n",
       "2                                     -501.133383   \n",
       "3                                     -501.193686   \n",
       "4                                     -501.053894   \n",
       "...                                           ...   \n",
       "19434                                 -499.740028   \n",
       "19435                                 -500.251357   \n",
       "19436                                 -499.857027   \n",
       "19437                                 -500.314711   \n",
       "19438                                 -500.220296   \n",
       "\n",
       "       secondary_cleaner.state.floatbank5_a_air  \\\n",
       "0                                      9.925633   \n",
       "1                                     10.039245   \n",
       "2                                     10.070913   \n",
       "3                                      9.970366   \n",
       "4                                      9.925709   \n",
       "...                                         ...   \n",
       "19434                                 18.006038   \n",
       "19435                                 17.998535   \n",
       "19436                                 18.019543   \n",
       "19437                                 17.979515   \n",
       "19438                                 17.963512   \n",
       "\n",
       "       secondary_cleaner.state.floatbank5_a_level  \\\n",
       "0                                     -498.310211   \n",
       "1                                     -500.169983   \n",
       "2                                     -500.129135   \n",
       "3                                     -499.201640   \n",
       "4                                     -501.686727   \n",
       "...                                           ...   \n",
       "19434                                 -499.834374   \n",
       "19435                                 -500.395178   \n",
       "19436                                 -500.451156   \n",
       "19437                                 -499.272871   \n",
       "19438                                 -499.939490   \n",
       "\n",
       "       secondary_cleaner.state.floatbank5_b_air  \\\n",
       "0                                      8.079666   \n",
       "1                                      7.984757   \n",
       "2                                      8.013877   \n",
       "3                                      7.977324   \n",
       "4                                      7.894242   \n",
       "...                                         ...   \n",
       "19434                                 13.001114   \n",
       "19435                                 12.954048   \n",
       "19436                                 13.023431   \n",
       "19437                                 12.992404   \n",
       "19438                                 12.990306   \n",
       "\n",
       "       secondary_cleaner.state.floatbank5_b_level  \\\n",
       "0                                     -500.470978   \n",
       "1                                     -500.582168   \n",
       "2                                     -500.517572   \n",
       "3                                     -500.255908   \n",
       "4                                     -500.356035   \n",
       "...                                           ...   \n",
       "19434                                 -500.155694   \n",
       "19435                                 -499.895163   \n",
       "19436                                 -499.914391   \n",
       "19437                                 -499.976268   \n",
       "19438                                 -500.080993   \n",
       "\n",
       "       secondary_cleaner.state.floatbank6_a_air  \\\n",
       "0                                     14.151341   \n",
       "1                                     13.998353   \n",
       "2                                     14.028663   \n",
       "3                                     14.005551   \n",
       "4                                     13.996647   \n",
       "...                                         ...   \n",
       "19434                                 20.007840   \n",
       "19435                                 19.968498   \n",
       "19436                                 19.990885   \n",
       "19437                                 20.013986   \n",
       "19438                                 19.990336   \n",
       "\n",
       "       secondary_cleaner.state.floatbank6_a_level  \n",
       "0                                     -605.841980  \n",
       "1                                     -599.787184  \n",
       "2                                     -601.427363  \n",
       "3                                     -599.996129  \n",
       "4                                     -601.496691  \n",
       "...                                           ...  \n",
       "19434                                 -501.296428  \n",
       "19435                                 -501.041608  \n",
       "19436                                 -501.518452  \n",
       "19437                                 -500.625471  \n",
       "19438                                 -499.191575  \n",
       "\n",
       "[13599 rows x 52 columns]"
      ]
     },
     "execution_count": 54,
     "metadata": {},
     "output_type": "execute_result"
    }
   ],
   "source": [
    "X_train"
   ]
  },
  {
   "cell_type": "code",
   "execution_count": 55,
   "metadata": {},
   "outputs": [
    {
     "data": {
      "text/plain": [
       "4682     89.993421\n",
       "4683     88.089657\n",
       "4684     88.412756\n",
       "4685     87.360133\n",
       "4686     83.236367\n",
       "           ...    \n",
       "15055    95.172585\n",
       "15056    94.575036\n",
       "15057    93.018138\n",
       "15058    92.599042\n",
       "15059    91.177695\n",
       "Name: rougher.output.recovery, Length: 5290, dtype: float64"
      ]
     },
     "execution_count": 55,
     "metadata": {},
     "output_type": "execute_result"
    }
   ],
   "source": [
    "y_test_rougher = df_full[df_full.row_type == 'test']['rougher.output.recovery']\n",
    "y_test_rougher"
   ]
  },
  {
   "cell_type": "code",
   "execution_count": 56,
   "metadata": {},
   "outputs": [
    {
     "data": {
      "text/plain": [
       "4682     70.273583\n",
       "4683     68.910432\n",
       "4684     68.143213\n",
       "4685     67.776393\n",
       "4686     61.467078\n",
       "           ...    \n",
       "15055    68.919891\n",
       "15056    68.440582\n",
       "15057    67.092759\n",
       "15058    68.061186\n",
       "15059    71.699976\n",
       "Name: final.output.recovery, Length: 5290, dtype: float64"
      ]
     },
     "execution_count": 56,
     "metadata": {},
     "output_type": "execute_result"
    }
   ],
   "source": [
    "y_test_final = df_full[df_full.row_type == 'test']['final.output.recovery']\n",
    "y_test_final"
   ]
  },
  {
   "cell_type": "code",
   "execution_count": 57,
   "metadata": {},
   "outputs": [],
   "source": [
    "X_test = df_full[df_full.row_type == 'test'].drop(target_leakage, axis=1)"
   ]
  },
  {
   "cell_type": "code",
   "execution_count": 58,
   "metadata": {},
   "outputs": [],
   "source": [
    "X_test.drop(['date', 'row_type'], axis=1, inplace=True)"
   ]
  },
  {
   "cell_type": "code",
   "execution_count": 59,
   "metadata": {},
   "outputs": [
    {
     "data": {
      "text/html": [
       "<div>\n",
       "<style scoped>\n",
       "    .dataframe tbody tr th:only-of-type {\n",
       "        vertical-align: middle;\n",
       "    }\n",
       "\n",
       "    .dataframe tbody tr th {\n",
       "        vertical-align: top;\n",
       "    }\n",
       "\n",
       "    .dataframe thead th {\n",
       "        text-align: right;\n",
       "    }\n",
       "</style>\n",
       "<table border=\"1\" class=\"dataframe\">\n",
       "  <thead>\n",
       "    <tr style=\"text-align: right;\">\n",
       "      <th></th>\n",
       "      <th>primary_cleaner.input.sulfate</th>\n",
       "      <th>primary_cleaner.input.depressant</th>\n",
       "      <th>primary_cleaner.input.feed_size</th>\n",
       "      <th>primary_cleaner.input.xanthate</th>\n",
       "      <th>primary_cleaner.state.floatbank8_a_air</th>\n",
       "      <th>primary_cleaner.state.floatbank8_a_level</th>\n",
       "      <th>primary_cleaner.state.floatbank8_b_air</th>\n",
       "      <th>primary_cleaner.state.floatbank8_b_level</th>\n",
       "      <th>primary_cleaner.state.floatbank8_c_air</th>\n",
       "      <th>primary_cleaner.state.floatbank8_c_level</th>\n",
       "      <th>...</th>\n",
       "      <th>secondary_cleaner.state.floatbank4_a_air</th>\n",
       "      <th>secondary_cleaner.state.floatbank4_a_level</th>\n",
       "      <th>secondary_cleaner.state.floatbank4_b_air</th>\n",
       "      <th>secondary_cleaner.state.floatbank4_b_level</th>\n",
       "      <th>secondary_cleaner.state.floatbank5_a_air</th>\n",
       "      <th>secondary_cleaner.state.floatbank5_a_level</th>\n",
       "      <th>secondary_cleaner.state.floatbank5_b_air</th>\n",
       "      <th>secondary_cleaner.state.floatbank5_b_level</th>\n",
       "      <th>secondary_cleaner.state.floatbank6_a_air</th>\n",
       "      <th>secondary_cleaner.state.floatbank6_a_level</th>\n",
       "    </tr>\n",
       "  </thead>\n",
       "  <tbody>\n",
       "    <tr>\n",
       "      <th>4682</th>\n",
       "      <td>210.800909</td>\n",
       "      <td>14.993118</td>\n",
       "      <td>8.080000</td>\n",
       "      <td>1.005021</td>\n",
       "      <td>1398.981301</td>\n",
       "      <td>-500.225577</td>\n",
       "      <td>1399.144926</td>\n",
       "      <td>-499.919735</td>\n",
       "      <td>1400.102998</td>\n",
       "      <td>-500.704369</td>\n",
       "      <td>...</td>\n",
       "      <td>12.023554</td>\n",
       "      <td>-497.795834</td>\n",
       "      <td>8.016656</td>\n",
       "      <td>-501.289139</td>\n",
       "      <td>7.946562</td>\n",
       "      <td>-432.317850</td>\n",
       "      <td>4.872511</td>\n",
       "      <td>-500.037437</td>\n",
       "      <td>26.705889</td>\n",
       "      <td>-499.709414</td>\n",
       "    </tr>\n",
       "    <tr>\n",
       "      <th>4683</th>\n",
       "      <td>215.392455</td>\n",
       "      <td>14.987471</td>\n",
       "      <td>8.080000</td>\n",
       "      <td>0.990469</td>\n",
       "      <td>1398.777912</td>\n",
       "      <td>-500.057435</td>\n",
       "      <td>1398.055362</td>\n",
       "      <td>-499.778182</td>\n",
       "      <td>1396.151033</td>\n",
       "      <td>-499.240168</td>\n",
       "      <td>...</td>\n",
       "      <td>12.058140</td>\n",
       "      <td>-498.695773</td>\n",
       "      <td>8.130979</td>\n",
       "      <td>-499.634209</td>\n",
       "      <td>7.958270</td>\n",
       "      <td>-525.839648</td>\n",
       "      <td>4.878850</td>\n",
       "      <td>-500.162375</td>\n",
       "      <td>25.019940</td>\n",
       "      <td>-499.819438</td>\n",
       "    </tr>\n",
       "    <tr>\n",
       "      <th>4684</th>\n",
       "      <td>215.259946</td>\n",
       "      <td>12.884934</td>\n",
       "      <td>7.786667</td>\n",
       "      <td>0.996043</td>\n",
       "      <td>1398.493666</td>\n",
       "      <td>-500.868360</td>\n",
       "      <td>1398.860436</td>\n",
       "      <td>-499.764529</td>\n",
       "      <td>1398.075709</td>\n",
       "      <td>-502.151509</td>\n",
       "      <td>...</td>\n",
       "      <td>11.962366</td>\n",
       "      <td>-498.767484</td>\n",
       "      <td>8.096893</td>\n",
       "      <td>-500.827423</td>\n",
       "      <td>8.071056</td>\n",
       "      <td>-500.801673</td>\n",
       "      <td>4.905125</td>\n",
       "      <td>-499.828510</td>\n",
       "      <td>24.994862</td>\n",
       "      <td>-500.622559</td>\n",
       "    </tr>\n",
       "    <tr>\n",
       "      <th>4685</th>\n",
       "      <td>215.336236</td>\n",
       "      <td>12.006805</td>\n",
       "      <td>7.640000</td>\n",
       "      <td>0.863514</td>\n",
       "      <td>1399.618111</td>\n",
       "      <td>-498.863574</td>\n",
       "      <td>1397.440120</td>\n",
       "      <td>-499.211024</td>\n",
       "      <td>1400.129303</td>\n",
       "      <td>-498.355873</td>\n",
       "      <td>...</td>\n",
       "      <td>12.033091</td>\n",
       "      <td>-498.350935</td>\n",
       "      <td>8.074946</td>\n",
       "      <td>-499.474407</td>\n",
       "      <td>7.897085</td>\n",
       "      <td>-500.868509</td>\n",
       "      <td>4.931400</td>\n",
       "      <td>-499.963623</td>\n",
       "      <td>24.948919</td>\n",
       "      <td>-498.709987</td>\n",
       "    </tr>\n",
       "    <tr>\n",
       "      <th>4686</th>\n",
       "      <td>199.099327</td>\n",
       "      <td>10.682530</td>\n",
       "      <td>7.530000</td>\n",
       "      <td>0.805575</td>\n",
       "      <td>1401.268123</td>\n",
       "      <td>-500.808305</td>\n",
       "      <td>1398.128818</td>\n",
       "      <td>-499.504543</td>\n",
       "      <td>1402.172226</td>\n",
       "      <td>-500.810606</td>\n",
       "      <td>...</td>\n",
       "      <td>12.025367</td>\n",
       "      <td>-500.786497</td>\n",
       "      <td>8.054678</td>\n",
       "      <td>-500.397500</td>\n",
       "      <td>8.107890</td>\n",
       "      <td>-509.526725</td>\n",
       "      <td>4.957674</td>\n",
       "      <td>-500.360026</td>\n",
       "      <td>25.003331</td>\n",
       "      <td>-500.856333</td>\n",
       "    </tr>\n",
       "    <tr>\n",
       "      <th>...</th>\n",
       "      <td>...</td>\n",
       "      <td>...</td>\n",
       "      <td>...</td>\n",
       "      <td>...</td>\n",
       "      <td>...</td>\n",
       "      <td>...</td>\n",
       "      <td>...</td>\n",
       "      <td>...</td>\n",
       "      <td>...</td>\n",
       "      <td>...</td>\n",
       "      <td>...</td>\n",
       "      <td>...</td>\n",
       "      <td>...</td>\n",
       "      <td>...</td>\n",
       "      <td>...</td>\n",
       "      <td>...</td>\n",
       "      <td>...</td>\n",
       "      <td>...</td>\n",
       "      <td>...</td>\n",
       "      <td>...</td>\n",
       "      <td>...</td>\n",
       "    </tr>\n",
       "    <tr>\n",
       "      <th>15055</th>\n",
       "      <td>173.957757</td>\n",
       "      <td>15.963399</td>\n",
       "      <td>8.070000</td>\n",
       "      <td>0.896701</td>\n",
       "      <td>1401.930554</td>\n",
       "      <td>-499.728848</td>\n",
       "      <td>1401.441445</td>\n",
       "      <td>-499.193423</td>\n",
       "      <td>1399.810313</td>\n",
       "      <td>-499.599127</td>\n",
       "      <td>...</td>\n",
       "      <td>13.995957</td>\n",
       "      <td>-500.157454</td>\n",
       "      <td>12.069155</td>\n",
       "      <td>-499.673279</td>\n",
       "      <td>7.977259</td>\n",
       "      <td>-499.516126</td>\n",
       "      <td>5.933319</td>\n",
       "      <td>-499.965973</td>\n",
       "      <td>8.987171</td>\n",
       "      <td>-499.755909</td>\n",
       "    </tr>\n",
       "    <tr>\n",
       "      <th>15056</th>\n",
       "      <td>172.910270</td>\n",
       "      <td>16.002605</td>\n",
       "      <td>8.070000</td>\n",
       "      <td>0.896519</td>\n",
       "      <td>1447.075722</td>\n",
       "      <td>-494.716823</td>\n",
       "      <td>1448.851892</td>\n",
       "      <td>-465.963026</td>\n",
       "      <td>1443.890424</td>\n",
       "      <td>-503.587739</td>\n",
       "      <td>...</td>\n",
       "      <td>16.749781</td>\n",
       "      <td>-496.031539</td>\n",
       "      <td>13.365371</td>\n",
       "      <td>-499.122723</td>\n",
       "      <td>9.288553</td>\n",
       "      <td>-496.892967</td>\n",
       "      <td>7.372897</td>\n",
       "      <td>-499.942956</td>\n",
       "      <td>8.986832</td>\n",
       "      <td>-499.903761</td>\n",
       "    </tr>\n",
       "    <tr>\n",
       "      <th>15057</th>\n",
       "      <td>171.135718</td>\n",
       "      <td>15.993669</td>\n",
       "      <td>8.070000</td>\n",
       "      <td>1.165996</td>\n",
       "      <td>1498.836182</td>\n",
       "      <td>-501.770403</td>\n",
       "      <td>1499.572353</td>\n",
       "      <td>-495.516347</td>\n",
       "      <td>1502.749213</td>\n",
       "      <td>-520.667442</td>\n",
       "      <td>...</td>\n",
       "      <td>19.994130</td>\n",
       "      <td>-499.791312</td>\n",
       "      <td>15.101425</td>\n",
       "      <td>-499.936252</td>\n",
       "      <td>10.989181</td>\n",
       "      <td>-498.347898</td>\n",
       "      <td>9.020944</td>\n",
       "      <td>-500.040448</td>\n",
       "      <td>8.982038</td>\n",
       "      <td>-497.789882</td>\n",
       "    </tr>\n",
       "    <tr>\n",
       "      <th>15058</th>\n",
       "      <td>179.697158</td>\n",
       "      <td>15.438979</td>\n",
       "      <td>8.070000</td>\n",
       "      <td>1.501068</td>\n",
       "      <td>1498.466243</td>\n",
       "      <td>-500.483984</td>\n",
       "      <td>1497.986986</td>\n",
       "      <td>-519.200340</td>\n",
       "      <td>1496.569047</td>\n",
       "      <td>-487.479567</td>\n",
       "      <td>...</td>\n",
       "      <td>19.958760</td>\n",
       "      <td>-499.958750</td>\n",
       "      <td>15.026853</td>\n",
       "      <td>-499.723143</td>\n",
       "      <td>11.011607</td>\n",
       "      <td>-499.985046</td>\n",
       "      <td>9.009783</td>\n",
       "      <td>-499.937902</td>\n",
       "      <td>9.012660</td>\n",
       "      <td>-500.154284</td>\n",
       "    </tr>\n",
       "    <tr>\n",
       "      <th>15059</th>\n",
       "      <td>181.556856</td>\n",
       "      <td>14.995850</td>\n",
       "      <td>8.070000</td>\n",
       "      <td>1.623454</td>\n",
       "      <td>1498.096303</td>\n",
       "      <td>-499.796922</td>\n",
       "      <td>1501.743791</td>\n",
       "      <td>-505.146931</td>\n",
       "      <td>1499.535978</td>\n",
       "      <td>-492.428226</td>\n",
       "      <td>...</td>\n",
       "      <td>20.034715</td>\n",
       "      <td>-500.728588</td>\n",
       "      <td>14.914199</td>\n",
       "      <td>-499.948518</td>\n",
       "      <td>10.986607</td>\n",
       "      <td>-500.658027</td>\n",
       "      <td>8.989497</td>\n",
       "      <td>-500.337588</td>\n",
       "      <td>8.988632</td>\n",
       "      <td>-500.764937</td>\n",
       "    </tr>\n",
       "  </tbody>\n",
       "</table>\n",
       "<p>5290 rows × 52 columns</p>\n",
       "</div>"
      ],
      "text/plain": [
       "       primary_cleaner.input.sulfate  primary_cleaner.input.depressant  \\\n",
       "4682                      210.800909                         14.993118   \n",
       "4683                      215.392455                         14.987471   \n",
       "4684                      215.259946                         12.884934   \n",
       "4685                      215.336236                         12.006805   \n",
       "4686                      199.099327                         10.682530   \n",
       "...                              ...                               ...   \n",
       "15055                     173.957757                         15.963399   \n",
       "15056                     172.910270                         16.002605   \n",
       "15057                     171.135718                         15.993669   \n",
       "15058                     179.697158                         15.438979   \n",
       "15059                     181.556856                         14.995850   \n",
       "\n",
       "       primary_cleaner.input.feed_size  primary_cleaner.input.xanthate  \\\n",
       "4682                          8.080000                        1.005021   \n",
       "4683                          8.080000                        0.990469   \n",
       "4684                          7.786667                        0.996043   \n",
       "4685                          7.640000                        0.863514   \n",
       "4686                          7.530000                        0.805575   \n",
       "...                                ...                             ...   \n",
       "15055                         8.070000                        0.896701   \n",
       "15056                         8.070000                        0.896519   \n",
       "15057                         8.070000                        1.165996   \n",
       "15058                         8.070000                        1.501068   \n",
       "15059                         8.070000                        1.623454   \n",
       "\n",
       "       primary_cleaner.state.floatbank8_a_air  \\\n",
       "4682                              1398.981301   \n",
       "4683                              1398.777912   \n",
       "4684                              1398.493666   \n",
       "4685                              1399.618111   \n",
       "4686                              1401.268123   \n",
       "...                                       ...   \n",
       "15055                             1401.930554   \n",
       "15056                             1447.075722   \n",
       "15057                             1498.836182   \n",
       "15058                             1498.466243   \n",
       "15059                             1498.096303   \n",
       "\n",
       "       primary_cleaner.state.floatbank8_a_level  \\\n",
       "4682                                -500.225577   \n",
       "4683                                -500.057435   \n",
       "4684                                -500.868360   \n",
       "4685                                -498.863574   \n",
       "4686                                -500.808305   \n",
       "...                                         ...   \n",
       "15055                               -499.728848   \n",
       "15056                               -494.716823   \n",
       "15057                               -501.770403   \n",
       "15058                               -500.483984   \n",
       "15059                               -499.796922   \n",
       "\n",
       "       primary_cleaner.state.floatbank8_b_air  \\\n",
       "4682                              1399.144926   \n",
       "4683                              1398.055362   \n",
       "4684                              1398.860436   \n",
       "4685                              1397.440120   \n",
       "4686                              1398.128818   \n",
       "...                                       ...   \n",
       "15055                             1401.441445   \n",
       "15056                             1448.851892   \n",
       "15057                             1499.572353   \n",
       "15058                             1497.986986   \n",
       "15059                             1501.743791   \n",
       "\n",
       "       primary_cleaner.state.floatbank8_b_level  \\\n",
       "4682                                -499.919735   \n",
       "4683                                -499.778182   \n",
       "4684                                -499.764529   \n",
       "4685                                -499.211024   \n",
       "4686                                -499.504543   \n",
       "...                                         ...   \n",
       "15055                               -499.193423   \n",
       "15056                               -465.963026   \n",
       "15057                               -495.516347   \n",
       "15058                               -519.200340   \n",
       "15059                               -505.146931   \n",
       "\n",
       "       primary_cleaner.state.floatbank8_c_air  \\\n",
       "4682                              1400.102998   \n",
       "4683                              1396.151033   \n",
       "4684                              1398.075709   \n",
       "4685                              1400.129303   \n",
       "4686                              1402.172226   \n",
       "...                                       ...   \n",
       "15055                             1399.810313   \n",
       "15056                             1443.890424   \n",
       "15057                             1502.749213   \n",
       "15058                             1496.569047   \n",
       "15059                             1499.535978   \n",
       "\n",
       "       primary_cleaner.state.floatbank8_c_level  ...  \\\n",
       "4682                                -500.704369  ...   \n",
       "4683                                -499.240168  ...   \n",
       "4684                                -502.151509  ...   \n",
       "4685                                -498.355873  ...   \n",
       "4686                                -500.810606  ...   \n",
       "...                                         ...  ...   \n",
       "15055                               -499.599127  ...   \n",
       "15056                               -503.587739  ...   \n",
       "15057                               -520.667442  ...   \n",
       "15058                               -487.479567  ...   \n",
       "15059                               -492.428226  ...   \n",
       "\n",
       "       secondary_cleaner.state.floatbank4_a_air  \\\n",
       "4682                                  12.023554   \n",
       "4683                                  12.058140   \n",
       "4684                                  11.962366   \n",
       "4685                                  12.033091   \n",
       "4686                                  12.025367   \n",
       "...                                         ...   \n",
       "15055                                 13.995957   \n",
       "15056                                 16.749781   \n",
       "15057                                 19.994130   \n",
       "15058                                 19.958760   \n",
       "15059                                 20.034715   \n",
       "\n",
       "       secondary_cleaner.state.floatbank4_a_level  \\\n",
       "4682                                  -497.795834   \n",
       "4683                                  -498.695773   \n",
       "4684                                  -498.767484   \n",
       "4685                                  -498.350935   \n",
       "4686                                  -500.786497   \n",
       "...                                           ...   \n",
       "15055                                 -500.157454   \n",
       "15056                                 -496.031539   \n",
       "15057                                 -499.791312   \n",
       "15058                                 -499.958750   \n",
       "15059                                 -500.728588   \n",
       "\n",
       "       secondary_cleaner.state.floatbank4_b_air  \\\n",
       "4682                                   8.016656   \n",
       "4683                                   8.130979   \n",
       "4684                                   8.096893   \n",
       "4685                                   8.074946   \n",
       "4686                                   8.054678   \n",
       "...                                         ...   \n",
       "15055                                 12.069155   \n",
       "15056                                 13.365371   \n",
       "15057                                 15.101425   \n",
       "15058                                 15.026853   \n",
       "15059                                 14.914199   \n",
       "\n",
       "       secondary_cleaner.state.floatbank4_b_level  \\\n",
       "4682                                  -501.289139   \n",
       "4683                                  -499.634209   \n",
       "4684                                  -500.827423   \n",
       "4685                                  -499.474407   \n",
       "4686                                  -500.397500   \n",
       "...                                           ...   \n",
       "15055                                 -499.673279   \n",
       "15056                                 -499.122723   \n",
       "15057                                 -499.936252   \n",
       "15058                                 -499.723143   \n",
       "15059                                 -499.948518   \n",
       "\n",
       "       secondary_cleaner.state.floatbank5_a_air  \\\n",
       "4682                                   7.946562   \n",
       "4683                                   7.958270   \n",
       "4684                                   8.071056   \n",
       "4685                                   7.897085   \n",
       "4686                                   8.107890   \n",
       "...                                         ...   \n",
       "15055                                  7.977259   \n",
       "15056                                  9.288553   \n",
       "15057                                 10.989181   \n",
       "15058                                 11.011607   \n",
       "15059                                 10.986607   \n",
       "\n",
       "       secondary_cleaner.state.floatbank5_a_level  \\\n",
       "4682                                  -432.317850   \n",
       "4683                                  -525.839648   \n",
       "4684                                  -500.801673   \n",
       "4685                                  -500.868509   \n",
       "4686                                  -509.526725   \n",
       "...                                           ...   \n",
       "15055                                 -499.516126   \n",
       "15056                                 -496.892967   \n",
       "15057                                 -498.347898   \n",
       "15058                                 -499.985046   \n",
       "15059                                 -500.658027   \n",
       "\n",
       "       secondary_cleaner.state.floatbank5_b_air  \\\n",
       "4682                                   4.872511   \n",
       "4683                                   4.878850   \n",
       "4684                                   4.905125   \n",
       "4685                                   4.931400   \n",
       "4686                                   4.957674   \n",
       "...                                         ...   \n",
       "15055                                  5.933319   \n",
       "15056                                  7.372897   \n",
       "15057                                  9.020944   \n",
       "15058                                  9.009783   \n",
       "15059                                  8.989497   \n",
       "\n",
       "       secondary_cleaner.state.floatbank5_b_level  \\\n",
       "4682                                  -500.037437   \n",
       "4683                                  -500.162375   \n",
       "4684                                  -499.828510   \n",
       "4685                                  -499.963623   \n",
       "4686                                  -500.360026   \n",
       "...                                           ...   \n",
       "15055                                 -499.965973   \n",
       "15056                                 -499.942956   \n",
       "15057                                 -500.040448   \n",
       "15058                                 -499.937902   \n",
       "15059                                 -500.337588   \n",
       "\n",
       "       secondary_cleaner.state.floatbank6_a_air  \\\n",
       "4682                                  26.705889   \n",
       "4683                                  25.019940   \n",
       "4684                                  24.994862   \n",
       "4685                                  24.948919   \n",
       "4686                                  25.003331   \n",
       "...                                         ...   \n",
       "15055                                  8.987171   \n",
       "15056                                  8.986832   \n",
       "15057                                  8.982038   \n",
       "15058                                  9.012660   \n",
       "15059                                  8.988632   \n",
       "\n",
       "       secondary_cleaner.state.floatbank6_a_level  \n",
       "4682                                  -499.709414  \n",
       "4683                                  -499.819438  \n",
       "4684                                  -500.622559  \n",
       "4685                                  -498.709987  \n",
       "4686                                  -500.856333  \n",
       "...                                           ...  \n",
       "15055                                 -499.755909  \n",
       "15056                                 -499.903761  \n",
       "15057                                 -497.789882  \n",
       "15058                                 -500.154284  \n",
       "15059                                 -500.764937  \n",
       "\n",
       "[5290 rows x 52 columns]"
      ]
     },
     "execution_count": 59,
     "metadata": {},
     "output_type": "execute_result"
    }
   ],
   "source": [
    "X_test"
   ]
  },
  {
   "cell_type": "markdown",
   "metadata": {},
   "source": [
    "Данные подготовлены для обучения моделей."
   ]
  },
  {
   "cell_type": "markdown",
   "metadata": {},
   "source": [
    "## Модель"
   ]
  },
  {
   "cell_type": "markdown",
   "metadata": {},
   "source": [
    "### Напишите функцию для вычисления итоговой sMAPE."
   ]
  },
  {
   "cell_type": "code",
   "execution_count": 60,
   "metadata": {},
   "outputs": [],
   "source": [
    "def sMAPE_score(y, y_pred):\n",
    "    return 100 / len(y) * np.sum(2 * np.abs(y - y_pred) / (np.abs(y) + np.abs(y_pred)))"
   ]
  },
  {
   "cell_type": "markdown",
   "metadata": {},
   "source": [
    "### Обучите разные модели и оцените их качество кросс-валидацией. Выберите лучшую модель и проверьте её на тестовой выборке. Опишите выводы."
   ]
  },
  {
   "cell_type": "code",
   "execution_count": 61,
   "metadata": {},
   "outputs": [],
   "source": [
    "sMAPE_scorer = make_scorer(score_func=sMAPE_score, greater_is_better=False)"
   ]
  },
  {
   "cell_type": "markdown",
   "metadata": {},
   "source": [
    "Задаю метрику для оценки моделей с помощью make_scorer, greater_is_better=False - так как нужно найти модель с наименьшим значением метрики. "
   ]
  },
  {
   "cell_type": "code",
   "execution_count": 62,
   "metadata": {},
   "outputs": [
    {
     "data": {
      "text/html": [
       "<div>\n",
       "<style scoped>\n",
       "    .dataframe tbody tr th:only-of-type {\n",
       "        vertical-align: middle;\n",
       "    }\n",
       "\n",
       "    .dataframe tbody tr th {\n",
       "        vertical-align: top;\n",
       "    }\n",
       "\n",
       "    .dataframe thead th {\n",
       "        text-align: right;\n",
       "    }\n",
       "</style>\n",
       "<table border=\"1\" class=\"dataframe\">\n",
       "  <thead>\n",
       "    <tr style=\"text-align: right;\">\n",
       "      <th></th>\n",
       "      <th>primary_cleaner.input.sulfate</th>\n",
       "      <th>primary_cleaner.input.depressant</th>\n",
       "      <th>primary_cleaner.input.feed_size</th>\n",
       "      <th>primary_cleaner.input.xanthate</th>\n",
       "      <th>primary_cleaner.state.floatbank8_a_air</th>\n",
       "      <th>primary_cleaner.state.floatbank8_a_level</th>\n",
       "      <th>primary_cleaner.state.floatbank8_b_air</th>\n",
       "      <th>primary_cleaner.state.floatbank8_b_level</th>\n",
       "      <th>primary_cleaner.state.floatbank8_c_air</th>\n",
       "      <th>primary_cleaner.state.floatbank8_c_level</th>\n",
       "      <th>...</th>\n",
       "      <th>secondary_cleaner.state.floatbank4_a_air</th>\n",
       "      <th>secondary_cleaner.state.floatbank4_a_level</th>\n",
       "      <th>secondary_cleaner.state.floatbank4_b_air</th>\n",
       "      <th>secondary_cleaner.state.floatbank4_b_level</th>\n",
       "      <th>secondary_cleaner.state.floatbank5_a_air</th>\n",
       "      <th>secondary_cleaner.state.floatbank5_a_level</th>\n",
       "      <th>secondary_cleaner.state.floatbank5_b_air</th>\n",
       "      <th>secondary_cleaner.state.floatbank5_b_level</th>\n",
       "      <th>secondary_cleaner.state.floatbank6_a_air</th>\n",
       "      <th>secondary_cleaner.state.floatbank6_a_level</th>\n",
       "    </tr>\n",
       "  </thead>\n",
       "  <tbody>\n",
       "    <tr>\n",
       "      <th>1882</th>\n",
       "      <td>126.099664</td>\n",
       "      <td>13.035047</td>\n",
       "      <td>7.140</td>\n",
       "      <td>1.188089</td>\n",
       "      <td>1499.978084</td>\n",
       "      <td>-500.775142</td>\n",
       "      <td>1497.327779</td>\n",
       "      <td>-499.636511</td>\n",
       "      <td>1499.868980</td>\n",
       "      <td>-499.846043</td>\n",
       "      <td>...</td>\n",
       "      <td>14.008055</td>\n",
       "      <td>-498.856408</td>\n",
       "      <td>12.004803</td>\n",
       "      <td>-501.958982</td>\n",
       "      <td>13.001490</td>\n",
       "      <td>-500.511487</td>\n",
       "      <td>10.945911</td>\n",
       "      <td>-500.332322</td>\n",
       "      <td>19.991571</td>\n",
       "      <td>-501.290953</td>\n",
       "    </tr>\n",
       "    <tr>\n",
       "      <th>9706</th>\n",
       "      <td>132.978875</td>\n",
       "      <td>5.449421</td>\n",
       "      <td>7.110</td>\n",
       "      <td>0.402596</td>\n",
       "      <td>1803.804885</td>\n",
       "      <td>-499.877806</td>\n",
       "      <td>1751.635199</td>\n",
       "      <td>-499.809092</td>\n",
       "      <td>1752.568350</td>\n",
       "      <td>-500.158346</td>\n",
       "      <td>...</td>\n",
       "      <td>25.027692</td>\n",
       "      <td>-400.332864</td>\n",
       "      <td>23.017894</td>\n",
       "      <td>-398.900562</td>\n",
       "      <td>25.983996</td>\n",
       "      <td>-450.278856</td>\n",
       "      <td>23.999764</td>\n",
       "      <td>-450.240081</td>\n",
       "      <td>29.996166</td>\n",
       "      <td>-500.550220</td>\n",
       "    </tr>\n",
       "    <tr>\n",
       "      <th>1310</th>\n",
       "      <td>99.603510</td>\n",
       "      <td>12.007432</td>\n",
       "      <td>7.675</td>\n",
       "      <td>0.885844</td>\n",
       "      <td>1598.936043</td>\n",
       "      <td>-399.604770</td>\n",
       "      <td>1600.218281</td>\n",
       "      <td>-400.402282</td>\n",
       "      <td>1602.404839</td>\n",
       "      <td>-399.543992</td>\n",
       "      <td>...</td>\n",
       "      <td>12.026654</td>\n",
       "      <td>-500.567812</td>\n",
       "      <td>12.082080</td>\n",
       "      <td>-500.149726</td>\n",
       "      <td>12.007663</td>\n",
       "      <td>-500.212522</td>\n",
       "      <td>9.993922</td>\n",
       "      <td>-499.898305</td>\n",
       "      <td>19.974276</td>\n",
       "      <td>-499.572672</td>\n",
       "    </tr>\n",
       "    <tr>\n",
       "      <th>12165</th>\n",
       "      <td>214.627995</td>\n",
       "      <td>5.538436</td>\n",
       "      <td>7.980</td>\n",
       "      <td>1.053693</td>\n",
       "      <td>1449.400692</td>\n",
       "      <td>-499.517991</td>\n",
       "      <td>1448.283433</td>\n",
       "      <td>-499.845102</td>\n",
       "      <td>1452.033731</td>\n",
       "      <td>-500.714029</td>\n",
       "      <td>...</td>\n",
       "      <td>14.478757</td>\n",
       "      <td>-497.572086</td>\n",
       "      <td>11.005506</td>\n",
       "      <td>-399.703200</td>\n",
       "      <td>13.980763</td>\n",
       "      <td>-499.380963</td>\n",
       "      <td>10.982343</td>\n",
       "      <td>-499.973881</td>\n",
       "      <td>15.017945</td>\n",
       "      <td>-499.430628</td>\n",
       "    </tr>\n",
       "    <tr>\n",
       "      <th>3278</th>\n",
       "      <td>120.409702</td>\n",
       "      <td>5.001629</td>\n",
       "      <td>8.675</td>\n",
       "      <td>1.404985</td>\n",
       "      <td>1600.611838</td>\n",
       "      <td>-500.056084</td>\n",
       "      <td>1600.330871</td>\n",
       "      <td>-499.796955</td>\n",
       "      <td>1504.501776</td>\n",
       "      <td>-499.648094</td>\n",
       "      <td>...</td>\n",
       "      <td>16.061726</td>\n",
       "      <td>-500.882908</td>\n",
       "      <td>7.917093</td>\n",
       "      <td>-499.793436</td>\n",
       "      <td>15.980597</td>\n",
       "      <td>-500.888948</td>\n",
       "      <td>6.943566</td>\n",
       "      <td>-500.053900</td>\n",
       "      <td>24.980299</td>\n",
       "      <td>-502.224859</td>\n",
       "    </tr>\n",
       "    <tr>\n",
       "      <th>...</th>\n",
       "      <td>...</td>\n",
       "      <td>...</td>\n",
       "      <td>...</td>\n",
       "      <td>...</td>\n",
       "      <td>...</td>\n",
       "      <td>...</td>\n",
       "      <td>...</td>\n",
       "      <td>...</td>\n",
       "      <td>...</td>\n",
       "      <td>...</td>\n",
       "      <td>...</td>\n",
       "      <td>...</td>\n",
       "      <td>...</td>\n",
       "      <td>...</td>\n",
       "      <td>...</td>\n",
       "      <td>...</td>\n",
       "      <td>...</td>\n",
       "      <td>...</td>\n",
       "      <td>...</td>\n",
       "      <td>...</td>\n",
       "      <td>...</td>\n",
       "    </tr>\n",
       "    <tr>\n",
       "      <th>12260</th>\n",
       "      <td>160.585661</td>\n",
       "      <td>5.530739</td>\n",
       "      <td>7.950</td>\n",
       "      <td>0.907925</td>\n",
       "      <td>1345.619442</td>\n",
       "      <td>-499.674789</td>\n",
       "      <td>1348.514489</td>\n",
       "      <td>-499.966199</td>\n",
       "      <td>1346.189571</td>\n",
       "      <td>-501.217644</td>\n",
       "      <td>...</td>\n",
       "      <td>14.553504</td>\n",
       "      <td>-500.313311</td>\n",
       "      <td>10.989382</td>\n",
       "      <td>-401.418833</td>\n",
       "      <td>13.983213</td>\n",
       "      <td>-501.190679</td>\n",
       "      <td>10.989301</td>\n",
       "      <td>-500.041356</td>\n",
       "      <td>14.977266</td>\n",
       "      <td>-499.575594</td>\n",
       "    </tr>\n",
       "    <tr>\n",
       "      <th>58</th>\n",
       "      <td>107.229134</td>\n",
       "      <td>9.324714</td>\n",
       "      <td>7.250</td>\n",
       "      <td>0.890888</td>\n",
       "      <td>1601.062150</td>\n",
       "      <td>-500.595536</td>\n",
       "      <td>1603.289668</td>\n",
       "      <td>-499.511887</td>\n",
       "      <td>1599.711815</td>\n",
       "      <td>-500.205041</td>\n",
       "      <td>...</td>\n",
       "      <td>13.996191</td>\n",
       "      <td>-550.690222</td>\n",
       "      <td>12.123162</td>\n",
       "      <td>-550.226964</td>\n",
       "      <td>10.015781</td>\n",
       "      <td>-505.622816</td>\n",
       "      <td>7.984896</td>\n",
       "      <td>-500.237383</td>\n",
       "      <td>11.989165</td>\n",
       "      <td>-602.640740</td>\n",
       "    </tr>\n",
       "    <tr>\n",
       "      <th>11858</th>\n",
       "      <td>162.181900</td>\n",
       "      <td>4.946194</td>\n",
       "      <td>6.610</td>\n",
       "      <td>0.691826</td>\n",
       "      <td>1501.337848</td>\n",
       "      <td>-500.281926</td>\n",
       "      <td>1501.355984</td>\n",
       "      <td>-500.120738</td>\n",
       "      <td>1502.022263</td>\n",
       "      <td>-500.005636</td>\n",
       "      <td>...</td>\n",
       "      <td>18.013891</td>\n",
       "      <td>-501.439683</td>\n",
       "      <td>12.130562</td>\n",
       "      <td>-400.590537</td>\n",
       "      <td>15.968718</td>\n",
       "      <td>-500.749616</td>\n",
       "      <td>12.007215</td>\n",
       "      <td>-500.212206</td>\n",
       "      <td>15.016131</td>\n",
       "      <td>-500.237873</td>\n",
       "    </tr>\n",
       "    <tr>\n",
       "      <th>8661</th>\n",
       "      <td>59.991367</td>\n",
       "      <td>4.542170</td>\n",
       "      <td>6.520</td>\n",
       "      <td>0.939097</td>\n",
       "      <td>1699.156692</td>\n",
       "      <td>-499.539928</td>\n",
       "      <td>1698.181849</td>\n",
       "      <td>-493.981903</td>\n",
       "      <td>1699.747659</td>\n",
       "      <td>-487.408738</td>\n",
       "      <td>...</td>\n",
       "      <td>24.997229</td>\n",
       "      <td>-400.128865</td>\n",
       "      <td>22.966520</td>\n",
       "      <td>-399.461313</td>\n",
       "      <td>22.979694</td>\n",
       "      <td>-450.115382</td>\n",
       "      <td>19.993176</td>\n",
       "      <td>-450.361972</td>\n",
       "      <td>25.009216</td>\n",
       "      <td>-499.993295</td>\n",
       "    </tr>\n",
       "    <tr>\n",
       "      <th>8031</th>\n",
       "      <td>118.617449</td>\n",
       "      <td>8.046302</td>\n",
       "      <td>7.400</td>\n",
       "      <td>1.256885</td>\n",
       "      <td>1775.611775</td>\n",
       "      <td>-499.614656</td>\n",
       "      <td>1803.030287</td>\n",
       "      <td>-498.153092</td>\n",
       "      <td>1800.694279</td>\n",
       "      <td>-496.186380</td>\n",
       "      <td>...</td>\n",
       "      <td>24.983896</td>\n",
       "      <td>-502.486351</td>\n",
       "      <td>22.938708</td>\n",
       "      <td>-500.519171</td>\n",
       "      <td>22.962449</td>\n",
       "      <td>-501.363589</td>\n",
       "      <td>20.005331</td>\n",
       "      <td>-500.100093</td>\n",
       "      <td>24.987724</td>\n",
       "      <td>-600.452763</td>\n",
       "    </tr>\n",
       "  </tbody>\n",
       "</table>\n",
       "<p>13599 rows × 52 columns</p>\n",
       "</div>"
      ],
      "text/plain": [
       "       primary_cleaner.input.sulfate  primary_cleaner.input.depressant  \\\n",
       "1882                      126.099664                         13.035047   \n",
       "9706                      132.978875                          5.449421   \n",
       "1310                       99.603510                         12.007432   \n",
       "12165                     214.627995                          5.538436   \n",
       "3278                      120.409702                          5.001629   \n",
       "...                              ...                               ...   \n",
       "12260                     160.585661                          5.530739   \n",
       "58                        107.229134                          9.324714   \n",
       "11858                     162.181900                          4.946194   \n",
       "8661                       59.991367                          4.542170   \n",
       "8031                      118.617449                          8.046302   \n",
       "\n",
       "       primary_cleaner.input.feed_size  primary_cleaner.input.xanthate  \\\n",
       "1882                             7.140                        1.188089   \n",
       "9706                             7.110                        0.402596   \n",
       "1310                             7.675                        0.885844   \n",
       "12165                            7.980                        1.053693   \n",
       "3278                             8.675                        1.404985   \n",
       "...                                ...                             ...   \n",
       "12260                            7.950                        0.907925   \n",
       "58                               7.250                        0.890888   \n",
       "11858                            6.610                        0.691826   \n",
       "8661                             6.520                        0.939097   \n",
       "8031                             7.400                        1.256885   \n",
       "\n",
       "       primary_cleaner.state.floatbank8_a_air  \\\n",
       "1882                              1499.978084   \n",
       "9706                              1803.804885   \n",
       "1310                              1598.936043   \n",
       "12165                             1449.400692   \n",
       "3278                              1600.611838   \n",
       "...                                       ...   \n",
       "12260                             1345.619442   \n",
       "58                                1601.062150   \n",
       "11858                             1501.337848   \n",
       "8661                              1699.156692   \n",
       "8031                              1775.611775   \n",
       "\n",
       "       primary_cleaner.state.floatbank8_a_level  \\\n",
       "1882                                -500.775142   \n",
       "9706                                -499.877806   \n",
       "1310                                -399.604770   \n",
       "12165                               -499.517991   \n",
       "3278                                -500.056084   \n",
       "...                                         ...   \n",
       "12260                               -499.674789   \n",
       "58                                  -500.595536   \n",
       "11858                               -500.281926   \n",
       "8661                                -499.539928   \n",
       "8031                                -499.614656   \n",
       "\n",
       "       primary_cleaner.state.floatbank8_b_air  \\\n",
       "1882                              1497.327779   \n",
       "9706                              1751.635199   \n",
       "1310                              1600.218281   \n",
       "12165                             1448.283433   \n",
       "3278                              1600.330871   \n",
       "...                                       ...   \n",
       "12260                             1348.514489   \n",
       "58                                1603.289668   \n",
       "11858                             1501.355984   \n",
       "8661                              1698.181849   \n",
       "8031                              1803.030287   \n",
       "\n",
       "       primary_cleaner.state.floatbank8_b_level  \\\n",
       "1882                                -499.636511   \n",
       "9706                                -499.809092   \n",
       "1310                                -400.402282   \n",
       "12165                               -499.845102   \n",
       "3278                                -499.796955   \n",
       "...                                         ...   \n",
       "12260                               -499.966199   \n",
       "58                                  -499.511887   \n",
       "11858                               -500.120738   \n",
       "8661                                -493.981903   \n",
       "8031                                -498.153092   \n",
       "\n",
       "       primary_cleaner.state.floatbank8_c_air  \\\n",
       "1882                              1499.868980   \n",
       "9706                              1752.568350   \n",
       "1310                              1602.404839   \n",
       "12165                             1452.033731   \n",
       "3278                              1504.501776   \n",
       "...                                       ...   \n",
       "12260                             1346.189571   \n",
       "58                                1599.711815   \n",
       "11858                             1502.022263   \n",
       "8661                              1699.747659   \n",
       "8031                              1800.694279   \n",
       "\n",
       "       primary_cleaner.state.floatbank8_c_level  ...  \\\n",
       "1882                                -499.846043  ...   \n",
       "9706                                -500.158346  ...   \n",
       "1310                                -399.543992  ...   \n",
       "12165                               -500.714029  ...   \n",
       "3278                                -499.648094  ...   \n",
       "...                                         ...  ...   \n",
       "12260                               -501.217644  ...   \n",
       "58                                  -500.205041  ...   \n",
       "11858                               -500.005636  ...   \n",
       "8661                                -487.408738  ...   \n",
       "8031                                -496.186380  ...   \n",
       "\n",
       "       secondary_cleaner.state.floatbank4_a_air  \\\n",
       "1882                                  14.008055   \n",
       "9706                                  25.027692   \n",
       "1310                                  12.026654   \n",
       "12165                                 14.478757   \n",
       "3278                                  16.061726   \n",
       "...                                         ...   \n",
       "12260                                 14.553504   \n",
       "58                                    13.996191   \n",
       "11858                                 18.013891   \n",
       "8661                                  24.997229   \n",
       "8031                                  24.983896   \n",
       "\n",
       "       secondary_cleaner.state.floatbank4_a_level  \\\n",
       "1882                                  -498.856408   \n",
       "9706                                  -400.332864   \n",
       "1310                                  -500.567812   \n",
       "12165                                 -497.572086   \n",
       "3278                                  -500.882908   \n",
       "...                                           ...   \n",
       "12260                                 -500.313311   \n",
       "58                                    -550.690222   \n",
       "11858                                 -501.439683   \n",
       "8661                                  -400.128865   \n",
       "8031                                  -502.486351   \n",
       "\n",
       "       secondary_cleaner.state.floatbank4_b_air  \\\n",
       "1882                                  12.004803   \n",
       "9706                                  23.017894   \n",
       "1310                                  12.082080   \n",
       "12165                                 11.005506   \n",
       "3278                                   7.917093   \n",
       "...                                         ...   \n",
       "12260                                 10.989382   \n",
       "58                                    12.123162   \n",
       "11858                                 12.130562   \n",
       "8661                                  22.966520   \n",
       "8031                                  22.938708   \n",
       "\n",
       "       secondary_cleaner.state.floatbank4_b_level  \\\n",
       "1882                                  -501.958982   \n",
       "9706                                  -398.900562   \n",
       "1310                                  -500.149726   \n",
       "12165                                 -399.703200   \n",
       "3278                                  -499.793436   \n",
       "...                                           ...   \n",
       "12260                                 -401.418833   \n",
       "58                                    -550.226964   \n",
       "11858                                 -400.590537   \n",
       "8661                                  -399.461313   \n",
       "8031                                  -500.519171   \n",
       "\n",
       "       secondary_cleaner.state.floatbank5_a_air  \\\n",
       "1882                                  13.001490   \n",
       "9706                                  25.983996   \n",
       "1310                                  12.007663   \n",
       "12165                                 13.980763   \n",
       "3278                                  15.980597   \n",
       "...                                         ...   \n",
       "12260                                 13.983213   \n",
       "58                                    10.015781   \n",
       "11858                                 15.968718   \n",
       "8661                                  22.979694   \n",
       "8031                                  22.962449   \n",
       "\n",
       "       secondary_cleaner.state.floatbank5_a_level  \\\n",
       "1882                                  -500.511487   \n",
       "9706                                  -450.278856   \n",
       "1310                                  -500.212522   \n",
       "12165                                 -499.380963   \n",
       "3278                                  -500.888948   \n",
       "...                                           ...   \n",
       "12260                                 -501.190679   \n",
       "58                                    -505.622816   \n",
       "11858                                 -500.749616   \n",
       "8661                                  -450.115382   \n",
       "8031                                  -501.363589   \n",
       "\n",
       "       secondary_cleaner.state.floatbank5_b_air  \\\n",
       "1882                                  10.945911   \n",
       "9706                                  23.999764   \n",
       "1310                                   9.993922   \n",
       "12165                                 10.982343   \n",
       "3278                                   6.943566   \n",
       "...                                         ...   \n",
       "12260                                 10.989301   \n",
       "58                                     7.984896   \n",
       "11858                                 12.007215   \n",
       "8661                                  19.993176   \n",
       "8031                                  20.005331   \n",
       "\n",
       "       secondary_cleaner.state.floatbank5_b_level  \\\n",
       "1882                                  -500.332322   \n",
       "9706                                  -450.240081   \n",
       "1310                                  -499.898305   \n",
       "12165                                 -499.973881   \n",
       "3278                                  -500.053900   \n",
       "...                                           ...   \n",
       "12260                                 -500.041356   \n",
       "58                                    -500.237383   \n",
       "11858                                 -500.212206   \n",
       "8661                                  -450.361972   \n",
       "8031                                  -500.100093   \n",
       "\n",
       "       secondary_cleaner.state.floatbank6_a_air  \\\n",
       "1882                                  19.991571   \n",
       "9706                                  29.996166   \n",
       "1310                                  19.974276   \n",
       "12165                                 15.017945   \n",
       "3278                                  24.980299   \n",
       "...                                         ...   \n",
       "12260                                 14.977266   \n",
       "58                                    11.989165   \n",
       "11858                                 15.016131   \n",
       "8661                                  25.009216   \n",
       "8031                                  24.987724   \n",
       "\n",
       "       secondary_cleaner.state.floatbank6_a_level  \n",
       "1882                                  -501.290953  \n",
       "9706                                  -500.550220  \n",
       "1310                                  -499.572672  \n",
       "12165                                 -499.430628  \n",
       "3278                                  -502.224859  \n",
       "...                                           ...  \n",
       "12260                                 -499.575594  \n",
       "58                                    -602.640740  \n",
       "11858                                 -500.237873  \n",
       "8661                                  -499.993295  \n",
       "8031                                  -600.452763  \n",
       "\n",
       "[13599 rows x 52 columns]"
      ]
     },
     "execution_count": 62,
     "metadata": {},
     "output_type": "execute_result"
    }
   ],
   "source": [
    "X_train = X_train.sample(frac=1, random_state=21)\n",
    "X_train"
   ]
  },
  {
   "cell_type": "code",
   "execution_count": 63,
   "metadata": {},
   "outputs": [
    {
     "data": {
      "text/plain": [
       "1882     80.126323\n",
       "9706     81.446356\n",
       "1310     77.966927\n",
       "12165    90.226648\n",
       "3278     79.482883\n",
       "           ...    \n",
       "12260    86.341288\n",
       "58       79.746753\n",
       "11858    87.965906\n",
       "8661     93.228515\n",
       "8031     89.680712\n",
       "Name: rougher.output.recovery, Length: 13599, dtype: float64"
      ]
     },
     "execution_count": 63,
     "metadata": {},
     "output_type": "execute_result"
    }
   ],
   "source": [
    "y_train_rougher = y_train_rougher.sample(frac=1, random_state=21)\n",
    "y_train_rougher"
   ]
  },
  {
   "cell_type": "code",
   "execution_count": 64,
   "metadata": {},
   "outputs": [
    {
     "data": {
      "text/plain": [
       "1882     65.879839\n",
       "9706     66.496901\n",
       "1310     63.625462\n",
       "12165    66.026448\n",
       "3278     62.698364\n",
       "           ...    \n",
       "12260    63.033465\n",
       "58       64.277140\n",
       "11858    71.028405\n",
       "8661     69.346592\n",
       "8031     67.351624\n",
       "Name: final.output.recovery, Length: 13599, dtype: float64"
      ]
     },
     "execution_count": 64,
     "metadata": {},
     "output_type": "execute_result"
    }
   ],
   "source": [
    "y_train_final = y_train_final.sample(frac=1, random_state=21)\n",
    "y_train_final"
   ]
  },
  {
   "cell_type": "markdown",
   "metadata": {},
   "source": [
    "Данные идут по порядку по времени, чтобы кросс-валидация работала корректно, перемешиваю строки в датасете."
   ]
  },
  {
   "cell_type": "markdown",
   "metadata": {},
   "source": [
    "#### Линейная регрессия"
   ]
  },
  {
   "cell_type": "code",
   "execution_count": 65,
   "metadata": {},
   "outputs": [],
   "source": [
    "def fit_lr_grid(X, y, random_state):\n",
    "    param_grid = [{'fit_intercept': ['True', 'False']}, \n",
    "                  {'alpha': [0.01, 0.1, 1, 10],\n",
    "                   'fit_intercept': ['True', 'False']}, \n",
    "                  {'alpha': [0.1, 1, 10, 100],\n",
    "                   'fit_intercept': ['True', 'False']}]\n",
    "    estimators = [LinearRegression(n_jobs=-1), \n",
    "                  Lasso(random_state=random_state), \n",
    "                  Ridge(random_state=random_state)]\n",
    "    best = None\n",
    "    best_score = -101\n",
    "    for i, estimator in enumerate(estimators):\n",
    "        lr = GridSearchCV(estimator=estimator, \n",
    "                          param_grid=param_grid[i], \n",
    "                          scoring=sMAPE_scorer, \n",
    "                          n_jobs=-1)\n",
    "        lr.fit(X, y)\n",
    "        if lr.best_score_ > best_score:\n",
    "            best = lr\n",
    "            best_score = lr.best_score_\n",
    "        print(f'training {estimator} completed')\n",
    "    return best"
   ]
  },
  {
   "cell_type": "markdown",
   "metadata": {},
   "source": [
    "Функция для выбора модели среди LinearRegression, Lasso, Ridge, выдает обученную решетку, которая показала лучшую метрику sMAPE"
   ]
  },
  {
   "cell_type": "code",
   "execution_count": 66,
   "metadata": {
    "scrolled": true
   },
   "outputs": [
    {
     "name": "stdout",
     "output_type": "stream",
     "text": [
      "training LinearRegression(n_jobs=-1) completed\n",
      "training Lasso(random_state=21) completed\n",
      "training Ridge(random_state=21) completed\n"
     ]
    }
   ],
   "source": [
    "best_lr_rougher = fit_lr_grid(X_train, y_train_rougher, 21)"
   ]
  },
  {
   "cell_type": "code",
   "execution_count": 67,
   "metadata": {},
   "outputs": [
    {
     "name": "stdout",
     "output_type": "stream",
     "text": [
      "training LinearRegression(n_jobs=-1) completed\n",
      "training Lasso(random_state=21) completed\n",
      "training Ridge(random_state=21) completed\n"
     ]
    }
   ],
   "source": [
    "best_lr_final = fit_lr_grid(X_train, y_train_final, 21)"
   ]
  },
  {
   "cell_type": "code",
   "execution_count": 68,
   "metadata": {},
   "outputs": [
    {
     "data": {
      "text/plain": [
       "(Lasso(alpha=0.01, fit_intercept='True', random_state=21), -4.629887187362319)"
      ]
     },
     "execution_count": 68,
     "metadata": {},
     "output_type": "execute_result"
    }
   ],
   "source": [
    "best_lr_rougher.best_estimator_, best_lr_rougher.best_score_"
   ]
  },
  {
   "cell_type": "code",
   "execution_count": 69,
   "metadata": {},
   "outputs": [
    {
     "data": {
      "text/plain": [
       "(Lasso(alpha=0.1, fit_intercept='True', random_state=21), -7.983439601397686)"
      ]
     },
     "execution_count": 69,
     "metadata": {},
     "output_type": "execute_result"
    }
   ],
   "source": [
    "best_lr_final.best_estimator_, best_lr_final.best_score_"
   ]
  },
  {
   "cell_type": "markdown",
   "metadata": {},
   "source": [
    "Для промежуточного показателя recovery лучшая оценка sMAPE на кросс-валидации получена для Lasso(alpha=0.01, fit_intercept='True', random_state=21) (4.63%), для финального показателя recovery - для Lasso(alpha=0.1, fit_intercept='True', random_state=21) (7.98%)."
   ]
  },
  {
   "cell_type": "markdown",
   "metadata": {},
   "source": [
    "#### Дерево решений"
   ]
  },
  {
   "cell_type": "code",
   "execution_count": 70,
   "metadata": {},
   "outputs": [
    {
     "data": {
      "text/plain": [
       "RandomizedSearchCV(estimator=DecisionTreeRegressor(random_state=21), n_iter=20,\n",
       "                   n_jobs=-1, param_distributions={'max_depth': range(1, 51)},\n",
       "                   random_state=21,\n",
       "                   scoring=make_scorer(sMAPE_score, greater_is_better=False))"
      ]
     },
     "execution_count": 70,
     "metadata": {},
     "output_type": "execute_result"
    }
   ],
   "source": [
    "param_distributions = {'max_depth': range(1, 51)}\n",
    "dt = RandomizedSearchCV(estimator=DecisionTreeRegressor(random_state=21),\n",
    "                        param_distributions=param_distributions, \n",
    "                        scoring=sMAPE_scorer, \n",
    "                        random_state=21,\n",
    "                        n_iter=20,\n",
    "                        n_jobs=-1)\n",
    "dt.fit(X_train, y_train_rougher)"
   ]
  },
  {
   "cell_type": "code",
   "execution_count": 71,
   "metadata": {},
   "outputs": [
    {
     "data": {
      "text/html": [
       "<div>\n",
       "<style scoped>\n",
       "    .dataframe tbody tr th:only-of-type {\n",
       "        vertical-align: middle;\n",
       "    }\n",
       "\n",
       "    .dataframe tbody tr th {\n",
       "        vertical-align: top;\n",
       "    }\n",
       "\n",
       "    .dataframe thead th {\n",
       "        text-align: right;\n",
       "    }\n",
       "</style>\n",
       "<table border=\"1\" class=\"dataframe\">\n",
       "  <thead>\n",
       "    <tr style=\"text-align: right;\">\n",
       "      <th></th>\n",
       "      <th>mean_fit_time</th>\n",
       "      <th>std_fit_time</th>\n",
       "      <th>mean_score_time</th>\n",
       "      <th>std_score_time</th>\n",
       "      <th>param_max_depth</th>\n",
       "      <th>params</th>\n",
       "      <th>split0_test_score</th>\n",
       "      <th>split1_test_score</th>\n",
       "      <th>split2_test_score</th>\n",
       "      <th>split3_test_score</th>\n",
       "      <th>split4_test_score</th>\n",
       "      <th>mean_test_score</th>\n",
       "      <th>std_test_score</th>\n",
       "      <th>rank_test_score</th>\n",
       "    </tr>\n",
       "  </thead>\n",
       "  <tbody>\n",
       "    <tr>\n",
       "      <th>13</th>\n",
       "      <td>0.520289</td>\n",
       "      <td>0.021399</td>\n",
       "      <td>0.003925</td>\n",
       "      <td>0.000212</td>\n",
       "      <td>12</td>\n",
       "      <td>{'max_depth': 12}</td>\n",
       "      <td>-3.423713</td>\n",
       "      <td>-3.318092</td>\n",
       "      <td>-3.557032</td>\n",
       "      <td>-3.528171</td>\n",
       "      <td>-3.573536</td>\n",
       "      <td>-3.480109</td>\n",
       "      <td>0.096318</td>\n",
       "      <td>1</td>\n",
       "    </tr>\n",
       "    <tr>\n",
       "      <th>17</th>\n",
       "      <td>0.583043</td>\n",
       "      <td>0.020339</td>\n",
       "      <td>0.003704</td>\n",
       "      <td>0.000086</td>\n",
       "      <td>14</td>\n",
       "      <td>{'max_depth': 14}</td>\n",
       "      <td>-3.411926</td>\n",
       "      <td>-3.384366</td>\n",
       "      <td>-3.405066</td>\n",
       "      <td>-3.561437</td>\n",
       "      <td>-3.668269</td>\n",
       "      <td>-3.486213</td>\n",
       "      <td>0.110706</td>\n",
       "      <td>2</td>\n",
       "    </tr>\n",
       "    <tr>\n",
       "      <th>4</th>\n",
       "      <td>0.793367</td>\n",
       "      <td>0.256314</td>\n",
       "      <td>0.004017</td>\n",
       "      <td>0.000331</td>\n",
       "      <td>15</td>\n",
       "      <td>{'max_depth': 15}</td>\n",
       "      <td>-3.526489</td>\n",
       "      <td>-3.390639</td>\n",
       "      <td>-3.369083</td>\n",
       "      <td>-3.515790</td>\n",
       "      <td>-3.719751</td>\n",
       "      <td>-3.504350</td>\n",
       "      <td>0.125097</td>\n",
       "      <td>3</td>\n",
       "    </tr>\n",
       "    <tr>\n",
       "      <th>8</th>\n",
       "      <td>0.679240</td>\n",
       "      <td>0.034069</td>\n",
       "      <td>0.004205</td>\n",
       "      <td>0.000161</td>\n",
       "      <td>18</td>\n",
       "      <td>{'max_depth': 18}</td>\n",
       "      <td>-3.440198</td>\n",
       "      <td>-3.371234</td>\n",
       "      <td>-3.477774</td>\n",
       "      <td>-3.664692</td>\n",
       "      <td>-3.776594</td>\n",
       "      <td>-3.546098</td>\n",
       "      <td>0.150767</td>\n",
       "      <td>4</td>\n",
       "    </tr>\n",
       "    <tr>\n",
       "      <th>11</th>\n",
       "      <td>0.711985</td>\n",
       "      <td>0.016967</td>\n",
       "      <td>0.004292</td>\n",
       "      <td>0.000301</td>\n",
       "      <td>22</td>\n",
       "      <td>{'max_depth': 22}</td>\n",
       "      <td>-3.504270</td>\n",
       "      <td>-3.475536</td>\n",
       "      <td>-3.490602</td>\n",
       "      <td>-3.618551</td>\n",
       "      <td>-3.761329</td>\n",
       "      <td>-3.570058</td>\n",
       "      <td>0.108178</td>\n",
       "      <td>5</td>\n",
       "    </tr>\n",
       "    <tr>\n",
       "      <th>12</th>\n",
       "      <td>0.678750</td>\n",
       "      <td>0.013432</td>\n",
       "      <td>0.004099</td>\n",
       "      <td>0.000103</td>\n",
       "      <td>20</td>\n",
       "      <td>{'max_depth': 20}</td>\n",
       "      <td>-3.592836</td>\n",
       "      <td>-3.384534</td>\n",
       "      <td>-3.586491</td>\n",
       "      <td>-3.617507</td>\n",
       "      <td>-3.731200</td>\n",
       "      <td>-3.582513</td>\n",
       "      <td>0.111938</td>\n",
       "      <td>6</td>\n",
       "    </tr>\n",
       "    <tr>\n",
       "      <th>10</th>\n",
       "      <td>0.747623</td>\n",
       "      <td>0.060727</td>\n",
       "      <td>0.004587</td>\n",
       "      <td>0.000445</td>\n",
       "      <td>31</td>\n",
       "      <td>{'max_depth': 31}</td>\n",
       "      <td>-3.451162</td>\n",
       "      <td>-3.448510</td>\n",
       "      <td>-3.665510</td>\n",
       "      <td>-3.689040</td>\n",
       "      <td>-3.789965</td>\n",
       "      <td>-3.608837</td>\n",
       "      <td>0.136395</td>\n",
       "      <td>7</td>\n",
       "    </tr>\n",
       "    <tr>\n",
       "      <th>7</th>\n",
       "      <td>0.731288</td>\n",
       "      <td>0.018189</td>\n",
       "      <td>0.004364</td>\n",
       "      <td>0.000181</td>\n",
       "      <td>32</td>\n",
       "      <td>{'max_depth': 32}</td>\n",
       "      <td>-3.514580</td>\n",
       "      <td>-3.492822</td>\n",
       "      <td>-3.601456</td>\n",
       "      <td>-3.760122</td>\n",
       "      <td>-3.682857</td>\n",
       "      <td>-3.610367</td>\n",
       "      <td>0.100750</td>\n",
       "      <td>8</td>\n",
       "    </tr>\n",
       "    <tr>\n",
       "      <th>18</th>\n",
       "      <td>0.738735</td>\n",
       "      <td>0.041798</td>\n",
       "      <td>0.004308</td>\n",
       "      <td>0.000119</td>\n",
       "      <td>29</td>\n",
       "      <td>{'max_depth': 29}</td>\n",
       "      <td>-3.473523</td>\n",
       "      <td>-3.429609</td>\n",
       "      <td>-3.769634</td>\n",
       "      <td>-3.670505</td>\n",
       "      <td>-3.727515</td>\n",
       "      <td>-3.614157</td>\n",
       "      <td>0.137138</td>\n",
       "      <td>9</td>\n",
       "    </tr>\n",
       "    <tr>\n",
       "      <th>14</th>\n",
       "      <td>0.711196</td>\n",
       "      <td>0.012213</td>\n",
       "      <td>0.004174</td>\n",
       "      <td>0.000164</td>\n",
       "      <td>23</td>\n",
       "      <td>{'max_depth': 23}</td>\n",
       "      <td>-3.622595</td>\n",
       "      <td>-3.471817</td>\n",
       "      <td>-3.677122</td>\n",
       "      <td>-3.625697</td>\n",
       "      <td>-3.771167</td>\n",
       "      <td>-3.633680</td>\n",
       "      <td>0.097135</td>\n",
       "      <td>10</td>\n",
       "    </tr>\n",
       "    <tr>\n",
       "      <th>15</th>\n",
       "      <td>0.749737</td>\n",
       "      <td>0.037702</td>\n",
       "      <td>0.004400</td>\n",
       "      <td>0.000151</td>\n",
       "      <td>34</td>\n",
       "      <td>{'max_depth': 34}</td>\n",
       "      <td>-3.581556</td>\n",
       "      <td>-3.504478</td>\n",
       "      <td>-3.605697</td>\n",
       "      <td>-3.694434</td>\n",
       "      <td>-3.802691</td>\n",
       "      <td>-3.637771</td>\n",
       "      <td>0.102338</td>\n",
       "      <td>11</td>\n",
       "    </tr>\n",
       "    <tr>\n",
       "      <th>6</th>\n",
       "      <td>0.715201</td>\n",
       "      <td>0.017347</td>\n",
       "      <td>0.004601</td>\n",
       "      <td>0.000257</td>\n",
       "      <td>24</td>\n",
       "      <td>{'max_depth': 24}</td>\n",
       "      <td>-3.553451</td>\n",
       "      <td>-3.426736</td>\n",
       "      <td>-3.654134</td>\n",
       "      <td>-3.719959</td>\n",
       "      <td>-3.834870</td>\n",
       "      <td>-3.637830</td>\n",
       "      <td>0.139654</td>\n",
       "      <td>12</td>\n",
       "    </tr>\n",
       "    <tr>\n",
       "      <th>9</th>\n",
       "      <td>0.735568</td>\n",
       "      <td>0.032569</td>\n",
       "      <td>0.004533</td>\n",
       "      <td>0.000368</td>\n",
       "      <td>48</td>\n",
       "      <td>{'max_depth': 48}</td>\n",
       "      <td>-3.629761</td>\n",
       "      <td>-3.511313</td>\n",
       "      <td>-3.561854</td>\n",
       "      <td>-3.691733</td>\n",
       "      <td>-3.822763</td>\n",
       "      <td>-3.643485</td>\n",
       "      <td>0.108434</td>\n",
       "      <td>13</td>\n",
       "    </tr>\n",
       "    <tr>\n",
       "      <th>19</th>\n",
       "      <td>0.733886</td>\n",
       "      <td>0.016131</td>\n",
       "      <td>0.004325</td>\n",
       "      <td>0.000165</td>\n",
       "      <td>50</td>\n",
       "      <td>{'max_depth': 50}</td>\n",
       "      <td>-3.629761</td>\n",
       "      <td>-3.511313</td>\n",
       "      <td>-3.561854</td>\n",
       "      <td>-3.691733</td>\n",
       "      <td>-3.822763</td>\n",
       "      <td>-3.643485</td>\n",
       "      <td>0.108434</td>\n",
       "      <td>13</td>\n",
       "    </tr>\n",
       "    <tr>\n",
       "      <th>2</th>\n",
       "      <td>0.725926</td>\n",
       "      <td>0.016749</td>\n",
       "      <td>0.004562</td>\n",
       "      <td>0.000430</td>\n",
       "      <td>44</td>\n",
       "      <td>{'max_depth': 44}</td>\n",
       "      <td>-3.629761</td>\n",
       "      <td>-3.511313</td>\n",
       "      <td>-3.561854</td>\n",
       "      <td>-3.691733</td>\n",
       "      <td>-3.822763</td>\n",
       "      <td>-3.643485</td>\n",
       "      <td>0.108434</td>\n",
       "      <td>13</td>\n",
       "    </tr>\n",
       "    <tr>\n",
       "      <th>1</th>\n",
       "      <td>0.727366</td>\n",
       "      <td>0.038870</td>\n",
       "      <td>0.004419</td>\n",
       "      <td>0.000222</td>\n",
       "      <td>45</td>\n",
       "      <td>{'max_depth': 45}</td>\n",
       "      <td>-3.629761</td>\n",
       "      <td>-3.511313</td>\n",
       "      <td>-3.561854</td>\n",
       "      <td>-3.691733</td>\n",
       "      <td>-3.822763</td>\n",
       "      <td>-3.643485</td>\n",
       "      <td>0.108434</td>\n",
       "      <td>13</td>\n",
       "    </tr>\n",
       "    <tr>\n",
       "      <th>3</th>\n",
       "      <td>0.712922</td>\n",
       "      <td>0.020550</td>\n",
       "      <td>0.014079</td>\n",
       "      <td>0.019675</td>\n",
       "      <td>26</td>\n",
       "      <td>{'max_depth': 26}</td>\n",
       "      <td>-3.502161</td>\n",
       "      <td>-3.582045</td>\n",
       "      <td>-3.697027</td>\n",
       "      <td>-3.716824</td>\n",
       "      <td>-3.766402</td>\n",
       "      <td>-3.652892</td>\n",
       "      <td>0.096601</td>\n",
       "      <td>17</td>\n",
       "    </tr>\n",
       "    <tr>\n",
       "      <th>0</th>\n",
       "      <td>0.377451</td>\n",
       "      <td>0.012452</td>\n",
       "      <td>0.003531</td>\n",
       "      <td>0.000158</td>\n",
       "      <td>8</td>\n",
       "      <td>{'max_depth': 8}</td>\n",
       "      <td>-3.797556</td>\n",
       "      <td>-3.803610</td>\n",
       "      <td>-3.976075</td>\n",
       "      <td>-4.021754</td>\n",
       "      <td>-3.824795</td>\n",
       "      <td>-3.884758</td>\n",
       "      <td>0.094754</td>\n",
       "      <td>18</td>\n",
       "    </tr>\n",
       "    <tr>\n",
       "      <th>5</th>\n",
       "      <td>0.159173</td>\n",
       "      <td>0.001754</td>\n",
       "      <td>0.003433</td>\n",
       "      <td>0.000096</td>\n",
       "      <td>3</td>\n",
       "      <td>{'max_depth': 3}</td>\n",
       "      <td>-5.225061</td>\n",
       "      <td>-4.897502</td>\n",
       "      <td>-5.204772</td>\n",
       "      <td>-5.141234</td>\n",
       "      <td>-5.169914</td>\n",
       "      <td>-5.127697</td>\n",
       "      <td>0.118639</td>\n",
       "      <td>19</td>\n",
       "    </tr>\n",
       "    <tr>\n",
       "      <th>16</th>\n",
       "      <td>0.059798</td>\n",
       "      <td>0.002180</td>\n",
       "      <td>0.003264</td>\n",
       "      <td>0.000169</td>\n",
       "      <td>1</td>\n",
       "      <td>{'max_depth': 1}</td>\n",
       "      <td>-6.387178</td>\n",
       "      <td>-6.137337</td>\n",
       "      <td>-6.176554</td>\n",
       "      <td>-6.336578</td>\n",
       "      <td>-6.398132</td>\n",
       "      <td>-6.287156</td>\n",
       "      <td>0.109033</td>\n",
       "      <td>20</td>\n",
       "    </tr>\n",
       "  </tbody>\n",
       "</table>\n",
       "</div>"
      ],
      "text/plain": [
       "    mean_fit_time  std_fit_time  mean_score_time  std_score_time  \\\n",
       "13       0.520289      0.021399         0.003925        0.000212   \n",
       "17       0.583043      0.020339         0.003704        0.000086   \n",
       "4        0.793367      0.256314         0.004017        0.000331   \n",
       "8        0.679240      0.034069         0.004205        0.000161   \n",
       "11       0.711985      0.016967         0.004292        0.000301   \n",
       "12       0.678750      0.013432         0.004099        0.000103   \n",
       "10       0.747623      0.060727         0.004587        0.000445   \n",
       "7        0.731288      0.018189         0.004364        0.000181   \n",
       "18       0.738735      0.041798         0.004308        0.000119   \n",
       "14       0.711196      0.012213         0.004174        0.000164   \n",
       "15       0.749737      0.037702         0.004400        0.000151   \n",
       "6        0.715201      0.017347         0.004601        0.000257   \n",
       "9        0.735568      0.032569         0.004533        0.000368   \n",
       "19       0.733886      0.016131         0.004325        0.000165   \n",
       "2        0.725926      0.016749         0.004562        0.000430   \n",
       "1        0.727366      0.038870         0.004419        0.000222   \n",
       "3        0.712922      0.020550         0.014079        0.019675   \n",
       "0        0.377451      0.012452         0.003531        0.000158   \n",
       "5        0.159173      0.001754         0.003433        0.000096   \n",
       "16       0.059798      0.002180         0.003264        0.000169   \n",
       "\n",
       "   param_max_depth             params  split0_test_score  split1_test_score  \\\n",
       "13              12  {'max_depth': 12}          -3.423713          -3.318092   \n",
       "17              14  {'max_depth': 14}          -3.411926          -3.384366   \n",
       "4               15  {'max_depth': 15}          -3.526489          -3.390639   \n",
       "8               18  {'max_depth': 18}          -3.440198          -3.371234   \n",
       "11              22  {'max_depth': 22}          -3.504270          -3.475536   \n",
       "12              20  {'max_depth': 20}          -3.592836          -3.384534   \n",
       "10              31  {'max_depth': 31}          -3.451162          -3.448510   \n",
       "7               32  {'max_depth': 32}          -3.514580          -3.492822   \n",
       "18              29  {'max_depth': 29}          -3.473523          -3.429609   \n",
       "14              23  {'max_depth': 23}          -3.622595          -3.471817   \n",
       "15              34  {'max_depth': 34}          -3.581556          -3.504478   \n",
       "6               24  {'max_depth': 24}          -3.553451          -3.426736   \n",
       "9               48  {'max_depth': 48}          -3.629761          -3.511313   \n",
       "19              50  {'max_depth': 50}          -3.629761          -3.511313   \n",
       "2               44  {'max_depth': 44}          -3.629761          -3.511313   \n",
       "1               45  {'max_depth': 45}          -3.629761          -3.511313   \n",
       "3               26  {'max_depth': 26}          -3.502161          -3.582045   \n",
       "0                8   {'max_depth': 8}          -3.797556          -3.803610   \n",
       "5                3   {'max_depth': 3}          -5.225061          -4.897502   \n",
       "16               1   {'max_depth': 1}          -6.387178          -6.137337   \n",
       "\n",
       "    split2_test_score  split3_test_score  split4_test_score  mean_test_score  \\\n",
       "13          -3.557032          -3.528171          -3.573536        -3.480109   \n",
       "17          -3.405066          -3.561437          -3.668269        -3.486213   \n",
       "4           -3.369083          -3.515790          -3.719751        -3.504350   \n",
       "8           -3.477774          -3.664692          -3.776594        -3.546098   \n",
       "11          -3.490602          -3.618551          -3.761329        -3.570058   \n",
       "12          -3.586491          -3.617507          -3.731200        -3.582513   \n",
       "10          -3.665510          -3.689040          -3.789965        -3.608837   \n",
       "7           -3.601456          -3.760122          -3.682857        -3.610367   \n",
       "18          -3.769634          -3.670505          -3.727515        -3.614157   \n",
       "14          -3.677122          -3.625697          -3.771167        -3.633680   \n",
       "15          -3.605697          -3.694434          -3.802691        -3.637771   \n",
       "6           -3.654134          -3.719959          -3.834870        -3.637830   \n",
       "9           -3.561854          -3.691733          -3.822763        -3.643485   \n",
       "19          -3.561854          -3.691733          -3.822763        -3.643485   \n",
       "2           -3.561854          -3.691733          -3.822763        -3.643485   \n",
       "1           -3.561854          -3.691733          -3.822763        -3.643485   \n",
       "3           -3.697027          -3.716824          -3.766402        -3.652892   \n",
       "0           -3.976075          -4.021754          -3.824795        -3.884758   \n",
       "5           -5.204772          -5.141234          -5.169914        -5.127697   \n",
       "16          -6.176554          -6.336578          -6.398132        -6.287156   \n",
       "\n",
       "    std_test_score  rank_test_score  \n",
       "13        0.096318                1  \n",
       "17        0.110706                2  \n",
       "4         0.125097                3  \n",
       "8         0.150767                4  \n",
       "11        0.108178                5  \n",
       "12        0.111938                6  \n",
       "10        0.136395                7  \n",
       "7         0.100750                8  \n",
       "18        0.137138                9  \n",
       "14        0.097135               10  \n",
       "15        0.102338               11  \n",
       "6         0.139654               12  \n",
       "9         0.108434               13  \n",
       "19        0.108434               13  \n",
       "2         0.108434               13  \n",
       "1         0.108434               13  \n",
       "3         0.096601               17  \n",
       "0         0.094754               18  \n",
       "5         0.118639               19  \n",
       "16        0.109033               20  "
      ]
     },
     "execution_count": 71,
     "metadata": {},
     "output_type": "execute_result"
    }
   ],
   "source": [
    "pd.DataFrame(dt.cv_results_).sort_values(by='rank_test_score')"
   ]
  },
  {
   "cell_type": "markdown",
   "metadata": {},
   "source": [
    "Самый лучший результат для max_depth=12, проверю с помощью GridSearchCV оценки для max_depth от 9 до 13. "
   ]
  },
  {
   "cell_type": "code",
   "execution_count": 72,
   "metadata": {},
   "outputs": [
    {
     "data": {
      "text/plain": [
       "GridSearchCV(estimator=DecisionTreeRegressor(random_state=21), n_jobs=-1,\n",
       "             param_grid={'max_depth': range(9, 14)},\n",
       "             scoring=make_scorer(sMAPE_score, greater_is_better=False))"
      ]
     },
     "execution_count": 72,
     "metadata": {},
     "output_type": "execute_result"
    }
   ],
   "source": [
    "param_grid = {'max_depth': range(9, 14)}\n",
    "dt = GridSearchCV(estimator=DecisionTreeRegressor(random_state=21),\n",
    "                        param_grid=param_grid, \n",
    "                        scoring=sMAPE_scorer, \n",
    "                        n_jobs=-1)\n",
    "dt.fit(X_train, y_train_rougher)"
   ]
  },
  {
   "cell_type": "code",
   "execution_count": 73,
   "metadata": {},
   "outputs": [],
   "source": [
    "best_dt_rougher = dt"
   ]
  },
  {
   "cell_type": "code",
   "execution_count": 74,
   "metadata": {},
   "outputs": [],
   "source": [
    "best_dt_rougher = dt"
   ]
  },
  {
   "cell_type": "code",
   "execution_count": 75,
   "metadata": {},
   "outputs": [
    {
     "data": {
      "text/plain": [
       "RandomizedSearchCV(estimator=DecisionTreeRegressor(random_state=21), n_iter=20,\n",
       "                   n_jobs=-1, param_distributions={'max_depth': range(1, 51)},\n",
       "                   random_state=21,\n",
       "                   scoring=make_scorer(sMAPE_score, greater_is_better=False))"
      ]
     },
     "execution_count": 75,
     "metadata": {},
     "output_type": "execute_result"
    }
   ],
   "source": [
    "param_distributions = {'max_depth': range(1, 51)}\n",
    "dt = RandomizedSearchCV(estimator=DecisionTreeRegressor(random_state=21),\n",
    "                        param_distributions=param_distributions, \n",
    "                        scoring=sMAPE_scorer, \n",
    "                        random_state=21,\n",
    "                        n_iter=20,\n",
    "                        n_jobs=-1)\n",
    "dt.fit(X_train, y_train_final)"
   ]
  },
  {
   "cell_type": "code",
   "execution_count": 76,
   "metadata": {},
   "outputs": [
    {
     "data": {
      "text/html": [
       "<div>\n",
       "<style scoped>\n",
       "    .dataframe tbody tr th:only-of-type {\n",
       "        vertical-align: middle;\n",
       "    }\n",
       "\n",
       "    .dataframe tbody tr th {\n",
       "        vertical-align: top;\n",
       "    }\n",
       "\n",
       "    .dataframe thead th {\n",
       "        text-align: right;\n",
       "    }\n",
       "</style>\n",
       "<table border=\"1\" class=\"dataframe\">\n",
       "  <thead>\n",
       "    <tr style=\"text-align: right;\">\n",
       "      <th></th>\n",
       "      <th>mean_fit_time</th>\n",
       "      <th>std_fit_time</th>\n",
       "      <th>mean_score_time</th>\n",
       "      <th>std_score_time</th>\n",
       "      <th>param_max_depth</th>\n",
       "      <th>params</th>\n",
       "      <th>split0_test_score</th>\n",
       "      <th>split1_test_score</th>\n",
       "      <th>split2_test_score</th>\n",
       "      <th>split3_test_score</th>\n",
       "      <th>split4_test_score</th>\n",
       "      <th>mean_test_score</th>\n",
       "      <th>std_test_score</th>\n",
       "      <th>rank_test_score</th>\n",
       "    </tr>\n",
       "  </thead>\n",
       "  <tbody>\n",
       "    <tr>\n",
       "      <th>0</th>\n",
       "      <td>0.585208</td>\n",
       "      <td>0.175385</td>\n",
       "      <td>0.003728</td>\n",
       "      <td>0.000473</td>\n",
       "      <td>8</td>\n",
       "      <td>{'max_depth': 8}</td>\n",
       "      <td>-7.594273</td>\n",
       "      <td>-7.261853</td>\n",
       "      <td>-7.373525</td>\n",
       "      <td>-7.131591</td>\n",
       "      <td>-7.306770</td>\n",
       "      <td>-7.333602</td>\n",
       "      <td>0.152459</td>\n",
       "      <td>1</td>\n",
       "    </tr>\n",
       "    <tr>\n",
       "      <th>13</th>\n",
       "      <td>0.530027</td>\n",
       "      <td>0.014897</td>\n",
       "      <td>0.003572</td>\n",
       "      <td>0.000082</td>\n",
       "      <td>12</td>\n",
       "      <td>{'max_depth': 12}</td>\n",
       "      <td>-7.677374</td>\n",
       "      <td>-7.171150</td>\n",
       "      <td>-7.520309</td>\n",
       "      <td>-7.018971</td>\n",
       "      <td>-7.634899</td>\n",
       "      <td>-7.404540</td>\n",
       "      <td>0.262313</td>\n",
       "      <td>2</td>\n",
       "    </tr>\n",
       "    <tr>\n",
       "      <th>17</th>\n",
       "      <td>0.607213</td>\n",
       "      <td>0.018465</td>\n",
       "      <td>0.004135</td>\n",
       "      <td>0.000677</td>\n",
       "      <td>14</td>\n",
       "      <td>{'max_depth': 14}</td>\n",
       "      <td>-7.742883</td>\n",
       "      <td>-7.043212</td>\n",
       "      <td>-7.516632</td>\n",
       "      <td>-7.083422</td>\n",
       "      <td>-7.688842</td>\n",
       "      <td>-7.414998</td>\n",
       "      <td>0.296983</td>\n",
       "      <td>3</td>\n",
       "    </tr>\n",
       "    <tr>\n",
       "      <th>4</th>\n",
       "      <td>0.853654</td>\n",
       "      <td>0.262219</td>\n",
       "      <td>0.004079</td>\n",
       "      <td>0.000245</td>\n",
       "      <td>15</td>\n",
       "      <td>{'max_depth': 15}</td>\n",
       "      <td>-7.783763</td>\n",
       "      <td>-7.178693</td>\n",
       "      <td>-7.563049</td>\n",
       "      <td>-7.302393</td>\n",
       "      <td>-7.685778</td>\n",
       "      <td>-7.502735</td>\n",
       "      <td>0.228587</td>\n",
       "      <td>4</td>\n",
       "    </tr>\n",
       "    <tr>\n",
       "      <th>8</th>\n",
       "      <td>0.711660</td>\n",
       "      <td>0.015015</td>\n",
       "      <td>0.004135</td>\n",
       "      <td>0.000292</td>\n",
       "      <td>18</td>\n",
       "      <td>{'max_depth': 18}</td>\n",
       "      <td>-8.096276</td>\n",
       "      <td>-7.397407</td>\n",
       "      <td>-7.828663</td>\n",
       "      <td>-7.491586</td>\n",
       "      <td>-7.697606</td>\n",
       "      <td>-7.702308</td>\n",
       "      <td>0.248422</td>\n",
       "      <td>5</td>\n",
       "    </tr>\n",
       "    <tr>\n",
       "      <th>12</th>\n",
       "      <td>0.756233</td>\n",
       "      <td>0.026930</td>\n",
       "      <td>0.004144</td>\n",
       "      <td>0.000101</td>\n",
       "      <td>20</td>\n",
       "      <td>{'max_depth': 20}</td>\n",
       "      <td>-7.814644</td>\n",
       "      <td>-7.416058</td>\n",
       "      <td>-7.955592</td>\n",
       "      <td>-7.623529</td>\n",
       "      <td>-7.806890</td>\n",
       "      <td>-7.723343</td>\n",
       "      <td>0.186356</td>\n",
       "      <td>6</td>\n",
       "    </tr>\n",
       "    <tr>\n",
       "      <th>11</th>\n",
       "      <td>0.763504</td>\n",
       "      <td>0.004177</td>\n",
       "      <td>0.004215</td>\n",
       "      <td>0.000108</td>\n",
       "      <td>22</td>\n",
       "      <td>{'max_depth': 22}</td>\n",
       "      <td>-7.975314</td>\n",
       "      <td>-7.501171</td>\n",
       "      <td>-8.024561</td>\n",
       "      <td>-7.687792</td>\n",
       "      <td>-7.875022</td>\n",
       "      <td>-7.812772</td>\n",
       "      <td>0.193837</td>\n",
       "      <td>7</td>\n",
       "    </tr>\n",
       "    <tr>\n",
       "      <th>14</th>\n",
       "      <td>0.775999</td>\n",
       "      <td>0.006817</td>\n",
       "      <td>0.004282</td>\n",
       "      <td>0.000094</td>\n",
       "      <td>23</td>\n",
       "      <td>{'max_depth': 23}</td>\n",
       "      <td>-7.923169</td>\n",
       "      <td>-7.535121</td>\n",
       "      <td>-7.915675</td>\n",
       "      <td>-7.698714</td>\n",
       "      <td>-8.000273</td>\n",
       "      <td>-7.814590</td>\n",
       "      <td>0.172056</td>\n",
       "      <td>8</td>\n",
       "    </tr>\n",
       "    <tr>\n",
       "      <th>6</th>\n",
       "      <td>0.823639</td>\n",
       "      <td>0.021395</td>\n",
       "      <td>0.004293</td>\n",
       "      <td>0.000187</td>\n",
       "      <td>24</td>\n",
       "      <td>{'max_depth': 24}</td>\n",
       "      <td>-7.927742</td>\n",
       "      <td>-7.648595</td>\n",
       "      <td>-7.976139</td>\n",
       "      <td>-7.683576</td>\n",
       "      <td>-7.967270</td>\n",
       "      <td>-7.840665</td>\n",
       "      <td>0.143898</td>\n",
       "      <td>9</td>\n",
       "    </tr>\n",
       "    <tr>\n",
       "      <th>3</th>\n",
       "      <td>0.814452</td>\n",
       "      <td>0.010139</td>\n",
       "      <td>0.004233</td>\n",
       "      <td>0.000110</td>\n",
       "      <td>26</td>\n",
       "      <td>{'max_depth': 26}</td>\n",
       "      <td>-8.006962</td>\n",
       "      <td>-7.804539</td>\n",
       "      <td>-8.034687</td>\n",
       "      <td>-7.758167</td>\n",
       "      <td>-7.811306</td>\n",
       "      <td>-7.883132</td>\n",
       "      <td>0.114241</td>\n",
       "      <td>10</td>\n",
       "    </tr>\n",
       "    <tr>\n",
       "      <th>9</th>\n",
       "      <td>0.847071</td>\n",
       "      <td>0.022805</td>\n",
       "      <td>0.004808</td>\n",
       "      <td>0.000477</td>\n",
       "      <td>48</td>\n",
       "      <td>{'max_depth': 48}</td>\n",
       "      <td>-8.166760</td>\n",
       "      <td>-7.953817</td>\n",
       "      <td>-8.071909</td>\n",
       "      <td>-7.840252</td>\n",
       "      <td>-7.880983</td>\n",
       "      <td>-7.982744</td>\n",
       "      <td>0.121085</td>\n",
       "      <td>11</td>\n",
       "    </tr>\n",
       "    <tr>\n",
       "      <th>2</th>\n",
       "      <td>0.862715</td>\n",
       "      <td>0.031607</td>\n",
       "      <td>0.004434</td>\n",
       "      <td>0.000198</td>\n",
       "      <td>44</td>\n",
       "      <td>{'max_depth': 44}</td>\n",
       "      <td>-8.214423</td>\n",
       "      <td>-7.825781</td>\n",
       "      <td>-8.092099</td>\n",
       "      <td>-7.845867</td>\n",
       "      <td>-7.998202</td>\n",
       "      <td>-7.995275</td>\n",
       "      <td>0.147282</td>\n",
       "      <td>12</td>\n",
       "    </tr>\n",
       "    <tr>\n",
       "      <th>18</th>\n",
       "      <td>0.826792</td>\n",
       "      <td>0.025130</td>\n",
       "      <td>0.004415</td>\n",
       "      <td>0.000156</td>\n",
       "      <td>29</td>\n",
       "      <td>{'max_depth': 29}</td>\n",
       "      <td>-8.177435</td>\n",
       "      <td>-7.731097</td>\n",
       "      <td>-8.105685</td>\n",
       "      <td>-7.864354</td>\n",
       "      <td>-8.098684</td>\n",
       "      <td>-7.995451</td>\n",
       "      <td>0.169113</td>\n",
       "      <td>13</td>\n",
       "    </tr>\n",
       "    <tr>\n",
       "      <th>19</th>\n",
       "      <td>0.839454</td>\n",
       "      <td>0.021501</td>\n",
       "      <td>0.004535</td>\n",
       "      <td>0.000071</td>\n",
       "      <td>50</td>\n",
       "      <td>{'max_depth': 50}</td>\n",
       "      <td>-8.166760</td>\n",
       "      <td>-7.953817</td>\n",
       "      <td>-8.136034</td>\n",
       "      <td>-7.849450</td>\n",
       "      <td>-7.880983</td>\n",
       "      <td>-7.997409</td>\n",
       "      <td>0.130571</td>\n",
       "      <td>14</td>\n",
       "    </tr>\n",
       "    <tr>\n",
       "      <th>1</th>\n",
       "      <td>0.840585</td>\n",
       "      <td>0.010450</td>\n",
       "      <td>0.004914</td>\n",
       "      <td>0.000554</td>\n",
       "      <td>45</td>\n",
       "      <td>{'max_depth': 45}</td>\n",
       "      <td>-8.284008</td>\n",
       "      <td>-7.925443</td>\n",
       "      <td>-8.072684</td>\n",
       "      <td>-7.850733</td>\n",
       "      <td>-7.880983</td>\n",
       "      <td>-8.002770</td>\n",
       "      <td>0.159943</td>\n",
       "      <td>15</td>\n",
       "    </tr>\n",
       "    <tr>\n",
       "      <th>7</th>\n",
       "      <td>0.901562</td>\n",
       "      <td>0.045998</td>\n",
       "      <td>0.004593</td>\n",
       "      <td>0.000549</td>\n",
       "      <td>32</td>\n",
       "      <td>{'max_depth': 32}</td>\n",
       "      <td>-8.106782</td>\n",
       "      <td>-7.804699</td>\n",
       "      <td>-8.138817</td>\n",
       "      <td>-7.847830</td>\n",
       "      <td>-8.188928</td>\n",
       "      <td>-8.017411</td>\n",
       "      <td>0.158839</td>\n",
       "      <td>16</td>\n",
       "    </tr>\n",
       "    <tr>\n",
       "      <th>10</th>\n",
       "      <td>0.837526</td>\n",
       "      <td>0.014325</td>\n",
       "      <td>0.004380</td>\n",
       "      <td>0.000147</td>\n",
       "      <td>31</td>\n",
       "      <td>{'max_depth': 31}</td>\n",
       "      <td>-8.162047</td>\n",
       "      <td>-7.811905</td>\n",
       "      <td>-8.137339</td>\n",
       "      <td>-7.820514</td>\n",
       "      <td>-8.228334</td>\n",
       "      <td>-8.032028</td>\n",
       "      <td>0.178731</td>\n",
       "      <td>17</td>\n",
       "    </tr>\n",
       "    <tr>\n",
       "      <th>15</th>\n",
       "      <td>0.856593</td>\n",
       "      <td>0.022815</td>\n",
       "      <td>0.004778</td>\n",
       "      <td>0.000696</td>\n",
       "      <td>34</td>\n",
       "      <td>{'max_depth': 34}</td>\n",
       "      <td>-8.021209</td>\n",
       "      <td>-7.922121</td>\n",
       "      <td>-8.144478</td>\n",
       "      <td>-7.926208</td>\n",
       "      <td>-8.152168</td>\n",
       "      <td>-8.033237</td>\n",
       "      <td>0.100465</td>\n",
       "      <td>18</td>\n",
       "    </tr>\n",
       "    <tr>\n",
       "      <th>5</th>\n",
       "      <td>0.170470</td>\n",
       "      <td>0.007892</td>\n",
       "      <td>0.003864</td>\n",
       "      <td>0.000494</td>\n",
       "      <td>3</td>\n",
       "      <td>{'max_depth': 3}</td>\n",
       "      <td>-8.438604</td>\n",
       "      <td>-8.263939</td>\n",
       "      <td>-8.514271</td>\n",
       "      <td>-8.178925</td>\n",
       "      <td>-8.505014</td>\n",
       "      <td>-8.380151</td>\n",
       "      <td>0.134902</td>\n",
       "      <td>19</td>\n",
       "    </tr>\n",
       "    <tr>\n",
       "      <th>16</th>\n",
       "      <td>0.058744</td>\n",
       "      <td>0.001086</td>\n",
       "      <td>0.003574</td>\n",
       "      <td>0.000537</td>\n",
       "      <td>1</td>\n",
       "      <td>{'max_depth': 1}</td>\n",
       "      <td>-9.165759</td>\n",
       "      <td>-8.956308</td>\n",
       "      <td>-9.388439</td>\n",
       "      <td>-8.985069</td>\n",
       "      <td>-9.266043</td>\n",
       "      <td>-9.152324</td>\n",
       "      <td>0.164474</td>\n",
       "      <td>20</td>\n",
       "    </tr>\n",
       "  </tbody>\n",
       "</table>\n",
       "</div>"
      ],
      "text/plain": [
       "    mean_fit_time  std_fit_time  mean_score_time  std_score_time  \\\n",
       "0        0.585208      0.175385         0.003728        0.000473   \n",
       "13       0.530027      0.014897         0.003572        0.000082   \n",
       "17       0.607213      0.018465         0.004135        0.000677   \n",
       "4        0.853654      0.262219         0.004079        0.000245   \n",
       "8        0.711660      0.015015         0.004135        0.000292   \n",
       "12       0.756233      0.026930         0.004144        0.000101   \n",
       "11       0.763504      0.004177         0.004215        0.000108   \n",
       "14       0.775999      0.006817         0.004282        0.000094   \n",
       "6        0.823639      0.021395         0.004293        0.000187   \n",
       "3        0.814452      0.010139         0.004233        0.000110   \n",
       "9        0.847071      0.022805         0.004808        0.000477   \n",
       "2        0.862715      0.031607         0.004434        0.000198   \n",
       "18       0.826792      0.025130         0.004415        0.000156   \n",
       "19       0.839454      0.021501         0.004535        0.000071   \n",
       "1        0.840585      0.010450         0.004914        0.000554   \n",
       "7        0.901562      0.045998         0.004593        0.000549   \n",
       "10       0.837526      0.014325         0.004380        0.000147   \n",
       "15       0.856593      0.022815         0.004778        0.000696   \n",
       "5        0.170470      0.007892         0.003864        0.000494   \n",
       "16       0.058744      0.001086         0.003574        0.000537   \n",
       "\n",
       "   param_max_depth             params  split0_test_score  split1_test_score  \\\n",
       "0                8   {'max_depth': 8}          -7.594273          -7.261853   \n",
       "13              12  {'max_depth': 12}          -7.677374          -7.171150   \n",
       "17              14  {'max_depth': 14}          -7.742883          -7.043212   \n",
       "4               15  {'max_depth': 15}          -7.783763          -7.178693   \n",
       "8               18  {'max_depth': 18}          -8.096276          -7.397407   \n",
       "12              20  {'max_depth': 20}          -7.814644          -7.416058   \n",
       "11              22  {'max_depth': 22}          -7.975314          -7.501171   \n",
       "14              23  {'max_depth': 23}          -7.923169          -7.535121   \n",
       "6               24  {'max_depth': 24}          -7.927742          -7.648595   \n",
       "3               26  {'max_depth': 26}          -8.006962          -7.804539   \n",
       "9               48  {'max_depth': 48}          -8.166760          -7.953817   \n",
       "2               44  {'max_depth': 44}          -8.214423          -7.825781   \n",
       "18              29  {'max_depth': 29}          -8.177435          -7.731097   \n",
       "19              50  {'max_depth': 50}          -8.166760          -7.953817   \n",
       "1               45  {'max_depth': 45}          -8.284008          -7.925443   \n",
       "7               32  {'max_depth': 32}          -8.106782          -7.804699   \n",
       "10              31  {'max_depth': 31}          -8.162047          -7.811905   \n",
       "15              34  {'max_depth': 34}          -8.021209          -7.922121   \n",
       "5                3   {'max_depth': 3}          -8.438604          -8.263939   \n",
       "16               1   {'max_depth': 1}          -9.165759          -8.956308   \n",
       "\n",
       "    split2_test_score  split3_test_score  split4_test_score  mean_test_score  \\\n",
       "0           -7.373525          -7.131591          -7.306770        -7.333602   \n",
       "13          -7.520309          -7.018971          -7.634899        -7.404540   \n",
       "17          -7.516632          -7.083422          -7.688842        -7.414998   \n",
       "4           -7.563049          -7.302393          -7.685778        -7.502735   \n",
       "8           -7.828663          -7.491586          -7.697606        -7.702308   \n",
       "12          -7.955592          -7.623529          -7.806890        -7.723343   \n",
       "11          -8.024561          -7.687792          -7.875022        -7.812772   \n",
       "14          -7.915675          -7.698714          -8.000273        -7.814590   \n",
       "6           -7.976139          -7.683576          -7.967270        -7.840665   \n",
       "3           -8.034687          -7.758167          -7.811306        -7.883132   \n",
       "9           -8.071909          -7.840252          -7.880983        -7.982744   \n",
       "2           -8.092099          -7.845867          -7.998202        -7.995275   \n",
       "18          -8.105685          -7.864354          -8.098684        -7.995451   \n",
       "19          -8.136034          -7.849450          -7.880983        -7.997409   \n",
       "1           -8.072684          -7.850733          -7.880983        -8.002770   \n",
       "7           -8.138817          -7.847830          -8.188928        -8.017411   \n",
       "10          -8.137339          -7.820514          -8.228334        -8.032028   \n",
       "15          -8.144478          -7.926208          -8.152168        -8.033237   \n",
       "5           -8.514271          -8.178925          -8.505014        -8.380151   \n",
       "16          -9.388439          -8.985069          -9.266043        -9.152324   \n",
       "\n",
       "    std_test_score  rank_test_score  \n",
       "0         0.152459                1  \n",
       "13        0.262313                2  \n",
       "17        0.296983                3  \n",
       "4         0.228587                4  \n",
       "8         0.248422                5  \n",
       "12        0.186356                6  \n",
       "11        0.193837                7  \n",
       "14        0.172056                8  \n",
       "6         0.143898                9  \n",
       "3         0.114241               10  \n",
       "9         0.121085               11  \n",
       "2         0.147282               12  \n",
       "18        0.169113               13  \n",
       "19        0.130571               14  \n",
       "1         0.159943               15  \n",
       "7         0.158839               16  \n",
       "10        0.178731               17  \n",
       "15        0.100465               18  \n",
       "5         0.134902               19  \n",
       "16        0.164474               20  "
      ]
     },
     "execution_count": 76,
     "metadata": {},
     "output_type": "execute_result"
    }
   ],
   "source": [
    "pd.DataFrame(dt.cv_results_).sort_values(by='rank_test_score')"
   ]
  },
  {
   "cell_type": "markdown",
   "metadata": {},
   "source": [
    "Самый лучший результат для max_depth=8, проверю с помощью GridSearchCV оценки для max_depth от 4 до 11. "
   ]
  },
  {
   "cell_type": "code",
   "execution_count": 77,
   "metadata": {},
   "outputs": [
    {
     "data": {
      "text/plain": [
       "GridSearchCV(estimator=DecisionTreeRegressor(random_state=21), n_jobs=-1,\n",
       "             param_grid={'max_depth': range(4, 12)},\n",
       "             scoring=make_scorer(sMAPE_score, greater_is_better=False))"
      ]
     },
     "execution_count": 77,
     "metadata": {},
     "output_type": "execute_result"
    }
   ],
   "source": [
    "param_grid = {'max_depth': range(4, 12)}\n",
    "dt = GridSearchCV(estimator=DecisionTreeRegressor(random_state=21),\n",
    "                        param_grid=param_grid, \n",
    "                        scoring=sMAPE_scorer, \n",
    "                        n_jobs=-1)\n",
    "dt.fit(X_train, y_train_final)"
   ]
  },
  {
   "cell_type": "code",
   "execution_count": 78,
   "metadata": {},
   "outputs": [],
   "source": [
    "best_dt_final = dt"
   ]
  },
  {
   "cell_type": "code",
   "execution_count": 79,
   "metadata": {},
   "outputs": [
    {
     "data": {
      "text/plain": [
       "(DecisionTreeRegressor(max_depth=12, random_state=21), -3.480108909553801)"
      ]
     },
     "execution_count": 79,
     "metadata": {},
     "output_type": "execute_result"
    }
   ],
   "source": [
    "best_dt_rougher.best_estimator_, best_dt_rougher.best_score_"
   ]
  },
  {
   "cell_type": "code",
   "execution_count": 80,
   "metadata": {},
   "outputs": [
    {
     "data": {
      "text/plain": [
       "(DecisionTreeRegressor(max_depth=10, random_state=21), -7.313670076474703)"
      ]
     },
     "execution_count": 80,
     "metadata": {},
     "output_type": "execute_result"
    }
   ],
   "source": [
    "best_dt_final.best_estimator_, best_dt_final.best_score_"
   ]
  },
  {
   "cell_type": "markdown",
   "metadata": {},
   "source": [
    "Для промежуточного показателя recovery лучшая оценка sMAPE на кросс-валидации получена для DecisionTreeRegressor(max_depth=12, random_state=21) (3.48%), для финального показателя recovery - для DecisionTreeRegressor(max_depth=10, random_state=21) (7.31%)."
   ]
  },
  {
   "cell_type": "markdown",
   "metadata": {},
   "source": [
    "#### Случайный лес"
   ]
  },
  {
   "cell_type": "code",
   "execution_count": 81,
   "metadata": {},
   "outputs": [
    {
     "data": {
      "text/plain": [
       "RandomizedSearchCV(estimator=RandomForestRegressor(random_state=21), n_iter=20,\n",
       "                   n_jobs=-1,\n",
       "                   param_distributions={'max_depth': range(2, 21, 2),\n",
       "                                        'n_estimators': range(10, 51, 10)},\n",
       "                   random_state=21,\n",
       "                   scoring=make_scorer(sMAPE_score, greater_is_better=False))"
      ]
     },
     "execution_count": 81,
     "metadata": {},
     "output_type": "execute_result"
    }
   ],
   "source": [
    "param_distributions = {'n_estimators': range(10, 51, 10),\n",
    "                       'max_depth': range(2, 21, 2)}\n",
    "rf = RandomizedSearchCV(estimator=RandomForestRegressor(random_state=21),\n",
    "                        param_distributions=param_distributions, \n",
    "                        scoring=sMAPE_scorer, \n",
    "                        random_state=21,\n",
    "                        n_iter=20,\n",
    "                        n_jobs=-1)\n",
    "rf.fit(X_train, y_train_rougher)"
   ]
  },
  {
   "cell_type": "code",
   "execution_count": 82,
   "metadata": {},
   "outputs": [
    {
     "data": {
      "text/html": [
       "<div>\n",
       "<style scoped>\n",
       "    .dataframe tbody tr th:only-of-type {\n",
       "        vertical-align: middle;\n",
       "    }\n",
       "\n",
       "    .dataframe tbody tr th {\n",
       "        vertical-align: top;\n",
       "    }\n",
       "\n",
       "    .dataframe thead th {\n",
       "        text-align: right;\n",
       "    }\n",
       "</style>\n",
       "<table border=\"1\" class=\"dataframe\">\n",
       "  <thead>\n",
       "    <tr style=\"text-align: right;\">\n",
       "      <th></th>\n",
       "      <th>mean_fit_time</th>\n",
       "      <th>std_fit_time</th>\n",
       "      <th>mean_score_time</th>\n",
       "      <th>std_score_time</th>\n",
       "      <th>param_n_estimators</th>\n",
       "      <th>param_max_depth</th>\n",
       "      <th>params</th>\n",
       "      <th>split0_test_score</th>\n",
       "      <th>split1_test_score</th>\n",
       "      <th>split2_test_score</th>\n",
       "      <th>split3_test_score</th>\n",
       "      <th>split4_test_score</th>\n",
       "      <th>mean_test_score</th>\n",
       "      <th>std_test_score</th>\n",
       "      <th>rank_test_score</th>\n",
       "    </tr>\n",
       "  </thead>\n",
       "  <tbody>\n",
       "    <tr>\n",
       "      <th>19</th>\n",
       "      <td>20.232711</td>\n",
       "      <td>0.227995</td>\n",
       "      <td>0.048278</td>\n",
       "      <td>0.001276</td>\n",
       "      <td>50</td>\n",
       "      <td>20</td>\n",
       "      <td>{'n_estimators': 50, 'max_depth': 20}</td>\n",
       "      <td>-2.551695</td>\n",
       "      <td>-2.477456</td>\n",
       "      <td>-2.527502</td>\n",
       "      <td>-2.648851</td>\n",
       "      <td>-2.640419</td>\n",
       "      <td>-2.569184</td>\n",
       "      <td>0.066149</td>\n",
       "      <td>1</td>\n",
       "    </tr>\n",
       "    <tr>\n",
       "      <th>1</th>\n",
       "      <td>20.039478</td>\n",
       "      <td>0.560343</td>\n",
       "      <td>0.047870</td>\n",
       "      <td>0.002716</td>\n",
       "      <td>50</td>\n",
       "      <td>18</td>\n",
       "      <td>{'n_estimators': 50, 'max_depth': 18}</td>\n",
       "      <td>-2.571098</td>\n",
       "      <td>-2.495491</td>\n",
       "      <td>-2.531716</td>\n",
       "      <td>-2.666986</td>\n",
       "      <td>-2.661533</td>\n",
       "      <td>-2.585365</td>\n",
       "      <td>0.068735</td>\n",
       "      <td>2</td>\n",
       "    </tr>\n",
       "    <tr>\n",
       "      <th>2</th>\n",
       "      <td>15.982667</td>\n",
       "      <td>0.468566</td>\n",
       "      <td>0.037055</td>\n",
       "      <td>0.002538</td>\n",
       "      <td>40</td>\n",
       "      <td>18</td>\n",
       "      <td>{'n_estimators': 40, 'max_depth': 18}</td>\n",
       "      <td>-2.579375</td>\n",
       "      <td>-2.502115</td>\n",
       "      <td>-2.546044</td>\n",
       "      <td>-2.671059</td>\n",
       "      <td>-2.668504</td>\n",
       "      <td>-2.593420</td>\n",
       "      <td>0.066998</td>\n",
       "      <td>3</td>\n",
       "    </tr>\n",
       "    <tr>\n",
       "      <th>9</th>\n",
       "      <td>12.197963</td>\n",
       "      <td>0.342359</td>\n",
       "      <td>0.031642</td>\n",
       "      <td>0.001711</td>\n",
       "      <td>30</td>\n",
       "      <td>20</td>\n",
       "      <td>{'n_estimators': 30, 'max_depth': 20}</td>\n",
       "      <td>-2.567518</td>\n",
       "      <td>-2.511172</td>\n",
       "      <td>-2.565072</td>\n",
       "      <td>-2.676779</td>\n",
       "      <td>-2.670500</td>\n",
       "      <td>-2.598208</td>\n",
       "      <td>0.064830</td>\n",
       "      <td>4</td>\n",
       "    </tr>\n",
       "    <tr>\n",
       "      <th>15</th>\n",
       "      <td>13.933559</td>\n",
       "      <td>0.376109</td>\n",
       "      <td>0.030103</td>\n",
       "      <td>0.001451</td>\n",
       "      <td>40</td>\n",
       "      <td>14</td>\n",
       "      <td>{'n_estimators': 40, 'max_depth': 14}</td>\n",
       "      <td>-2.692231</td>\n",
       "      <td>-2.590725</td>\n",
       "      <td>-2.639313</td>\n",
       "      <td>-2.763537</td>\n",
       "      <td>-2.782539</td>\n",
       "      <td>-2.693669</td>\n",
       "      <td>0.072572</td>\n",
       "      <td>5</td>\n",
       "    </tr>\n",
       "    <tr>\n",
       "      <th>7</th>\n",
       "      <td>7.015897</td>\n",
       "      <td>0.080701</td>\n",
       "      <td>0.017439</td>\n",
       "      <td>0.000550</td>\n",
       "      <td>20</td>\n",
       "      <td>14</td>\n",
       "      <td>{'n_estimators': 20, 'max_depth': 14}</td>\n",
       "      <td>-2.736183</td>\n",
       "      <td>-2.646068</td>\n",
       "      <td>-2.693532</td>\n",
       "      <td>-2.801333</td>\n",
       "      <td>-2.874024</td>\n",
       "      <td>-2.750228</td>\n",
       "      <td>0.080247</td>\n",
       "      <td>6</td>\n",
       "    </tr>\n",
       "    <tr>\n",
       "      <th>18</th>\n",
       "      <td>12.598888</td>\n",
       "      <td>0.236164</td>\n",
       "      <td>0.027555</td>\n",
       "      <td>0.001898</td>\n",
       "      <td>40</td>\n",
       "      <td>12</td>\n",
       "      <td>{'n_estimators': 40, 'max_depth': 12}</td>\n",
       "      <td>-2.795662</td>\n",
       "      <td>-2.721986</td>\n",
       "      <td>-2.755837</td>\n",
       "      <td>-2.886143</td>\n",
       "      <td>-2.897780</td>\n",
       "      <td>-2.811482</td>\n",
       "      <td>0.069825</td>\n",
       "      <td>7</td>\n",
       "    </tr>\n",
       "    <tr>\n",
       "      <th>10</th>\n",
       "      <td>3.452488</td>\n",
       "      <td>0.040878</td>\n",
       "      <td>0.010443</td>\n",
       "      <td>0.000307</td>\n",
       "      <td>10</td>\n",
       "      <td>14</td>\n",
       "      <td>{'n_estimators': 10, 'max_depth': 14}</td>\n",
       "      <td>-2.808132</td>\n",
       "      <td>-2.716379</td>\n",
       "      <td>-2.791512</td>\n",
       "      <td>-2.867881</td>\n",
       "      <td>-2.928750</td>\n",
       "      <td>-2.822531</td>\n",
       "      <td>0.071801</td>\n",
       "      <td>8</td>\n",
       "    </tr>\n",
       "    <tr>\n",
       "      <th>3</th>\n",
       "      <td>3.161484</td>\n",
       "      <td>0.028012</td>\n",
       "      <td>0.009295</td>\n",
       "      <td>0.000491</td>\n",
       "      <td>10</td>\n",
       "      <td>12</td>\n",
       "      <td>{'n_estimators': 10, 'max_depth': 12}</td>\n",
       "      <td>-2.889521</td>\n",
       "      <td>-2.811547</td>\n",
       "      <td>-2.887924</td>\n",
       "      <td>-2.964228</td>\n",
       "      <td>-2.994161</td>\n",
       "      <td>-2.909476</td>\n",
       "      <td>0.064222</td>\n",
       "      <td>9</td>\n",
       "    </tr>\n",
       "    <tr>\n",
       "      <th>6</th>\n",
       "      <td>11.055474</td>\n",
       "      <td>0.043278</td>\n",
       "      <td>0.020854</td>\n",
       "      <td>0.000388</td>\n",
       "      <td>40</td>\n",
       "      <td>10</td>\n",
       "      <td>{'n_estimators': 40, 'max_depth': 10}</td>\n",
       "      <td>-3.012293</td>\n",
       "      <td>-2.920580</td>\n",
       "      <td>-2.963993</td>\n",
       "      <td>-3.114549</td>\n",
       "      <td>-3.106883</td>\n",
       "      <td>-3.023660</td>\n",
       "      <td>0.076814</td>\n",
       "      <td>10</td>\n",
       "    </tr>\n",
       "    <tr>\n",
       "      <th>14</th>\n",
       "      <td>8.188023</td>\n",
       "      <td>0.112348</td>\n",
       "      <td>0.016061</td>\n",
       "      <td>0.000825</td>\n",
       "      <td>30</td>\n",
       "      <td>10</td>\n",
       "      <td>{'n_estimators': 30, 'max_depth': 10}</td>\n",
       "      <td>-3.025581</td>\n",
       "      <td>-2.934053</td>\n",
       "      <td>-2.983310</td>\n",
       "      <td>-3.138774</td>\n",
       "      <td>-3.123493</td>\n",
       "      <td>-3.041042</td>\n",
       "      <td>0.079206</td>\n",
       "      <td>11</td>\n",
       "    </tr>\n",
       "    <tr>\n",
       "      <th>11</th>\n",
       "      <td>5.463716</td>\n",
       "      <td>0.064776</td>\n",
       "      <td>0.012988</td>\n",
       "      <td>0.000714</td>\n",
       "      <td>20</td>\n",
       "      <td>10</td>\n",
       "      <td>{'n_estimators': 20, 'max_depth': 10}</td>\n",
       "      <td>-3.056396</td>\n",
       "      <td>-2.929648</td>\n",
       "      <td>-3.021623</td>\n",
       "      <td>-3.134463</td>\n",
       "      <td>-3.174834</td>\n",
       "      <td>-3.063393</td>\n",
       "      <td>0.086199</td>\n",
       "      <td>12</td>\n",
       "    </tr>\n",
       "    <tr>\n",
       "      <th>12</th>\n",
       "      <td>11.348145</td>\n",
       "      <td>0.059696</td>\n",
       "      <td>0.021405</td>\n",
       "      <td>0.003394</td>\n",
       "      <td>50</td>\n",
       "      <td>8</td>\n",
       "      <td>{'n_estimators': 50, 'max_depth': 8}</td>\n",
       "      <td>-3.348196</td>\n",
       "      <td>-3.224343</td>\n",
       "      <td>-3.273526</td>\n",
       "      <td>-3.470092</td>\n",
       "      <td>-3.431995</td>\n",
       "      <td>-3.349630</td>\n",
       "      <td>0.092505</td>\n",
       "      <td>13</td>\n",
       "    </tr>\n",
       "    <tr>\n",
       "      <th>8</th>\n",
       "      <td>7.003743</td>\n",
       "      <td>0.084909</td>\n",
       "      <td>0.013665</td>\n",
       "      <td>0.000529</td>\n",
       "      <td>30</td>\n",
       "      <td>8</td>\n",
       "      <td>{'n_estimators': 30, 'max_depth': 8}</td>\n",
       "      <td>-3.363135</td>\n",
       "      <td>-3.238048</td>\n",
       "      <td>-3.305133</td>\n",
       "      <td>-3.477166</td>\n",
       "      <td>-3.459927</td>\n",
       "      <td>-3.368682</td>\n",
       "      <td>0.090806</td>\n",
       "      <td>14</td>\n",
       "    </tr>\n",
       "    <tr>\n",
       "      <th>4</th>\n",
       "      <td>9.282784</td>\n",
       "      <td>0.438302</td>\n",
       "      <td>0.015040</td>\n",
       "      <td>0.000244</td>\n",
       "      <td>50</td>\n",
       "      <td>6</td>\n",
       "      <td>{'n_estimators': 50, 'max_depth': 6}</td>\n",
       "      <td>-3.876546</td>\n",
       "      <td>-3.732777</td>\n",
       "      <td>-3.782517</td>\n",
       "      <td>-3.998076</td>\n",
       "      <td>-3.940468</td>\n",
       "      <td>-3.866077</td>\n",
       "      <td>0.097794</td>\n",
       "      <td>15</td>\n",
       "    </tr>\n",
       "    <tr>\n",
       "      <th>17</th>\n",
       "      <td>7.235979</td>\n",
       "      <td>0.104128</td>\n",
       "      <td>0.014115</td>\n",
       "      <td>0.002067</td>\n",
       "      <td>40</td>\n",
       "      <td>6</td>\n",
       "      <td>{'n_estimators': 40, 'max_depth': 6}</td>\n",
       "      <td>-3.869798</td>\n",
       "      <td>-3.723474</td>\n",
       "      <td>-3.791781</td>\n",
       "      <td>-4.006156</td>\n",
       "      <td>-3.942360</td>\n",
       "      <td>-3.866714</td>\n",
       "      <td>0.101300</td>\n",
       "      <td>16</td>\n",
       "    </tr>\n",
       "    <tr>\n",
       "      <th>13</th>\n",
       "      <td>3.560248</td>\n",
       "      <td>0.020982</td>\n",
       "      <td>0.008002</td>\n",
       "      <td>0.000279</td>\n",
       "      <td>20</td>\n",
       "      <td>6</td>\n",
       "      <td>{'n_estimators': 20, 'max_depth': 6}</td>\n",
       "      <td>-3.907671</td>\n",
       "      <td>-3.726275</td>\n",
       "      <td>-3.826599</td>\n",
       "      <td>-4.018169</td>\n",
       "      <td>-3.971091</td>\n",
       "      <td>-3.889961</td>\n",
       "      <td>0.104058</td>\n",
       "      <td>17</td>\n",
       "    </tr>\n",
       "    <tr>\n",
       "      <th>0</th>\n",
       "      <td>3.846275</td>\n",
       "      <td>0.101738</td>\n",
       "      <td>0.009122</td>\n",
       "      <td>0.000352</td>\n",
       "      <td>30</td>\n",
       "      <td>4</td>\n",
       "      <td>{'n_estimators': 30, 'max_depth': 4}</td>\n",
       "      <td>-4.489859</td>\n",
       "      <td>-4.280845</td>\n",
       "      <td>-4.401610</td>\n",
       "      <td>-4.574068</td>\n",
       "      <td>-4.548826</td>\n",
       "      <td>-4.459042</td>\n",
       "      <td>0.107046</td>\n",
       "      <td>18</td>\n",
       "    </tr>\n",
       "    <tr>\n",
       "      <th>5</th>\n",
       "      <td>2.085198</td>\n",
       "      <td>0.050119</td>\n",
       "      <td>0.009134</td>\n",
       "      <td>0.001774</td>\n",
       "      <td>30</td>\n",
       "      <td>2</td>\n",
       "      <td>{'n_estimators': 30, 'max_depth': 2}</td>\n",
       "      <td>-5.516044</td>\n",
       "      <td>-5.231839</td>\n",
       "      <td>-5.306286</td>\n",
       "      <td>-5.559446</td>\n",
       "      <td>-5.472847</td>\n",
       "      <td>-5.417292</td>\n",
       "      <td>0.126302</td>\n",
       "      <td>19</td>\n",
       "    </tr>\n",
       "    <tr>\n",
       "      <th>16</th>\n",
       "      <td>0.670748</td>\n",
       "      <td>0.020523</td>\n",
       "      <td>0.005502</td>\n",
       "      <td>0.000640</td>\n",
       "      <td>10</td>\n",
       "      <td>2</td>\n",
       "      <td>{'n_estimators': 10, 'max_depth': 2}</td>\n",
       "      <td>-5.522241</td>\n",
       "      <td>-5.230955</td>\n",
       "      <td>-5.323222</td>\n",
       "      <td>-5.564385</td>\n",
       "      <td>-5.478707</td>\n",
       "      <td>-5.423902</td>\n",
       "      <td>0.126313</td>\n",
       "      <td>20</td>\n",
       "    </tr>\n",
       "  </tbody>\n",
       "</table>\n",
       "</div>"
      ],
      "text/plain": [
       "    mean_fit_time  std_fit_time  mean_score_time  std_score_time  \\\n",
       "19      20.232711      0.227995         0.048278        0.001276   \n",
       "1       20.039478      0.560343         0.047870        0.002716   \n",
       "2       15.982667      0.468566         0.037055        0.002538   \n",
       "9       12.197963      0.342359         0.031642        0.001711   \n",
       "15      13.933559      0.376109         0.030103        0.001451   \n",
       "7        7.015897      0.080701         0.017439        0.000550   \n",
       "18      12.598888      0.236164         0.027555        0.001898   \n",
       "10       3.452488      0.040878         0.010443        0.000307   \n",
       "3        3.161484      0.028012         0.009295        0.000491   \n",
       "6       11.055474      0.043278         0.020854        0.000388   \n",
       "14       8.188023      0.112348         0.016061        0.000825   \n",
       "11       5.463716      0.064776         0.012988        0.000714   \n",
       "12      11.348145      0.059696         0.021405        0.003394   \n",
       "8        7.003743      0.084909         0.013665        0.000529   \n",
       "4        9.282784      0.438302         0.015040        0.000244   \n",
       "17       7.235979      0.104128         0.014115        0.002067   \n",
       "13       3.560248      0.020982         0.008002        0.000279   \n",
       "0        3.846275      0.101738         0.009122        0.000352   \n",
       "5        2.085198      0.050119         0.009134        0.001774   \n",
       "16       0.670748      0.020523         0.005502        0.000640   \n",
       "\n",
       "   param_n_estimators param_max_depth                                 params  \\\n",
       "19                 50              20  {'n_estimators': 50, 'max_depth': 20}   \n",
       "1                  50              18  {'n_estimators': 50, 'max_depth': 18}   \n",
       "2                  40              18  {'n_estimators': 40, 'max_depth': 18}   \n",
       "9                  30              20  {'n_estimators': 30, 'max_depth': 20}   \n",
       "15                 40              14  {'n_estimators': 40, 'max_depth': 14}   \n",
       "7                  20              14  {'n_estimators': 20, 'max_depth': 14}   \n",
       "18                 40              12  {'n_estimators': 40, 'max_depth': 12}   \n",
       "10                 10              14  {'n_estimators': 10, 'max_depth': 14}   \n",
       "3                  10              12  {'n_estimators': 10, 'max_depth': 12}   \n",
       "6                  40              10  {'n_estimators': 40, 'max_depth': 10}   \n",
       "14                 30              10  {'n_estimators': 30, 'max_depth': 10}   \n",
       "11                 20              10  {'n_estimators': 20, 'max_depth': 10}   \n",
       "12                 50               8   {'n_estimators': 50, 'max_depth': 8}   \n",
       "8                  30               8   {'n_estimators': 30, 'max_depth': 8}   \n",
       "4                  50               6   {'n_estimators': 50, 'max_depth': 6}   \n",
       "17                 40               6   {'n_estimators': 40, 'max_depth': 6}   \n",
       "13                 20               6   {'n_estimators': 20, 'max_depth': 6}   \n",
       "0                  30               4   {'n_estimators': 30, 'max_depth': 4}   \n",
       "5                  30               2   {'n_estimators': 30, 'max_depth': 2}   \n",
       "16                 10               2   {'n_estimators': 10, 'max_depth': 2}   \n",
       "\n",
       "    split0_test_score  split1_test_score  split2_test_score  \\\n",
       "19          -2.551695          -2.477456          -2.527502   \n",
       "1           -2.571098          -2.495491          -2.531716   \n",
       "2           -2.579375          -2.502115          -2.546044   \n",
       "9           -2.567518          -2.511172          -2.565072   \n",
       "15          -2.692231          -2.590725          -2.639313   \n",
       "7           -2.736183          -2.646068          -2.693532   \n",
       "18          -2.795662          -2.721986          -2.755837   \n",
       "10          -2.808132          -2.716379          -2.791512   \n",
       "3           -2.889521          -2.811547          -2.887924   \n",
       "6           -3.012293          -2.920580          -2.963993   \n",
       "14          -3.025581          -2.934053          -2.983310   \n",
       "11          -3.056396          -2.929648          -3.021623   \n",
       "12          -3.348196          -3.224343          -3.273526   \n",
       "8           -3.363135          -3.238048          -3.305133   \n",
       "4           -3.876546          -3.732777          -3.782517   \n",
       "17          -3.869798          -3.723474          -3.791781   \n",
       "13          -3.907671          -3.726275          -3.826599   \n",
       "0           -4.489859          -4.280845          -4.401610   \n",
       "5           -5.516044          -5.231839          -5.306286   \n",
       "16          -5.522241          -5.230955          -5.323222   \n",
       "\n",
       "    split3_test_score  split4_test_score  mean_test_score  std_test_score  \\\n",
       "19          -2.648851          -2.640419        -2.569184        0.066149   \n",
       "1           -2.666986          -2.661533        -2.585365        0.068735   \n",
       "2           -2.671059          -2.668504        -2.593420        0.066998   \n",
       "9           -2.676779          -2.670500        -2.598208        0.064830   \n",
       "15          -2.763537          -2.782539        -2.693669        0.072572   \n",
       "7           -2.801333          -2.874024        -2.750228        0.080247   \n",
       "18          -2.886143          -2.897780        -2.811482        0.069825   \n",
       "10          -2.867881          -2.928750        -2.822531        0.071801   \n",
       "3           -2.964228          -2.994161        -2.909476        0.064222   \n",
       "6           -3.114549          -3.106883        -3.023660        0.076814   \n",
       "14          -3.138774          -3.123493        -3.041042        0.079206   \n",
       "11          -3.134463          -3.174834        -3.063393        0.086199   \n",
       "12          -3.470092          -3.431995        -3.349630        0.092505   \n",
       "8           -3.477166          -3.459927        -3.368682        0.090806   \n",
       "4           -3.998076          -3.940468        -3.866077        0.097794   \n",
       "17          -4.006156          -3.942360        -3.866714        0.101300   \n",
       "13          -4.018169          -3.971091        -3.889961        0.104058   \n",
       "0           -4.574068          -4.548826        -4.459042        0.107046   \n",
       "5           -5.559446          -5.472847        -5.417292        0.126302   \n",
       "16          -5.564385          -5.478707        -5.423902        0.126313   \n",
       "\n",
       "    rank_test_score  \n",
       "19                1  \n",
       "1                 2  \n",
       "2                 3  \n",
       "9                 4  \n",
       "15                5  \n",
       "7                 6  \n",
       "18                7  \n",
       "10                8  \n",
       "3                 9  \n",
       "6                10  \n",
       "14               11  \n",
       "11               12  \n",
       "12               13  \n",
       "8                14  \n",
       "4                15  \n",
       "17               16  \n",
       "13               17  \n",
       "0                18  \n",
       "5                19  \n",
       "16               20  "
      ]
     },
     "execution_count": 82,
     "metadata": {},
     "output_type": "execute_result"
    }
   ],
   "source": [
    "pd.DataFrame(rf.cv_results_).sort_values(by='rank_test_score')"
   ]
  },
  {
   "cell_type": "code",
   "execution_count": 83,
   "metadata": {},
   "outputs": [
    {
     "data": {
      "text/plain": [
       "RandomizedSearchCV(estimator=RandomForestRegressor(random_state=21), n_jobs=-1,\n",
       "                   param_distributions={'max_depth': range(20, 31, 2),\n",
       "                                        'n_estimators': range(50, 101, 10)},\n",
       "                   random_state=21,\n",
       "                   scoring=make_scorer(sMAPE_score, greater_is_better=False))"
      ]
     },
     "execution_count": 83,
     "metadata": {},
     "output_type": "execute_result"
    }
   ],
   "source": [
    "param_distributions = {'n_estimators': range(50, 101, 10),\n",
    "                       'max_depth': range(20, 31, 2)}\n",
    "rf = RandomizedSearchCV(estimator=RandomForestRegressor(random_state=21),\n",
    "                        param_distributions=param_distributions, \n",
    "                        scoring=sMAPE_scorer, \n",
    "                        random_state=21,\n",
    "                        n_iter=10,\n",
    "                        n_jobs=-1)\n",
    "rf.fit(X_train, y_train_rougher)"
   ]
  },
  {
   "cell_type": "code",
   "execution_count": 84,
   "metadata": {},
   "outputs": [
    {
     "data": {
      "text/html": [
       "<div>\n",
       "<style scoped>\n",
       "    .dataframe tbody tr th:only-of-type {\n",
       "        vertical-align: middle;\n",
       "    }\n",
       "\n",
       "    .dataframe tbody tr th {\n",
       "        vertical-align: top;\n",
       "    }\n",
       "\n",
       "    .dataframe thead th {\n",
       "        text-align: right;\n",
       "    }\n",
       "</style>\n",
       "<table border=\"1\" class=\"dataframe\">\n",
       "  <thead>\n",
       "    <tr style=\"text-align: right;\">\n",
       "      <th></th>\n",
       "      <th>mean_fit_time</th>\n",
       "      <th>std_fit_time</th>\n",
       "      <th>mean_score_time</th>\n",
       "      <th>std_score_time</th>\n",
       "      <th>param_n_estimators</th>\n",
       "      <th>param_max_depth</th>\n",
       "      <th>params</th>\n",
       "      <th>split0_test_score</th>\n",
       "      <th>split1_test_score</th>\n",
       "      <th>split2_test_score</th>\n",
       "      <th>split3_test_score</th>\n",
       "      <th>split4_test_score</th>\n",
       "      <th>mean_test_score</th>\n",
       "      <th>std_test_score</th>\n",
       "      <th>rank_test_score</th>\n",
       "    </tr>\n",
       "  </thead>\n",
       "  <tbody>\n",
       "    <tr>\n",
       "      <th>2</th>\n",
       "      <td>42.121020</td>\n",
       "      <td>0.597197</td>\n",
       "      <td>0.101769</td>\n",
       "      <td>0.000895</td>\n",
       "      <td>100</td>\n",
       "      <td>26</td>\n",
       "      <td>{'n_estimators': 100, 'max_depth': 26}</td>\n",
       "      <td>-2.510085</td>\n",
       "      <td>-2.458895</td>\n",
       "      <td>-2.476859</td>\n",
       "      <td>-2.607561</td>\n",
       "      <td>-2.610667</td>\n",
       "      <td>-2.532813</td>\n",
       "      <td>0.064436</td>\n",
       "      <td>1</td>\n",
       "    </tr>\n",
       "    <tr>\n",
       "      <th>8</th>\n",
       "      <td>37.465832</td>\n",
       "      <td>0.237881</td>\n",
       "      <td>0.093131</td>\n",
       "      <td>0.002614</td>\n",
       "      <td>90</td>\n",
       "      <td>30</td>\n",
       "      <td>{'n_estimators': 90, 'max_depth': 30}</td>\n",
       "      <td>-2.512386</td>\n",
       "      <td>-2.454350</td>\n",
       "      <td>-2.482789</td>\n",
       "      <td>-2.609596</td>\n",
       "      <td>-2.614537</td>\n",
       "      <td>-2.534732</td>\n",
       "      <td>0.065775</td>\n",
       "      <td>2</td>\n",
       "    </tr>\n",
       "    <tr>\n",
       "      <th>7</th>\n",
       "      <td>40.575571</td>\n",
       "      <td>0.166284</td>\n",
       "      <td>0.097492</td>\n",
       "      <td>0.004027</td>\n",
       "      <td>100</td>\n",
       "      <td>22</td>\n",
       "      <td>{'n_estimators': 100, 'max_depth': 22}</td>\n",
       "      <td>-2.519055</td>\n",
       "      <td>-2.458524</td>\n",
       "      <td>-2.494223</td>\n",
       "      <td>-2.617256</td>\n",
       "      <td>-2.617284</td>\n",
       "      <td>-2.541268</td>\n",
       "      <td>0.064971</td>\n",
       "      <td>3</td>\n",
       "    </tr>\n",
       "    <tr>\n",
       "      <th>5</th>\n",
       "      <td>29.810146</td>\n",
       "      <td>0.235347</td>\n",
       "      <td>0.075410</td>\n",
       "      <td>0.003130</td>\n",
       "      <td>70</td>\n",
       "      <td>30</td>\n",
       "      <td>{'n_estimators': 70, 'max_depth': 30}</td>\n",
       "      <td>-2.515458</td>\n",
       "      <td>-2.469793</td>\n",
       "      <td>-2.489026</td>\n",
       "      <td>-2.620065</td>\n",
       "      <td>-2.622661</td>\n",
       "      <td>-2.543401</td>\n",
       "      <td>0.065292</td>\n",
       "      <td>4</td>\n",
       "    </tr>\n",
       "    <tr>\n",
       "      <th>3</th>\n",
       "      <td>24.735354</td>\n",
       "      <td>0.321442</td>\n",
       "      <td>0.062656</td>\n",
       "      <td>0.003525</td>\n",
       "      <td>60</td>\n",
       "      <td>24</td>\n",
       "      <td>{'n_estimators': 60, 'max_depth': 24}</td>\n",
       "      <td>-2.528417</td>\n",
       "      <td>-2.477897</td>\n",
       "      <td>-2.493405</td>\n",
       "      <td>-2.625008</td>\n",
       "      <td>-2.625205</td>\n",
       "      <td>-2.549986</td>\n",
       "      <td>0.063482</td>\n",
       "      <td>5</td>\n",
       "    </tr>\n",
       "    <tr>\n",
       "      <th>6</th>\n",
       "      <td>21.015445</td>\n",
       "      <td>0.258406</td>\n",
       "      <td>0.052209</td>\n",
       "      <td>0.000895</td>\n",
       "      <td>50</td>\n",
       "      <td>26</td>\n",
       "      <td>{'n_estimators': 50, 'max_depth': 26}</td>\n",
       "      <td>-2.529827</td>\n",
       "      <td>-2.480789</td>\n",
       "      <td>-2.495531</td>\n",
       "      <td>-2.633625</td>\n",
       "      <td>-2.628561</td>\n",
       "      <td>-2.553666</td>\n",
       "      <td>0.065210</td>\n",
       "      <td>6</td>\n",
       "    </tr>\n",
       "    <tr>\n",
       "      <th>4</th>\n",
       "      <td>31.803446</td>\n",
       "      <td>0.253034</td>\n",
       "      <td>0.074834</td>\n",
       "      <td>0.002178</td>\n",
       "      <td>80</td>\n",
       "      <td>20</td>\n",
       "      <td>{'n_estimators': 80, 'max_depth': 20}</td>\n",
       "      <td>-2.536507</td>\n",
       "      <td>-2.467640</td>\n",
       "      <td>-2.507345</td>\n",
       "      <td>-2.634654</td>\n",
       "      <td>-2.628535</td>\n",
       "      <td>-2.554936</td>\n",
       "      <td>0.066328</td>\n",
       "      <td>7</td>\n",
       "    </tr>\n",
       "    <tr>\n",
       "      <th>0</th>\n",
       "      <td>25.091027</td>\n",
       "      <td>0.325241</td>\n",
       "      <td>0.062134</td>\n",
       "      <td>0.002880</td>\n",
       "      <td>60</td>\n",
       "      <td>22</td>\n",
       "      <td>{'n_estimators': 60, 'max_depth': 22}</td>\n",
       "      <td>-2.537116</td>\n",
       "      <td>-2.477948</td>\n",
       "      <td>-2.503910</td>\n",
       "      <td>-2.632602</td>\n",
       "      <td>-2.630605</td>\n",
       "      <td>-2.556437</td>\n",
       "      <td>0.064179</td>\n",
       "      <td>8</td>\n",
       "    </tr>\n",
       "    <tr>\n",
       "      <th>1</th>\n",
       "      <td>24.325941</td>\n",
       "      <td>0.184980</td>\n",
       "      <td>0.057210</td>\n",
       "      <td>0.000821</td>\n",
       "      <td>60</td>\n",
       "      <td>20</td>\n",
       "      <td>{'n_estimators': 60, 'max_depth': 20}</td>\n",
       "      <td>-2.546807</td>\n",
       "      <td>-2.477792</td>\n",
       "      <td>-2.517379</td>\n",
       "      <td>-2.640104</td>\n",
       "      <td>-2.639780</td>\n",
       "      <td>-2.564372</td>\n",
       "      <td>0.065475</td>\n",
       "      <td>9</td>\n",
       "    </tr>\n",
       "    <tr>\n",
       "      <th>9</th>\n",
       "      <td>19.501740</td>\n",
       "      <td>0.132454</td>\n",
       "      <td>0.048742</td>\n",
       "      <td>0.001779</td>\n",
       "      <td>50</td>\n",
       "      <td>20</td>\n",
       "      <td>{'n_estimators': 50, 'max_depth': 20}</td>\n",
       "      <td>-2.551695</td>\n",
       "      <td>-2.477456</td>\n",
       "      <td>-2.527502</td>\n",
       "      <td>-2.648851</td>\n",
       "      <td>-2.640419</td>\n",
       "      <td>-2.569184</td>\n",
       "      <td>0.066149</td>\n",
       "      <td>10</td>\n",
       "    </tr>\n",
       "  </tbody>\n",
       "</table>\n",
       "</div>"
      ],
      "text/plain": [
       "   mean_fit_time  std_fit_time  mean_score_time  std_score_time  \\\n",
       "2      42.121020      0.597197         0.101769        0.000895   \n",
       "8      37.465832      0.237881         0.093131        0.002614   \n",
       "7      40.575571      0.166284         0.097492        0.004027   \n",
       "5      29.810146      0.235347         0.075410        0.003130   \n",
       "3      24.735354      0.321442         0.062656        0.003525   \n",
       "6      21.015445      0.258406         0.052209        0.000895   \n",
       "4      31.803446      0.253034         0.074834        0.002178   \n",
       "0      25.091027      0.325241         0.062134        0.002880   \n",
       "1      24.325941      0.184980         0.057210        0.000821   \n",
       "9      19.501740      0.132454         0.048742        0.001779   \n",
       "\n",
       "  param_n_estimators param_max_depth                                  params  \\\n",
       "2                100              26  {'n_estimators': 100, 'max_depth': 26}   \n",
       "8                 90              30   {'n_estimators': 90, 'max_depth': 30}   \n",
       "7                100              22  {'n_estimators': 100, 'max_depth': 22}   \n",
       "5                 70              30   {'n_estimators': 70, 'max_depth': 30}   \n",
       "3                 60              24   {'n_estimators': 60, 'max_depth': 24}   \n",
       "6                 50              26   {'n_estimators': 50, 'max_depth': 26}   \n",
       "4                 80              20   {'n_estimators': 80, 'max_depth': 20}   \n",
       "0                 60              22   {'n_estimators': 60, 'max_depth': 22}   \n",
       "1                 60              20   {'n_estimators': 60, 'max_depth': 20}   \n",
       "9                 50              20   {'n_estimators': 50, 'max_depth': 20}   \n",
       "\n",
       "   split0_test_score  split1_test_score  split2_test_score  split3_test_score  \\\n",
       "2          -2.510085          -2.458895          -2.476859          -2.607561   \n",
       "8          -2.512386          -2.454350          -2.482789          -2.609596   \n",
       "7          -2.519055          -2.458524          -2.494223          -2.617256   \n",
       "5          -2.515458          -2.469793          -2.489026          -2.620065   \n",
       "3          -2.528417          -2.477897          -2.493405          -2.625008   \n",
       "6          -2.529827          -2.480789          -2.495531          -2.633625   \n",
       "4          -2.536507          -2.467640          -2.507345          -2.634654   \n",
       "0          -2.537116          -2.477948          -2.503910          -2.632602   \n",
       "1          -2.546807          -2.477792          -2.517379          -2.640104   \n",
       "9          -2.551695          -2.477456          -2.527502          -2.648851   \n",
       "\n",
       "   split4_test_score  mean_test_score  std_test_score  rank_test_score  \n",
       "2          -2.610667        -2.532813        0.064436                1  \n",
       "8          -2.614537        -2.534732        0.065775                2  \n",
       "7          -2.617284        -2.541268        0.064971                3  \n",
       "5          -2.622661        -2.543401        0.065292                4  \n",
       "3          -2.625205        -2.549986        0.063482                5  \n",
       "6          -2.628561        -2.553666        0.065210                6  \n",
       "4          -2.628535        -2.554936        0.066328                7  \n",
       "0          -2.630605        -2.556437        0.064179                8  \n",
       "1          -2.639780        -2.564372        0.065475                9  \n",
       "9          -2.640419        -2.569184        0.066149               10  "
      ]
     },
     "execution_count": 84,
     "metadata": {},
     "output_type": "execute_result"
    }
   ],
   "source": [
    "pd.DataFrame(rf.cv_results_).sort_values(by='rank_test_score')"
   ]
  },
  {
   "cell_type": "code",
   "execution_count": 85,
   "metadata": {},
   "outputs": [],
   "source": [
    "best_rf_rougher = rf"
   ]
  },
  {
   "cell_type": "code",
   "execution_count": 86,
   "metadata": {},
   "outputs": [
    {
     "data": {
      "text/plain": [
       "RandomizedSearchCV(estimator=RandomForestRegressor(random_state=21), n_iter=20,\n",
       "                   n_jobs=-1,\n",
       "                   param_distributions={'max_depth': range(2, 21, 2),\n",
       "                                        'n_estimators': range(10, 51, 10)},\n",
       "                   random_state=21,\n",
       "                   scoring=make_scorer(sMAPE_score, greater_is_better=False))"
      ]
     },
     "execution_count": 86,
     "metadata": {},
     "output_type": "execute_result"
    }
   ],
   "source": [
    "param_distributions = {'n_estimators': range(10, 51, 10),\n",
    "                       'max_depth': range(2, 21, 2)}\n",
    "rf = RandomizedSearchCV(estimator=RandomForestRegressor(random_state=21),\n",
    "                        param_distributions=param_distributions, \n",
    "                        scoring=sMAPE_scorer, \n",
    "                        random_state=21,\n",
    "                        n_iter=20,\n",
    "                        n_jobs=-1)\n",
    "rf.fit(X_train, y_train_final)"
   ]
  },
  {
   "cell_type": "code",
   "execution_count": 87,
   "metadata": {},
   "outputs": [
    {
     "data": {
      "text/html": [
       "<div>\n",
       "<style scoped>\n",
       "    .dataframe tbody tr th:only-of-type {\n",
       "        vertical-align: middle;\n",
       "    }\n",
       "\n",
       "    .dataframe tbody tr th {\n",
       "        vertical-align: top;\n",
       "    }\n",
       "\n",
       "    .dataframe thead th {\n",
       "        text-align: right;\n",
       "    }\n",
       "</style>\n",
       "<table border=\"1\" class=\"dataframe\">\n",
       "  <thead>\n",
       "    <tr style=\"text-align: right;\">\n",
       "      <th></th>\n",
       "      <th>mean_fit_time</th>\n",
       "      <th>std_fit_time</th>\n",
       "      <th>mean_score_time</th>\n",
       "      <th>std_score_time</th>\n",
       "      <th>param_n_estimators</th>\n",
       "      <th>param_max_depth</th>\n",
       "      <th>params</th>\n",
       "      <th>split0_test_score</th>\n",
       "      <th>split1_test_score</th>\n",
       "      <th>split2_test_score</th>\n",
       "      <th>split3_test_score</th>\n",
       "      <th>split4_test_score</th>\n",
       "      <th>mean_test_score</th>\n",
       "      <th>std_test_score</th>\n",
       "      <th>rank_test_score</th>\n",
       "    </tr>\n",
       "  </thead>\n",
       "  <tbody>\n",
       "    <tr>\n",
       "      <th>19</th>\n",
       "      <td>21.822186</td>\n",
       "      <td>0.134829</td>\n",
       "      <td>0.044559</td>\n",
       "      <td>0.000492</td>\n",
       "      <td>50</td>\n",
       "      <td>20</td>\n",
       "      <td>{'n_estimators': 50, 'max_depth': 20}</td>\n",
       "      <td>-5.793074</td>\n",
       "      <td>-5.747144</td>\n",
       "      <td>-6.003419</td>\n",
       "      <td>-5.563581</td>\n",
       "      <td>-5.760340</td>\n",
       "      <td>-5.773512</td>\n",
       "      <td>0.140128</td>\n",
       "      <td>1</td>\n",
       "    </tr>\n",
       "    <tr>\n",
       "      <th>1</th>\n",
       "      <td>21.140037</td>\n",
       "      <td>0.194802</td>\n",
       "      <td>0.042160</td>\n",
       "      <td>0.000727</td>\n",
       "      <td>50</td>\n",
       "      <td>18</td>\n",
       "      <td>{'n_estimators': 50, 'max_depth': 18}</td>\n",
       "      <td>-5.848178</td>\n",
       "      <td>-5.781310</td>\n",
       "      <td>-6.057775</td>\n",
       "      <td>-5.608238</td>\n",
       "      <td>-5.786603</td>\n",
       "      <td>-5.816421</td>\n",
       "      <td>0.144722</td>\n",
       "      <td>2</td>\n",
       "    </tr>\n",
       "    <tr>\n",
       "      <th>9</th>\n",
       "      <td>13.087535</td>\n",
       "      <td>0.167512</td>\n",
       "      <td>0.027896</td>\n",
       "      <td>0.000809</td>\n",
       "      <td>30</td>\n",
       "      <td>20</td>\n",
       "      <td>{'n_estimators': 30, 'max_depth': 20}</td>\n",
       "      <td>-5.885781</td>\n",
       "      <td>-5.779800</td>\n",
       "      <td>-6.091653</td>\n",
       "      <td>-5.652550</td>\n",
       "      <td>-5.788191</td>\n",
       "      <td>-5.839595</td>\n",
       "      <td>0.146198</td>\n",
       "      <td>3</td>\n",
       "    </tr>\n",
       "    <tr>\n",
       "      <th>2</th>\n",
       "      <td>16.477395</td>\n",
       "      <td>0.097282</td>\n",
       "      <td>0.033692</td>\n",
       "      <td>0.001982</td>\n",
       "      <td>40</td>\n",
       "      <td>18</td>\n",
       "      <td>{'n_estimators': 40, 'max_depth': 18}</td>\n",
       "      <td>-5.867253</td>\n",
       "      <td>-5.802616</td>\n",
       "      <td>-6.080518</td>\n",
       "      <td>-5.638525</td>\n",
       "      <td>-5.810705</td>\n",
       "      <td>-5.839923</td>\n",
       "      <td>0.142436</td>\n",
       "      <td>4</td>\n",
       "    </tr>\n",
       "    <tr>\n",
       "      <th>15</th>\n",
       "      <td>14.067072</td>\n",
       "      <td>0.074128</td>\n",
       "      <td>0.027191</td>\n",
       "      <td>0.000617</td>\n",
       "      <td>40</td>\n",
       "      <td>14</td>\n",
       "      <td>{'n_estimators': 40, 'max_depth': 14}</td>\n",
       "      <td>-6.039294</td>\n",
       "      <td>-5.960960</td>\n",
       "      <td>-6.262855</td>\n",
       "      <td>-5.810959</td>\n",
       "      <td>-6.029090</td>\n",
       "      <td>-6.020632</td>\n",
       "      <td>0.146024</td>\n",
       "      <td>5</td>\n",
       "    </tr>\n",
       "    <tr>\n",
       "      <th>7</th>\n",
       "      <td>7.085552</td>\n",
       "      <td>0.091514</td>\n",
       "      <td>0.016533</td>\n",
       "      <td>0.000921</td>\n",
       "      <td>20</td>\n",
       "      <td>14</td>\n",
       "      <td>{'n_estimators': 20, 'max_depth': 14}</td>\n",
       "      <td>-6.161455</td>\n",
       "      <td>-6.025065</td>\n",
       "      <td>-6.350134</td>\n",
       "      <td>-5.932739</td>\n",
       "      <td>-6.100248</td>\n",
       "      <td>-6.113928</td>\n",
       "      <td>0.140688</td>\n",
       "      <td>6</td>\n",
       "    </tr>\n",
       "    <tr>\n",
       "      <th>18</th>\n",
       "      <td>12.593453</td>\n",
       "      <td>0.060147</td>\n",
       "      <td>0.022471</td>\n",
       "      <td>0.000809</td>\n",
       "      <td>40</td>\n",
       "      <td>12</td>\n",
       "      <td>{'n_estimators': 40, 'max_depth': 12}</td>\n",
       "      <td>-6.210901</td>\n",
       "      <td>-6.126434</td>\n",
       "      <td>-6.424872</td>\n",
       "      <td>-5.981133</td>\n",
       "      <td>-6.159239</td>\n",
       "      <td>-6.180516</td>\n",
       "      <td>0.144059</td>\n",
       "      <td>7</td>\n",
       "    </tr>\n",
       "    <tr>\n",
       "      <th>10</th>\n",
       "      <td>3.515534</td>\n",
       "      <td>0.039533</td>\n",
       "      <td>0.010082</td>\n",
       "      <td>0.000406</td>\n",
       "      <td>10</td>\n",
       "      <td>14</td>\n",
       "      <td>{'n_estimators': 10, 'max_depth': 14}</td>\n",
       "      <td>-6.241113</td>\n",
       "      <td>-6.123839</td>\n",
       "      <td>-6.455359</td>\n",
       "      <td>-6.099890</td>\n",
       "      <td>-6.168703</td>\n",
       "      <td>-6.217781</td>\n",
       "      <td>0.128156</td>\n",
       "      <td>8</td>\n",
       "    </tr>\n",
       "    <tr>\n",
       "      <th>3</th>\n",
       "      <td>3.155895</td>\n",
       "      <td>0.026148</td>\n",
       "      <td>0.008852</td>\n",
       "      <td>0.000218</td>\n",
       "      <td>10</td>\n",
       "      <td>12</td>\n",
       "      <td>{'n_estimators': 10, 'max_depth': 12}</td>\n",
       "      <td>-6.326370</td>\n",
       "      <td>-6.290847</td>\n",
       "      <td>-6.586566</td>\n",
       "      <td>-6.177538</td>\n",
       "      <td>-6.347013</td>\n",
       "      <td>-6.345667</td>\n",
       "      <td>0.133924</td>\n",
       "      <td>9</td>\n",
       "    </tr>\n",
       "    <tr>\n",
       "      <th>6</th>\n",
       "      <td>11.011095</td>\n",
       "      <td>0.036569</td>\n",
       "      <td>0.018896</td>\n",
       "      <td>0.000683</td>\n",
       "      <td>40</td>\n",
       "      <td>10</td>\n",
       "      <td>{'n_estimators': 40, 'max_depth': 10}</td>\n",
       "      <td>-6.454654</td>\n",
       "      <td>-6.341219</td>\n",
       "      <td>-6.678394</td>\n",
       "      <td>-6.205969</td>\n",
       "      <td>-6.419431</td>\n",
       "      <td>-6.419933</td>\n",
       "      <td>0.154909</td>\n",
       "      <td>10</td>\n",
       "    </tr>\n",
       "    <tr>\n",
       "      <th>14</th>\n",
       "      <td>8.232860</td>\n",
       "      <td>0.069481</td>\n",
       "      <td>0.014925</td>\n",
       "      <td>0.000317</td>\n",
       "      <td>30</td>\n",
       "      <td>10</td>\n",
       "      <td>{'n_estimators': 30, 'max_depth': 10}</td>\n",
       "      <td>-6.511073</td>\n",
       "      <td>-6.342688</td>\n",
       "      <td>-6.706186</td>\n",
       "      <td>-6.233387</td>\n",
       "      <td>-6.431638</td>\n",
       "      <td>-6.444994</td>\n",
       "      <td>0.160006</td>\n",
       "      <td>11</td>\n",
       "    </tr>\n",
       "    <tr>\n",
       "      <th>11</th>\n",
       "      <td>5.520689</td>\n",
       "      <td>0.039346</td>\n",
       "      <td>0.011077</td>\n",
       "      <td>0.000365</td>\n",
       "      <td>20</td>\n",
       "      <td>10</td>\n",
       "      <td>{'n_estimators': 20, 'max_depth': 10}</td>\n",
       "      <td>-6.518651</td>\n",
       "      <td>-6.378075</td>\n",
       "      <td>-6.743599</td>\n",
       "      <td>-6.267180</td>\n",
       "      <td>-6.480809</td>\n",
       "      <td>-6.477663</td>\n",
       "      <td>0.159143</td>\n",
       "      <td>12</td>\n",
       "    </tr>\n",
       "    <tr>\n",
       "      <th>12</th>\n",
       "      <td>11.503419</td>\n",
       "      <td>0.093741</td>\n",
       "      <td>0.018411</td>\n",
       "      <td>0.001105</td>\n",
       "      <td>50</td>\n",
       "      <td>8</td>\n",
       "      <td>{'n_estimators': 50, 'max_depth': 8}</td>\n",
       "      <td>-6.727887</td>\n",
       "      <td>-6.653399</td>\n",
       "      <td>-7.034355</td>\n",
       "      <td>-6.531378</td>\n",
       "      <td>-6.730151</td>\n",
       "      <td>-6.735434</td>\n",
       "      <td>0.166017</td>\n",
       "      <td>13</td>\n",
       "    </tr>\n",
       "    <tr>\n",
       "      <th>8</th>\n",
       "      <td>7.164650</td>\n",
       "      <td>0.205127</td>\n",
       "      <td>0.013309</td>\n",
       "      <td>0.001515</td>\n",
       "      <td>30</td>\n",
       "      <td>8</td>\n",
       "      <td>{'n_estimators': 30, 'max_depth': 8}</td>\n",
       "      <td>-6.768163</td>\n",
       "      <td>-6.652923</td>\n",
       "      <td>-7.063484</td>\n",
       "      <td>-6.545001</td>\n",
       "      <td>-6.745694</td>\n",
       "      <td>-6.755053</td>\n",
       "      <td>0.173171</td>\n",
       "      <td>14</td>\n",
       "    </tr>\n",
       "    <tr>\n",
       "      <th>4</th>\n",
       "      <td>9.058956</td>\n",
       "      <td>0.150886</td>\n",
       "      <td>0.014750</td>\n",
       "      <td>0.000893</td>\n",
       "      <td>50</td>\n",
       "      <td>6</td>\n",
       "      <td>{'n_estimators': 50, 'max_depth': 6}</td>\n",
       "      <td>-7.165340</td>\n",
       "      <td>-7.106530</td>\n",
       "      <td>-7.467362</td>\n",
       "      <td>-6.957790</td>\n",
       "      <td>-7.175836</td>\n",
       "      <td>-7.174572</td>\n",
       "      <td>0.165793</td>\n",
       "      <td>15</td>\n",
       "    </tr>\n",
       "    <tr>\n",
       "      <th>17</th>\n",
       "      <td>7.090134</td>\n",
       "      <td>0.017725</td>\n",
       "      <td>0.011937</td>\n",
       "      <td>0.000532</td>\n",
       "      <td>40</td>\n",
       "      <td>6</td>\n",
       "      <td>{'n_estimators': 40, 'max_depth': 6}</td>\n",
       "      <td>-7.181112</td>\n",
       "      <td>-7.111102</td>\n",
       "      <td>-7.474173</td>\n",
       "      <td>-6.961376</td>\n",
       "      <td>-7.180330</td>\n",
       "      <td>-7.181619</td>\n",
       "      <td>0.166775</td>\n",
       "      <td>16</td>\n",
       "    </tr>\n",
       "    <tr>\n",
       "      <th>13</th>\n",
       "      <td>3.631446</td>\n",
       "      <td>0.065153</td>\n",
       "      <td>0.007928</td>\n",
       "      <td>0.000057</td>\n",
       "      <td>20</td>\n",
       "      <td>6</td>\n",
       "      <td>{'n_estimators': 20, 'max_depth': 6}</td>\n",
       "      <td>-7.173941</td>\n",
       "      <td>-7.143351</td>\n",
       "      <td>-7.506052</td>\n",
       "      <td>-6.967508</td>\n",
       "      <td>-7.215912</td>\n",
       "      <td>-7.201353</td>\n",
       "      <td>0.174272</td>\n",
       "      <td>17</td>\n",
       "    </tr>\n",
       "    <tr>\n",
       "      <th>0</th>\n",
       "      <td>3.828202</td>\n",
       "      <td>0.045105</td>\n",
       "      <td>0.008529</td>\n",
       "      <td>0.000424</td>\n",
       "      <td>30</td>\n",
       "      <td>4</td>\n",
       "      <td>{'n_estimators': 30, 'max_depth': 4}</td>\n",
       "      <td>-7.779254</td>\n",
       "      <td>-7.711285</td>\n",
       "      <td>-8.002504</td>\n",
       "      <td>-7.508239</td>\n",
       "      <td>-7.783871</td>\n",
       "      <td>-7.757031</td>\n",
       "      <td>0.158405</td>\n",
       "      <td>18</td>\n",
       "    </tr>\n",
       "    <tr>\n",
       "      <th>5</th>\n",
       "      <td>1.983256</td>\n",
       "      <td>0.015411</td>\n",
       "      <td>0.006956</td>\n",
       "      <td>0.000279</td>\n",
       "      <td>30</td>\n",
       "      <td>2</td>\n",
       "      <td>{'n_estimators': 30, 'max_depth': 2}</td>\n",
       "      <td>-8.765499</td>\n",
       "      <td>-8.540420</td>\n",
       "      <td>-8.912743</td>\n",
       "      <td>-8.409380</td>\n",
       "      <td>-8.612042</td>\n",
       "      <td>-8.648017</td>\n",
       "      <td>0.175328</td>\n",
       "      <td>19</td>\n",
       "    </tr>\n",
       "    <tr>\n",
       "      <th>16</th>\n",
       "      <td>0.657211</td>\n",
       "      <td>0.012380</td>\n",
       "      <td>0.004880</td>\n",
       "      <td>0.000297</td>\n",
       "      <td>10</td>\n",
       "      <td>2</td>\n",
       "      <td>{'n_estimators': 10, 'max_depth': 2}</td>\n",
       "      <td>-8.787253</td>\n",
       "      <td>-8.572215</td>\n",
       "      <td>-8.929234</td>\n",
       "      <td>-8.421407</td>\n",
       "      <td>-8.613687</td>\n",
       "      <td>-8.664759</td>\n",
       "      <td>0.176264</td>\n",
       "      <td>20</td>\n",
       "    </tr>\n",
       "  </tbody>\n",
       "</table>\n",
       "</div>"
      ],
      "text/plain": [
       "    mean_fit_time  std_fit_time  mean_score_time  std_score_time  \\\n",
       "19      21.822186      0.134829         0.044559        0.000492   \n",
       "1       21.140037      0.194802         0.042160        0.000727   \n",
       "9       13.087535      0.167512         0.027896        0.000809   \n",
       "2       16.477395      0.097282         0.033692        0.001982   \n",
       "15      14.067072      0.074128         0.027191        0.000617   \n",
       "7        7.085552      0.091514         0.016533        0.000921   \n",
       "18      12.593453      0.060147         0.022471        0.000809   \n",
       "10       3.515534      0.039533         0.010082        0.000406   \n",
       "3        3.155895      0.026148         0.008852        0.000218   \n",
       "6       11.011095      0.036569         0.018896        0.000683   \n",
       "14       8.232860      0.069481         0.014925        0.000317   \n",
       "11       5.520689      0.039346         0.011077        0.000365   \n",
       "12      11.503419      0.093741         0.018411        0.001105   \n",
       "8        7.164650      0.205127         0.013309        0.001515   \n",
       "4        9.058956      0.150886         0.014750        0.000893   \n",
       "17       7.090134      0.017725         0.011937        0.000532   \n",
       "13       3.631446      0.065153         0.007928        0.000057   \n",
       "0        3.828202      0.045105         0.008529        0.000424   \n",
       "5        1.983256      0.015411         0.006956        0.000279   \n",
       "16       0.657211      0.012380         0.004880        0.000297   \n",
       "\n",
       "   param_n_estimators param_max_depth                                 params  \\\n",
       "19                 50              20  {'n_estimators': 50, 'max_depth': 20}   \n",
       "1                  50              18  {'n_estimators': 50, 'max_depth': 18}   \n",
       "9                  30              20  {'n_estimators': 30, 'max_depth': 20}   \n",
       "2                  40              18  {'n_estimators': 40, 'max_depth': 18}   \n",
       "15                 40              14  {'n_estimators': 40, 'max_depth': 14}   \n",
       "7                  20              14  {'n_estimators': 20, 'max_depth': 14}   \n",
       "18                 40              12  {'n_estimators': 40, 'max_depth': 12}   \n",
       "10                 10              14  {'n_estimators': 10, 'max_depth': 14}   \n",
       "3                  10              12  {'n_estimators': 10, 'max_depth': 12}   \n",
       "6                  40              10  {'n_estimators': 40, 'max_depth': 10}   \n",
       "14                 30              10  {'n_estimators': 30, 'max_depth': 10}   \n",
       "11                 20              10  {'n_estimators': 20, 'max_depth': 10}   \n",
       "12                 50               8   {'n_estimators': 50, 'max_depth': 8}   \n",
       "8                  30               8   {'n_estimators': 30, 'max_depth': 8}   \n",
       "4                  50               6   {'n_estimators': 50, 'max_depth': 6}   \n",
       "17                 40               6   {'n_estimators': 40, 'max_depth': 6}   \n",
       "13                 20               6   {'n_estimators': 20, 'max_depth': 6}   \n",
       "0                  30               4   {'n_estimators': 30, 'max_depth': 4}   \n",
       "5                  30               2   {'n_estimators': 30, 'max_depth': 2}   \n",
       "16                 10               2   {'n_estimators': 10, 'max_depth': 2}   \n",
       "\n",
       "    split0_test_score  split1_test_score  split2_test_score  \\\n",
       "19          -5.793074          -5.747144          -6.003419   \n",
       "1           -5.848178          -5.781310          -6.057775   \n",
       "9           -5.885781          -5.779800          -6.091653   \n",
       "2           -5.867253          -5.802616          -6.080518   \n",
       "15          -6.039294          -5.960960          -6.262855   \n",
       "7           -6.161455          -6.025065          -6.350134   \n",
       "18          -6.210901          -6.126434          -6.424872   \n",
       "10          -6.241113          -6.123839          -6.455359   \n",
       "3           -6.326370          -6.290847          -6.586566   \n",
       "6           -6.454654          -6.341219          -6.678394   \n",
       "14          -6.511073          -6.342688          -6.706186   \n",
       "11          -6.518651          -6.378075          -6.743599   \n",
       "12          -6.727887          -6.653399          -7.034355   \n",
       "8           -6.768163          -6.652923          -7.063484   \n",
       "4           -7.165340          -7.106530          -7.467362   \n",
       "17          -7.181112          -7.111102          -7.474173   \n",
       "13          -7.173941          -7.143351          -7.506052   \n",
       "0           -7.779254          -7.711285          -8.002504   \n",
       "5           -8.765499          -8.540420          -8.912743   \n",
       "16          -8.787253          -8.572215          -8.929234   \n",
       "\n",
       "    split3_test_score  split4_test_score  mean_test_score  std_test_score  \\\n",
       "19          -5.563581          -5.760340        -5.773512        0.140128   \n",
       "1           -5.608238          -5.786603        -5.816421        0.144722   \n",
       "9           -5.652550          -5.788191        -5.839595        0.146198   \n",
       "2           -5.638525          -5.810705        -5.839923        0.142436   \n",
       "15          -5.810959          -6.029090        -6.020632        0.146024   \n",
       "7           -5.932739          -6.100248        -6.113928        0.140688   \n",
       "18          -5.981133          -6.159239        -6.180516        0.144059   \n",
       "10          -6.099890          -6.168703        -6.217781        0.128156   \n",
       "3           -6.177538          -6.347013        -6.345667        0.133924   \n",
       "6           -6.205969          -6.419431        -6.419933        0.154909   \n",
       "14          -6.233387          -6.431638        -6.444994        0.160006   \n",
       "11          -6.267180          -6.480809        -6.477663        0.159143   \n",
       "12          -6.531378          -6.730151        -6.735434        0.166017   \n",
       "8           -6.545001          -6.745694        -6.755053        0.173171   \n",
       "4           -6.957790          -7.175836        -7.174572        0.165793   \n",
       "17          -6.961376          -7.180330        -7.181619        0.166775   \n",
       "13          -6.967508          -7.215912        -7.201353        0.174272   \n",
       "0           -7.508239          -7.783871        -7.757031        0.158405   \n",
       "5           -8.409380          -8.612042        -8.648017        0.175328   \n",
       "16          -8.421407          -8.613687        -8.664759        0.176264   \n",
       "\n",
       "    rank_test_score  \n",
       "19                1  \n",
       "1                 2  \n",
       "9                 3  \n",
       "2                 4  \n",
       "15                5  \n",
       "7                 6  \n",
       "18                7  \n",
       "10                8  \n",
       "3                 9  \n",
       "6                10  \n",
       "14               11  \n",
       "11               12  \n",
       "12               13  \n",
       "8                14  \n",
       "4                15  \n",
       "17               16  \n",
       "13               17  \n",
       "0                18  \n",
       "5                19  \n",
       "16               20  "
      ]
     },
     "execution_count": 87,
     "metadata": {},
     "output_type": "execute_result"
    }
   ],
   "source": [
    "pd.DataFrame(rf.cv_results_).sort_values(by='rank_test_score')"
   ]
  },
  {
   "cell_type": "code",
   "execution_count": 88,
   "metadata": {},
   "outputs": [
    {
     "data": {
      "text/plain": [
       "RandomizedSearchCV(estimator=RandomForestRegressor(random_state=21), n_jobs=-1,\n",
       "                   param_distributions={'max_depth': range(20, 31, 2),\n",
       "                                        'n_estimators': range(50, 101, 10)},\n",
       "                   random_state=21,\n",
       "                   scoring=make_scorer(sMAPE_score, greater_is_better=False))"
      ]
     },
     "execution_count": 88,
     "metadata": {},
     "output_type": "execute_result"
    }
   ],
   "source": [
    "param_distributions = {'n_estimators': range(50, 101, 10),\n",
    "                       'max_depth': range(20, 31, 2)}\n",
    "rf = RandomizedSearchCV(estimator=RandomForestRegressor(random_state=21),\n",
    "                        param_distributions=param_distributions, \n",
    "                        scoring=sMAPE_scorer, \n",
    "                        random_state=21,\n",
    "                        n_iter=10,\n",
    "                        n_jobs=-1)\n",
    "rf.fit(X_train, y_train_final)"
   ]
  },
  {
   "cell_type": "code",
   "execution_count": 89,
   "metadata": {},
   "outputs": [
    {
     "data": {
      "text/html": [
       "<div>\n",
       "<style scoped>\n",
       "    .dataframe tbody tr th:only-of-type {\n",
       "        vertical-align: middle;\n",
       "    }\n",
       "\n",
       "    .dataframe tbody tr th {\n",
       "        vertical-align: top;\n",
       "    }\n",
       "\n",
       "    .dataframe thead th {\n",
       "        text-align: right;\n",
       "    }\n",
       "</style>\n",
       "<table border=\"1\" class=\"dataframe\">\n",
       "  <thead>\n",
       "    <tr style=\"text-align: right;\">\n",
       "      <th></th>\n",
       "      <th>mean_fit_time</th>\n",
       "      <th>std_fit_time</th>\n",
       "      <th>mean_score_time</th>\n",
       "      <th>std_score_time</th>\n",
       "      <th>param_n_estimators</th>\n",
       "      <th>param_max_depth</th>\n",
       "      <th>params</th>\n",
       "      <th>split0_test_score</th>\n",
       "      <th>split1_test_score</th>\n",
       "      <th>split2_test_score</th>\n",
       "      <th>split3_test_score</th>\n",
       "      <th>split4_test_score</th>\n",
       "      <th>mean_test_score</th>\n",
       "      <th>std_test_score</th>\n",
       "      <th>rank_test_score</th>\n",
       "    </tr>\n",
       "  </thead>\n",
       "  <tbody>\n",
       "    <tr>\n",
       "      <th>8</th>\n",
       "      <td>43.599959</td>\n",
       "      <td>0.713942</td>\n",
       "      <td>0.097383</td>\n",
       "      <td>0.005223</td>\n",
       "      <td>90</td>\n",
       "      <td>30</td>\n",
       "      <td>{'n_estimators': 90, 'max_depth': 30}</td>\n",
       "      <td>-5.653599</td>\n",
       "      <td>-5.656951</td>\n",
       "      <td>-5.913965</td>\n",
       "      <td>-5.454045</td>\n",
       "      <td>-5.644991</td>\n",
       "      <td>-5.664710</td>\n",
       "      <td>0.146342</td>\n",
       "      <td>1</td>\n",
       "    </tr>\n",
       "    <tr>\n",
       "      <th>2</th>\n",
       "      <td>47.880523</td>\n",
       "      <td>0.788165</td>\n",
       "      <td>0.098706</td>\n",
       "      <td>0.000507</td>\n",
       "      <td>100</td>\n",
       "      <td>26</td>\n",
       "      <td>{'n_estimators': 100, 'max_depth': 26}</td>\n",
       "      <td>-5.656122</td>\n",
       "      <td>-5.656776</td>\n",
       "      <td>-5.912178</td>\n",
       "      <td>-5.462447</td>\n",
       "      <td>-5.657246</td>\n",
       "      <td>-5.668954</td>\n",
       "      <td>0.143006</td>\n",
       "      <td>2</td>\n",
       "    </tr>\n",
       "    <tr>\n",
       "      <th>5</th>\n",
       "      <td>33.395451</td>\n",
       "      <td>0.376206</td>\n",
       "      <td>0.075494</td>\n",
       "      <td>0.001973</td>\n",
       "      <td>70</td>\n",
       "      <td>30</td>\n",
       "      <td>{'n_estimators': 70, 'max_depth': 30}</td>\n",
       "      <td>-5.704200</td>\n",
       "      <td>-5.673335</td>\n",
       "      <td>-5.928994</td>\n",
       "      <td>-5.477281</td>\n",
       "      <td>-5.655156</td>\n",
       "      <td>-5.687793</td>\n",
       "      <td>0.144247</td>\n",
       "      <td>3</td>\n",
       "    </tr>\n",
       "    <tr>\n",
       "      <th>7</th>\n",
       "      <td>45.862418</td>\n",
       "      <td>0.326947</td>\n",
       "      <td>0.092384</td>\n",
       "      <td>0.003490</td>\n",
       "      <td>100</td>\n",
       "      <td>22</td>\n",
       "      <td>{'n_estimators': 100, 'max_depth': 22}</td>\n",
       "      <td>-5.707031</td>\n",
       "      <td>-5.683422</td>\n",
       "      <td>-5.943091</td>\n",
       "      <td>-5.495915</td>\n",
       "      <td>-5.658461</td>\n",
       "      <td>-5.697584</td>\n",
       "      <td>0.143363</td>\n",
       "      <td>4</td>\n",
       "    </tr>\n",
       "    <tr>\n",
       "      <th>3</th>\n",
       "      <td>28.446822</td>\n",
       "      <td>0.548191</td>\n",
       "      <td>0.060396</td>\n",
       "      <td>0.001338</td>\n",
       "      <td>60</td>\n",
       "      <td>24</td>\n",
       "      <td>{'n_estimators': 60, 'max_depth': 24}</td>\n",
       "      <td>-5.720499</td>\n",
       "      <td>-5.705651</td>\n",
       "      <td>-5.952449</td>\n",
       "      <td>-5.506301</td>\n",
       "      <td>-5.701990</td>\n",
       "      <td>-5.717378</td>\n",
       "      <td>0.141560</td>\n",
       "      <td>5</td>\n",
       "    </tr>\n",
       "    <tr>\n",
       "      <th>6</th>\n",
       "      <td>23.820506</td>\n",
       "      <td>0.339197</td>\n",
       "      <td>0.052938</td>\n",
       "      <td>0.001014</td>\n",
       "      <td>50</td>\n",
       "      <td>26</td>\n",
       "      <td>{'n_estimators': 50, 'max_depth': 26}</td>\n",
       "      <td>-5.720589</td>\n",
       "      <td>-5.708715</td>\n",
       "      <td>-5.955161</td>\n",
       "      <td>-5.502190</td>\n",
       "      <td>-5.725113</td>\n",
       "      <td>-5.722353</td>\n",
       "      <td>0.143435</td>\n",
       "      <td>6</td>\n",
       "    </tr>\n",
       "    <tr>\n",
       "      <th>0</th>\n",
       "      <td>27.188816</td>\n",
       "      <td>0.269867</td>\n",
       "      <td>0.058921</td>\n",
       "      <td>0.002150</td>\n",
       "      <td>60</td>\n",
       "      <td>22</td>\n",
       "      <td>{'n_estimators': 60, 'max_depth': 22}</td>\n",
       "      <td>-5.767723</td>\n",
       "      <td>-5.719684</td>\n",
       "      <td>-5.972736</td>\n",
       "      <td>-5.528616</td>\n",
       "      <td>-5.701455</td>\n",
       "      <td>-5.738043</td>\n",
       "      <td>0.142476</td>\n",
       "      <td>7</td>\n",
       "    </tr>\n",
       "    <tr>\n",
       "      <th>4</th>\n",
       "      <td>34.701236</td>\n",
       "      <td>0.128485</td>\n",
       "      <td>0.070792</td>\n",
       "      <td>0.002771</td>\n",
       "      <td>80</td>\n",
       "      <td>20</td>\n",
       "      <td>{'n_estimators': 80, 'max_depth': 20}</td>\n",
       "      <td>-5.746000</td>\n",
       "      <td>-5.720504</td>\n",
       "      <td>-5.986419</td>\n",
       "      <td>-5.520541</td>\n",
       "      <td>-5.726685</td>\n",
       "      <td>-5.740030</td>\n",
       "      <td>0.147972</td>\n",
       "      <td>8</td>\n",
       "    </tr>\n",
       "    <tr>\n",
       "      <th>1</th>\n",
       "      <td>26.305882</td>\n",
       "      <td>0.279700</td>\n",
       "      <td>0.054105</td>\n",
       "      <td>0.002364</td>\n",
       "      <td>60</td>\n",
       "      <td>20</td>\n",
       "      <td>{'n_estimators': 60, 'max_depth': 20}</td>\n",
       "      <td>-5.782687</td>\n",
       "      <td>-5.739007</td>\n",
       "      <td>-5.998969</td>\n",
       "      <td>-5.548920</td>\n",
       "      <td>-5.739166</td>\n",
       "      <td>-5.761750</td>\n",
       "      <td>0.143551</td>\n",
       "      <td>9</td>\n",
       "    </tr>\n",
       "    <tr>\n",
       "      <th>9</th>\n",
       "      <td>21.947886</td>\n",
       "      <td>0.207938</td>\n",
       "      <td>0.045047</td>\n",
       "      <td>0.001595</td>\n",
       "      <td>50</td>\n",
       "      <td>20</td>\n",
       "      <td>{'n_estimators': 50, 'max_depth': 20}</td>\n",
       "      <td>-5.793074</td>\n",
       "      <td>-5.747144</td>\n",
       "      <td>-6.003419</td>\n",
       "      <td>-5.563581</td>\n",
       "      <td>-5.760340</td>\n",
       "      <td>-5.773512</td>\n",
       "      <td>0.140128</td>\n",
       "      <td>10</td>\n",
       "    </tr>\n",
       "  </tbody>\n",
       "</table>\n",
       "</div>"
      ],
      "text/plain": [
       "   mean_fit_time  std_fit_time  mean_score_time  std_score_time  \\\n",
       "8      43.599959      0.713942         0.097383        0.005223   \n",
       "2      47.880523      0.788165         0.098706        0.000507   \n",
       "5      33.395451      0.376206         0.075494        0.001973   \n",
       "7      45.862418      0.326947         0.092384        0.003490   \n",
       "3      28.446822      0.548191         0.060396        0.001338   \n",
       "6      23.820506      0.339197         0.052938        0.001014   \n",
       "0      27.188816      0.269867         0.058921        0.002150   \n",
       "4      34.701236      0.128485         0.070792        0.002771   \n",
       "1      26.305882      0.279700         0.054105        0.002364   \n",
       "9      21.947886      0.207938         0.045047        0.001595   \n",
       "\n",
       "  param_n_estimators param_max_depth                                  params  \\\n",
       "8                 90              30   {'n_estimators': 90, 'max_depth': 30}   \n",
       "2                100              26  {'n_estimators': 100, 'max_depth': 26}   \n",
       "5                 70              30   {'n_estimators': 70, 'max_depth': 30}   \n",
       "7                100              22  {'n_estimators': 100, 'max_depth': 22}   \n",
       "3                 60              24   {'n_estimators': 60, 'max_depth': 24}   \n",
       "6                 50              26   {'n_estimators': 50, 'max_depth': 26}   \n",
       "0                 60              22   {'n_estimators': 60, 'max_depth': 22}   \n",
       "4                 80              20   {'n_estimators': 80, 'max_depth': 20}   \n",
       "1                 60              20   {'n_estimators': 60, 'max_depth': 20}   \n",
       "9                 50              20   {'n_estimators': 50, 'max_depth': 20}   \n",
       "\n",
       "   split0_test_score  split1_test_score  split2_test_score  split3_test_score  \\\n",
       "8          -5.653599          -5.656951          -5.913965          -5.454045   \n",
       "2          -5.656122          -5.656776          -5.912178          -5.462447   \n",
       "5          -5.704200          -5.673335          -5.928994          -5.477281   \n",
       "7          -5.707031          -5.683422          -5.943091          -5.495915   \n",
       "3          -5.720499          -5.705651          -5.952449          -5.506301   \n",
       "6          -5.720589          -5.708715          -5.955161          -5.502190   \n",
       "0          -5.767723          -5.719684          -5.972736          -5.528616   \n",
       "4          -5.746000          -5.720504          -5.986419          -5.520541   \n",
       "1          -5.782687          -5.739007          -5.998969          -5.548920   \n",
       "9          -5.793074          -5.747144          -6.003419          -5.563581   \n",
       "\n",
       "   split4_test_score  mean_test_score  std_test_score  rank_test_score  \n",
       "8          -5.644991        -5.664710        0.146342                1  \n",
       "2          -5.657246        -5.668954        0.143006                2  \n",
       "5          -5.655156        -5.687793        0.144247                3  \n",
       "7          -5.658461        -5.697584        0.143363                4  \n",
       "3          -5.701990        -5.717378        0.141560                5  \n",
       "6          -5.725113        -5.722353        0.143435                6  \n",
       "0          -5.701455        -5.738043        0.142476                7  \n",
       "4          -5.726685        -5.740030        0.147972                8  \n",
       "1          -5.739166        -5.761750        0.143551                9  \n",
       "9          -5.760340        -5.773512        0.140128               10  "
      ]
     },
     "execution_count": 89,
     "metadata": {},
     "output_type": "execute_result"
    }
   ],
   "source": [
    "pd.DataFrame(rf.cv_results_).sort_values(by='rank_test_score')"
   ]
  },
  {
   "cell_type": "code",
   "execution_count": 90,
   "metadata": {},
   "outputs": [],
   "source": [
    "best_rf_final = rf"
   ]
  },
  {
   "cell_type": "code",
   "execution_count": 91,
   "metadata": {},
   "outputs": [
    {
     "data": {
      "text/plain": [
       "({'n_estimators': 100, 'max_depth': 26}, -2.532813350621861)"
      ]
     },
     "execution_count": 91,
     "metadata": {},
     "output_type": "execute_result"
    }
   ],
   "source": [
    "best_rf_rougher.best_params_, best_rf_rougher.best_score_"
   ]
  },
  {
   "cell_type": "code",
   "execution_count": 92,
   "metadata": {},
   "outputs": [
    {
     "data": {
      "text/plain": [
       "({'n_estimators': 90, 'max_depth': 30}, -5.664710156861011)"
      ]
     },
     "execution_count": 92,
     "metadata": {},
     "output_type": "execute_result"
    }
   ],
   "source": [
    "best_rf_final.best_params_, best_rf_final.best_score_"
   ]
  },
  {
   "cell_type": "markdown",
   "metadata": {},
   "source": [
    "Для промежуточного показателя recovery лучшая оценка sMAPE на кросс-валидации получена для RandomForestRegressor(n_estimators=100, max_depth=26, random_state=21) (2.53%), для финального показателя recovery - для RandomForestRegressor(n_estimators=90, max_depth=30, random_state=21) (5.66%)."
   ]
  },
  {
   "cell_type": "markdown",
   "metadata": {},
   "source": [
    "#### Тестирование лучшей модели"
   ]
  },
  {
   "cell_type": "code",
   "execution_count": 93,
   "metadata": {},
   "outputs": [
    {
     "data": {
      "text/plain": [
       "RandomForestRegressor(max_depth=26, random_state=21)"
      ]
     },
     "execution_count": 93,
     "metadata": {},
     "output_type": "execute_result"
    }
   ],
   "source": [
    "best_model_rougher = RandomForestRegressor(n_estimators=100, max_depth=26, random_state=21)\n",
    "best_model_rougher.fit(X_train, y_train_rougher)"
   ]
  },
  {
   "cell_type": "code",
   "execution_count": 94,
   "metadata": {},
   "outputs": [
    {
     "data": {
      "text/plain": [
       "7.832144259702446"
      ]
     },
     "execution_count": 94,
     "metadata": {},
     "output_type": "execute_result"
    }
   ],
   "source": [
    "rougher_sMAPE = sMAPE_score(y_test_rougher, best_model_rougher.predict(X_test))\n",
    "rougher_sMAPE"
   ]
  },
  {
   "cell_type": "code",
   "execution_count": 95,
   "metadata": {},
   "outputs": [
    {
     "data": {
      "text/plain": [
       "RandomForestRegressor(max_depth=30, n_estimators=90, random_state=21)"
      ]
     },
     "execution_count": 95,
     "metadata": {},
     "output_type": "execute_result"
    }
   ],
   "source": [
    "best_model_final = RandomForestRegressor(n_estimators=90, max_depth=30, random_state=21)\n",
    "best_model_final.fit(X_train, y_train_final)"
   ]
  },
  {
   "cell_type": "code",
   "execution_count": 96,
   "metadata": {},
   "outputs": [
    {
     "data": {
      "text/plain": [
       "9.723160527196834"
      ]
     },
     "execution_count": 96,
     "metadata": {},
     "output_type": "execute_result"
    }
   ],
   "source": [
    "final_sMAPE = sMAPE_score(y_test_final, best_model_final.predict(X_test))\n",
    "final_sMAPE"
   ]
  },
  {
   "cell_type": "code",
   "execution_count": 97,
   "metadata": {},
   "outputs": [
    {
     "data": {
      "text/plain": [
       "9.250406460323237"
      ]
     },
     "execution_count": 97,
     "metadata": {},
     "output_type": "execute_result"
    }
   ],
   "source": [
    "total_sMAPE = 0.25 * rougher_sMAPE + 0.75 * final_sMAPE\n",
    "total_sMAPE"
   ]
  },
  {
   "cell_type": "code",
   "execution_count": 98,
   "metadata": {},
   "outputs": [
    {
     "data": {
      "text/plain": [
       "9.832175134712106"
      ]
     },
     "execution_count": 98,
     "metadata": {},
     "output_type": "execute_result"
    }
   ],
   "source": [
    "dummy_sMAPE = (0.25 * sMAPE_score(y_test_rougher, DummyRegressor().fit(X_train, y_train_rougher).predict(X_test)) + \n",
    "               0.75 * sMAPE_score(y_test_final, DummyRegressor().fit(X_train, y_train_final).predict(X_test)))\n",
    "dummy_sMAPE"
   ]
  },
  {
   "cell_type": "markdown",
   "metadata": {},
   "source": [
    "Итоговое sMAPE на совокупности лучших моделей составило 9.25, что лучше, чем для \"наивного\" регрессора (9.83)"
   ]
  },
  {
   "cell_type": "markdown",
   "metadata": {},
   "source": [
    "## Вывод\n",
    "Для работы были предоставлены три датасета: обучающий, тестовый, полный (train + test). Каждый датасет имел колонку со временем снятия измерений, измерения снимались каждый час, а также колонки, характеризующие процесс обработки золотосодержащей руды. Обучающий и полный датасеты содержали два столбца таргета - коэффициенты обогащения руды после флотации и после флотации и двух очисток, эти коэффициенты в итоге должна была предсказывать обученная модель.\n",
    "\n",
    "В ходе работы было обнаружено, что разделение на train/test строилось не случайным образом. Данные за последние 4 месяца года попадали в test, остальные данные образовали train.\n",
    "\n",
    "Показано, что эффективность обогащения после этапа флоации для обучающей выборки рассчитана верно.\n",
    "\n",
    "В тестовой выбоке отсутствовали все колонки с типом параметра output и calculation, которые присутствовали в обучающей выборке. Эти значения можно получить только выполнив один или несколько этапов обработки руды, их нельзя получить до запуска технологического процесса. Во избежании утечки таргета, вышеуказанные колонки были удалены из обучающей выборки перед обучением моделей.\n",
    "\n",
    "В датасетах присутствовали пропуски, так как имелась информация, что показатели в близкие временные промежутки похожи, строки были упорядочены по времени, пропуски были заполнены методом interpolate. \n",
    "\n",
    "Проанализировано, как меняется концентрация металлов (Au, Ag, Pb) на различных этапах очистки. Концентрация золота растет с каждым последующим этапом. Концентрации серебра самая низкая для финального продукта (скорее всего второй этап очистки нацелен на отделения серебра из продукта), на остальных этапах она незначительно колеблется, то вверх, то вниз. Концентрация свинца самая низкая в первоначальном продукте, после флотации она заметно вырастает и далее сильно не меняется.\n",
    "\n",
    "Сравнение графиков распределения размеров гранул сырья на обучающей и тестовой выборках показало, что данное разделение на обучающую и тестовую выборки позволят корректно провести обучение и получить оценку.\n",
    "\n",
    "Исследованы суммарные концентрации всех веществ на разных стадиях: в сырье, в черновом и финальном концентратах. Суммарные концентрации веществ имеют гистограммы похожего вида для чернового материала, материала после флотации и материала после первичной очистки. Концентрация веществ в среднем заметно вырастает после флотации, видимо материал очищается не от металлов, а от каких-то других веществ. После первичной очистки суммарная концентрация металлов падает, скорее всего в ходе нее происходит удаление части металлов из материала. Гистограмма суммарных концентраций металлов в финальном материале отличается меньшим разбросом. На графиках обнаружено довольно значительное количество анамалий, когда суммарные концентрации металлов близки к нулю. \n",
    "\n",
    "Строки, для которых суммарная концентрация металлов составляла менее 1%, были удалены из обучащих данных. Такие анамалии составили 550 наблюдений (менее 4% от обучающего датасета).\n",
    "\n",
    "Была написана функция sMAPE_score (симметричное среднее абсолютное процентное отклонение), по которой в дальнейшем было оценено качество моделей.\n",
    "\n",
    "Для каждого из двух таргетов было проведено обучение различных моделей с разными параметрами по решетке с использованием кросс-валидации. Для обоих таргетов лучшие результаты показали модели случайного леса.\n",
    "\n",
    "Итоговое sMAPE на совокупности лучших моделей составило 9.25, что лучше, чем для \"наивного\" регрессора (9.83)."
   ]
  }
 ],
 "metadata": {
  "ExecuteTimeLog": [
   {
    "duration": 74,
    "start_time": "2023-01-03T14:37:48.102Z"
   },
   {
    "duration": 365,
    "start_time": "2023-01-03T14:37:53.219Z"
   },
   {
    "duration": 835,
    "start_time": "2023-01-03T14:43:13.370Z"
   },
   {
    "duration": 36,
    "start_time": "2023-01-03T14:43:17.754Z"
   },
   {
    "duration": 406,
    "start_time": "2023-01-03T14:44:09.651Z"
   },
   {
    "duration": 61,
    "start_time": "2023-01-03T14:44:20.506Z"
   },
   {
    "duration": 27,
    "start_time": "2023-01-03T14:44:25.532Z"
   },
   {
    "duration": 23,
    "start_time": "2023-01-03T14:44:34.562Z"
   },
   {
    "duration": 8,
    "start_time": "2023-01-03T14:44:42.391Z"
   },
   {
    "duration": 26,
    "start_time": "2023-01-03T14:44:56.466Z"
   },
   {
    "duration": 1874,
    "start_time": "2023-01-03T14:48:18.083Z"
   },
   {
    "duration": 31,
    "start_time": "2023-01-03T14:48:24.556Z"
   },
   {
    "duration": 10,
    "start_time": "2023-01-03T14:48:44.084Z"
   },
   {
    "duration": 5,
    "start_time": "2023-01-03T15:10:12.394Z"
   },
   {
    "duration": 6,
    "start_time": "2023-01-03T15:14:31.251Z"
   },
   {
    "duration": 4,
    "start_time": "2023-01-03T15:22:32.707Z"
   },
   {
    "duration": 17,
    "start_time": "2023-01-03T16:01:34.060Z"
   },
   {
    "duration": 225,
    "start_time": "2023-01-03T16:02:41.980Z"
   },
   {
    "duration": 434,
    "start_time": "2023-01-05T08:59:15.672Z"
   },
   {
    "duration": 880,
    "start_time": "2023-01-05T08:59:18.461Z"
   },
   {
    "duration": 43,
    "start_time": "2023-01-05T08:59:23.268Z"
   },
   {
    "duration": 280,
    "start_time": "2023-01-05T08:59:44.678Z"
   },
   {
    "duration": 16,
    "start_time": "2023-01-05T08:59:55.846Z"
   },
   {
    "duration": 30,
    "start_time": "2023-01-05T09:00:22.109Z"
   },
   {
    "duration": 13,
    "start_time": "2023-01-05T09:02:15.702Z"
   },
   {
    "duration": 3,
    "start_time": "2023-01-05T09:54:13.115Z"
   },
   {
    "duration": 285,
    "start_time": "2023-01-05T09:54:15.397Z"
   },
   {
    "duration": 429,
    "start_time": "2023-01-05T09:54:17.782Z"
   },
   {
    "duration": 1864,
    "start_time": "2023-01-05T09:54:20.490Z"
   },
   {
    "duration": 6,
    "start_time": "2023-01-05T09:56:50.622Z"
   },
   {
    "duration": 5,
    "start_time": "2023-01-05T09:57:26.733Z"
   },
   {
    "duration": 42,
    "start_time": "2023-01-05T09:58:01.197Z"
   },
   {
    "duration": 4,
    "start_time": "2023-01-05T09:58:08.464Z"
   },
   {
    "duration": 19,
    "start_time": "2023-01-05T10:00:40.397Z"
   },
   {
    "duration": 19,
    "start_time": "2023-01-05T10:01:12.798Z"
   },
   {
    "duration": 24,
    "start_time": "2023-01-05T10:01:54.331Z"
   },
   {
    "duration": 31,
    "start_time": "2023-01-05T10:02:50.439Z"
   },
   {
    "duration": 26,
    "start_time": "2023-01-05T10:03:48.688Z"
   },
   {
    "duration": 21,
    "start_time": "2023-01-05T10:04:17.743Z"
   },
   {
    "duration": 19,
    "start_time": "2023-01-05T10:04:30.343Z"
   },
   {
    "duration": 28,
    "start_time": "2023-01-05T10:04:42.368Z"
   },
   {
    "duration": 25,
    "start_time": "2023-01-05T10:04:56.151Z"
   },
   {
    "duration": 24,
    "start_time": "2023-01-05T10:05:01.383Z"
   },
   {
    "duration": 25,
    "start_time": "2023-01-05T10:05:07.342Z"
   },
   {
    "duration": 16,
    "start_time": "2023-01-05T10:06:26.017Z"
   },
   {
    "duration": 11,
    "start_time": "2023-01-05T10:06:59.063Z"
   },
   {
    "duration": 17,
    "start_time": "2023-01-05T10:07:44.936Z"
   },
   {
    "duration": 5,
    "start_time": "2023-01-05T10:10:03.647Z"
   },
   {
    "duration": 4,
    "start_time": "2023-01-05T10:10:46.722Z"
   },
   {
    "duration": 244,
    "start_time": "2023-01-05T10:12:25.841Z"
   },
   {
    "duration": 7,
    "start_time": "2023-01-05T10:13:07.929Z"
   },
   {
    "duration": 4,
    "start_time": "2023-01-05T10:13:40.777Z"
   },
   {
    "duration": 4,
    "start_time": "2023-01-05T10:13:46.530Z"
   },
   {
    "duration": 10,
    "start_time": "2023-01-05T10:14:04.075Z"
   },
   {
    "duration": 67,
    "start_time": "2023-01-05T10:20:16.267Z"
   },
   {
    "duration": 9,
    "start_time": "2023-01-05T10:20:22.394Z"
   },
   {
    "duration": 9,
    "start_time": "2023-01-05T10:21:49.040Z"
   },
   {
    "duration": 8,
    "start_time": "2023-01-05T10:22:33.805Z"
   },
   {
    "duration": 8,
    "start_time": "2023-01-05T10:22:47.060Z"
   },
   {
    "duration": 8,
    "start_time": "2023-01-05T10:23:01.903Z"
   },
   {
    "duration": 9,
    "start_time": "2023-01-05T10:23:30.493Z"
   },
   {
    "duration": 6396,
    "start_time": "2023-01-05T10:24:25.390Z"
   },
   {
    "duration": 171,
    "start_time": "2023-01-05T10:24:34.109Z"
   },
   {
    "duration": 176,
    "start_time": "2023-01-05T10:24:42.190Z"
   },
   {
    "duration": 199,
    "start_time": "2023-01-05T10:24:56.868Z"
   },
   {
    "duration": 191,
    "start_time": "2023-01-05T10:25:05.406Z"
   },
   {
    "duration": 345,
    "start_time": "2023-01-05T10:32:03.983Z"
   },
   {
    "duration": 270,
    "start_time": "2023-01-05T10:32:21.255Z"
   },
   {
    "duration": 119,
    "start_time": "2023-01-05T10:32:51.534Z"
   },
   {
    "duration": 187,
    "start_time": "2023-01-05T10:33:14.272Z"
   },
   {
    "duration": 177,
    "start_time": "2023-01-05T10:35:50.177Z"
   },
   {
    "duration": 266,
    "start_time": "2023-01-05T10:36:47.777Z"
   },
   {
    "duration": 292,
    "start_time": "2023-01-05T10:37:00.672Z"
   },
   {
    "duration": 250,
    "start_time": "2023-01-05T10:37:37.899Z"
   },
   {
    "duration": 269,
    "start_time": "2023-01-05T10:38:00.249Z"
   },
   {
    "duration": 716,
    "start_time": "2023-01-05T10:40:47.667Z"
   },
   {
    "duration": 303,
    "start_time": "2023-01-05T10:42:14.252Z"
   },
   {
    "duration": 437,
    "start_time": "2023-01-05T10:51:24.565Z"
   },
   {
    "duration": 352,
    "start_time": "2023-01-05T10:52:37.221Z"
   },
   {
    "duration": 418,
    "start_time": "2023-01-05T10:53:03.110Z"
   },
   {
    "duration": 8,
    "start_time": "2023-01-05T10:53:37.249Z"
   },
   {
    "duration": 290,
    "start_time": "2023-01-05T10:53:43.751Z"
   },
   {
    "duration": 256,
    "start_time": "2023-01-05T10:54:20.207Z"
   },
   {
    "duration": 45,
    "start_time": "2023-01-05T13:57:12.427Z"
   },
   {
    "duration": 365,
    "start_time": "2023-01-05T13:57:34.852Z"
   },
   {
    "duration": 830,
    "start_time": "2023-01-05T13:57:35.221Z"
   },
   {
    "duration": 367,
    "start_time": "2023-01-05T13:57:36.053Z"
   },
   {
    "duration": 1672,
    "start_time": "2023-01-05T13:57:36.421Z"
   },
   {
    "duration": 31,
    "start_time": "2023-01-05T13:57:38.095Z"
   },
   {
    "duration": 23,
    "start_time": "2023-01-05T13:57:38.128Z"
   },
   {
    "duration": 27,
    "start_time": "2023-01-05T13:57:38.152Z"
   },
   {
    "duration": 15,
    "start_time": "2023-01-05T13:57:38.180Z"
   },
   {
    "duration": 32,
    "start_time": "2023-01-05T13:57:38.197Z"
   },
   {
    "duration": 16,
    "start_time": "2023-01-05T13:57:38.230Z"
   },
   {
    "duration": 7,
    "start_time": "2023-01-05T13:57:38.247Z"
   },
   {
    "duration": 8,
    "start_time": "2023-01-05T13:57:38.256Z"
   },
   {
    "duration": 8,
    "start_time": "2023-01-05T13:57:38.265Z"
   },
   {
    "duration": 787,
    "start_time": "2023-01-05T13:57:38.275Z"
   },
   {
    "duration": 309,
    "start_time": "2023-01-05T13:58:00.343Z"
   },
   {
    "duration": 412,
    "start_time": "2023-01-05T13:59:46.537Z"
   },
   {
    "duration": 686,
    "start_time": "2023-01-05T14:06:56.010Z"
   },
   {
    "duration": 65,
    "start_time": "2023-01-05T14:07:50.763Z"
   },
   {
    "duration": 214,
    "start_time": "2023-01-05T14:08:07.203Z"
   },
   {
    "duration": 259,
    "start_time": "2023-01-05T14:09:11.627Z"
   },
   {
    "duration": 629,
    "start_time": "2023-01-05T14:09:42.411Z"
   },
   {
    "duration": 414,
    "start_time": "2023-01-05T14:10:02.828Z"
   },
   {
    "duration": 656,
    "start_time": "2023-01-05T14:10:33.563Z"
   },
   {
    "duration": 371,
    "start_time": "2023-01-05T14:10:54.746Z"
   },
   {
    "duration": 174,
    "start_time": "2023-01-05T14:11:10.339Z"
   },
   {
    "duration": 681,
    "start_time": "2023-01-05T14:11:20.868Z"
   },
   {
    "duration": 205,
    "start_time": "2023-01-05T14:11:35.123Z"
   },
   {
    "duration": 177,
    "start_time": "2023-01-05T14:11:42.031Z"
   },
   {
    "duration": 390,
    "start_time": "2023-01-05T14:14:29.885Z"
   },
   {
    "duration": 10,
    "start_time": "2023-01-05T14:16:08.052Z"
   },
   {
    "duration": 78,
    "start_time": "2023-01-05T14:27:48.967Z"
   },
   {
    "duration": 70,
    "start_time": "2023-01-05T14:28:02.720Z"
   },
   {
    "duration": 190,
    "start_time": "2023-01-05T14:28:08.968Z"
   },
   {
    "duration": 190,
    "start_time": "2023-01-05T14:28:21.672Z"
   },
   {
    "duration": 40,
    "start_time": "2023-01-05T14:30:32.504Z"
   },
   {
    "duration": 8,
    "start_time": "2023-01-05T14:30:58.842Z"
   },
   {
    "duration": 281,
    "start_time": "2023-01-05T14:31:16.657Z"
   },
   {
    "duration": 6,
    "start_time": "2023-01-05T14:33:27.738Z"
   },
   {
    "duration": 6,
    "start_time": "2023-01-05T14:33:41.337Z"
   },
   {
    "duration": 4,
    "start_time": "2023-01-05T14:43:26.140Z"
   },
   {
    "duration": 11,
    "start_time": "2023-01-05T14:48:29.501Z"
   },
   {
    "duration": 3,
    "start_time": "2023-01-05T14:53:30.766Z"
   },
   {
    "duration": 9,
    "start_time": "2023-01-05T14:53:54.342Z"
   },
   {
    "duration": 9,
    "start_time": "2023-01-05T14:57:10.048Z"
   },
   {
    "duration": 9,
    "start_time": "2023-01-05T14:58:18.453Z"
   },
   {
    "duration": 8,
    "start_time": "2023-01-05T15:00:46.825Z"
   },
   {
    "duration": 6,
    "start_time": "2023-01-05T15:02:11.692Z"
   },
   {
    "duration": 3,
    "start_time": "2023-01-05T15:13:10.503Z"
   },
   {
    "duration": 9,
    "start_time": "2023-01-05T15:14:15.771Z"
   },
   {
    "duration": 5,
    "start_time": "2023-01-05T15:22:51.447Z"
   },
   {
    "duration": 5,
    "start_time": "2023-01-05T15:23:08.342Z"
   },
   {
    "duration": 4,
    "start_time": "2023-01-05T15:23:14.750Z"
   },
   {
    "duration": 4,
    "start_time": "2023-01-05T15:23:26.079Z"
   },
   {
    "duration": 4,
    "start_time": "2023-01-05T15:23:36.959Z"
   },
   {
    "duration": 6,
    "start_time": "2023-01-05T15:51:14.067Z"
   },
   {
    "duration": 6,
    "start_time": "2023-01-05T15:52:02.891Z"
   },
   {
    "duration": 5,
    "start_time": "2023-01-05T15:52:26.051Z"
   },
   {
    "duration": 6,
    "start_time": "2023-01-05T15:52:43.427Z"
   },
   {
    "duration": 52,
    "start_time": "2023-01-05T15:54:52.460Z"
   },
   {
    "duration": 11,
    "start_time": "2023-01-05T15:55:02.716Z"
   },
   {
    "duration": 6,
    "start_time": "2023-01-05T15:56:16.422Z"
   },
   {
    "duration": 16,
    "start_time": "2023-01-05T15:56:33.652Z"
   },
   {
    "duration": 10,
    "start_time": "2023-01-05T16:03:20.791Z"
   },
   {
    "duration": 8,
    "start_time": "2023-01-05T16:03:32.663Z"
   },
   {
    "duration": 11,
    "start_time": "2023-01-05T16:05:04.847Z"
   },
   {
    "duration": 7,
    "start_time": "2023-01-05T16:05:52.240Z"
   },
   {
    "duration": 13,
    "start_time": "2023-01-05T16:09:38.344Z"
   },
   {
    "duration": 236,
    "start_time": "2023-01-05T16:10:53.649Z"
   },
   {
    "duration": 1112,
    "start_time": "2023-01-05T16:18:09.350Z"
   },
   {
    "duration": 3,
    "start_time": "2023-01-05T16:18:10.464Z"
   },
   {
    "duration": 307,
    "start_time": "2023-01-05T16:18:10.468Z"
   },
   {
    "duration": 74,
    "start_time": "2023-01-05T16:18:10.777Z"
   },
   {
    "duration": 340,
    "start_time": "2023-01-05T16:18:10.853Z"
   },
   {
    "duration": 35,
    "start_time": "2023-01-05T16:18:11.194Z"
   },
   {
    "duration": 23,
    "start_time": "2023-01-05T16:18:11.231Z"
   },
   {
    "duration": 25,
    "start_time": "2023-01-05T16:18:11.255Z"
   },
   {
    "duration": 3,
    "start_time": "2023-01-05T16:18:11.282Z"
   },
   {
    "duration": 41,
    "start_time": "2023-01-05T16:18:11.286Z"
   },
   {
    "duration": 7,
    "start_time": "2023-01-05T16:18:11.329Z"
   },
   {
    "duration": 13,
    "start_time": "2023-01-05T16:18:11.338Z"
   },
   {
    "duration": 5,
    "start_time": "2023-01-05T16:18:11.353Z"
   },
   {
    "duration": 25,
    "start_time": "2023-01-05T16:18:11.360Z"
   },
   {
    "duration": 8,
    "start_time": "2023-01-05T16:18:11.386Z"
   },
   {
    "duration": 27,
    "start_time": "2023-01-05T16:18:11.395Z"
   },
   {
    "duration": 5,
    "start_time": "2023-01-05T16:18:11.423Z"
   },
   {
    "duration": 11,
    "start_time": "2023-01-05T16:18:11.430Z"
   },
   {
    "duration": 11,
    "start_time": "2023-01-05T16:18:11.442Z"
   },
   {
    "duration": 7,
    "start_time": "2023-01-05T16:18:11.454Z"
   },
   {
    "duration": 7,
    "start_time": "2023-01-05T16:18:11.462Z"
   },
   {
    "duration": 5,
    "start_time": "2023-01-05T16:18:11.471Z"
   },
   {
    "duration": 12,
    "start_time": "2023-01-05T16:18:11.477Z"
   },
   {
    "duration": 32,
    "start_time": "2023-01-05T16:18:11.491Z"
   },
   {
    "duration": 420,
    "start_time": "2023-01-05T16:18:11.524Z"
   },
   {
    "duration": 97,
    "start_time": "2023-01-05T16:19:08.675Z"
   },
   {
    "duration": 12,
    "start_time": "2023-01-05T16:19:38.668Z"
   },
   {
    "duration": 312,
    "start_time": "2023-01-05T16:21:28.826Z"
   },
   {
    "duration": 303,
    "start_time": "2023-01-05T16:21:46.571Z"
   },
   {
    "duration": 393,
    "start_time": "2023-01-05T16:52:16.451Z"
   },
   {
    "duration": 535,
    "start_time": "2023-01-05T17:00:07.813Z"
   },
   {
    "duration": 508,
    "start_time": "2023-01-05T17:00:24.993Z"
   },
   {
    "duration": 362,
    "start_time": "2023-01-05T17:02:03.412Z"
   },
   {
    "duration": 350,
    "start_time": "2023-01-05T17:03:35.895Z"
   },
   {
    "duration": 197,
    "start_time": "2023-01-05T17:10:06.209Z"
   },
   {
    "duration": 364,
    "start_time": "2023-01-05T17:10:54.592Z"
   },
   {
    "duration": 375,
    "start_time": "2023-01-05T17:13:28.216Z"
   },
   {
    "duration": 384,
    "start_time": "2023-01-05T17:13:36.017Z"
   },
   {
    "duration": 384,
    "start_time": "2023-01-05T17:13:43.600Z"
   },
   {
    "duration": 612,
    "start_time": "2023-01-05T17:17:05.177Z"
   },
   {
    "duration": 525,
    "start_time": "2023-01-05T17:17:18.601Z"
   },
   {
    "duration": 1001,
    "start_time": "2023-01-05T17:17:42.050Z"
   },
   {
    "duration": 523,
    "start_time": "2023-01-05T17:18:08.658Z"
   },
   {
    "duration": 675,
    "start_time": "2023-01-05T17:20:19.651Z"
   },
   {
    "duration": 1211,
    "start_time": "2023-01-06T08:43:48.486Z"
   },
   {
    "duration": 3,
    "start_time": "2023-01-06T08:43:49.699Z"
   },
   {
    "duration": 813,
    "start_time": "2023-01-06T08:43:49.703Z"
   },
   {
    "duration": 400,
    "start_time": "2023-01-06T08:43:50.518Z"
   },
   {
    "duration": 1744,
    "start_time": "2023-01-06T08:43:50.920Z"
   },
   {
    "duration": 28,
    "start_time": "2023-01-06T08:43:52.666Z"
   },
   {
    "duration": 24,
    "start_time": "2023-01-06T08:43:52.696Z"
   },
   {
    "duration": 26,
    "start_time": "2023-01-06T08:43:52.721Z"
   },
   {
    "duration": 4,
    "start_time": "2023-01-06T08:43:52.749Z"
   },
   {
    "duration": 22,
    "start_time": "2023-01-06T08:43:52.754Z"
   },
   {
    "duration": 25,
    "start_time": "2023-01-06T08:43:52.777Z"
   },
   {
    "duration": 16,
    "start_time": "2023-01-06T08:43:52.803Z"
   },
   {
    "duration": 5,
    "start_time": "2023-01-06T08:43:52.821Z"
   },
   {
    "duration": 16,
    "start_time": "2023-01-06T08:43:52.829Z"
   },
   {
    "duration": 8,
    "start_time": "2023-01-06T08:43:52.846Z"
   },
   {
    "duration": 4,
    "start_time": "2023-01-06T08:43:52.855Z"
   },
   {
    "duration": 5,
    "start_time": "2023-01-06T08:43:52.860Z"
   },
   {
    "duration": 6,
    "start_time": "2023-01-06T08:43:52.897Z"
   },
   {
    "duration": 12,
    "start_time": "2023-01-06T08:43:52.904Z"
   },
   {
    "duration": 7,
    "start_time": "2023-01-06T08:43:52.917Z"
   },
   {
    "duration": 8,
    "start_time": "2023-01-06T08:43:52.925Z"
   },
   {
    "duration": 11,
    "start_time": "2023-01-06T08:43:52.934Z"
   },
   {
    "duration": 4,
    "start_time": "2023-01-06T08:43:52.947Z"
   },
   {
    "duration": 6,
    "start_time": "2023-01-06T08:43:52.952Z"
   },
   {
    "duration": 627,
    "start_time": "2023-01-06T08:43:52.959Z"
   },
   {
    "duration": 220,
    "start_time": "2023-01-06T08:47:41.215Z"
   },
   {
    "duration": 101,
    "start_time": "2023-01-06T09:30:59.407Z"
   },
   {
    "duration": 7,
    "start_time": "2023-01-06T09:31:24.687Z"
   },
   {
    "duration": 6,
    "start_time": "2023-01-06T09:35:54.144Z"
   },
   {
    "duration": 3,
    "start_time": "2023-01-06T09:44:06.984Z"
   },
   {
    "duration": 7,
    "start_time": "2023-01-06T09:44:46.560Z"
   },
   {
    "duration": 2,
    "start_time": "2023-01-06T09:44:53.641Z"
   },
   {
    "duration": 5,
    "start_time": "2023-01-06T09:44:55.504Z"
   },
   {
    "duration": 5,
    "start_time": "2023-01-06T09:45:01.881Z"
   },
   {
    "duration": 5,
    "start_time": "2023-01-06T09:46:40.864Z"
   },
   {
    "duration": 5,
    "start_time": "2023-01-06T09:46:52.312Z"
   },
   {
    "duration": 7,
    "start_time": "2023-01-06T09:47:00.322Z"
   },
   {
    "duration": 3,
    "start_time": "2023-01-06T09:48:03.392Z"
   },
   {
    "duration": 6,
    "start_time": "2023-01-06T09:48:38.793Z"
   },
   {
    "duration": 5,
    "start_time": "2023-01-06T10:39:58.282Z"
   },
   {
    "duration": 3,
    "start_time": "2023-01-06T11:25:23.992Z"
   },
   {
    "duration": 28,
    "start_time": "2023-01-06T11:26:47.970Z"
   },
   {
    "duration": 11,
    "start_time": "2023-01-06T11:26:59.628Z"
   },
   {
    "duration": 11,
    "start_time": "2023-01-06T11:27:21.038Z"
   },
   {
    "duration": 6,
    "start_time": "2023-01-06T11:29:11.342Z"
   },
   {
    "duration": 16,
    "start_time": "2023-01-06T11:29:53.373Z"
   },
   {
    "duration": 11,
    "start_time": "2023-01-06T11:30:22.606Z"
   },
   {
    "duration": 7,
    "start_time": "2023-01-06T11:30:44.157Z"
   },
   {
    "duration": 6,
    "start_time": "2023-01-06T11:31:07.781Z"
   },
   {
    "duration": 10,
    "start_time": "2023-01-06T11:31:44.150Z"
   },
   {
    "duration": 36,
    "start_time": "2023-01-06T11:40:33.103Z"
   },
   {
    "duration": 151,
    "start_time": "2023-01-06T11:41:17.512Z"
   },
   {
    "duration": 129,
    "start_time": "2023-01-06T11:41:54.312Z"
   },
   {
    "duration": 118,
    "start_time": "2023-01-06T11:42:09.359Z"
   },
   {
    "duration": 106,
    "start_time": "2023-01-06T11:42:25.729Z"
   },
   {
    "duration": 95,
    "start_time": "2023-01-06T11:42:37.144Z"
   },
   {
    "duration": 130,
    "start_time": "2023-01-06T11:42:43.882Z"
   },
   {
    "duration": 14,
    "start_time": "2023-01-06T11:44:45.415Z"
   },
   {
    "duration": 3021,
    "start_time": "2023-01-06T11:45:16.392Z"
   },
   {
    "duration": 2654,
    "start_time": "2023-01-06T11:45:37.129Z"
   },
   {
    "duration": 64,
    "start_time": "2023-01-06T11:47:46.449Z"
   },
   {
    "duration": 65,
    "start_time": "2023-01-06T11:51:10.958Z"
   },
   {
    "duration": 52,
    "start_time": "2023-01-06T11:52:02.081Z"
   },
   {
    "duration": 10,
    "start_time": "2023-01-06T11:52:24.010Z"
   },
   {
    "duration": 6,
    "start_time": "2023-01-06T13:03:59.207Z"
   },
   {
    "duration": 170,
    "start_time": "2023-01-06T13:04:14.679Z"
   },
   {
    "duration": 141,
    "start_time": "2023-01-06T13:04:33.023Z"
   },
   {
    "duration": 117,
    "start_time": "2023-01-06T13:05:01.963Z"
   },
   {
    "duration": 150,
    "start_time": "2023-01-06T13:05:34.416Z"
   },
   {
    "duration": 418,
    "start_time": "2023-01-06T13:05:52.538Z"
   },
   {
    "duration": 844,
    "start_time": "2023-01-06T13:07:34.874Z"
   },
   {
    "duration": 393,
    "start_time": "2023-01-06T13:08:09.089Z"
   },
   {
    "duration": 410,
    "start_time": "2023-01-06T13:08:23.913Z"
   },
   {
    "duration": 923,
    "start_time": "2023-01-06T13:17:08.048Z"
   },
   {
    "duration": 491,
    "start_time": "2023-01-06T13:18:46.595Z"
   },
   {
    "duration": 1037,
    "start_time": "2023-01-06T13:36:38.453Z"
   },
   {
    "duration": 940,
    "start_time": "2023-01-06T13:36:50.740Z"
   },
   {
    "duration": 2912,
    "start_time": "2023-01-06T13:50:56.392Z"
   },
   {
    "duration": 3915,
    "start_time": "2023-01-06T13:51:54.160Z"
   },
   {
    "duration": 3093,
    "start_time": "2023-01-06T13:52:55.913Z"
   },
   {
    "duration": 3047,
    "start_time": "2023-01-06T13:55:26.084Z"
   },
   {
    "duration": 2491,
    "start_time": "2023-01-06T13:55:41.042Z"
   },
   {
    "duration": 3065,
    "start_time": "2023-01-06T13:55:53.954Z"
   },
   {
    "duration": 3067,
    "start_time": "2023-01-06T13:56:07.377Z"
   },
   {
    "duration": 3025,
    "start_time": "2023-01-06T13:56:25.882Z"
   },
   {
    "duration": 2591,
    "start_time": "2023-01-06T13:56:48.169Z"
   },
   {
    "duration": 3190,
    "start_time": "2023-01-06T13:56:57.313Z"
   },
   {
    "duration": 2914,
    "start_time": "2023-01-06T13:57:47.450Z"
   },
   {
    "duration": 2991,
    "start_time": "2023-01-06T13:58:01.026Z"
   },
   {
    "duration": 3140,
    "start_time": "2023-01-06T13:58:54.419Z"
   },
   {
    "duration": 2521,
    "start_time": "2023-01-06T14:01:21.509Z"
   },
   {
    "duration": 3136,
    "start_time": "2023-01-06T14:02:47.764Z"
   },
   {
    "duration": 3120,
    "start_time": "2023-01-06T14:05:49.044Z"
   },
   {
    "duration": 2214,
    "start_time": "2023-01-06T14:10:03.487Z"
   },
   {
    "duration": 3023,
    "start_time": "2023-01-06T14:10:43.547Z"
   },
   {
    "duration": 2571,
    "start_time": "2023-01-06T14:11:14.714Z"
   },
   {
    "duration": 3069,
    "start_time": "2023-01-06T14:12:32.070Z"
   },
   {
    "duration": 2814,
    "start_time": "2023-01-06T14:13:39.836Z"
   },
   {
    "duration": 2574,
    "start_time": "2023-01-06T14:17:22.503Z"
   },
   {
    "duration": 3039,
    "start_time": "2023-01-06T14:17:45.230Z"
   },
   {
    "duration": 3274,
    "start_time": "2023-01-06T14:22:17.952Z"
   },
   {
    "duration": 47,
    "start_time": "2023-01-06T14:25:27.927Z"
   },
   {
    "duration": 3019,
    "start_time": "2023-01-06T14:25:54.969Z"
   },
   {
    "duration": 3206,
    "start_time": "2023-01-06T14:26:56.953Z"
   },
   {
    "duration": 3197,
    "start_time": "2023-01-06T14:27:17.433Z"
   },
   {
    "duration": 6,
    "start_time": "2023-01-06T14:35:07.992Z"
   },
   {
    "duration": 6,
    "start_time": "2023-01-06T14:35:13.363Z"
   },
   {
    "duration": 5,
    "start_time": "2023-01-06T14:35:22.660Z"
   },
   {
    "duration": 6,
    "start_time": "2023-01-06T14:35:38.210Z"
   },
   {
    "duration": 6,
    "start_time": "2023-01-06T14:35:48.994Z"
   },
   {
    "duration": 33,
    "start_time": "2023-01-06T14:55:03.743Z"
   },
   {
    "duration": 14,
    "start_time": "2023-01-06T14:55:48.309Z"
   },
   {
    "duration": 129,
    "start_time": "2023-01-06T14:55:56.326Z"
   },
   {
    "duration": 201,
    "start_time": "2023-01-06T14:56:07.310Z"
   },
   {
    "duration": 794,
    "start_time": "2023-01-06T14:56:26.174Z"
   },
   {
    "duration": 207,
    "start_time": "2023-01-06T14:57:19.791Z"
   },
   {
    "duration": 211,
    "start_time": "2023-01-06T14:57:21.262Z"
   },
   {
    "duration": 15,
    "start_time": "2023-01-06T14:58:41.492Z"
   },
   {
    "duration": 115,
    "start_time": "2023-01-06T14:58:55.903Z"
   },
   {
    "duration": 1588,
    "start_time": "2023-01-07T16:52:36.782Z"
   },
   {
    "duration": 6,
    "start_time": "2023-01-07T16:52:38.373Z"
   },
   {
    "duration": 1008,
    "start_time": "2023-01-07T16:52:38.380Z"
   },
   {
    "duration": 789,
    "start_time": "2023-01-07T16:52:39.390Z"
   },
   {
    "duration": 1789,
    "start_time": "2023-01-07T16:52:40.182Z"
   },
   {
    "duration": 34,
    "start_time": "2023-01-07T16:52:41.973Z"
   },
   {
    "duration": 26,
    "start_time": "2023-01-07T16:52:42.009Z"
   },
   {
    "duration": 41,
    "start_time": "2023-01-07T16:52:42.037Z"
   },
   {
    "duration": 4,
    "start_time": "2023-01-07T16:52:42.080Z"
   },
   {
    "duration": 19,
    "start_time": "2023-01-07T16:52:42.086Z"
   },
   {
    "duration": 9,
    "start_time": "2023-01-07T16:52:42.107Z"
   },
   {
    "duration": 22,
    "start_time": "2023-01-07T16:52:42.118Z"
   },
   {
    "duration": 7,
    "start_time": "2023-01-07T16:52:42.142Z"
   },
   {
    "duration": 21,
    "start_time": "2023-01-07T16:52:42.177Z"
   },
   {
    "duration": 11,
    "start_time": "2023-01-07T16:52:42.200Z"
   },
   {
    "duration": 4,
    "start_time": "2023-01-07T16:52:42.212Z"
   },
   {
    "duration": 127,
    "start_time": "2023-01-07T16:52:42.218Z"
   },
   {
    "duration": 9,
    "start_time": "2023-01-07T16:52:42.346Z"
   },
   {
    "duration": 22,
    "start_time": "2023-01-07T16:52:42.356Z"
   },
   {
    "duration": 9,
    "start_time": "2023-01-07T16:52:42.380Z"
   },
   {
    "duration": 12,
    "start_time": "2023-01-07T16:52:42.391Z"
   },
   {
    "duration": 10,
    "start_time": "2023-01-07T16:52:42.404Z"
   },
   {
    "duration": 10,
    "start_time": "2023-01-07T16:52:42.416Z"
   },
   {
    "duration": 10,
    "start_time": "2023-01-07T16:52:42.428Z"
   },
   {
    "duration": 668,
    "start_time": "2023-01-07T16:52:42.440Z"
   },
   {
    "duration": 3,
    "start_time": "2023-01-07T16:52:43.110Z"
   },
   {
    "duration": 16,
    "start_time": "2023-01-07T16:52:43.115Z"
   },
   {
    "duration": 7,
    "start_time": "2023-01-07T16:52:43.132Z"
   },
   {
    "duration": 12,
    "start_time": "2023-01-07T16:52:43.140Z"
   },
   {
    "duration": 14,
    "start_time": "2023-01-07T16:52:43.153Z"
   },
   {
    "duration": 11,
    "start_time": "2023-01-07T16:52:43.168Z"
   },
   {
    "duration": 7,
    "start_time": "2023-01-07T16:52:43.180Z"
   },
   {
    "duration": 15,
    "start_time": "2023-01-07T16:52:43.188Z"
   },
   {
    "duration": 59,
    "start_time": "2023-01-07T16:52:43.204Z"
   },
   {
    "duration": 11,
    "start_time": "2023-01-07T16:52:43.277Z"
   },
   {
    "duration": 3060,
    "start_time": "2023-01-07T16:52:43.290Z"
   },
   {
    "duration": 3,
    "start_time": "2023-01-07T17:18:33.808Z"
   },
   {
    "duration": 2,
    "start_time": "2023-01-07T17:18:36.488Z"
   },
   {
    "duration": 300,
    "start_time": "2023-01-07T17:18:40.851Z"
   },
   {
    "duration": 85,
    "start_time": "2023-01-07T17:18:42.009Z"
   },
   {
    "duration": 406,
    "start_time": "2023-01-07T17:18:43.042Z"
   },
   {
    "duration": 34,
    "start_time": "2023-01-07T17:18:45.027Z"
   },
   {
    "duration": 29,
    "start_time": "2023-01-07T17:18:47.419Z"
   },
   {
    "duration": 32,
    "start_time": "2023-01-07T17:18:50.010Z"
   },
   {
    "duration": 4,
    "start_time": "2023-01-07T17:18:53.342Z"
   },
   {
    "duration": 17,
    "start_time": "2023-01-07T17:18:57.386Z"
   },
   {
    "duration": 9,
    "start_time": "2023-01-07T17:19:00.611Z"
   },
   {
    "duration": 19,
    "start_time": "2023-01-07T17:19:03.298Z"
   },
   {
    "duration": 7,
    "start_time": "2023-01-07T17:19:06.562Z"
   },
   {
    "duration": 18,
    "start_time": "2023-01-07T17:19:09.386Z"
   },
   {
    "duration": 11,
    "start_time": "2023-01-07T17:19:12.538Z"
   },
   {
    "duration": 5,
    "start_time": "2023-01-07T17:19:16.205Z"
   },
   {
    "duration": 4,
    "start_time": "2023-01-07T17:19:17.588Z"
   },
   {
    "duration": 7,
    "start_time": "2023-01-07T17:19:18.794Z"
   },
   {
    "duration": 9,
    "start_time": "2023-01-07T17:19:25.122Z"
   },
   {
    "duration": 9,
    "start_time": "2023-01-07T17:19:26.651Z"
   },
   {
    "duration": 12,
    "start_time": "2023-01-07T17:19:28.218Z"
   },
   {
    "duration": 6,
    "start_time": "2023-01-07T17:19:31.258Z"
   },
   {
    "duration": 6,
    "start_time": "2023-01-07T17:19:32.434Z"
   },
   {
    "duration": 7,
    "start_time": "2023-01-07T17:19:40.131Z"
   },
   {
    "duration": 589,
    "start_time": "2023-01-07T17:19:46.625Z"
   },
   {
    "duration": 3,
    "start_time": "2023-01-07T17:19:52.371Z"
   },
   {
    "duration": 6,
    "start_time": "2023-01-07T17:19:54.819Z"
   },
   {
    "duration": 6,
    "start_time": "2023-01-07T17:19:56.938Z"
   },
   {
    "duration": 5,
    "start_time": "2023-01-07T17:19:59.018Z"
   },
   {
    "duration": 6,
    "start_time": "2023-01-07T17:20:00.802Z"
   },
   {
    "duration": 4,
    "start_time": "2023-01-07T17:20:09.140Z"
   },
   {
    "duration": 3,
    "start_time": "2023-01-07T17:20:12.538Z"
   },
   {
    "duration": 12,
    "start_time": "2023-01-07T17:20:18.802Z"
   },
   {
    "duration": 67,
    "start_time": "2023-01-07T17:20:31.850Z"
   },
   {
    "duration": 10,
    "start_time": "2023-01-07T17:20:33.170Z"
   },
   {
    "duration": 3152,
    "start_time": "2023-01-07T17:20:56.579Z"
   },
   {
    "duration": 2883,
    "start_time": "2023-01-07T17:23:26.396Z"
   },
   {
    "duration": 3127,
    "start_time": "2023-01-07T17:23:51.260Z"
   },
   {
    "duration": 229,
    "start_time": "2023-01-07T17:29:25.085Z"
   },
   {
    "duration": 133,
    "start_time": "2023-01-07T17:31:30.175Z"
   },
   {
    "duration": 236,
    "start_time": "2023-01-07T17:32:07.022Z"
   },
   {
    "duration": 1359,
    "start_time": "2023-01-07T17:34:23.508Z"
   },
   {
    "duration": 3,
    "start_time": "2023-01-07T17:34:24.870Z"
   },
   {
    "duration": 280,
    "start_time": "2023-01-07T17:34:24.875Z"
   },
   {
    "duration": 77,
    "start_time": "2023-01-07T17:34:25.157Z"
   },
   {
    "duration": 346,
    "start_time": "2023-01-07T17:34:25.237Z"
   },
   {
    "duration": 32,
    "start_time": "2023-01-07T17:34:25.585Z"
   },
   {
    "duration": 28,
    "start_time": "2023-01-07T17:34:25.619Z"
   },
   {
    "duration": 56,
    "start_time": "2023-01-07T17:34:25.649Z"
   },
   {
    "duration": 5,
    "start_time": "2023-01-07T17:34:25.707Z"
   },
   {
    "duration": 27,
    "start_time": "2023-01-07T17:34:25.714Z"
   },
   {
    "duration": 11,
    "start_time": "2023-01-07T17:34:25.744Z"
   },
   {
    "duration": 260,
    "start_time": "2023-01-07T17:34:25.757Z"
   },
   {
    "duration": 13,
    "start_time": "2023-01-07T17:34:26.020Z"
   },
   {
    "duration": 22,
    "start_time": "2023-01-07T17:34:26.037Z"
   },
   {
    "duration": 150,
    "start_time": "2023-01-07T17:34:26.061Z"
   },
   {
    "duration": 17,
    "start_time": "2023-01-07T17:34:26.213Z"
   },
   {
    "duration": 15,
    "start_time": "2023-01-07T17:34:26.232Z"
   },
   {
    "duration": 259,
    "start_time": "2023-01-07T17:34:26.249Z"
   },
   {
    "duration": 6,
    "start_time": "2023-01-07T17:34:26.510Z"
   },
   {
    "duration": 23,
    "start_time": "2023-01-07T17:34:26.517Z"
   },
   {
    "duration": 19,
    "start_time": "2023-01-07T17:34:26.542Z"
   },
   {
    "duration": 23,
    "start_time": "2023-01-07T17:34:26.562Z"
   },
   {
    "duration": 10,
    "start_time": "2023-01-07T17:34:26.587Z"
   },
   {
    "duration": 19,
    "start_time": "2023-01-07T17:34:26.599Z"
   },
   {
    "duration": 22,
    "start_time": "2023-01-07T17:34:26.620Z"
   },
   {
    "duration": 16,
    "start_time": "2023-01-07T17:34:26.643Z"
   },
   {
    "duration": 23,
    "start_time": "2023-01-07T17:34:26.660Z"
   },
   {
    "duration": 739,
    "start_time": "2023-01-07T17:34:26.684Z"
   },
   {
    "duration": 3,
    "start_time": "2023-01-07T17:34:27.425Z"
   },
   {
    "duration": 14,
    "start_time": "2023-01-07T17:34:27.430Z"
   },
   {
    "duration": 26,
    "start_time": "2023-01-07T17:34:27.446Z"
   },
   {
    "duration": 26,
    "start_time": "2023-01-07T17:34:27.474Z"
   },
   {
    "duration": 23,
    "start_time": "2023-01-07T17:34:27.502Z"
   },
   {
    "duration": 28,
    "start_time": "2023-01-07T17:34:27.526Z"
   },
   {
    "duration": 13,
    "start_time": "2023-01-07T17:34:27.556Z"
   },
   {
    "duration": 32,
    "start_time": "2023-01-07T17:34:27.571Z"
   },
   {
    "duration": 70,
    "start_time": "2023-01-07T17:34:27.605Z"
   },
   {
    "duration": 12,
    "start_time": "2023-01-07T17:34:27.676Z"
   },
   {
    "duration": 3000,
    "start_time": "2023-01-07T17:34:27.690Z"
   },
   {
    "duration": 289,
    "start_time": "2023-01-07T17:50:44.307Z"
   },
   {
    "duration": 365,
    "start_time": "2023-01-07T17:52:33.355Z"
   },
   {
    "duration": 143,
    "start_time": "2023-01-07T17:54:03.979Z"
   },
   {
    "duration": 123,
    "start_time": "2023-01-07T17:54:58.066Z"
   },
   {
    "duration": 129,
    "start_time": "2023-01-07T17:55:15.436Z"
   },
   {
    "duration": 20,
    "start_time": "2023-01-07T17:55:22.548Z"
   },
   {
    "duration": 6,
    "start_time": "2023-01-07T17:56:07.770Z"
   },
   {
    "duration": 4,
    "start_time": "2023-01-07T17:56:31.607Z"
   },
   {
    "duration": 7,
    "start_time": "2023-01-07T17:56:31.613Z"
   },
   {
    "duration": 296,
    "start_time": "2023-01-07T17:56:31.622Z"
   },
   {
    "duration": 81,
    "start_time": "2023-01-07T17:56:31.919Z"
   },
   {
    "duration": 358,
    "start_time": "2023-01-07T17:56:32.003Z"
   },
   {
    "duration": 30,
    "start_time": "2023-01-07T17:56:32.363Z"
   },
   {
    "duration": 27,
    "start_time": "2023-01-07T17:56:32.394Z"
   },
   {
    "duration": 30,
    "start_time": "2023-01-07T17:56:32.422Z"
   },
   {
    "duration": 27,
    "start_time": "2023-01-07T17:56:32.454Z"
   },
   {
    "duration": 42,
    "start_time": "2023-01-07T17:56:32.482Z"
   },
   {
    "duration": 18,
    "start_time": "2023-01-07T17:56:32.525Z"
   },
   {
    "duration": 249,
    "start_time": "2023-01-07T17:56:32.544Z"
   },
   {
    "duration": 11,
    "start_time": "2023-01-07T17:56:32.795Z"
   },
   {
    "duration": 19,
    "start_time": "2023-01-07T17:56:32.810Z"
   },
   {
    "duration": 140,
    "start_time": "2023-01-07T17:56:32.830Z"
   },
   {
    "duration": 19,
    "start_time": "2023-01-07T17:56:32.971Z"
   },
   {
    "duration": 19,
    "start_time": "2023-01-07T17:56:32.992Z"
   },
   {
    "duration": 254,
    "start_time": "2023-01-07T17:56:33.013Z"
   },
   {
    "duration": 5,
    "start_time": "2023-01-07T17:56:33.268Z"
   },
   {
    "duration": 8,
    "start_time": "2023-01-07T17:56:33.278Z"
   },
   {
    "duration": 28,
    "start_time": "2023-01-07T17:56:33.288Z"
   },
   {
    "duration": 25,
    "start_time": "2023-01-07T17:56:33.317Z"
   },
   {
    "duration": 26,
    "start_time": "2023-01-07T17:56:33.344Z"
   },
   {
    "duration": 21,
    "start_time": "2023-01-07T17:56:33.371Z"
   },
   {
    "duration": 24,
    "start_time": "2023-01-07T17:56:33.394Z"
   },
   {
    "duration": 27,
    "start_time": "2023-01-07T17:56:33.420Z"
   },
   {
    "duration": 9,
    "start_time": "2023-01-07T17:56:33.449Z"
   },
   {
    "duration": 595,
    "start_time": "2023-01-07T17:56:33.459Z"
   },
   {
    "duration": 3,
    "start_time": "2023-01-07T17:56:34.056Z"
   },
   {
    "duration": 18,
    "start_time": "2023-01-07T17:56:34.061Z"
   },
   {
    "duration": 26,
    "start_time": "2023-01-07T17:56:34.080Z"
   },
   {
    "duration": 14,
    "start_time": "2023-01-07T17:56:34.107Z"
   },
   {
    "duration": 28,
    "start_time": "2023-01-07T17:56:34.123Z"
   },
   {
    "duration": 7,
    "start_time": "2023-01-07T17:56:34.152Z"
   },
   {
    "duration": 22,
    "start_time": "2023-01-07T17:56:34.160Z"
   },
   {
    "duration": 28,
    "start_time": "2023-01-07T17:56:34.183Z"
   },
   {
    "duration": 74,
    "start_time": "2023-01-07T17:56:34.212Z"
   },
   {
    "duration": 10,
    "start_time": "2023-01-07T17:56:34.288Z"
   },
   {
    "duration": 3146,
    "start_time": "2023-01-07T17:56:34.300Z"
   },
   {
    "duration": 8,
    "start_time": "2023-01-07T17:56:46.596Z"
   },
   {
    "duration": 11,
    "start_time": "2023-01-07T17:57:20.788Z"
   },
   {
    "duration": 465,
    "start_time": "2023-01-07T17:57:32.604Z"
   },
   {
    "duration": 717,
    "start_time": "2023-01-07T17:58:16.100Z"
   },
   {
    "duration": 1905,
    "start_time": "2023-01-07T17:58:48.877Z"
   },
   {
    "duration": 1873,
    "start_time": "2023-01-07T18:01:00.276Z"
   },
   {
    "duration": 640,
    "start_time": "2023-01-07T18:01:12.084Z"
   },
   {
    "duration": 637,
    "start_time": "2023-01-07T18:01:28.293Z"
   },
   {
    "duration": 629,
    "start_time": "2023-01-07T18:03:47.399Z"
   },
   {
    "duration": 622,
    "start_time": "2023-01-07T18:04:13.006Z"
   },
   {
    "duration": 670,
    "start_time": "2023-01-07T18:04:27.157Z"
   },
   {
    "duration": 602,
    "start_time": "2023-01-07T18:04:34.031Z"
   },
   {
    "duration": 661,
    "start_time": "2023-01-07T18:04:48.876Z"
   },
   {
    "duration": 659,
    "start_time": "2023-01-07T18:04:55.374Z"
   },
   {
    "duration": 613,
    "start_time": "2023-01-07T18:05:01.622Z"
   },
   {
    "duration": 1534,
    "start_time": "2023-01-08T08:00:05.548Z"
   },
   {
    "duration": 3,
    "start_time": "2023-01-08T08:00:07.084Z"
   },
   {
    "duration": 899,
    "start_time": "2023-01-08T08:00:07.088Z"
   },
   {
    "duration": 410,
    "start_time": "2023-01-08T08:00:07.989Z"
   },
   {
    "duration": 1810,
    "start_time": "2023-01-08T08:00:08.401Z"
   },
   {
    "duration": 30,
    "start_time": "2023-01-08T08:00:10.212Z"
   },
   {
    "duration": 28,
    "start_time": "2023-01-08T08:00:10.244Z"
   },
   {
    "duration": 35,
    "start_time": "2023-01-08T08:00:10.274Z"
   },
   {
    "duration": 4,
    "start_time": "2023-01-08T08:00:10.311Z"
   },
   {
    "duration": 29,
    "start_time": "2023-01-08T08:00:10.317Z"
   },
   {
    "duration": 8,
    "start_time": "2023-01-08T08:00:10.348Z"
   },
   {
    "duration": 317,
    "start_time": "2023-01-08T08:00:10.358Z"
   },
   {
    "duration": 20,
    "start_time": "2023-01-08T08:00:10.676Z"
   },
   {
    "duration": 5,
    "start_time": "2023-01-08T08:00:10.699Z"
   },
   {
    "duration": 131,
    "start_time": "2023-01-08T08:00:10.706Z"
   },
   {
    "duration": 17,
    "start_time": "2023-01-08T08:00:10.839Z"
   },
   {
    "duration": 9,
    "start_time": "2023-01-08T08:00:10.857Z"
   },
   {
    "duration": 257,
    "start_time": "2023-01-08T08:00:10.867Z"
   },
   {
    "duration": 4,
    "start_time": "2023-01-08T08:00:11.126Z"
   },
   {
    "duration": 6,
    "start_time": "2023-01-08T08:00:11.131Z"
   },
   {
    "duration": 16,
    "start_time": "2023-01-08T08:00:11.139Z"
   },
   {
    "duration": 9,
    "start_time": "2023-01-08T08:00:11.157Z"
   },
   {
    "duration": 17,
    "start_time": "2023-01-08T08:00:11.167Z"
   },
   {
    "duration": 16,
    "start_time": "2023-01-08T08:00:11.186Z"
   },
   {
    "duration": 8,
    "start_time": "2023-01-08T08:00:11.203Z"
   },
   {
    "duration": 5,
    "start_time": "2023-01-08T08:00:11.212Z"
   },
   {
    "duration": 8,
    "start_time": "2023-01-08T08:00:11.219Z"
   },
   {
    "duration": 637,
    "start_time": "2023-01-08T08:00:11.228Z"
   },
   {
    "duration": 2,
    "start_time": "2023-01-08T08:00:11.867Z"
   },
   {
    "duration": 9,
    "start_time": "2023-01-08T08:00:11.871Z"
   },
   {
    "duration": 15,
    "start_time": "2023-01-08T08:00:11.882Z"
   },
   {
    "duration": 10,
    "start_time": "2023-01-08T08:00:11.898Z"
   },
   {
    "duration": 20,
    "start_time": "2023-01-08T08:00:11.910Z"
   },
   {
    "duration": 15,
    "start_time": "2023-01-08T08:00:11.932Z"
   },
   {
    "duration": 30,
    "start_time": "2023-01-08T08:00:11.949Z"
   },
   {
    "duration": 22,
    "start_time": "2023-01-08T08:00:11.981Z"
   },
   {
    "duration": 54,
    "start_time": "2023-01-08T08:00:12.005Z"
   },
   {
    "duration": 10,
    "start_time": "2023-01-08T08:00:12.061Z"
   },
   {
    "duration": 2693,
    "start_time": "2023-01-08T08:00:12.072Z"
   },
   {
    "duration": 675,
    "start_time": "2023-01-08T08:00:14.767Z"
   },
   {
    "duration": 282,
    "start_time": "2023-01-08T08:01:00.564Z"
   },
   {
    "duration": 498,
    "start_time": "2023-01-08T08:01:43.365Z"
   },
   {
    "duration": 199,
    "start_time": "2023-01-08T08:01:59.749Z"
   },
   {
    "duration": 591,
    "start_time": "2023-01-08T08:02:23.457Z"
   },
   {
    "duration": 549,
    "start_time": "2023-01-08T08:02:40.155Z"
   },
   {
    "duration": 658,
    "start_time": "2023-01-08T08:03:02.142Z"
   },
   {
    "duration": 511,
    "start_time": "2023-01-08T08:03:20.340Z"
   },
   {
    "duration": 628,
    "start_time": "2023-01-08T08:15:18.158Z"
   },
   {
    "duration": 531,
    "start_time": "2023-01-08T08:15:37.880Z"
   },
   {
    "duration": 607,
    "start_time": "2023-01-08T08:16:02.710Z"
   },
   {
    "duration": 558,
    "start_time": "2023-01-08T08:17:17.321Z"
   },
   {
    "duration": 570,
    "start_time": "2023-01-08T08:21:11.106Z"
   },
   {
    "duration": 1568,
    "start_time": "2023-01-08T08:59:50.753Z"
   },
   {
    "duration": 859,
    "start_time": "2023-01-08T09:00:41.282Z"
   },
   {
    "duration": 885,
    "start_time": "2023-01-08T09:01:17.180Z"
   },
   {
    "duration": 1302,
    "start_time": "2023-01-08T09:01:25.626Z"
   },
   {
    "duration": 3,
    "start_time": "2023-01-08T09:04:30.894Z"
   },
   {
    "duration": 837,
    "start_time": "2023-01-08T09:05:16.844Z"
   },
   {
    "duration": 845,
    "start_time": "2023-01-08T09:05:22.820Z"
   },
   {
    "duration": 850,
    "start_time": "2023-01-08T09:09:52.395Z"
   },
   {
    "duration": 1428,
    "start_time": "2023-01-08T09:11:35.358Z"
   },
   {
    "duration": 133,
    "start_time": "2023-01-08T09:25:26.921Z"
   },
   {
    "duration": 215,
    "start_time": "2023-01-08T09:25:43.329Z"
   },
   {
    "duration": 10,
    "start_time": "2023-01-08T09:48:48.535Z"
   },
   {
    "duration": 28,
    "start_time": "2023-01-08T09:48:55.839Z"
   },
   {
    "duration": 29,
    "start_time": "2023-01-08T09:49:33.630Z"
   },
   {
    "duration": 31,
    "start_time": "2023-01-08T09:49:45.199Z"
   },
   {
    "duration": 27,
    "start_time": "2023-01-08T09:49:53.638Z"
   },
   {
    "duration": 26,
    "start_time": "2023-01-08T09:50:13.710Z"
   },
   {
    "duration": 27,
    "start_time": "2023-01-08T09:50:26.502Z"
   },
   {
    "duration": 28,
    "start_time": "2023-01-08T09:50:32.758Z"
   },
   {
    "duration": 28,
    "start_time": "2023-01-08T09:50:39.414Z"
   },
   {
    "duration": 27,
    "start_time": "2023-01-08T09:50:44.231Z"
   },
   {
    "duration": 27,
    "start_time": "2023-01-08T09:50:51.462Z"
   },
   {
    "duration": 25,
    "start_time": "2023-01-08T09:51:01.046Z"
   },
   {
    "duration": 31,
    "start_time": "2023-01-08T09:51:41.870Z"
   },
   {
    "duration": 28,
    "start_time": "2023-01-08T09:51:46.734Z"
   },
   {
    "duration": 20,
    "start_time": "2023-01-08T10:58:39.006Z"
   },
   {
    "duration": 19,
    "start_time": "2023-01-08T10:58:45.101Z"
   },
   {
    "duration": 27,
    "start_time": "2023-01-08T10:58:59.262Z"
   },
   {
    "duration": 7,
    "start_time": "2023-01-08T11:46:06.337Z"
   },
   {
    "duration": 209,
    "start_time": "2023-01-08T11:52:00.890Z"
   },
   {
    "duration": 19,
    "start_time": "2023-01-08T11:52:33.795Z"
   },
   {
    "duration": 28,
    "start_time": "2023-01-08T11:53:18.024Z"
   },
   {
    "duration": 40,
    "start_time": "2023-01-08T11:55:07.961Z"
   },
   {
    "duration": 10,
    "start_time": "2023-01-08T11:55:22.754Z"
   },
   {
    "duration": 3,
    "start_time": "2023-01-08T11:57:32.797Z"
   },
   {
    "duration": 6,
    "start_time": "2023-01-08T11:57:32.802Z"
   },
   {
    "duration": 364,
    "start_time": "2023-01-08T11:57:32.809Z"
   },
   {
    "duration": 71,
    "start_time": "2023-01-08T11:57:33.174Z"
   },
   {
    "duration": 308,
    "start_time": "2023-01-08T11:57:33.247Z"
   },
   {
    "duration": 25,
    "start_time": "2023-01-08T11:57:33.557Z"
   },
   {
    "duration": 33,
    "start_time": "2023-01-08T11:57:33.584Z"
   },
   {
    "duration": 26,
    "start_time": "2023-01-08T11:57:33.619Z"
   },
   {
    "duration": 4,
    "start_time": "2023-01-08T11:57:33.646Z"
   },
   {
    "duration": 20,
    "start_time": "2023-01-08T11:57:33.651Z"
   },
   {
    "duration": 8,
    "start_time": "2023-01-08T11:57:33.697Z"
   },
   {
    "duration": 230,
    "start_time": "2023-01-08T11:57:33.707Z"
   },
   {
    "duration": 14,
    "start_time": "2023-01-08T11:57:33.938Z"
   },
   {
    "duration": 8,
    "start_time": "2023-01-08T11:57:33.956Z"
   },
   {
    "duration": 147,
    "start_time": "2023-01-08T11:57:33.966Z"
   },
   {
    "duration": 19,
    "start_time": "2023-01-08T11:57:34.115Z"
   },
   {
    "duration": 11,
    "start_time": "2023-01-08T11:57:34.136Z"
   },
   {
    "duration": 268,
    "start_time": "2023-01-08T11:57:34.149Z"
   },
   {
    "duration": 5,
    "start_time": "2023-01-08T11:57:34.419Z"
   },
   {
    "duration": 13,
    "start_time": "2023-01-08T11:57:34.425Z"
   },
   {
    "duration": 12,
    "start_time": "2023-01-08T11:57:34.439Z"
   },
   {
    "duration": 8,
    "start_time": "2023-01-08T11:57:34.452Z"
   },
   {
    "duration": 7,
    "start_time": "2023-01-08T11:57:34.462Z"
   },
   {
    "duration": 32,
    "start_time": "2023-01-08T11:57:34.470Z"
   },
   {
    "duration": 5,
    "start_time": "2023-01-08T11:57:34.504Z"
   },
   {
    "duration": 6,
    "start_time": "2023-01-08T11:57:34.510Z"
   },
   {
    "duration": 7,
    "start_time": "2023-01-08T11:57:34.518Z"
   },
   {
    "duration": 569,
    "start_time": "2023-01-08T11:57:34.526Z"
   },
   {
    "duration": 2,
    "start_time": "2023-01-08T11:57:35.097Z"
   },
   {
    "duration": 6,
    "start_time": "2023-01-08T11:57:35.101Z"
   },
   {
    "duration": 8,
    "start_time": "2023-01-08T11:57:35.108Z"
   },
   {
    "duration": 10,
    "start_time": "2023-01-08T11:57:35.117Z"
   },
   {
    "duration": 6,
    "start_time": "2023-01-08T11:57:35.129Z"
   },
   {
    "duration": 6,
    "start_time": "2023-01-08T11:57:35.137Z"
   },
   {
    "duration": 7,
    "start_time": "2023-01-08T11:57:35.145Z"
   },
   {
    "duration": 13,
    "start_time": "2023-01-08T11:57:35.154Z"
   },
   {
    "duration": 73,
    "start_time": "2023-01-08T11:57:35.169Z"
   },
   {
    "duration": 9,
    "start_time": "2023-01-08T11:57:35.244Z"
   },
   {
    "duration": 3137,
    "start_time": "2023-01-08T11:57:35.254Z"
   },
   {
    "duration": 580,
    "start_time": "2023-01-08T11:57:38.392Z"
   },
   {
    "duration": 848,
    "start_time": "2023-01-08T11:57:38.975Z"
   },
   {
    "duration": 9,
    "start_time": "2023-01-08T11:57:39.824Z"
   },
   {
    "duration": 24,
    "start_time": "2023-01-08T12:01:12.051Z"
   },
   {
    "duration": 4,
    "start_time": "2023-01-08T12:01:51.676Z"
   },
   {
    "duration": 23,
    "start_time": "2023-01-08T12:02:07.644Z"
   },
   {
    "duration": 29,
    "start_time": "2023-01-08T12:02:32.003Z"
   },
   {
    "duration": 53,
    "start_time": "2023-01-08T12:03:44.828Z"
   },
   {
    "duration": 33,
    "start_time": "2023-01-08T12:05:00.054Z"
   },
   {
    "duration": 1349,
    "start_time": "2023-01-08T14:42:15.954Z"
   },
   {
    "duration": 3,
    "start_time": "2023-01-08T14:42:17.304Z"
   },
   {
    "duration": 1136,
    "start_time": "2023-01-08T14:42:17.308Z"
   },
   {
    "duration": 133,
    "start_time": "2023-01-08T14:42:18.445Z"
   },
   {
    "duration": 490,
    "start_time": "2023-01-08T14:42:18.580Z"
   },
   {
    "duration": 28,
    "start_time": "2023-01-08T14:42:19.072Z"
   },
   {
    "duration": 23,
    "start_time": "2023-01-08T14:42:19.102Z"
   },
   {
    "duration": 24,
    "start_time": "2023-01-08T14:42:19.126Z"
   },
   {
    "duration": 3,
    "start_time": "2023-01-08T14:42:19.152Z"
   },
   {
    "duration": 23,
    "start_time": "2023-01-08T14:42:19.157Z"
   },
   {
    "duration": 8,
    "start_time": "2023-01-08T14:42:19.181Z"
   },
   {
    "duration": 220,
    "start_time": "2023-01-08T14:42:19.190Z"
   },
   {
    "duration": 17,
    "start_time": "2023-01-08T14:42:19.411Z"
   },
   {
    "duration": 10,
    "start_time": "2023-01-08T14:42:19.430Z"
   },
   {
    "duration": 117,
    "start_time": "2023-01-08T14:42:19.441Z"
   },
   {
    "duration": 14,
    "start_time": "2023-01-08T14:42:19.560Z"
   },
   {
    "duration": 9,
    "start_time": "2023-01-08T14:42:19.575Z"
   },
   {
    "duration": 247,
    "start_time": "2023-01-08T14:42:19.585Z"
   },
   {
    "duration": 5,
    "start_time": "2023-01-08T14:42:19.834Z"
   },
   {
    "duration": 6,
    "start_time": "2023-01-08T14:42:19.840Z"
   },
   {
    "duration": 8,
    "start_time": "2023-01-08T14:42:19.847Z"
   },
   {
    "duration": 9,
    "start_time": "2023-01-08T14:42:19.856Z"
   },
   {
    "duration": 8,
    "start_time": "2023-01-08T14:42:19.867Z"
   },
   {
    "duration": 10,
    "start_time": "2023-01-08T14:42:19.876Z"
   },
   {
    "duration": 5,
    "start_time": "2023-01-08T14:42:19.887Z"
   },
   {
    "duration": 11,
    "start_time": "2023-01-08T14:42:19.893Z"
   },
   {
    "duration": 22,
    "start_time": "2023-01-08T14:42:19.905Z"
   },
   {
    "duration": 651,
    "start_time": "2023-01-08T14:42:19.928Z"
   },
   {
    "duration": 3,
    "start_time": "2023-01-08T14:42:20.580Z"
   },
   {
    "duration": 11,
    "start_time": "2023-01-08T14:42:20.584Z"
   },
   {
    "duration": 8,
    "start_time": "2023-01-08T14:42:20.596Z"
   },
   {
    "duration": 17,
    "start_time": "2023-01-08T14:42:20.605Z"
   },
   {
    "duration": 9,
    "start_time": "2023-01-08T14:42:20.623Z"
   },
   {
    "duration": 8,
    "start_time": "2023-01-08T14:42:20.633Z"
   },
   {
    "duration": 6,
    "start_time": "2023-01-08T14:42:20.642Z"
   },
   {
    "duration": 13,
    "start_time": "2023-01-08T14:42:20.650Z"
   },
   {
    "duration": 51,
    "start_time": "2023-01-08T14:42:20.664Z"
   },
   {
    "duration": 15,
    "start_time": "2023-01-08T14:42:20.717Z"
   },
   {
    "duration": 2459,
    "start_time": "2023-01-08T14:42:20.733Z"
   },
   {
    "duration": 604,
    "start_time": "2023-01-08T14:42:23.194Z"
   },
   {
    "duration": 911,
    "start_time": "2023-01-08T14:42:23.801Z"
   },
   {
    "duration": 14,
    "start_time": "2023-01-08T14:42:24.713Z"
   },
   {
    "duration": 94,
    "start_time": "2023-01-08T14:44:04.313Z"
   },
   {
    "duration": 4,
    "start_time": "2023-01-08T14:44:17.712Z"
   },
   {
    "duration": 4,
    "start_time": "2023-01-08T14:44:54.635Z"
   },
   {
    "duration": 12,
    "start_time": "2023-01-08T14:47:12.987Z"
   },
   {
    "duration": 9,
    "start_time": "2023-01-08T14:47:19.564Z"
   },
   {
    "duration": 4,
    "start_time": "2023-01-08T14:50:43.139Z"
   },
   {
    "duration": 69,
    "start_time": "2023-01-08T14:53:08.971Z"
   },
   {
    "duration": 14,
    "start_time": "2023-01-08T14:53:34.356Z"
   },
   {
    "duration": 4,
    "start_time": "2023-01-08T14:53:36.922Z"
   },
   {
    "duration": 15,
    "start_time": "2023-01-08T14:56:11.847Z"
   },
   {
    "duration": 3,
    "start_time": "2023-01-08T14:56:32.700Z"
   },
   {
    "duration": 15,
    "start_time": "2023-01-08T14:56:37.044Z"
   },
   {
    "duration": 5,
    "start_time": "2023-01-08T14:56:41.811Z"
   },
   {
    "duration": 17,
    "start_time": "2023-01-08T14:56:48.748Z"
   },
   {
    "duration": 3,
    "start_time": "2023-01-08T14:56:51.612Z"
   },
   {
    "duration": 3,
    "start_time": "2023-01-08T14:57:47.500Z"
   },
   {
    "duration": 7,
    "start_time": "2023-01-08T14:59:53.092Z"
   },
   {
    "duration": 15,
    "start_time": "2023-01-08T15:00:13.717Z"
   },
   {
    "duration": 27,
    "start_time": "2023-01-08T15:02:17.237Z"
   },
   {
    "duration": 31,
    "start_time": "2023-01-08T15:04:27.086Z"
   },
   {
    "duration": 9,
    "start_time": "2023-01-08T15:05:13.814Z"
   },
   {
    "duration": 72,
    "start_time": "2023-01-08T15:05:24.213Z"
   },
   {
    "duration": 11,
    "start_time": "2023-01-08T15:05:57.336Z"
   },
   {
    "duration": 4,
    "start_time": "2023-01-08T15:06:34.309Z"
   },
   {
    "duration": 8,
    "start_time": "2023-01-08T15:06:39.293Z"
   },
   {
    "duration": 6,
    "start_time": "2023-01-08T15:06:48.870Z"
   },
   {
    "duration": 4,
    "start_time": "2023-01-08T15:08:04.109Z"
   },
   {
    "duration": 1897,
    "start_time": "2023-01-08T15:55:26.878Z"
   },
   {
    "duration": 3,
    "start_time": "2023-01-08T15:55:28.778Z"
   },
   {
    "duration": 1555,
    "start_time": "2023-01-08T15:55:28.783Z"
   },
   {
    "duration": 635,
    "start_time": "2023-01-08T15:55:30.340Z"
   },
   {
    "duration": 2584,
    "start_time": "2023-01-08T15:55:30.978Z"
   },
   {
    "duration": 35,
    "start_time": "2023-01-08T15:55:33.563Z"
   },
   {
    "duration": 52,
    "start_time": "2023-01-08T15:55:33.599Z"
   },
   {
    "duration": 43,
    "start_time": "2023-01-08T15:55:33.653Z"
   },
   {
    "duration": 5,
    "start_time": "2023-01-08T15:55:33.698Z"
   },
   {
    "duration": 57,
    "start_time": "2023-01-08T15:55:33.705Z"
   },
   {
    "duration": 11,
    "start_time": "2023-01-08T15:55:33.764Z"
   },
   {
    "duration": 309,
    "start_time": "2023-01-08T15:55:33.777Z"
   },
   {
    "duration": 14,
    "start_time": "2023-01-08T15:55:34.088Z"
   },
   {
    "duration": 10,
    "start_time": "2023-01-08T15:55:34.121Z"
   },
   {
    "duration": 205,
    "start_time": "2023-01-08T15:55:34.132Z"
   },
   {
    "duration": 20,
    "start_time": "2023-01-08T15:55:34.338Z"
   },
   {
    "duration": 16,
    "start_time": "2023-01-08T15:55:34.360Z"
   },
   {
    "duration": 348,
    "start_time": "2023-01-08T15:55:34.378Z"
   },
   {
    "duration": 6,
    "start_time": "2023-01-08T15:55:34.728Z"
   },
   {
    "duration": 36,
    "start_time": "2023-01-08T15:55:34.736Z"
   },
   {
    "duration": 17,
    "start_time": "2023-01-08T15:55:34.774Z"
   },
   {
    "duration": 24,
    "start_time": "2023-01-08T15:55:34.793Z"
   },
   {
    "duration": 54,
    "start_time": "2023-01-08T15:55:34.820Z"
   },
   {
    "duration": 53,
    "start_time": "2023-01-08T15:55:34.877Z"
   },
   {
    "duration": 57,
    "start_time": "2023-01-08T15:55:34.932Z"
   },
   {
    "duration": 30,
    "start_time": "2023-01-08T15:55:34.991Z"
   },
   {
    "duration": 48,
    "start_time": "2023-01-08T15:55:35.024Z"
   },
   {
    "duration": 950,
    "start_time": "2023-01-08T15:55:35.074Z"
   },
   {
    "duration": 4,
    "start_time": "2023-01-08T15:55:36.026Z"
   },
   {
    "duration": 48,
    "start_time": "2023-01-08T15:55:36.031Z"
   },
   {
    "duration": 11,
    "start_time": "2023-01-08T15:55:36.081Z"
   },
   {
    "duration": 28,
    "start_time": "2023-01-08T15:55:36.094Z"
   },
   {
    "duration": 54,
    "start_time": "2023-01-08T15:55:36.126Z"
   },
   {
    "duration": 16,
    "start_time": "2023-01-08T15:55:36.182Z"
   },
   {
    "duration": 39,
    "start_time": "2023-01-08T15:55:36.200Z"
   },
   {
    "duration": 30,
    "start_time": "2023-01-08T15:55:36.241Z"
   },
   {
    "duration": 110,
    "start_time": "2023-01-08T15:55:36.273Z"
   },
   {
    "duration": 15,
    "start_time": "2023-01-08T15:55:36.385Z"
   },
   {
    "duration": 3676,
    "start_time": "2023-01-08T15:55:36.402Z"
   },
   {
    "duration": 783,
    "start_time": "2023-01-08T15:55:40.080Z"
   },
   {
    "duration": 1320,
    "start_time": "2023-01-08T15:55:40.868Z"
   },
   {
    "duration": 11,
    "start_time": "2023-01-08T15:55:42.190Z"
   },
   {
    "duration": 10,
    "start_time": "2023-01-08T15:55:42.219Z"
   },
   {
    "duration": 46,
    "start_time": "2023-01-08T15:55:42.231Z"
   },
   {
    "duration": 5,
    "start_time": "2023-01-08T15:55:42.279Z"
   },
   {
    "duration": 17,
    "start_time": "2023-01-08T15:55:42.286Z"
   },
   {
    "duration": 20,
    "start_time": "2023-01-08T15:55:42.304Z"
   },
   {
    "duration": 34,
    "start_time": "2023-01-08T15:55:42.330Z"
   },
   {
    "duration": 7,
    "start_time": "2023-01-08T15:55:42.367Z"
   },
   {
    "duration": 5,
    "start_time": "2023-01-08T15:56:18.262Z"
   },
   {
    "duration": 4,
    "start_time": "2023-01-08T15:57:38.657Z"
   },
   {
    "duration": 74,
    "start_time": "2023-01-08T15:58:11.390Z"
   },
   {
    "duration": 9,
    "start_time": "2023-01-08T15:58:23.255Z"
   },
   {
    "duration": 12,
    "start_time": "2023-01-08T15:58:31.940Z"
   },
   {
    "duration": 4,
    "start_time": "2023-01-08T16:00:58.113Z"
   },
   {
    "duration": 32,
    "start_time": "2023-01-08T16:00:58.119Z"
   },
   {
    "duration": 349,
    "start_time": "2023-01-08T16:00:58.153Z"
   },
   {
    "duration": 88,
    "start_time": "2023-01-08T16:00:58.505Z"
   },
   {
    "duration": 346,
    "start_time": "2023-01-08T16:00:58.595Z"
   },
   {
    "duration": 28,
    "start_time": "2023-01-08T16:00:58.943Z"
   },
   {
    "duration": 51,
    "start_time": "2023-01-08T16:00:58.983Z"
   },
   {
    "duration": 29,
    "start_time": "2023-01-08T16:00:59.037Z"
   },
   {
    "duration": 4,
    "start_time": "2023-01-08T16:00:59.069Z"
   },
   {
    "duration": 32,
    "start_time": "2023-01-08T16:00:59.076Z"
   },
   {
    "duration": 9,
    "start_time": "2023-01-08T16:00:59.112Z"
   },
   {
    "duration": 280,
    "start_time": "2023-01-08T16:00:59.122Z"
   },
   {
    "duration": 22,
    "start_time": "2023-01-08T16:00:59.404Z"
   },
   {
    "duration": 34,
    "start_time": "2023-01-08T16:00:59.428Z"
   },
   {
    "duration": 139,
    "start_time": "2023-01-08T16:00:59.464Z"
   },
   {
    "duration": 26,
    "start_time": "2023-01-08T16:00:59.605Z"
   },
   {
    "duration": 15,
    "start_time": "2023-01-08T16:00:59.638Z"
   },
   {
    "duration": 268,
    "start_time": "2023-01-08T16:00:59.655Z"
   },
   {
    "duration": 7,
    "start_time": "2023-01-08T16:00:59.930Z"
   },
   {
    "duration": 13,
    "start_time": "2023-01-08T16:00:59.939Z"
   },
   {
    "duration": 12,
    "start_time": "2023-01-08T16:00:59.953Z"
   },
   {
    "duration": 10,
    "start_time": "2023-01-08T16:00:59.966Z"
   },
   {
    "duration": 8,
    "start_time": "2023-01-08T16:00:59.978Z"
   },
   {
    "duration": 34,
    "start_time": "2023-01-08T16:00:59.990Z"
   },
   {
    "duration": 8,
    "start_time": "2023-01-08T16:01:00.027Z"
   },
   {
    "duration": 11,
    "start_time": "2023-01-08T16:01:00.037Z"
   },
   {
    "duration": 8,
    "start_time": "2023-01-08T16:01:00.051Z"
   },
   {
    "duration": 715,
    "start_time": "2023-01-08T16:01:00.061Z"
   },
   {
    "duration": 3,
    "start_time": "2023-01-08T16:01:00.779Z"
   },
   {
    "duration": 24,
    "start_time": "2023-01-08T16:01:00.784Z"
   },
   {
    "duration": 32,
    "start_time": "2023-01-08T16:01:00.811Z"
   },
   {
    "duration": 18,
    "start_time": "2023-01-08T16:01:00.845Z"
   },
   {
    "duration": 20,
    "start_time": "2023-01-08T16:01:00.864Z"
   },
   {
    "duration": 18,
    "start_time": "2023-01-08T16:01:00.886Z"
   },
   {
    "duration": 31,
    "start_time": "2023-01-08T16:01:00.906Z"
   },
   {
    "duration": 98,
    "start_time": "2023-01-08T16:01:00.939Z"
   },
   {
    "duration": 13,
    "start_time": "2023-01-08T16:01:01.040Z"
   },
   {
    "duration": 3408,
    "start_time": "2023-01-08T16:01:01.055Z"
   },
   {
    "duration": 734,
    "start_time": "2023-01-08T16:01:04.465Z"
   },
   {
    "duration": 1558,
    "start_time": "2023-01-08T16:01:05.201Z"
   },
   {
    "duration": 16,
    "start_time": "2023-01-08T16:01:06.763Z"
   },
   {
    "duration": 63,
    "start_time": "2023-01-08T16:01:06.782Z"
   },
   {
    "duration": 36,
    "start_time": "2023-01-08T16:01:06.847Z"
   },
   {
    "duration": 24,
    "start_time": "2023-01-08T16:01:06.885Z"
   },
   {
    "duration": 64,
    "start_time": "2023-01-08T16:01:06.914Z"
   },
   {
    "duration": 83,
    "start_time": "2023-01-08T16:01:06.980Z"
   },
   {
    "duration": 24,
    "start_time": "2023-01-08T16:01:07.065Z"
   },
   {
    "duration": 13,
    "start_time": "2023-01-08T16:01:07.092Z"
   },
   {
    "duration": 113,
    "start_time": "2023-01-08T16:03:26.864Z"
   },
   {
    "duration": 13,
    "start_time": "2023-01-08T16:03:38.479Z"
   },
   {
    "duration": 16,
    "start_time": "2023-01-08T16:05:05.961Z"
   },
   {
    "duration": 33,
    "start_time": "2023-01-08T16:07:41.640Z"
   },
   {
    "duration": 40,
    "start_time": "2023-01-08T16:08:23.001Z"
   },
   {
    "duration": 25,
    "start_time": "2023-01-08T16:09:44.776Z"
   },
   {
    "duration": 41,
    "start_time": "2023-01-08T16:10:05.433Z"
   },
   {
    "duration": 5,
    "start_time": "2023-01-08T16:13:20.157Z"
   },
   {
    "duration": 25,
    "start_time": "2023-01-08T16:13:20.164Z"
   },
   {
    "duration": 319,
    "start_time": "2023-01-08T16:13:20.191Z"
   },
   {
    "duration": 97,
    "start_time": "2023-01-08T16:13:20.512Z"
   },
   {
    "duration": 387,
    "start_time": "2023-01-08T16:13:20.612Z"
   },
   {
    "duration": 42,
    "start_time": "2023-01-08T16:13:21.001Z"
   },
   {
    "duration": 33,
    "start_time": "2023-01-08T16:13:21.045Z"
   },
   {
    "duration": 48,
    "start_time": "2023-01-08T16:13:21.079Z"
   },
   {
    "duration": 13,
    "start_time": "2023-01-08T16:13:21.135Z"
   },
   {
    "duration": 27,
    "start_time": "2023-01-08T16:13:21.150Z"
   },
   {
    "duration": 9,
    "start_time": "2023-01-08T16:13:21.179Z"
   },
   {
    "duration": 230,
    "start_time": "2023-01-08T16:13:21.189Z"
   },
   {
    "duration": 17,
    "start_time": "2023-01-08T16:13:21.428Z"
   },
   {
    "duration": 7,
    "start_time": "2023-01-08T16:13:21.450Z"
   },
   {
    "duration": 177,
    "start_time": "2023-01-08T16:13:21.459Z"
   },
   {
    "duration": 20,
    "start_time": "2023-01-08T16:13:21.638Z"
   },
   {
    "duration": 9,
    "start_time": "2023-01-08T16:13:21.659Z"
   },
   {
    "duration": 286,
    "start_time": "2023-01-08T16:13:21.670Z"
   },
   {
    "duration": 4,
    "start_time": "2023-01-08T16:13:21.958Z"
   },
   {
    "duration": 6,
    "start_time": "2023-01-08T16:13:21.964Z"
   },
   {
    "duration": 7,
    "start_time": "2023-01-08T16:13:21.971Z"
   },
   {
    "duration": 8,
    "start_time": "2023-01-08T16:13:21.980Z"
   },
   {
    "duration": 37,
    "start_time": "2023-01-08T16:13:21.989Z"
   },
   {
    "duration": 25,
    "start_time": "2023-01-08T16:13:22.027Z"
   },
   {
    "duration": 6,
    "start_time": "2023-01-08T16:13:22.053Z"
   },
   {
    "duration": 5,
    "start_time": "2023-01-08T16:13:22.060Z"
   },
   {
    "duration": 6,
    "start_time": "2023-01-08T16:13:22.066Z"
   },
   {
    "duration": 658,
    "start_time": "2023-01-08T16:13:22.073Z"
   },
   {
    "duration": 3,
    "start_time": "2023-01-08T16:13:22.733Z"
   },
   {
    "duration": 32,
    "start_time": "2023-01-08T16:13:22.738Z"
   },
   {
    "duration": 9,
    "start_time": "2023-01-08T16:13:22.772Z"
   },
   {
    "duration": 21,
    "start_time": "2023-01-08T16:13:22.783Z"
   },
   {
    "duration": 37,
    "start_time": "2023-01-08T16:13:22.805Z"
   },
   {
    "duration": 9,
    "start_time": "2023-01-08T16:13:22.844Z"
   },
   {
    "duration": 15,
    "start_time": "2023-01-08T16:13:22.855Z"
   },
   {
    "duration": 57,
    "start_time": "2023-01-08T16:13:22.872Z"
   },
   {
    "duration": 12,
    "start_time": "2023-01-08T16:13:22.932Z"
   },
   {
    "duration": 3289,
    "start_time": "2023-01-08T16:13:22.945Z"
   },
   {
    "duration": 697,
    "start_time": "2023-01-08T16:13:26.236Z"
   },
   {
    "duration": 1447,
    "start_time": "2023-01-08T16:13:26.935Z"
   },
   {
    "duration": 10,
    "start_time": "2023-01-08T16:13:28.385Z"
   },
   {
    "duration": 36,
    "start_time": "2023-01-08T16:13:28.396Z"
   },
   {
    "duration": 44,
    "start_time": "2023-01-08T16:13:28.434Z"
   },
   {
    "duration": 5,
    "start_time": "2023-01-08T16:13:28.480Z"
   },
   {
    "duration": 11,
    "start_time": "2023-01-08T16:13:28.486Z"
   },
   {
    "duration": 7,
    "start_time": "2023-01-08T16:13:28.499Z"
   },
   {
    "duration": 10,
    "start_time": "2023-01-08T16:13:28.508Z"
   },
   {
    "duration": 32,
    "start_time": "2023-01-08T16:13:28.527Z"
   },
   {
    "duration": 20,
    "start_time": "2023-01-08T16:13:28.561Z"
   },
   {
    "duration": 18,
    "start_time": "2023-01-08T16:13:28.582Z"
   },
   {
    "duration": 41,
    "start_time": "2023-01-08T16:14:07.032Z"
   },
   {
    "duration": 28,
    "start_time": "2023-01-08T16:15:00.439Z"
   },
   {
    "duration": 6,
    "start_time": "2023-01-08T16:15:07.421Z"
   },
   {
    "duration": 13,
    "start_time": "2023-01-08T16:15:16.233Z"
   },
   {
    "duration": 6,
    "start_time": "2023-01-08T16:15:18.792Z"
   },
   {
    "duration": 5,
    "start_time": "2023-01-08T16:16:48.362Z"
   },
   {
    "duration": 38,
    "start_time": "2023-01-08T16:16:56.434Z"
   },
   {
    "duration": 12,
    "start_time": "2023-01-08T16:29:19.157Z"
   },
   {
    "duration": 9,
    "start_time": "2023-01-08T16:29:48.276Z"
   },
   {
    "duration": 9,
    "start_time": "2023-01-08T16:30:15.300Z"
   },
   {
    "duration": 5,
    "start_time": "2023-01-08T16:30:32.269Z"
   },
   {
    "duration": 26,
    "start_time": "2023-01-08T16:30:48.839Z"
   },
   {
    "duration": 2,
    "start_time": "2023-01-08T16:49:07.292Z"
   },
   {
    "duration": 3,
    "start_time": "2023-01-08T16:51:01.025Z"
   },
   {
    "duration": 3,
    "start_time": "2023-01-08T16:51:25.633Z"
   },
   {
    "duration": 12,
    "start_time": "2023-01-08T16:51:49.925Z"
   },
   {
    "duration": 4,
    "start_time": "2023-01-08T16:52:28.025Z"
   },
   {
    "duration": 6,
    "start_time": "2023-01-08T16:52:30.162Z"
   },
   {
    "duration": 5,
    "start_time": "2023-01-08T16:52:51.650Z"
   },
   {
    "duration": 3,
    "start_time": "2023-01-08T16:55:34.466Z"
   },
   {
    "duration": 6,
    "start_time": "2023-01-08T16:55:36.698Z"
   },
   {
    "duration": 3,
    "start_time": "2023-01-08T16:58:11.275Z"
   },
   {
    "duration": 5,
    "start_time": "2023-01-08T16:58:14.019Z"
   },
   {
    "duration": 6,
    "start_time": "2023-01-08T16:58:17.241Z"
   },
   {
    "duration": 3,
    "start_time": "2023-01-08T16:58:31.346Z"
   },
   {
    "duration": 5,
    "start_time": "2023-01-08T17:00:04.884Z"
   },
   {
    "duration": 7,
    "start_time": "2023-01-08T17:00:17.010Z"
   },
   {
    "duration": 3,
    "start_time": "2023-01-08T17:02:18.556Z"
   },
   {
    "duration": 3,
    "start_time": "2023-01-08T17:03:35.324Z"
   },
   {
    "duration": 4,
    "start_time": "2023-01-08T17:03:39.419Z"
   },
   {
    "duration": 9,
    "start_time": "2023-01-08T17:04:03.012Z"
   },
   {
    "duration": 4,
    "start_time": "2023-01-08T17:11:59.685Z"
   },
   {
    "duration": 5,
    "start_time": "2023-01-08T17:12:08.607Z"
   },
   {
    "duration": 5,
    "start_time": "2023-01-08T17:13:12.428Z"
   },
   {
    "duration": 5,
    "start_time": "2023-01-08T17:13:32.926Z"
   },
   {
    "duration": 3,
    "start_time": "2023-01-08T17:17:07.159Z"
   },
   {
    "duration": 3,
    "start_time": "2023-01-08T17:18:02.128Z"
   },
   {
    "duration": 4,
    "start_time": "2023-01-08T17:18:04.519Z"
   },
   {
    "duration": 6,
    "start_time": "2023-01-08T17:18:06.719Z"
   },
   {
    "duration": 6,
    "start_time": "2023-01-08T17:18:52.551Z"
   },
   {
    "duration": 5,
    "start_time": "2023-01-08T17:19:27.632Z"
   },
   {
    "duration": 6,
    "start_time": "2023-01-08T17:19:32.767Z"
   },
   {
    "duration": 4,
    "start_time": "2023-01-08T17:20:56.376Z"
   },
   {
    "duration": 5,
    "start_time": "2023-01-08T17:20:58.774Z"
   },
   {
    "duration": 55,
    "start_time": "2023-01-08T17:22:10.992Z"
   },
   {
    "duration": 3,
    "start_time": "2023-01-08T17:23:47.384Z"
   },
   {
    "duration": 3,
    "start_time": "2023-01-08T17:25:32.896Z"
   },
   {
    "duration": 4,
    "start_time": "2023-01-08T17:25:59.346Z"
   },
   {
    "duration": 1519,
    "start_time": "2023-01-09T08:26:27.758Z"
   },
   {
    "duration": 3,
    "start_time": "2023-01-09T08:26:29.279Z"
   },
   {
    "duration": 810,
    "start_time": "2023-01-09T08:26:29.284Z"
   },
   {
    "duration": 121,
    "start_time": "2023-01-09T08:26:30.096Z"
   },
   {
    "duration": 519,
    "start_time": "2023-01-09T08:26:30.219Z"
   },
   {
    "duration": 33,
    "start_time": "2023-01-09T08:26:30.740Z"
   },
   {
    "duration": 29,
    "start_time": "2023-01-09T08:26:30.775Z"
   },
   {
    "duration": 50,
    "start_time": "2023-01-09T08:26:30.805Z"
   },
   {
    "duration": 4,
    "start_time": "2023-01-09T08:26:30.857Z"
   },
   {
    "duration": 42,
    "start_time": "2023-01-09T08:26:30.863Z"
   },
   {
    "duration": 14,
    "start_time": "2023-01-09T08:26:30.907Z"
   },
   {
    "duration": 271,
    "start_time": "2023-01-09T08:26:30.923Z"
   },
   {
    "duration": 14,
    "start_time": "2023-01-09T08:26:31.196Z"
   },
   {
    "duration": 15,
    "start_time": "2023-01-09T08:26:31.213Z"
   },
   {
    "duration": 139,
    "start_time": "2023-01-09T08:26:31.230Z"
   },
   {
    "duration": 17,
    "start_time": "2023-01-09T08:26:31.371Z"
   },
   {
    "duration": 9,
    "start_time": "2023-01-09T08:26:31.390Z"
   },
   {
    "duration": 259,
    "start_time": "2023-01-09T08:26:31.401Z"
   },
   {
    "duration": 5,
    "start_time": "2023-01-09T08:26:31.661Z"
   },
   {
    "duration": 8,
    "start_time": "2023-01-09T08:26:31.667Z"
   },
   {
    "duration": 13,
    "start_time": "2023-01-09T08:26:31.677Z"
   },
   {
    "duration": 14,
    "start_time": "2023-01-09T08:26:31.692Z"
   },
   {
    "duration": 16,
    "start_time": "2023-01-09T08:26:31.707Z"
   },
   {
    "duration": 34,
    "start_time": "2023-01-09T08:26:31.725Z"
   },
   {
    "duration": 6,
    "start_time": "2023-01-09T08:26:31.760Z"
   },
   {
    "duration": 11,
    "start_time": "2023-01-09T08:26:31.767Z"
   },
   {
    "duration": 19,
    "start_time": "2023-01-09T08:26:31.780Z"
   },
   {
    "duration": 736,
    "start_time": "2023-01-09T08:26:31.801Z"
   },
   {
    "duration": 3,
    "start_time": "2023-01-09T08:26:32.538Z"
   },
   {
    "duration": 5,
    "start_time": "2023-01-09T08:26:32.554Z"
   },
   {
    "duration": 12,
    "start_time": "2023-01-09T08:26:32.560Z"
   },
   {
    "duration": 11,
    "start_time": "2023-01-09T08:26:32.574Z"
   },
   {
    "duration": 11,
    "start_time": "2023-01-09T08:26:32.586Z"
   },
   {
    "duration": 6,
    "start_time": "2023-01-09T08:26:32.598Z"
   },
   {
    "duration": 26,
    "start_time": "2023-01-09T08:26:32.606Z"
   },
   {
    "duration": 72,
    "start_time": "2023-01-09T08:26:32.634Z"
   },
   {
    "duration": 10,
    "start_time": "2023-01-09T08:26:32.708Z"
   },
   {
    "duration": 2828,
    "start_time": "2023-01-09T08:26:32.720Z"
   },
   {
    "duration": 688,
    "start_time": "2023-01-09T08:26:35.555Z"
   },
   {
    "duration": 1078,
    "start_time": "2023-01-09T08:26:36.245Z"
   },
   {
    "duration": 8,
    "start_time": "2023-01-09T08:26:37.327Z"
   },
   {
    "duration": 21,
    "start_time": "2023-01-09T08:26:37.337Z"
   },
   {
    "duration": 17,
    "start_time": "2023-01-09T08:26:37.360Z"
   },
   {
    "duration": 3,
    "start_time": "2023-01-09T08:26:37.379Z"
   },
   {
    "duration": 26,
    "start_time": "2023-01-09T08:26:37.384Z"
   },
   {
    "duration": 11,
    "start_time": "2023-01-09T08:26:37.411Z"
   },
   {
    "duration": 34,
    "start_time": "2023-01-09T08:26:37.424Z"
   },
   {
    "duration": 10,
    "start_time": "2023-01-09T08:26:37.460Z"
   },
   {
    "duration": 12,
    "start_time": "2023-01-09T08:26:37.471Z"
   },
   {
    "duration": 13,
    "start_time": "2023-01-09T08:26:37.484Z"
   },
   {
    "duration": 133,
    "start_time": "2023-01-09T08:26:37.499Z"
   },
   {
    "duration": 0,
    "start_time": "2023-01-09T08:26:37.634Z"
   },
   {
    "duration": 0,
    "start_time": "2023-01-09T08:26:37.635Z"
   },
   {
    "duration": 0,
    "start_time": "2023-01-09T08:26:37.636Z"
   },
   {
    "duration": 0,
    "start_time": "2023-01-09T08:26:37.637Z"
   },
   {
    "duration": 0,
    "start_time": "2023-01-09T08:26:37.639Z"
   },
   {
    "duration": 0,
    "start_time": "2023-01-09T08:26:37.655Z"
   },
   {
    "duration": 0,
    "start_time": "2023-01-09T08:26:37.656Z"
   },
   {
    "duration": 0,
    "start_time": "2023-01-09T08:26:37.658Z"
   },
   {
    "duration": 0,
    "start_time": "2023-01-09T08:26:37.659Z"
   },
   {
    "duration": 1405,
    "start_time": "2023-01-09T08:28:15.513Z"
   },
   {
    "duration": 3,
    "start_time": "2023-01-09T08:28:16.920Z"
   },
   {
    "duration": 294,
    "start_time": "2023-01-09T08:28:16.924Z"
   },
   {
    "duration": 72,
    "start_time": "2023-01-09T08:28:17.220Z"
   },
   {
    "duration": 370,
    "start_time": "2023-01-09T08:28:17.294Z"
   },
   {
    "duration": 32,
    "start_time": "2023-01-09T08:28:17.667Z"
   },
   {
    "duration": 27,
    "start_time": "2023-01-09T08:28:17.701Z"
   },
   {
    "duration": 55,
    "start_time": "2023-01-09T08:28:17.730Z"
   },
   {
    "duration": 4,
    "start_time": "2023-01-09T08:28:17.787Z"
   },
   {
    "duration": 20,
    "start_time": "2023-01-09T08:28:17.793Z"
   },
   {
    "duration": 7,
    "start_time": "2023-01-09T08:28:17.815Z"
   },
   {
    "duration": 278,
    "start_time": "2023-01-09T08:28:17.824Z"
   },
   {
    "duration": 13,
    "start_time": "2023-01-09T08:28:18.104Z"
   },
   {
    "duration": 6,
    "start_time": "2023-01-09T08:28:18.120Z"
   },
   {
    "duration": 156,
    "start_time": "2023-01-09T08:28:18.127Z"
   },
   {
    "duration": 15,
    "start_time": "2023-01-09T08:28:18.284Z"
   },
   {
    "duration": 8,
    "start_time": "2023-01-09T08:28:18.301Z"
   },
   {
    "duration": 277,
    "start_time": "2023-01-09T08:28:18.310Z"
   },
   {
    "duration": 5,
    "start_time": "2023-01-09T08:28:18.588Z"
   },
   {
    "duration": 7,
    "start_time": "2023-01-09T08:28:18.595Z"
   },
   {
    "duration": 8,
    "start_time": "2023-01-09T08:28:18.603Z"
   },
   {
    "duration": 8,
    "start_time": "2023-01-09T08:28:18.612Z"
   },
   {
    "duration": 8,
    "start_time": "2023-01-09T08:28:18.622Z"
   },
   {
    "duration": 14,
    "start_time": "2023-01-09T08:28:18.656Z"
   },
   {
    "duration": 8,
    "start_time": "2023-01-09T08:28:18.672Z"
   },
   {
    "duration": 6,
    "start_time": "2023-01-09T08:28:18.681Z"
   },
   {
    "duration": 8,
    "start_time": "2023-01-09T08:28:18.689Z"
   },
   {
    "duration": 904,
    "start_time": "2023-01-09T08:28:18.699Z"
   },
   {
    "duration": 4,
    "start_time": "2023-01-09T08:28:19.605Z"
   },
   {
    "duration": 8,
    "start_time": "2023-01-09T08:28:19.610Z"
   },
   {
    "duration": 7,
    "start_time": "2023-01-09T08:28:19.619Z"
   },
   {
    "duration": 8,
    "start_time": "2023-01-09T08:28:19.627Z"
   },
   {
    "duration": 12,
    "start_time": "2023-01-09T08:28:19.656Z"
   },
   {
    "duration": 10,
    "start_time": "2023-01-09T08:28:19.670Z"
   },
   {
    "duration": 6,
    "start_time": "2023-01-09T08:28:19.682Z"
   },
   {
    "duration": 14,
    "start_time": "2023-01-09T08:28:19.689Z"
   },
   {
    "duration": 85,
    "start_time": "2023-01-09T08:28:19.704Z"
   },
   {
    "duration": 10,
    "start_time": "2023-01-09T08:28:19.791Z"
   },
   {
    "duration": 2851,
    "start_time": "2023-01-09T08:28:19.802Z"
   },
   {
    "duration": 654,
    "start_time": "2023-01-09T08:28:22.662Z"
   },
   {
    "duration": 1220,
    "start_time": "2023-01-09T08:28:23.320Z"
   },
   {
    "duration": 18,
    "start_time": "2023-01-09T08:28:24.542Z"
   },
   {
    "duration": 12,
    "start_time": "2023-01-09T08:28:24.564Z"
   },
   {
    "duration": 26,
    "start_time": "2023-01-09T08:28:24.578Z"
   },
   {
    "duration": 5,
    "start_time": "2023-01-09T08:28:24.606Z"
   },
   {
    "duration": 13,
    "start_time": "2023-01-09T08:28:24.613Z"
   },
   {
    "duration": 38,
    "start_time": "2023-01-09T08:28:24.628Z"
   },
   {
    "duration": 9,
    "start_time": "2023-01-09T08:28:24.669Z"
   },
   {
    "duration": 10,
    "start_time": "2023-01-09T08:28:24.679Z"
   },
   {
    "duration": 12,
    "start_time": "2023-01-09T08:28:24.690Z"
   },
   {
    "duration": 12,
    "start_time": "2023-01-09T08:28:24.704Z"
   },
   {
    "duration": 48,
    "start_time": "2023-01-09T08:28:24.718Z"
   },
   {
    "duration": 5,
    "start_time": "2023-01-09T08:28:24.769Z"
   },
   {
    "duration": 28,
    "start_time": "2023-01-09T08:28:24.776Z"
   },
   {
    "duration": 9,
    "start_time": "2023-01-09T08:28:24.806Z"
   },
   {
    "duration": 14,
    "start_time": "2023-01-09T08:28:24.817Z"
   },
   {
    "duration": 35,
    "start_time": "2023-01-09T08:28:24.833Z"
   },
   {
    "duration": 9,
    "start_time": "2023-01-09T08:28:24.870Z"
   },
   {
    "duration": 30,
    "start_time": "2023-01-09T08:28:24.881Z"
   },
   {
    "duration": 3,
    "start_time": "2023-01-09T08:28:24.912Z"
   },
   {
    "duration": 13,
    "start_time": "2023-01-09T08:28:24.917Z"
   },
   {
    "duration": 76,
    "start_time": "2023-01-09T08:28:24.932Z"
   },
   {
    "duration": 40,
    "start_time": "2023-01-09T08:28:47.849Z"
   },
   {
    "duration": 19,
    "start_time": "2023-01-09T08:29:09.853Z"
   },
   {
    "duration": 19,
    "start_time": "2023-01-09T08:43:47.474Z"
   },
   {
    "duration": 32,
    "start_time": "2023-01-09T08:44:00.221Z"
   },
   {
    "duration": 33,
    "start_time": "2023-01-09T08:44:27.020Z"
   },
   {
    "duration": 7,
    "start_time": "2023-01-09T08:44:40.291Z"
   },
   {
    "duration": 6,
    "start_time": "2023-01-09T08:45:04.356Z"
   },
   {
    "duration": 3,
    "start_time": "2023-01-09T08:57:14.511Z"
   },
   {
    "duration": 4,
    "start_time": "2023-01-09T09:05:43.210Z"
   },
   {
    "duration": 3571,
    "start_time": "2023-01-09T09:05:45.688Z"
   },
   {
    "duration": 4,
    "start_time": "2023-01-09T09:06:14.912Z"
   },
   {
    "duration": 4,
    "start_time": "2023-01-09T09:06:47.641Z"
   },
   {
    "duration": 7,
    "start_time": "2023-01-09T09:07:13.608Z"
   },
   {
    "duration": 5,
    "start_time": "2023-01-09T09:09:58.922Z"
   },
   {
    "duration": 4,
    "start_time": "2023-01-09T09:10:39.105Z"
   },
   {
    "duration": 4,
    "start_time": "2023-01-09T09:11:31.722Z"
   },
   {
    "duration": 3142,
    "start_time": "2023-01-09T09:15:58.013Z"
   },
   {
    "duration": 3040,
    "start_time": "2023-01-09T09:16:30.341Z"
   },
   {
    "duration": 4,
    "start_time": "2023-01-09T09:18:31.724Z"
   },
   {
    "duration": 83202,
    "start_time": "2023-01-09T09:19:09.968Z"
   },
   {
    "duration": 4,
    "start_time": "2023-01-09T09:20:41.209Z"
   },
   {
    "duration": 194258,
    "start_time": "2023-01-09T09:20:43.513Z"
   },
   {
    "duration": 3,
    "start_time": "2023-01-09T09:24:06.928Z"
   },
   {
    "duration": 108430,
    "start_time": "2023-01-09T09:24:09.735Z"
   },
   {
    "duration": 120237,
    "start_time": "2023-01-09T09:27:18.622Z"
   },
   {
    "duration": 4,
    "start_time": "2023-01-09T09:48:54.923Z"
   },
   {
    "duration": 4246,
    "start_time": "2023-01-09T09:49:40.915Z"
   },
   {
    "duration": 4239,
    "start_time": "2023-01-09T09:50:14.316Z"
   },
   {
    "duration": 3,
    "start_time": "2023-01-09T09:51:29.171Z"
   },
   {
    "duration": 117817,
    "start_time": "2023-01-09T09:51:31.643Z"
   },
   {
    "duration": 244306,
    "start_time": "2023-01-09T09:53:29.463Z"
   },
   {
    "duration": 94,
    "start_time": "2023-01-09T09:57:33.861Z"
   },
   {
    "duration": 5111,
    "start_time": "2023-01-09T09:57:33.958Z"
   },
   {
    "duration": 5105,
    "start_time": "2023-01-09T09:57:39.156Z"
   },
   {
    "duration": 5698,
    "start_time": "2023-01-09T10:37:51.268Z"
   },
   {
    "duration": 2,
    "start_time": "2023-01-09T10:39:49.438Z"
   },
   {
    "duration": 6,
    "start_time": "2023-01-09T11:04:25.363Z"
   },
   {
    "duration": 178816,
    "start_time": "2023-01-09T11:05:15.140Z"
   },
   {
    "duration": 5,
    "start_time": "2023-01-09T11:09:34.956Z"
   },
   {
    "duration": 5,
    "start_time": "2023-01-09T11:09:56.812Z"
   },
   {
    "duration": 4,
    "start_time": "2023-01-09T11:11:23.950Z"
   },
   {
    "duration": 4,
    "start_time": "2023-01-09T11:20:27.218Z"
   },
   {
    "duration": 4,
    "start_time": "2023-01-09T11:20:47.608Z"
   },
   {
    "duration": 5,
    "start_time": "2023-01-09T11:26:22.776Z"
   },
   {
    "duration": 124042,
    "start_time": "2023-01-09T11:26:25.216Z"
   },
   {
    "duration": 116933,
    "start_time": "2023-01-09T11:29:01.129Z"
   },
   {
    "duration": 124407,
    "start_time": "2023-01-09T11:30:58.154Z"
   },
   {
    "duration": 5,
    "start_time": "2023-01-09T11:39:39.723Z"
   },
   {
    "duration": 4,
    "start_time": "2023-01-09T11:40:55.810Z"
   },
   {
    "duration": 5,
    "start_time": "2023-01-09T11:42:22.429Z"
   },
   {
    "duration": 615707,
    "start_time": "2023-01-09T11:42:32.163Z"
   },
   {
    "duration": 0,
    "start_time": "2023-01-09T11:52:47.873Z"
   },
   {
    "duration": 6,
    "start_time": "2023-01-09T11:52:53.598Z"
   },
   {
    "duration": 320140,
    "start_time": "2023-01-09T11:52:56.128Z"
   },
   {
    "duration": 0,
    "start_time": "2023-01-09T11:58:16.271Z"
   },
   {
    "duration": 6,
    "start_time": "2023-01-09T11:58:25.127Z"
   },
   {
    "duration": 318378,
    "start_time": "2023-01-09T11:58:27.896Z"
   },
   {
    "duration": 3,
    "start_time": "2023-01-09T12:03:58.137Z"
   },
   {
    "duration": 210699,
    "start_time": "2023-01-09T12:04:01.465Z"
   },
   {
    "duration": 1573,
    "start_time": "2023-01-09T12:08:31.947Z"
   },
   {
    "duration": 4,
    "start_time": "2023-01-09T12:08:33.522Z"
   },
   {
    "duration": 323,
    "start_time": "2023-01-09T12:08:33.527Z"
   },
   {
    "duration": 76,
    "start_time": "2023-01-09T12:08:33.851Z"
   },
   {
    "duration": 368,
    "start_time": "2023-01-09T12:08:33.930Z"
   },
   {
    "duration": 38,
    "start_time": "2023-01-09T12:08:34.300Z"
   },
   {
    "duration": 56,
    "start_time": "2023-01-09T12:08:34.340Z"
   },
   {
    "duration": 32,
    "start_time": "2023-01-09T12:08:34.398Z"
   },
   {
    "duration": 41,
    "start_time": "2023-01-09T12:08:34.433Z"
   },
   {
    "duration": 32,
    "start_time": "2023-01-09T12:08:34.477Z"
   },
   {
    "duration": 9,
    "start_time": "2023-01-09T12:08:34.511Z"
   },
   {
    "duration": 330,
    "start_time": "2023-01-09T12:08:34.523Z"
   },
   {
    "duration": 25,
    "start_time": "2023-01-09T12:08:34.855Z"
   },
   {
    "duration": 11,
    "start_time": "2023-01-09T12:08:34.885Z"
   },
   {
    "duration": 167,
    "start_time": "2023-01-09T12:08:34.898Z"
   },
   {
    "duration": 20,
    "start_time": "2023-01-09T12:08:35.067Z"
   },
   {
    "duration": 14,
    "start_time": "2023-01-09T12:08:35.089Z"
   },
   {
    "duration": 336,
    "start_time": "2023-01-09T12:08:35.105Z"
   },
   {
    "duration": 13,
    "start_time": "2023-01-09T12:08:35.442Z"
   },
   {
    "duration": 6,
    "start_time": "2023-01-09T12:08:35.457Z"
   },
   {
    "duration": 30,
    "start_time": "2023-01-09T12:08:35.465Z"
   },
   {
    "duration": 9,
    "start_time": "2023-01-09T12:08:35.497Z"
   },
   {
    "duration": 8,
    "start_time": "2023-01-09T12:08:35.508Z"
   },
   {
    "duration": 7,
    "start_time": "2023-01-09T12:08:35.518Z"
   },
   {
    "duration": 8,
    "start_time": "2023-01-09T12:08:35.527Z"
   },
   {
    "duration": 28,
    "start_time": "2023-01-09T12:08:35.536Z"
   },
   {
    "duration": 9,
    "start_time": "2023-01-09T12:08:35.567Z"
   },
   {
    "duration": 865,
    "start_time": "2023-01-09T12:08:35.579Z"
   },
   {
    "duration": 5,
    "start_time": "2023-01-09T12:08:36.454Z"
   },
   {
    "duration": 18,
    "start_time": "2023-01-09T12:08:36.463Z"
   },
   {
    "duration": 8,
    "start_time": "2023-01-09T12:08:36.483Z"
   },
   {
    "duration": 9,
    "start_time": "2023-01-09T12:08:36.493Z"
   },
   {
    "duration": 8,
    "start_time": "2023-01-09T12:08:36.503Z"
   },
   {
    "duration": 6,
    "start_time": "2023-01-09T12:08:36.513Z"
   },
   {
    "duration": 6,
    "start_time": "2023-01-09T12:08:36.521Z"
   },
   {
    "duration": 33,
    "start_time": "2023-01-09T12:08:36.530Z"
   },
   {
    "duration": 95,
    "start_time": "2023-01-09T12:08:36.565Z"
   },
   {
    "duration": 18,
    "start_time": "2023-01-09T12:08:36.664Z"
   },
   {
    "duration": 3172,
    "start_time": "2023-01-09T12:08:36.684Z"
   },
   {
    "duration": 786,
    "start_time": "2023-01-09T12:08:39.860Z"
   },
   {
    "duration": 1300,
    "start_time": "2023-01-09T12:08:40.664Z"
   },
   {
    "duration": 10,
    "start_time": "2023-01-09T12:08:41.966Z"
   },
   {
    "duration": 10,
    "start_time": "2023-01-09T12:08:41.978Z"
   },
   {
    "duration": 20,
    "start_time": "2023-01-09T12:08:41.991Z"
   },
   {
    "duration": 5,
    "start_time": "2023-01-09T12:08:42.013Z"
   },
   {
    "duration": 41,
    "start_time": "2023-01-09T12:08:42.019Z"
   },
   {
    "duration": 20,
    "start_time": "2023-01-09T12:08:42.062Z"
   },
   {
    "duration": 11,
    "start_time": "2023-01-09T12:08:42.084Z"
   },
   {
    "duration": 6,
    "start_time": "2023-01-09T12:08:42.097Z"
   },
   {
    "duration": 11,
    "start_time": "2023-01-09T12:08:42.105Z"
   },
   {
    "duration": 12,
    "start_time": "2023-01-09T12:08:42.118Z"
   },
   {
    "duration": 36,
    "start_time": "2023-01-09T12:08:42.132Z"
   },
   {
    "duration": 10,
    "start_time": "2023-01-09T12:08:42.170Z"
   },
   {
    "duration": 31,
    "start_time": "2023-01-09T12:08:42.181Z"
   },
   {
    "duration": 9,
    "start_time": "2023-01-09T12:08:42.214Z"
   },
   {
    "duration": 32,
    "start_time": "2023-01-09T12:08:42.224Z"
   },
   {
    "duration": 15,
    "start_time": "2023-01-09T12:08:42.259Z"
   },
   {
    "duration": 11,
    "start_time": "2023-01-09T12:08:42.276Z"
   },
   {
    "duration": 46,
    "start_time": "2023-01-09T12:08:42.289Z"
   },
   {
    "duration": 3,
    "start_time": "2023-01-09T12:08:42.337Z"
   },
   {
    "duration": 4,
    "start_time": "2023-01-09T12:08:42.358Z"
   },
   {
    "duration": 44,
    "start_time": "2023-01-09T12:08:42.364Z"
   },
   {
    "duration": 7,
    "start_time": "2023-01-09T12:08:42.410Z"
   },
   {
    "duration": 10,
    "start_time": "2023-01-09T12:08:42.419Z"
   },
   {
    "duration": 5,
    "start_time": "2023-01-09T12:08:42.431Z"
   },
   {
    "duration": 392610,
    "start_time": "2023-01-09T12:08:42.454Z"
   },
   {
    "duration": 129308,
    "start_time": "2023-01-09T12:15:15.156Z"
   },
   {
    "duration": 6,
    "start_time": "2023-01-09T12:25:59.907Z"
   },
   {
    "duration": 5,
    "start_time": "2023-01-09T12:27:35.398Z"
   },
   {
    "duration": 5,
    "start_time": "2023-01-09T12:31:17.844Z"
   },
   {
    "duration": 5,
    "start_time": "2023-01-09T12:31:54.042Z"
   },
   {
    "duration": 6,
    "start_time": "2023-01-09T12:31:56.785Z"
   },
   {
    "duration": 1932818,
    "start_time": "2023-01-09T12:32:08.050Z"
   },
   {
    "duration": 84,
    "start_time": "2023-01-09T13:04:20.870Z"
   },
   {
    "duration": 21751,
    "start_time": "2023-01-09T13:23:50.706Z"
   },
   {
    "duration": 8704,
    "start_time": "2023-01-09T13:24:30.418Z"
   },
   {
    "duration": 4,
    "start_time": "2023-01-09T13:24:56.598Z"
   },
   {
    "duration": 4,
    "start_time": "2023-01-09T13:25:59.886Z"
   },
   {
    "duration": 121,
    "start_time": "2023-01-09T13:26:26.916Z"
   },
   {
    "duration": 39616,
    "start_time": "2023-01-09T13:27:56.197Z"
   },
   {
    "duration": 5,
    "start_time": "2023-01-09T13:28:39.364Z"
   },
   {
    "duration": 7,
    "start_time": "2023-01-09T13:29:03.860Z"
   },
   {
    "duration": 31,
    "start_time": "2023-01-09T13:29:19.190Z"
   },
   {
    "duration": 22,
    "start_time": "2023-01-09T13:30:14.140Z"
   },
   {
    "duration": 76574,
    "start_time": "2023-01-09T13:31:52.940Z"
   },
   {
    "duration": 27,
    "start_time": "2023-01-09T13:33:09.516Z"
   },
   {
    "duration": 21,
    "start_time": "2023-01-09T13:35:54.879Z"
   },
   {
    "duration": 29,
    "start_time": "2023-01-09T13:36:41.870Z"
   },
   {
    "duration": 21,
    "start_time": "2023-01-09T13:37:21.615Z"
   },
   {
    "duration": 15838,
    "start_time": "2023-01-09T13:39:00.046Z"
   },
   {
    "duration": 0,
    "start_time": "2023-01-09T13:39:15.886Z"
   },
   {
    "duration": 22461,
    "start_time": "2023-01-09T13:39:34.833Z"
   },
   {
    "duration": 70820,
    "start_time": "2023-01-09T13:40:07.111Z"
   },
   {
    "duration": 28,
    "start_time": "2023-01-09T13:41:17.933Z"
   },
   {
    "duration": 27,
    "start_time": "2023-01-09T13:41:50.863Z"
   },
   {
    "duration": 14612,
    "start_time": "2023-01-09T13:45:59.096Z"
   },
   {
    "duration": 4,
    "start_time": "2023-01-09T13:46:26.584Z"
   },
   {
    "duration": 6,
    "start_time": "2023-01-09T13:46:35.247Z"
   },
   {
    "duration": 3,
    "start_time": "2023-01-09T13:49:56.153Z"
   },
   {
    "duration": 6,
    "start_time": "2023-01-09T13:50:03.761Z"
   },
   {
    "duration": 5,
    "start_time": "2023-01-09T13:50:11.457Z"
   },
   {
    "duration": 76628,
    "start_time": "2023-01-09T13:50:42.074Z"
   },
   {
    "duration": 26,
    "start_time": "2023-01-09T13:51:58.705Z"
   },
   {
    "duration": 16869,
    "start_time": "2023-01-09T13:54:23.490Z"
   },
   {
    "duration": 3,
    "start_time": "2023-01-09T13:54:56.080Z"
   },
   {
    "duration": 5,
    "start_time": "2023-01-09T13:55:38.786Z"
   },
   {
    "duration": 5,
    "start_time": "2023-01-09T13:56:06.348Z"
   },
   {
    "duration": 26,
    "start_time": "2023-01-09T14:03:44.860Z"
   },
   {
    "duration": 271366,
    "start_time": "2023-01-09T14:04:21.974Z"
   },
   {
    "duration": 0,
    "start_time": "2023-01-09T14:08:53.343Z"
   },
   {
    "duration": 1031333,
    "start_time": "2023-01-09T14:10:12.599Z"
   },
   {
    "duration": 34,
    "start_time": "2023-01-09T14:27:23.934Z"
   },
   {
    "duration": 1684789,
    "start_time": "2023-01-09T14:40:12.133Z"
   },
   {
    "duration": 31,
    "start_time": "2023-01-09T15:08:16.924Z"
   },
   {
    "duration": 2,
    "start_time": "2023-01-09T15:15:48.602Z"
   },
   {
    "duration": 4,
    "start_time": "2023-01-09T15:15:57.946Z"
   },
   {
    "duration": 4,
    "start_time": "2023-01-09T15:16:04.402Z"
   },
   {
    "duration": 1017706,
    "start_time": "2023-01-09T15:17:17.394Z"
   },
   {
    "duration": 26,
    "start_time": "2023-01-09T15:34:15.102Z"
   },
   {
    "duration": 1905514,
    "start_time": "2023-01-09T15:41:33.694Z"
   },
   {
    "duration": 23,
    "start_time": "2023-01-09T16:13:19.211Z"
   },
   {
    "duration": 3,
    "start_time": "2023-01-09T16:17:47.204Z"
   },
   {
    "duration": 6,
    "start_time": "2023-01-09T16:18:01.501Z"
   },
   {
    "duration": 9,
    "start_time": "2023-01-09T16:18:08.861Z"
   },
   {
    "duration": 5,
    "start_time": "2023-01-09T16:18:33.334Z"
   },
   {
    "duration": 4,
    "start_time": "2023-01-09T16:19:45.499Z"
   },
   {
    "duration": 5,
    "start_time": "2023-01-09T16:20:06.525Z"
   },
   {
    "duration": 5,
    "start_time": "2023-01-09T16:25:45.407Z"
   },
   {
    "duration": 4,
    "start_time": "2023-01-09T16:26:40.824Z"
   },
   {
    "duration": 5,
    "start_time": "2023-01-09T16:27:18.366Z"
   },
   {
    "duration": 4,
    "start_time": "2023-01-09T16:28:16.088Z"
   },
   {
    "duration": 4,
    "start_time": "2023-01-09T16:28:23.167Z"
   },
   {
    "duration": 88,
    "start_time": "2023-01-09T16:32:48.312Z"
   },
   {
    "duration": 90,
    "start_time": "2023-01-09T16:33:13.047Z"
   },
   {
    "duration": 61673,
    "start_time": "2023-01-09T16:36:53.904Z"
   },
   {
    "duration": 95,
    "start_time": "2023-01-09T16:38:29.025Z"
   },
   {
    "duration": 61505,
    "start_time": "2023-01-09T16:38:44.483Z"
   },
   {
    "duration": 62644,
    "start_time": "2023-01-09T16:39:45.990Z"
   },
   {
    "duration": 102,
    "start_time": "2023-01-09T16:40:48.636Z"
   },
   {
    "duration": 87,
    "start_time": "2023-01-09T16:41:23.941Z"
   },
   {
    "duration": 85,
    "start_time": "2023-01-09T16:41:52.467Z"
   },
   {
    "duration": 3,
    "start_time": "2023-01-09T16:42:22.410Z"
   },
   {
    "duration": 5,
    "start_time": "2023-01-09T16:42:30.546Z"
   },
   {
    "duration": 5,
    "start_time": "2023-01-09T16:43:50.805Z"
   },
   {
    "duration": 13,
    "start_time": "2023-01-09T16:46:47.164Z"
   },
   {
    "duration": 8,
    "start_time": "2023-01-09T16:46:59.578Z"
   },
   {
    "duration": 8,
    "start_time": "2023-01-09T16:47:17.443Z"
   },
   {
    "duration": 7,
    "start_time": "2023-01-09T16:48:30.107Z"
   },
   {
    "duration": 52,
    "start_time": "2023-01-09T16:50:18.235Z"
   },
   {
    "duration": 11,
    "start_time": "2023-01-09T16:50:25.309Z"
   },
   {
    "duration": 8,
    "start_time": "2023-01-09T16:50:48.485Z"
   },
   {
    "duration": 7,
    "start_time": "2023-01-09T16:51:07.284Z"
   },
   {
    "duration": 1543,
    "start_time": "2023-01-09T16:56:07.160Z"
   },
   {
    "duration": 4,
    "start_time": "2023-01-09T16:56:08.705Z"
   },
   {
    "duration": 327,
    "start_time": "2023-01-09T16:56:08.710Z"
   },
   {
    "duration": 86,
    "start_time": "2023-01-09T16:56:09.039Z"
   },
   {
    "duration": 382,
    "start_time": "2023-01-09T16:56:09.128Z"
   },
   {
    "duration": 44,
    "start_time": "2023-01-09T16:56:09.512Z"
   },
   {
    "duration": 27,
    "start_time": "2023-01-09T16:56:09.558Z"
   },
   {
    "duration": 31,
    "start_time": "2023-01-09T16:56:09.586Z"
   },
   {
    "duration": 4,
    "start_time": "2023-01-09T16:56:09.618Z"
   },
   {
    "duration": 43,
    "start_time": "2023-01-09T16:56:09.624Z"
   },
   {
    "duration": 9,
    "start_time": "2023-01-09T16:56:09.668Z"
   },
   {
    "duration": 245,
    "start_time": "2023-01-09T16:56:09.679Z"
   },
   {
    "duration": 13,
    "start_time": "2023-01-09T16:56:09.925Z"
   },
   {
    "duration": 20,
    "start_time": "2023-01-09T16:56:09.941Z"
   },
   {
    "duration": 140,
    "start_time": "2023-01-09T16:56:09.963Z"
   },
   {
    "duration": 16,
    "start_time": "2023-01-09T16:56:10.105Z"
   },
   {
    "duration": 9,
    "start_time": "2023-01-09T16:56:10.123Z"
   },
   {
    "duration": 275,
    "start_time": "2023-01-09T16:56:10.134Z"
   },
   {
    "duration": 5,
    "start_time": "2023-01-09T16:56:10.411Z"
   },
   {
    "duration": 6,
    "start_time": "2023-01-09T16:56:10.418Z"
   },
   {
    "duration": 6,
    "start_time": "2023-01-09T16:56:10.426Z"
   },
   {
    "duration": 9,
    "start_time": "2023-01-09T16:56:10.454Z"
   },
   {
    "duration": 8,
    "start_time": "2023-01-09T16:56:10.465Z"
   },
   {
    "duration": 8,
    "start_time": "2023-01-09T16:56:10.475Z"
   },
   {
    "duration": 5,
    "start_time": "2023-01-09T16:56:10.485Z"
   },
   {
    "duration": 7,
    "start_time": "2023-01-09T16:56:10.492Z"
   },
   {
    "duration": 7,
    "start_time": "2023-01-09T16:56:10.500Z"
   },
   {
    "duration": 807,
    "start_time": "2023-01-09T16:56:10.509Z"
   },
   {
    "duration": 3,
    "start_time": "2023-01-09T16:56:11.318Z"
   },
   {
    "duration": 8,
    "start_time": "2023-01-09T16:56:11.322Z"
   },
   {
    "duration": 8,
    "start_time": "2023-01-09T16:56:11.332Z"
   },
   {
    "duration": 18,
    "start_time": "2023-01-09T16:56:11.341Z"
   },
   {
    "duration": 10,
    "start_time": "2023-01-09T16:56:11.361Z"
   },
   {
    "duration": 9,
    "start_time": "2023-01-09T16:56:11.372Z"
   },
   {
    "duration": 7,
    "start_time": "2023-01-09T16:56:11.382Z"
   },
   {
    "duration": 14,
    "start_time": "2023-01-09T16:56:11.391Z"
   },
   {
    "duration": 80,
    "start_time": "2023-01-09T16:56:11.406Z"
   },
   {
    "duration": 11,
    "start_time": "2023-01-09T16:56:11.488Z"
   },
   {
    "duration": 2901,
    "start_time": "2023-01-09T16:56:11.500Z"
   },
   {
    "duration": 709,
    "start_time": "2023-01-09T16:56:14.403Z"
   },
   {
    "duration": 1132,
    "start_time": "2023-01-09T16:56:15.118Z"
   },
   {
    "duration": 11,
    "start_time": "2023-01-09T16:56:16.252Z"
   },
   {
    "duration": 8,
    "start_time": "2023-01-09T16:56:16.264Z"
   },
   {
    "duration": 18,
    "start_time": "2023-01-09T16:56:16.273Z"
   },
   {
    "duration": 6,
    "start_time": "2023-01-09T16:56:16.293Z"
   },
   {
    "duration": 12,
    "start_time": "2023-01-09T16:56:16.301Z"
   },
   {
    "duration": 40,
    "start_time": "2023-01-09T16:56:16.315Z"
   },
   {
    "duration": 8,
    "start_time": "2023-01-09T16:56:16.357Z"
   },
   {
    "duration": 7,
    "start_time": "2023-01-09T16:56:16.367Z"
   },
   {
    "duration": 15,
    "start_time": "2023-01-09T16:56:16.376Z"
   },
   {
    "duration": 12,
    "start_time": "2023-01-09T16:56:16.393Z"
   },
   {
    "duration": 17,
    "start_time": "2023-01-09T16:56:16.407Z"
   },
   {
    "duration": 31,
    "start_time": "2023-01-09T16:56:16.426Z"
   },
   {
    "duration": 36,
    "start_time": "2023-01-09T16:56:16.460Z"
   },
   {
    "duration": 10,
    "start_time": "2023-01-09T16:56:16.498Z"
   },
   {
    "duration": 23,
    "start_time": "2023-01-09T16:56:16.509Z"
   },
   {
    "duration": 26,
    "start_time": "2023-01-09T16:56:16.534Z"
   },
   {
    "duration": 4,
    "start_time": "2023-01-09T16:56:16.562Z"
   },
   {
    "duration": 40,
    "start_time": "2023-01-09T16:56:16.568Z"
   },
   {
    "duration": 4,
    "start_time": "2023-01-09T16:56:16.610Z"
   },
   {
    "duration": 7,
    "start_time": "2023-01-09T16:56:16.615Z"
   },
   {
    "duration": 54,
    "start_time": "2023-01-09T16:56:16.624Z"
   },
   {
    "duration": 7,
    "start_time": "2023-01-09T16:56:16.680Z"
   },
   {
    "duration": 26,
    "start_time": "2023-01-09T16:56:16.688Z"
   },
   {
    "duration": 7,
    "start_time": "2023-01-09T16:56:16.715Z"
   },
   {
    "duration": 125541,
    "start_time": "2023-01-09T16:56:16.724Z"
   },
   {
    "duration": 140407,
    "start_time": "2023-01-09T16:58:22.357Z"
   },
   {
    "duration": 96,
    "start_time": "2023-01-09T17:00:42.862Z"
   },
   {
    "duration": 8,
    "start_time": "2023-01-09T17:00:42.960Z"
   },
   {
    "duration": 67302,
    "start_time": "2023-01-09T17:00:42.970Z"
   },
   {
    "duration": 27,
    "start_time": "2023-01-09T17:01:50.273Z"
   },
   {
    "duration": 13939,
    "start_time": "2023-01-09T17:01:50.301Z"
   },
   {
    "duration": 2,
    "start_time": "2023-01-09T17:02:04.242Z"
   },
   {
    "duration": 3,
    "start_time": "2023-01-09T17:02:04.254Z"
   },
   {
    "duration": 73563,
    "start_time": "2023-01-09T17:02:04.259Z"
   },
   {
    "duration": 32,
    "start_time": "2023-01-09T17:03:17.824Z"
   },
   {
    "duration": 15768,
    "start_time": "2023-01-09T17:03:17.857Z"
   },
   {
    "duration": 3,
    "start_time": "2023-01-09T17:03:33.627Z"
   },
   {
    "duration": 12,
    "start_time": "2023-01-09T17:03:33.631Z"
   },
   {
    "duration": 15,
    "start_time": "2023-01-09T17:03:33.645Z"
   },
   {
    "duration": 1514,
    "start_time": "2023-01-09T17:50:07.157Z"
   },
   {
    "duration": 3,
    "start_time": "2023-01-09T17:50:08.673Z"
   },
   {
    "duration": 456,
    "start_time": "2023-01-09T17:50:08.678Z"
   },
   {
    "duration": 411,
    "start_time": "2023-01-09T17:50:09.136Z"
   },
   {
    "duration": 1995,
    "start_time": "2023-01-09T17:50:09.550Z"
   },
   {
    "duration": 33,
    "start_time": "2023-01-09T17:50:11.546Z"
   },
   {
    "duration": 25,
    "start_time": "2023-01-09T17:50:11.581Z"
   },
   {
    "duration": 26,
    "start_time": "2023-01-09T17:50:11.607Z"
   },
   {
    "duration": 3,
    "start_time": "2023-01-09T17:50:11.635Z"
   },
   {
    "duration": 24,
    "start_time": "2023-01-09T17:50:11.640Z"
   },
   {
    "duration": 7,
    "start_time": "2023-01-09T17:50:11.666Z"
   },
   {
    "duration": 232,
    "start_time": "2023-01-09T17:50:11.675Z"
   },
   {
    "duration": 15,
    "start_time": "2023-01-09T17:50:11.909Z"
   },
   {
    "duration": 6,
    "start_time": "2023-01-09T17:50:11.926Z"
   },
   {
    "duration": 138,
    "start_time": "2023-01-09T17:50:11.933Z"
   },
   {
    "duration": 20,
    "start_time": "2023-01-09T17:50:12.073Z"
   },
   {
    "duration": 24,
    "start_time": "2023-01-09T17:50:12.094Z"
   },
   {
    "duration": 256,
    "start_time": "2023-01-09T17:50:12.120Z"
   },
   {
    "duration": 4,
    "start_time": "2023-01-09T17:50:12.377Z"
   },
   {
    "duration": 9,
    "start_time": "2023-01-09T17:50:12.383Z"
   },
   {
    "duration": 13,
    "start_time": "2023-01-09T17:50:12.394Z"
   },
   {
    "duration": 11,
    "start_time": "2023-01-09T17:50:12.409Z"
   },
   {
    "duration": 22,
    "start_time": "2023-01-09T17:50:12.421Z"
   },
   {
    "duration": 18,
    "start_time": "2023-01-09T17:50:12.444Z"
   },
   {
    "duration": 12,
    "start_time": "2023-01-09T17:50:12.463Z"
   },
   {
    "duration": 18,
    "start_time": "2023-01-09T17:50:12.477Z"
   },
   {
    "duration": 13,
    "start_time": "2023-01-09T17:50:12.497Z"
   },
   {
    "duration": 724,
    "start_time": "2023-01-09T17:50:12.512Z"
   },
   {
    "duration": 3,
    "start_time": "2023-01-09T17:50:13.238Z"
   },
   {
    "duration": 9,
    "start_time": "2023-01-09T17:50:13.243Z"
   },
   {
    "duration": 18,
    "start_time": "2023-01-09T17:50:13.254Z"
   },
   {
    "duration": 14,
    "start_time": "2023-01-09T17:50:13.274Z"
   },
   {
    "duration": 17,
    "start_time": "2023-01-09T17:50:13.289Z"
   },
   {
    "duration": 11,
    "start_time": "2023-01-09T17:50:13.308Z"
   },
   {
    "duration": 6,
    "start_time": "2023-01-09T17:50:13.321Z"
   },
   {
    "duration": 15,
    "start_time": "2023-01-09T17:50:13.328Z"
   },
   {
    "duration": 58,
    "start_time": "2023-01-09T17:50:13.344Z"
   },
   {
    "duration": 19,
    "start_time": "2023-01-09T17:50:13.404Z"
   },
   {
    "duration": 2751,
    "start_time": "2023-01-09T17:50:13.424Z"
   },
   {
    "duration": 728,
    "start_time": "2023-01-09T17:50:16.177Z"
   },
   {
    "duration": 1049,
    "start_time": "2023-01-09T17:50:16.919Z"
   },
   {
    "duration": 9,
    "start_time": "2023-01-09T17:50:17.970Z"
   },
   {
    "duration": 13,
    "start_time": "2023-01-09T17:50:17.980Z"
   },
   {
    "duration": 35,
    "start_time": "2023-01-09T17:50:17.995Z"
   },
   {
    "duration": 4,
    "start_time": "2023-01-09T17:50:18.032Z"
   },
   {
    "duration": 12,
    "start_time": "2023-01-09T17:50:18.038Z"
   },
   {
    "duration": 9,
    "start_time": "2023-01-09T17:50:18.052Z"
   },
   {
    "duration": 11,
    "start_time": "2023-01-09T17:50:18.063Z"
   },
   {
    "duration": 4,
    "start_time": "2023-01-09T17:50:18.076Z"
   },
   {
    "duration": 43,
    "start_time": "2023-01-09T17:50:18.082Z"
   },
   {
    "duration": 14,
    "start_time": "2023-01-09T17:50:18.126Z"
   },
   {
    "duration": 13,
    "start_time": "2023-01-09T17:50:18.141Z"
   },
   {
    "duration": 5,
    "start_time": "2023-01-09T17:50:18.155Z"
   },
   {
    "duration": 55,
    "start_time": "2023-01-09T17:50:18.161Z"
   },
   {
    "duration": 9,
    "start_time": "2023-01-09T17:50:18.218Z"
   },
   {
    "duration": 9,
    "start_time": "2023-01-09T17:50:18.228Z"
   },
   {
    "duration": 51,
    "start_time": "2023-01-09T17:50:18.238Z"
   },
   {
    "duration": 4,
    "start_time": "2023-01-09T17:50:18.291Z"
   },
   {
    "duration": 26,
    "start_time": "2023-01-09T17:50:18.296Z"
   },
   {
    "duration": 3,
    "start_time": "2023-01-09T17:50:18.323Z"
   },
   {
    "duration": 5,
    "start_time": "2023-01-09T17:50:18.328Z"
   },
   {
    "duration": 29,
    "start_time": "2023-01-09T17:50:18.334Z"
   },
   {
    "duration": 6,
    "start_time": "2023-01-09T17:50:18.364Z"
   },
   {
    "duration": 8,
    "start_time": "2023-01-09T17:50:18.371Z"
   },
   {
    "duration": 4,
    "start_time": "2023-01-09T17:50:18.381Z"
   },
   {
    "duration": 132332,
    "start_time": "2023-01-09T17:50:18.387Z"
   },
   {
    "duration": 151893,
    "start_time": "2023-01-09T17:52:30.725Z"
   },
   {
    "duration": 95,
    "start_time": "2023-01-09T17:55:02.621Z"
   },
   {
    "duration": 102,
    "start_time": "2023-01-09T17:55:02.721Z"
   },
   {
    "duration": 62988,
    "start_time": "2023-01-09T17:55:02.825Z"
   },
   {
    "duration": 25,
    "start_time": "2023-01-09T17:56:05.815Z"
   },
   {
    "duration": 13024,
    "start_time": "2023-01-09T17:56:05.842Z"
   },
   {
    "duration": 2,
    "start_time": "2023-01-09T17:56:18.868Z"
   },
   {
    "duration": 15,
    "start_time": "2023-01-09T17:56:18.872Z"
   },
   {
    "duration": 71706,
    "start_time": "2023-01-09T17:56:18.889Z"
   },
   {
    "duration": 50,
    "start_time": "2023-01-09T17:57:30.598Z"
   },
   {
    "duration": 15324,
    "start_time": "2023-01-09T17:57:30.650Z"
   },
   {
    "duration": 2,
    "start_time": "2023-01-09T17:57:45.976Z"
   },
   {
    "duration": 7,
    "start_time": "2023-01-09T17:57:45.979Z"
   },
   {
    "duration": 7,
    "start_time": "2023-01-09T17:57:45.988Z"
   },
   {
    "duration": 910972,
    "start_time": "2023-01-09T17:57:45.996Z"
   },
   {
    "duration": 23,
    "start_time": "2023-01-09T18:12:56.969Z"
   },
   {
    "duration": 1610,
    "start_time": "2023-01-09T18:36:53.526Z"
   },
   {
    "duration": 4,
    "start_time": "2023-01-09T18:36:55.138Z"
   },
   {
    "duration": 1783,
    "start_time": "2023-01-09T18:36:55.143Z"
   },
   {
    "duration": 166,
    "start_time": "2023-01-09T18:36:56.929Z"
   },
   {
    "duration": 525,
    "start_time": "2023-01-09T18:36:57.097Z"
   },
   {
    "duration": 36,
    "start_time": "2023-01-09T18:36:57.624Z"
   },
   {
    "duration": 27,
    "start_time": "2023-01-09T18:36:57.662Z"
   },
   {
    "duration": 39,
    "start_time": "2023-01-09T18:36:57.691Z"
   },
   {
    "duration": 5,
    "start_time": "2023-01-09T18:36:57.732Z"
   },
   {
    "duration": 19,
    "start_time": "2023-01-09T18:36:57.740Z"
   },
   {
    "duration": 9,
    "start_time": "2023-01-09T18:36:57.761Z"
   },
   {
    "duration": 277,
    "start_time": "2023-01-09T18:36:57.772Z"
   },
   {
    "duration": 14,
    "start_time": "2023-01-09T18:36:58.051Z"
   },
   {
    "duration": 8,
    "start_time": "2023-01-09T18:36:58.068Z"
   },
   {
    "duration": 164,
    "start_time": "2023-01-09T18:36:58.078Z"
   },
   {
    "duration": 18,
    "start_time": "2023-01-09T18:36:58.244Z"
   },
   {
    "duration": 10,
    "start_time": "2023-01-09T18:36:58.264Z"
   },
   {
    "duration": 286,
    "start_time": "2023-01-09T18:36:58.275Z"
   },
   {
    "duration": 5,
    "start_time": "2023-01-09T18:36:58.563Z"
   },
   {
    "duration": 6,
    "start_time": "2023-01-09T18:36:58.570Z"
   },
   {
    "duration": 13,
    "start_time": "2023-01-09T18:36:58.578Z"
   },
   {
    "duration": 25,
    "start_time": "2023-01-09T18:36:58.593Z"
   },
   {
    "duration": 8,
    "start_time": "2023-01-09T18:36:58.619Z"
   },
   {
    "duration": 11,
    "start_time": "2023-01-09T18:36:58.629Z"
   },
   {
    "duration": 35,
    "start_time": "2023-01-09T18:36:58.642Z"
   },
   {
    "duration": 15,
    "start_time": "2023-01-09T18:36:58.680Z"
   },
   {
    "duration": 38,
    "start_time": "2023-01-09T18:36:58.697Z"
   },
   {
    "duration": 793,
    "start_time": "2023-01-09T18:36:58.740Z"
   },
   {
    "duration": 3,
    "start_time": "2023-01-09T18:36:59.535Z"
   },
   {
    "duration": 16,
    "start_time": "2023-01-09T18:36:59.540Z"
   },
   {
    "duration": 27,
    "start_time": "2023-01-09T18:36:59.558Z"
   },
   {
    "duration": 18,
    "start_time": "2023-01-09T18:36:59.586Z"
   },
   {
    "duration": 28,
    "start_time": "2023-01-09T18:36:59.606Z"
   },
   {
    "duration": 32,
    "start_time": "2023-01-09T18:36:59.635Z"
   },
   {
    "duration": 10,
    "start_time": "2023-01-09T18:36:59.668Z"
   },
   {
    "duration": 29,
    "start_time": "2023-01-09T18:36:59.680Z"
   },
   {
    "duration": 63,
    "start_time": "2023-01-09T18:36:59.710Z"
   },
   {
    "duration": 10,
    "start_time": "2023-01-09T18:36:59.775Z"
   },
   {
    "duration": 2904,
    "start_time": "2023-01-09T18:36:59.787Z"
   },
   {
    "duration": 642,
    "start_time": "2023-01-09T18:37:02.692Z"
   },
   {
    "duration": 1077,
    "start_time": "2023-01-09T18:37:03.336Z"
   },
   {
    "duration": 10,
    "start_time": "2023-01-09T18:37:04.414Z"
   },
   {
    "duration": 20,
    "start_time": "2023-01-09T18:37:04.425Z"
   },
   {
    "duration": 44,
    "start_time": "2023-01-09T18:37:04.446Z"
   },
   {
    "duration": 4,
    "start_time": "2023-01-09T18:37:04.492Z"
   },
   {
    "duration": 32,
    "start_time": "2023-01-09T18:37:04.497Z"
   },
   {
    "duration": 16,
    "start_time": "2023-01-09T18:37:04.531Z"
   },
   {
    "duration": 13,
    "start_time": "2023-01-09T18:37:04.549Z"
   },
   {
    "duration": 23,
    "start_time": "2023-01-09T18:37:04.564Z"
   },
   {
    "duration": 29,
    "start_time": "2023-01-09T18:37:04.589Z"
   },
   {
    "duration": 44,
    "start_time": "2023-01-09T18:37:04.620Z"
   },
   {
    "duration": 41,
    "start_time": "2023-01-09T18:37:04.666Z"
   },
   {
    "duration": 30,
    "start_time": "2023-01-09T18:37:04.709Z"
   },
   {
    "duration": 61,
    "start_time": "2023-01-09T18:37:04.741Z"
   },
   {
    "duration": 8,
    "start_time": "2023-01-09T18:37:04.804Z"
   },
   {
    "duration": 19,
    "start_time": "2023-01-09T18:37:04.813Z"
   },
   {
    "duration": 31,
    "start_time": "2023-01-09T18:37:04.834Z"
   },
   {
    "duration": 18,
    "start_time": "2023-01-09T18:37:04.866Z"
   },
   {
    "duration": 58,
    "start_time": "2023-01-09T18:37:04.886Z"
   },
   {
    "duration": 16,
    "start_time": "2023-01-09T18:37:04.946Z"
   },
   {
    "duration": 17,
    "start_time": "2023-01-09T18:37:04.964Z"
   },
   {
    "duration": 48,
    "start_time": "2023-01-09T18:37:04.983Z"
   },
   {
    "duration": 7,
    "start_time": "2023-01-09T18:37:05.033Z"
   },
   {
    "duration": 22,
    "start_time": "2023-01-09T18:37:05.041Z"
   },
   {
    "duration": 6,
    "start_time": "2023-01-09T18:37:05.065Z"
   },
   {
    "duration": 104842,
    "start_time": "2023-01-09T18:37:05.073Z"
   },
   {
    "duration": 175700,
    "start_time": "2023-01-09T18:38:49.917Z"
   },
   {
    "duration": 5,
    "start_time": "2023-01-09T18:41:45.712Z"
   },
   {
    "duration": 17,
    "start_time": "2023-01-09T18:41:45.719Z"
   },
   {
    "duration": 64194,
    "start_time": "2023-01-09T18:41:45.738Z"
   },
   {
    "duration": 26,
    "start_time": "2023-01-09T18:42:49.934Z"
   },
   {
    "duration": 13017,
    "start_time": "2023-01-09T18:42:49.962Z"
   },
   {
    "duration": 3,
    "start_time": "2023-01-09T18:43:02.981Z"
   },
   {
    "duration": 29,
    "start_time": "2023-01-09T18:43:02.986Z"
   },
   {
    "duration": 72322,
    "start_time": "2023-01-09T18:43:03.017Z"
   },
   {
    "duration": 26,
    "start_time": "2023-01-09T18:44:15.341Z"
   },
   {
    "duration": 15153,
    "start_time": "2023-01-09T18:44:15.369Z"
   },
   {
    "duration": 3,
    "start_time": "2023-01-09T18:44:30.524Z"
   },
   {
    "duration": 39,
    "start_time": "2023-01-09T18:44:30.529Z"
   },
   {
    "duration": 56,
    "start_time": "2023-01-09T18:44:30.569Z"
   },
   {
    "duration": 920457,
    "start_time": "2023-01-09T18:44:30.627Z"
   },
   {
    "duration": 33,
    "start_time": "2023-01-09T18:59:51.092Z"
   },
   {
    "duration": 1541097,
    "start_time": "2023-01-09T18:59:51.127Z"
   },
   {
    "duration": 22,
    "start_time": "2023-01-09T19:25:32.226Z"
   },
   {
    "duration": 17,
    "start_time": "2023-01-09T19:25:32.249Z"
   },
   {
    "duration": 943377,
    "start_time": "2023-01-09T19:25:32.267Z"
   },
   {
    "duration": 24,
    "start_time": "2023-01-09T19:41:15.646Z"
   },
   {
    "duration": 1726778,
    "start_time": "2023-01-09T19:41:15.672Z"
   },
   {
    "duration": 23,
    "start_time": "2023-01-09T20:10:02.452Z"
   },
   {
    "duration": 32,
    "start_time": "2023-01-09T20:10:02.477Z"
   },
   {
    "duration": 22,
    "start_time": "2023-01-09T20:10:02.511Z"
   },
   {
    "duration": 24,
    "start_time": "2023-01-09T20:10:02.535Z"
   },
   {
    "duration": 55964,
    "start_time": "2023-01-09T20:10:02.560Z"
   },
   {
    "duration": 94,
    "start_time": "2023-01-09T20:10:58.525Z"
   },
   {
    "duration": 57057,
    "start_time": "2023-01-09T20:10:58.621Z"
   },
   {
    "duration": 88,
    "start_time": "2023-01-09T20:11:55.680Z"
   },
   {
    "duration": 5,
    "start_time": "2023-01-09T20:11:55.769Z"
   },
   {
    "duration": 21,
    "start_time": "2023-01-09T20:11:55.775Z"
   },
   {
    "duration": 1860,
    "start_time": "2023-01-10T18:52:20.004Z"
   },
   {
    "duration": 2,
    "start_time": "2023-01-10T18:52:21.867Z"
   },
   {
    "duration": 1422,
    "start_time": "2023-01-10T18:52:21.871Z"
   },
   {
    "duration": 158,
    "start_time": "2023-01-10T18:52:23.294Z"
   },
   {
    "duration": 540,
    "start_time": "2023-01-10T18:52:23.454Z"
   },
   {
    "duration": 33,
    "start_time": "2023-01-10T18:52:23.995Z"
   },
   {
    "duration": 37,
    "start_time": "2023-01-10T18:52:24.030Z"
   },
   {
    "duration": 33,
    "start_time": "2023-01-10T18:52:24.069Z"
   },
   {
    "duration": 18,
    "start_time": "2023-01-10T18:52:24.105Z"
   },
   {
    "duration": 21,
    "start_time": "2023-01-10T18:52:24.125Z"
   },
   {
    "duration": 9,
    "start_time": "2023-01-10T18:52:24.148Z"
   },
   {
    "duration": 261,
    "start_time": "2023-01-10T18:52:24.159Z"
   },
   {
    "duration": 11,
    "start_time": "2023-01-10T18:52:24.422Z"
   },
   {
    "duration": 5,
    "start_time": "2023-01-10T18:52:24.436Z"
   },
   {
    "duration": 138,
    "start_time": "2023-01-10T18:52:24.442Z"
   },
   {
    "duration": 15,
    "start_time": "2023-01-10T18:52:24.582Z"
   },
   {
    "duration": 25,
    "start_time": "2023-01-10T18:52:24.599Z"
   },
   {
    "duration": 239,
    "start_time": "2023-01-10T18:52:24.625Z"
   },
   {
    "duration": 4,
    "start_time": "2023-01-10T18:52:24.865Z"
   },
   {
    "duration": 15,
    "start_time": "2023-01-10T18:52:24.870Z"
   },
   {
    "duration": 12,
    "start_time": "2023-01-10T18:52:24.887Z"
   },
   {
    "duration": 18,
    "start_time": "2023-01-10T18:52:24.900Z"
   },
   {
    "duration": 15,
    "start_time": "2023-01-10T18:52:24.920Z"
   },
   {
    "duration": 10,
    "start_time": "2023-01-10T18:52:24.939Z"
   },
   {
    "duration": 13,
    "start_time": "2023-01-10T18:52:24.951Z"
   },
   {
    "duration": 23,
    "start_time": "2023-01-10T18:52:24.965Z"
   },
   {
    "duration": 16,
    "start_time": "2023-01-10T18:52:24.989Z"
   },
   {
    "duration": 722,
    "start_time": "2023-01-10T18:52:25.007Z"
   },
   {
    "duration": 2,
    "start_time": "2023-01-10T18:52:25.731Z"
   },
   {
    "duration": 7,
    "start_time": "2023-01-10T18:52:25.735Z"
   },
   {
    "duration": 8,
    "start_time": "2023-01-10T18:52:25.744Z"
   },
   {
    "duration": 6,
    "start_time": "2023-01-10T18:52:25.753Z"
   },
   {
    "duration": 6,
    "start_time": "2023-01-10T18:52:25.761Z"
   },
   {
    "duration": 3,
    "start_time": "2023-01-10T18:52:34.596Z"
   },
   {
    "duration": 4,
    "start_time": "2023-01-10T18:52:34.745Z"
   },
   {
    "duration": 5,
    "start_time": "2023-01-10T18:52:34.922Z"
   },
   {
    "duration": 6,
    "start_time": "2023-01-10T18:52:35.706Z"
   },
   {
    "duration": 5,
    "start_time": "2023-01-10T18:52:36.367Z"
   },
   {
    "duration": 5,
    "start_time": "2023-01-10T18:52:59.606Z"
   },
   {
    "duration": 5,
    "start_time": "2023-01-10T18:53:02.419Z"
   },
   {
    "duration": 6,
    "start_time": "2023-01-10T18:53:03.326Z"
   },
   {
    "duration": 5,
    "start_time": "2023-01-10T18:53:04.472Z"
   },
   {
    "duration": 3,
    "start_time": "2023-01-10T18:53:17.008Z"
   },
   {
    "duration": 4,
    "start_time": "2023-01-10T18:53:17.198Z"
   },
   {
    "duration": 6,
    "start_time": "2023-01-10T18:53:18.854Z"
   },
   {
    "duration": 6,
    "start_time": "2023-01-10T19:01:07.840Z"
   },
   {
    "duration": 5,
    "start_time": "2023-01-10T19:01:09.299Z"
   },
   {
    "duration": 5,
    "start_time": "2023-01-10T19:01:11.156Z"
   },
   {
    "duration": 5,
    "start_time": "2023-01-10T19:01:14.896Z"
   },
   {
    "duration": 4,
    "start_time": "2023-01-10T19:01:47.253Z"
   },
   {
    "duration": 6,
    "start_time": "2023-01-10T19:01:48.060Z"
   },
   {
    "duration": 6,
    "start_time": "2023-01-10T19:01:49.396Z"
   },
   {
    "duration": 5,
    "start_time": "2023-01-10T19:01:52.542Z"
   },
   {
    "duration": 4,
    "start_time": "2023-01-10T19:02:35.452Z"
   },
   {
    "duration": 5,
    "start_time": "2023-01-10T19:02:38.903Z"
   },
   {
    "duration": 7,
    "start_time": "2023-01-10T19:02:40.371Z"
   },
   {
    "duration": 6,
    "start_time": "2023-01-10T19:02:43.847Z"
   },
   {
    "duration": 1309,
    "start_time": "2023-01-10T19:44:29.737Z"
   },
   {
    "duration": 3,
    "start_time": "2023-01-10T19:44:31.048Z"
   },
   {
    "duration": 303,
    "start_time": "2023-01-10T19:44:31.052Z"
   },
   {
    "duration": 78,
    "start_time": "2023-01-10T19:44:31.357Z"
   },
   {
    "duration": 338,
    "start_time": "2023-01-10T19:44:31.437Z"
   },
   {
    "duration": 46,
    "start_time": "2023-01-10T19:44:31.777Z"
   },
   {
    "duration": 30,
    "start_time": "2023-01-10T19:44:31.825Z"
   },
   {
    "duration": 32,
    "start_time": "2023-01-10T19:44:31.856Z"
   },
   {
    "duration": 5,
    "start_time": "2023-01-10T19:44:31.890Z"
   },
   {
    "duration": 18,
    "start_time": "2023-01-10T19:44:31.922Z"
   },
   {
    "duration": 8,
    "start_time": "2023-01-10T19:44:31.943Z"
   },
   {
    "duration": 248,
    "start_time": "2023-01-10T19:44:31.953Z"
   },
   {
    "duration": 18,
    "start_time": "2023-01-10T19:44:32.204Z"
   },
   {
    "duration": 7,
    "start_time": "2023-01-10T19:44:32.223Z"
   },
   {
    "duration": 134,
    "start_time": "2023-01-10T19:44:32.231Z"
   },
   {
    "duration": 17,
    "start_time": "2023-01-10T19:44:32.366Z"
   },
   {
    "duration": 9,
    "start_time": "2023-01-10T19:44:32.385Z"
   },
   {
    "duration": 254,
    "start_time": "2023-01-10T19:44:32.396Z"
   },
   {
    "duration": 4,
    "start_time": "2023-01-10T19:44:32.652Z"
   },
   {
    "duration": 7,
    "start_time": "2023-01-10T19:44:32.658Z"
   },
   {
    "duration": 7,
    "start_time": "2023-01-10T19:44:32.666Z"
   },
   {
    "duration": 8,
    "start_time": "2023-01-10T19:44:32.674Z"
   },
   {
    "duration": 7,
    "start_time": "2023-01-10T19:44:32.684Z"
   },
   {
    "duration": 9,
    "start_time": "2023-01-10T19:44:32.721Z"
   },
   {
    "duration": 6,
    "start_time": "2023-01-10T19:44:32.732Z"
   },
   {
    "duration": 5,
    "start_time": "2023-01-10T19:44:32.740Z"
   },
   {
    "duration": 7,
    "start_time": "2023-01-10T19:44:32.746Z"
   },
   {
    "duration": 724,
    "start_time": "2023-01-10T19:44:32.755Z"
   },
   {
    "duration": 3,
    "start_time": "2023-01-10T19:44:33.480Z"
   },
   {
    "duration": 9,
    "start_time": "2023-01-10T19:44:33.484Z"
   },
   {
    "duration": 7,
    "start_time": "2023-01-10T19:44:33.494Z"
   },
   {
    "duration": 19,
    "start_time": "2023-01-10T19:44:33.504Z"
   },
   {
    "duration": 5,
    "start_time": "2023-01-10T19:44:40.373Z"
   }
  ],
  "kernelspec": {
   "display_name": "Python 3 (ipykernel)",
   "language": "python",
   "name": "python3"
  },
  "language_info": {
   "codemirror_mode": {
    "name": "ipython",
    "version": 3
   },
   "file_extension": ".py",
   "mimetype": "text/x-python",
   "name": "python",
   "nbconvert_exporter": "python",
   "pygments_lexer": "ipython3",
   "version": "3.11.0"
  },
  "toc": {
   "base_numbering": 1,
   "nav_menu": {},
   "number_sections": true,
   "sideBar": true,
   "skip_h1_title": true,
   "title_cell": "Содержание",
   "title_sidebar": "Contents",
   "toc_cell": true,
   "toc_position": {
    "height": "calc(100% - 180px)",
    "left": "10px",
    "top": "150px",
    "width": "286.188px"
   },
   "toc_section_display": true,
   "toc_window_display": true
  }
 },
 "nbformat": 4,
 "nbformat_minor": 4
}
